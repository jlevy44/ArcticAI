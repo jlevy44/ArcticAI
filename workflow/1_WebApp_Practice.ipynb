{
 "cells": [
  {
   "cell_type": "code",
   "execution_count": 6,
   "metadata": {},
   "outputs": [
    {
     "name": "stdout",
     "output_type": "stream",
     "text": [
      "Dash app running on http://localhost:5556/\n"
     ]
    }
   ],
   "source": [
    "# fix, then adopt https://dash-gallery.plotly.host/dash-financial-report/\n",
    "# sauth --dir dzi_files/ user pass localhost 5555\n",
    "# https://github.com/thedirtyfew/terracotta-dash-example/blob/master/app.py\n",
    "# https://github.com/plotly/dash-sample-apps/blob/master/apps/dash-financial-report/app.py\n",
    "# one terminal launches server, other terminal runs this app, third terminal forwards app; 3 ports\n",
    "from jupyter_dash import JupyterDash\n",
    "import dash_bootstrap_components as dbc\n",
    "import dash_core_components as dcc\n",
    "import dash_html_components as html\n",
    "import dash_table, os\n",
    "from dash.dependencies import Output, Input\n",
    "\n",
    "\n",
    "app = JupyterDash(__name__,external_stylesheets=[dbc.themes.COSMO],assets_folder=os.path.abspath(\"dzi_files\"))#'active_learning/round_1/unlabelled/',requests_pathname_prefix='/proxy/{}/'.format(port))\n",
    "\n",
    "app.config.suppress_callback_exceptions = False\n",
    "\n",
    "server = app.server\n",
    "\n",
    "app.layout = html.Div([\n",
    "    html.Iframe(id='openseadragon',\n",
    "                src=\"http://127.0.0.1:5555\",width='800',height='800')#os.path.abspath(\"dzi_files/index.html\")\n",
    "    ])\n",
    "\n",
    "port=5556\n",
    "# app._terminate_server_for_port(\"localhost\", port)\n",
    "app.run_server(debug=True,mode=\"external\",host='localhost',port=port)"
   ]
  },
  {
   "cell_type": "code",
   "execution_count": 7,
   "metadata": {},
   "outputs": [
    {
     "name": "stdout",
     "output_type": "stream",
     "text": [
      "163_A1_1_1_ink.dzi\t163_A1_3_1_ink_files\t163_A1_5_1_tumor.dzi\r\n",
      "163_A1_1_1_ink_files\t163_A1_3_1_tumor.dzi\t163_A1_5_1_tumor_files\r\n",
      "163_A1_1_1_tumor.dzi\t163_A1_3_1_tumor_files\t163_A1_6_1_ink.dzi\r\n",
      "163_A1_1_1_tumor_files\t163_A1_4_1_ink.dzi\t163_A1_6_1_ink_files\r\n",
      "163_A1_2_1_ink.dzi\t163_A1_4_1_ink_files\t163_A1_6_1_tumor.dzi\r\n",
      "163_A1_2_1_ink_files\t163_A1_4_1_tumor.dzi\t163_A1_6_1_tumor_files\r\n",
      "163_A1_2_1_tumor.dzi\t163_A1_4_1_tumor_files\tindex.html\r\n",
      "163_A1_2_1_tumor_files\t163_A1_5_1_ink.dzi\topenseadragon\r\n",
      "163_A1_3_1_ink.dzi\t163_A1_5_1_ink_files\r\n"
     ]
    }
   ],
   "source": [
    "! ls dzi_files"
   ]
  },
  {
   "cell_type": "code",
   "execution_count": null,
   "metadata": {},
   "outputs": [],
   "source": []
  }
 ],
 "metadata": {
  "kernelspec": {
   "display_name": "Python 3",
   "language": "python",
   "name": "python3"
  },
  "language_info": {
   "codemirror_mode": {
    "name": "ipython",
    "version": 3
   },
   "file_extension": ".py",
   "mimetype": "text/x-python",
   "name": "python",
   "nbconvert_exporter": "python",
   "pygments_lexer": "ipython3",
   "version": "3.7.6"
  }
 },
 "nbformat": 4,
 "nbformat_minor": 4
}
