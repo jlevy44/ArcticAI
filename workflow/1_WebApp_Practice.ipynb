{
 "cells": [
  {
   "cell_type": "code",
   "execution_count": 8,
   "metadata": {},
   "outputs": [
    {
     "name": "stdout",
     "output_type": "stream",
     "text": [
      "[master 6946a64] workflow update\n",
      " Committer: Joshua J. Levy <f003k8w@p03.hpcc.dartmouth.edu>\n",
      "Your name and email address were configured automatically based\n",
      "on your username and hostname. Please check that they are accurate.\n",
      "You can suppress this message by setting them explicitly:\n",
      "\n",
      "    git config --global user.name \"Your Name\"\n",
      "    git config --global user.email you@example.com\n",
      "\n",
      "After doing this, you may fix the identity used for this commit with:\n",
      "\n",
      "    git commit --amend --reset-author\n",
      "\n",
      " 2 files changed, 2389 insertions(+), 11228 deletions(-)\n",
      " rewrite workflow/0_workflow_components_practice.ipynb (80%)\n",
      " create mode 100644 workflow/1_WebApp_Practice.ipynb\n",
      "Counting objects: 5, done.\n",
      "Delta compression using up to 80 threads.\n",
      "Compressing objects: 100% (5/5), done.\n",
      "Writing objects: 100% (5/5), 15.65 KiB | 1001.00 KiB/s, done.\n",
      "Total 5 (delta 2), reused 0 (delta 0)\n",
      "remote: Resolving deltas: 100% (2/2), completed with 2 local objects.\u001b[K\n",
      "To https://github.com/jlevy44/ArcticAI_Prototype\n",
      "   e5be1ba..6946a64  master -> master\n"
     ]
    }
   ],
   "source": [
    "# ! ln 1_WebApp_Practice.ipynb ../ArcticAI_Prototype/workflow/\n",
    "! cd ../ArcticAI_Prototype/ && git add * */* && git commit -a -m \"workflow update\" && git push"
   ]
  },
  {
   "cell_type": "code",
   "execution_count": 6,
   "metadata": {},
   "outputs": [
    {
     "name": "stdout",
     "output_type": "stream",
     "text": [
      "Dash app running on http://localhost:5556/\n"
     ]
    }
   ],
   "source": [
    "# fix, then adopt https://dash-gallery.plotly.host/dash-financial-report/\n",
    "# sauth --dir dzi_files/ user pass localhost 5555\n",
    "# https://github.com/thedirtyfew/terracotta-dash-example/blob/master/app.py\n",
    "# https://github.com/plotly/dash-sample-apps/blob/master/apps/dash-financial-report/app.py\n",
    "# one terminal launches server, other terminal runs this app, third terminal forwards app; 3 ports\n",
    "from jupyter_dash import JupyterDash\n",
    "import dash_bootstrap_components as dbc\n",
    "import dash_core_components as dcc\n",
    "import dash_html_components as html\n",
    "import dash_table, os\n",
    "from dash.dependencies import Output, Input\n",
    "\n",
    "\n",
    "app = JupyterDash(__name__,external_stylesheets=[dbc.themes.COSMO],assets_folder=os.path.abspath(\"dzi_files\"))#'active_learning/round_1/unlabelled/',requests_pathname_prefix='/proxy/{}/'.format(port))\n",
    "\n",
    "app.config.suppress_callback_exceptions = False\n",
    "\n",
    "server = app.server\n",
    "\n",
    "app.layout = html.Div([\n",
    "    html.Iframe(id='openseadragon',\n",
    "                src=\"http://127.0.0.1:5555\",width='800',height='800')#os.path.abspath(\"dzi_files/index.html\")\n",
    "    ])\n",
    "\n",
    "port=5556\n",
    "# app._terminate_server_for_port(\"localhost\", port)\n",
    "app.run_server(debug=True,mode=\"external\",host='localhost',port=port)"
   ]
  },
  {
   "cell_type": "code",
   "execution_count": 7,
   "metadata": {},
   "outputs": [
    {
     "name": "stdout",
     "output_type": "stream",
     "text": [
      "163_A1_1_1_ink.dzi\t163_A1_3_1_ink_files\t163_A1_5_1_tumor.dzi\r\n",
      "163_A1_1_1_ink_files\t163_A1_3_1_tumor.dzi\t163_A1_5_1_tumor_files\r\n",
      "163_A1_1_1_tumor.dzi\t163_A1_3_1_tumor_files\t163_A1_6_1_ink.dzi\r\n",
      "163_A1_1_1_tumor_files\t163_A1_4_1_ink.dzi\t163_A1_6_1_ink_files\r\n",
      "163_A1_2_1_ink.dzi\t163_A1_4_1_ink_files\t163_A1_6_1_tumor.dzi\r\n",
      "163_A1_2_1_ink_files\t163_A1_4_1_tumor.dzi\t163_A1_6_1_tumor_files\r\n",
      "163_A1_2_1_tumor.dzi\t163_A1_4_1_tumor_files\tindex.html\r\n",
      "163_A1_2_1_tumor_files\t163_A1_5_1_ink.dzi\topenseadragon\r\n",
      "163_A1_3_1_ink.dzi\t163_A1_5_1_ink_files\r\n"
     ]
    }
   ],
   "source": [
    "! ls dzi_files"
   ]
  },
  {
   "cell_type": "code",
   "execution_count": null,
   "metadata": {},
   "outputs": [],
   "source": []
  }
 ],
 "metadata": {
  "kernelspec": {
   "display_name": "Python 3",
   "language": "python",
   "name": "python3"
  },
  "language_info": {
   "codemirror_mode": {
    "name": "ipython",
    "version": 3
   },
   "file_extension": ".py",
   "mimetype": "text/x-python",
   "name": "python",
   "nbconvert_exporter": "python",
   "pygments_lexer": "ipython3",
   "version": "3.7.6"
  }
 },
 "nbformat": 4,
 "nbformat_minor": 4
}
