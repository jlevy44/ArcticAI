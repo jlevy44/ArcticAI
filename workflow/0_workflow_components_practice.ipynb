{
 "cells": [
  {
   "cell_type": "code",
   "execution_count": 24,
   "metadata": {},
   "outputs": [
    {
     "name": "stdout",
     "output_type": "stream",
     "text": [
      "[master fdd3286] workflow update\n",
      " Committer: Joshua J. Levy <f003k8w@p02.hpcc.dartmouth.edu>\n",
      "Your name and email address were configured automatically based\n",
      "on your username and hostname. Please check that they are accurate.\n",
      "You can suppress this message by setting them explicitly:\n",
      "\n",
      "    git config --global user.name \"Your Name\"\n",
      "    git config --global user.email you@example.com\n",
      "\n",
      "After doing this, you may fix the identity used for this commit with:\n",
      "\n",
      "    git commit --amend --reset-author\n",
      "\n",
      " 1 file changed, 6415 insertions(+), 94 deletions(-)\n",
      "Counting objects: 4, done.\n",
      "Delta compression using up to 80 threads.\n",
      "Compressing objects: 100% (4/4), done.\n",
      "Writing objects: 100% (4/4), 13.10 KiB | 558.00 KiB/s, done.\n",
      "Total 4 (delta 2), reused 0 (delta 0)\n",
      "remote: Resolving deltas: 100% (2/2), completed with 2 local objects.\u001b[K\n",
      "To https://github.com/jlevy44/ArcticAI_Prototype\n",
      "   ad5857e..fdd3286  master -> master\n"
     ]
    }
   ],
   "source": [
    "# ! ln ../bcc/inputs/163_A1*.npy inputs\n",
    "# ! ln ../bcc/gnn_models/4.model.pth models/tumor_map_gnn.pth\n",
    "# ! ln ../bcc/pretrain_model.pth models/tumor_map_cnn.pth\n",
    "# ! ln ../fat_dermis_epi_sq_model/v2/checkpoints_tissue_seg/104.checkpoint.pth models/macro_map_cnn.pth\n",
    "# ! ln ../nuclei_pipeline/seg_model/27.checkpoint.pth models/nuclei.pth\n",
    "# ! cp -al ../bcc/web_test/openseadragon dzi_files\n",
    "# torch.save(GCNNet(2048, 4, [32]*3).state_dict(),\"models/macro_map_gnn.pth\")\n",
    "# ! pip uninstall pathpretrain -y && pip install git+https://github.com/jlevy44/PathPretrain\n",
    "! cd ../ArcticAI_Prototype/ && git add * */* && git commit -a -m \"workflow update\" && git push"
   ]
  },
  {
   "cell_type": "code",
   "execution_count": null,
   "metadata": {},
   "outputs": [],
   "source": [
    "# preprocess"
   ]
  },
  {
   "cell_type": "code",
   "execution_count": 24,
   "metadata": {},
   "outputs": [],
   "source": [
    "import os, tqdm\n",
    "import numpy as np, pandas as pd\n",
    "from pathflowai.utils import generate_tissue_mask\n",
    "from itertools import product\n",
    "from scipy.ndimage.morphology import binary_fill_holes as fill_holes\n",
    "\n",
    "def preprocess(basename=\"163_A1a\",\n",
    "               threshold=0.05,\n",
    "               patch_size=256):\n",
    "    \n",
    "    image=f\"inputs/{basename}.npy\"\n",
    "    basename=os.path.basename(image).replace('.npy','')\n",
    "    image=np.load(image)\n",
    "    \n",
    "    masks=dict()\n",
    "    masks['tumor_map']=generate_tissue_mask(image,\n",
    "                             compression=10,\n",
    "                             otsu=False,\n",
    "                             threshold=240,\n",
    "                             connectivity=8,\n",
    "                             kernel=5,\n",
    "                             min_object_size=100000,\n",
    "                             return_convex_hull=False,\n",
    "                             keep_holes=False,\n",
    "                             max_hole_size=6000,\n",
    "                             gray_before_close=True,\n",
    "                             blur_size=51) \n",
    "    x_max,y_max=masks['tumor_map'].shape\n",
    "    masks['macro_map']=fill_holes(masks['tumor_map'])\n",
    "    \n",
    "    patch_info=dict()\n",
    "    for k in masks:\n",
    "        patch_info[k]=pd.DataFrame([[basename,x,y,patch_size,\"0\"] for x,y in tqdm.tqdm(list(product(range(0,x_max-patch_size,patch_size),range(0,y_max-patch_size,patch_size))))],columns=['ID','x','y','patch_size','annotation'])\n",
    "        patches=np.stack([image[x:x+patch_size,y:y+patch_size] for x,y in tqdm.tqdm(patch_info[k][['x','y']].values.tolist())])                   \n",
    "        include_patches=np.stack([masks[k][x:x+patch_size,y:y+patch_size] for x,y in tqdm.tqdm(patch_info[k][['x','y']].values.tolist())]).mean((1,2))>=threshold\n",
    "\n",
    "        np.save(f\"masks/{basename}_{k}.npy\",masks[k])\n",
    "        np.save(f\"patches/{basename}_{k}.npy\",patches[include_patches]) \n",
    "        patch_info[k].iloc[include_patches].to_pickle(f\"patches/{basename}_{k}.pkl\")\n",
    "\n"
   ]
  },
  {
   "cell_type": "code",
   "execution_count": 2,
   "metadata": {},
   "outputs": [],
   "source": [
    "# preprocess(basename=\"163_A1a\",\n",
    "#                threshold=0.05,\n",
    "#                patch_size=256)"
   ]
  },
  {
   "cell_type": "code",
   "execution_count": 3,
   "metadata": {},
   "outputs": [],
   "source": [
    "# test component"
   ]
  },
  {
   "cell_type": "code",
   "execution_count": 25,
   "metadata": {},
   "outputs": [],
   "source": [
    "# predict model\n",
    "import os, torch, tqdm, pandas as pd, numpy as np\n",
    "from torch.utils.data import Dataset, DataLoader \n",
    "from PIL import Image\n",
    "from pathpretrain.train_model import train_model, generate_transformers, generate_kornia_transforms\n",
    "\n",
    "class CustomDataset(Dataset):\n",
    "    # load using saved patches and mask file\n",
    "    def __init__(self, patch_info, npy_file, transform):\n",
    "        self.X=np.load(npy_file)\n",
    "        self.patch_info=pd.read_pickle(patch_info)\n",
    "        self.xy=self.patch_info[['x','y']].values\n",
    "        self.patch_size=self.patch_info['patch_size'].iloc[0]\n",
    "        self.length=self.patch_info.shape[0]\n",
    "        self.transform=transform\n",
    "        self.to_pil=lambda x: Image.fromarray(x)\n",
    "        self.ID=os.path.basename(npy_file).replace(\".npy\",\"\")\n",
    "        \n",
    "    def __getitem__(self,i):\n",
    "        x,y=self.xy[i]\n",
    "        return self.transform(self.to_pil(self.X[i]))#[x:x+patch_size,y:y+patch_size]\n",
    "        \n",
    "    def __len__(self):\n",
    "        return self.length\n",
    "    \n",
    "    def embed(self,model,batch_size,out_dir):\n",
    "        Z=[]\n",
    "        dataloader=DataLoader(self,batch_size=batch_size,shuffle=False)\n",
    "        n_batches=len(self)//batch_size\n",
    "        with torch.no_grad():\n",
    "            for i,X in tqdm.tqdm(enumerate(dataloader),total=n_batches):\n",
    "                if torch.cuda.is_available(): X=X.cuda()\n",
    "                z=model(X).detach().cpu().numpy()\n",
    "                Z.append(z)\n",
    "        Z=np.vstack(Z)\n",
    "        torch.save(dict(embeddings=Z,patch_info=self.patch_info),os.path.join(out_dir,f\"{self.ID}.pkl\"))\n",
    "        \n",
    "def generate_embeddings(basename=\"163_A1a\",\n",
    "                        analysis_type=\"tumor\",\n",
    "                       gpu_id=0):\n",
    "    patch_info_file,npy_file=f\"patches/{basename}_{analysis_type}_map.pkl\",f\"patches/{basename}_{analysis_type}_map.npy\"\n",
    "    models={k:f\"models/{k}_map_cnn.pth\" for k in ['macro','tumor']}\n",
    "    num_classes=dict(macro=4,tumor=2)\n",
    "    train_model(model_save_loc=models[analysis_type],extract_embeddings=True,num_classes=num_classes[analysis_type],predict=True,embedding_out_dir=\"cnn_embeddings/\",custom_dataset=CustomDataset(patch_info_file,npy_file,generate_transformers(224,256)['test']),gpu_id=gpu_id)\n",
    "\n"
   ]
  },
  {
   "cell_type": "code",
   "execution_count": 5,
   "metadata": {},
   "outputs": [],
   "source": [
    "# generate_embeddings(basename=\"163_A1a\",\n",
    "#                         analysis_type=\"tumor\",\n",
    "#                        gpu_id=0)\n",
    "# generate_embeddings(basename=\"163_A1a\",\n",
    "#                         analysis_type=\"macro\",\n",
    "#                        gpu_id=0)"
   ]
  },
  {
   "cell_type": "code",
   "execution_count": 6,
   "metadata": {},
   "outputs": [],
   "source": [
    "# create graph"
   ]
  },
  {
   "cell_type": "code",
   "execution_count": 7,
   "metadata": {},
   "outputs": [],
   "source": [
    "import os, torch, numpy as np, pandas as pd\n",
    "import pickle\n",
    "import scipy.sparse as sps\n",
    "from torch_geometric.utils import subgraph, add_remaining_self_loops\n",
    "from torch_cluster import radius_graph\n",
    "from collections import Counter\n",
    "from torch_geometric.data import Data \n",
    "\n",
    "def create_graph_data(basename=\"163_A1a\",\n",
    "                      analysis_type=\"tumor\",\n",
    "                      radius=256,\n",
    "                      min_component_size=600):\n",
    "    embeddings=torch.load(f\"cnn_embeddings/{basename}_{analysis_type}_map.pkl\")\n",
    "    xy=torch.tensor(embeddings['patch_info'][['x','y']].values).float().cuda()\n",
    "    X=torch.tensor(embeddings['embeddings'])\n",
    "    G=radius_graph(xy, r=radius*np.sqrt(2), batch=None, loop=True)\n",
    "    G=G.detach().cpu()\n",
    "    G=add_remaining_self_loops(G)[0]\n",
    "    xy=xy.detach().cpu()\n",
    "    datasets=[]\n",
    "    edges=G.detach().cpu().numpy().astype(int)\n",
    "    n_components,components=list(sps.csgraph.connected_components(sps.coo_matrix((np.ones_like(edges[0]),(edges[0],edges[1])))))\n",
    "    comp_count=Counter(components)\n",
    "    components=torch.LongTensor(components)\n",
    "    for i in range(n_components):\n",
    "        if comp_count[i]>=min_component_size:\n",
    "            G_new=subgraph(components==i,G,relabel_nodes=True)[0]\n",
    "            xy_new=xy[components==i]\n",
    "            X_new=X[components==i]\n",
    "            np.random.seed(42)\n",
    "            idx=np.arange(X_new.shape[0])\n",
    "            idx2=np.arange(X_new.shape[0])\n",
    "            np.random.shuffle(idx)\n",
    "            train_idx,val_idx,test_idx=torch.tensor(np.isin(idx2,idx[:int(0.8*len(idx))])),torch.tensor(np.isin(idx2,idx[int(0.8*len(idx)):int(0.9*len(idx))])),torch.tensor(np.isin(idx2,idx[int(0.9*len(idx)):]))\n",
    "            dataset=Data(x=X_new, edge_index=G_new, y_new=torch.ones(len(X_new)), edge_attr=None, pos=xy_new)\n",
    "            dataset.train_mask=train_idx\n",
    "            dataset.val_mask=val_idx\n",
    "            dataset.test_mask=test_idx\n",
    "            dataset.id=basename\n",
    "            dataset.component=i\n",
    "            datasets.append(dataset)\n",
    "    pickle.dump(datasets,open(os.path.join('graph_datasets',f\"{basename}_{analysis_type}_map.pkl\"),'wb'))"
   ]
  },
  {
   "cell_type": "code",
   "execution_count": 8,
   "metadata": {},
   "outputs": [],
   "source": [
    "# create_graph_data(basename=\"163_A1a\",\n",
    "#                       analysis_type=\"tumor\",\n",
    "#                       radius=256,\n",
    "#                       min_component_size=600)\n",
    "# create_graph_data(basename=\"163_A1a\",\n",
    "#                       analysis_type=\"macro\",\n",
    "#                       radius=256,\n",
    "#                       min_component_size=600)"
   ]
  },
  {
   "cell_type": "code",
   "execution_count": 9,
   "metadata": {},
   "outputs": [],
   "source": [
    "# predict graph"
   ]
  },
  {
   "cell_type": "code",
   "execution_count": 29,
   "metadata": {},
   "outputs": [],
   "source": [
    "import os, torch, pickle, numpy as np, pandas as pd, torch.nn as nn\n",
    "from torch_geometric.data import DataLoader as TG_DataLoader\n",
    "from torch_geometric.utils import to_dense_batch, to_dense_adj, dense_to_sparse, dropout_adj, to_networkx\n",
    "from torch_geometric.nn import GATConv\n",
    "import torch.nn.functional as F\n",
    "\n",
    "class GCNNet(torch.nn.Module):\n",
    "    def __init__(self, inp_dim, out_dim, hidden_topology=[32,64,128,128], p=0.5, p2=0.1, drop_each=True):\n",
    "        super(GCNNet, self).__init__()\n",
    "        self.out_dim=out_dim\n",
    "        self.convs = nn.ModuleList([GATConv(inp_dim, hidden_topology[0])]+[GATConv(hidden_topology[i],hidden_topology[i+1]) for i in range(len(hidden_topology[:-1]))])\n",
    "        self.drop_edge = lambda edge_index: dropout_adj(edge_index,p=p2)[0]\n",
    "        self.dropout = nn.Dropout(p)\n",
    "        self.fc = nn.Linear(hidden_topology[-1], out_dim)\n",
    "        self.drop_each=drop_each\n",
    "\n",
    "    def forward(self, x, edge_index, edge_attr=None):\n",
    "        for conv in self.convs:\n",
    "            if self.drop_each and self.training: edge_index=self.drop_edge(edge_index)\n",
    "            x = F.relu(conv(x, edge_index, edge_attr))\n",
    "        if self.training:\n",
    "            x = self.dropout(x)\n",
    "        x = self.fc(x)\n",
    "        return x\n",
    "    \n",
    "class GCNFeatures(torch.nn.Module):\n",
    "    def __init__(self, gcn, bayes=False, p=0.05, p2=0.1):\n",
    "        super(GCNFeatures, self).__init__()\n",
    "        self.gcn=gcn\n",
    "        self.drop_each=bayes\n",
    "        self.gcn.drop_edge = lambda edge_index: dropout_adj(edge_index,p=p2)[0]\n",
    "        self.gcn.dropout = nn.Dropout(p)\n",
    "    \n",
    "    def forward(self, x, edge_index, edge_attr=None):\n",
    "        for i,conv in enumerate(self.gcn.convs):\n",
    "            if self.drop_each: edge_index=self.gcn.drop_edge(edge_index)\n",
    "            x = conv(x, edge_index, edge_attr)\n",
    "            if i+1<len(self.gcn.convs):\n",
    "                x=F.relu(x)\n",
    "        if self.drop_each:\n",
    "            x = self.gcn.dropout(x)\n",
    "        y = self.gcn.fc(F.relu(x))#F.softmax()\n",
    "        return x,y\n",
    "    \n",
    "def predict(basename=\"163_A1a\",\n",
    "            analysis_type=\"tumor\",\n",
    "            gpu_id=0):\n",
    "    hidden_topology=dict(tumor=[32]*3,macro=[32]*3)\n",
    "    num_classes=dict(macro=4,tumor=2)\n",
    "    torch.cuda.set_device(gpu_id)\n",
    "    dataset=pickle.load(open(os.path.join('graph_datasets',f\"{basename}_{analysis_type}_map.pkl\"),'rb'))\n",
    "    model=GCNNet(dataset[0].x.shape[1],num_classes[analysis_type],hidden_topology=hidden_topology[analysis_type],p=0.,p2=0.)\n",
    "    model=model.cuda()\n",
    "    model.load_state_dict(torch.load(os.path.join(\"models\",f\"{analysis_type}_map_gnn.pth\"),map_location=f\"cuda:{gpu_id}\" if gpu_id>=0 else \"cpu\"))\n",
    "    dataloader=TG_DataLoader(dataset,shuffle=False,batch_size=1)\n",
    "    model.eval()\n",
    "    feature_extractor=GCNFeatures(model,bayes=False).cuda()\n",
    "    graphs=[]\n",
    "    for i,data in enumerate(dataloader):\n",
    "        with torch.no_grad():\n",
    "            graph = to_networkx(data).to_undirected()\n",
    "            model.train(False)\n",
    "            x=data.x.cuda()\n",
    "            xy=data.pos.numpy()\n",
    "            edge_index=data.edge_index.cuda()\n",
    "            preds=feature_extractor(x,edge_index)\n",
    "            z,y_pred=preds[0].detach().cpu().numpy(),preds[1].detach().cpu().numpy()\n",
    "            graphs.append(dict(G=graph,xy=xy,z=z,y_pred=y_pred,slide=data.id,component=data.component))\n",
    "    torch.save(graphs,os.path.join(\"gnn_results\",f\"{basename}_{analysis_type}_map.pkl\"))\n"
   ]
  },
  {
   "cell_type": "code",
   "execution_count": 30,
   "metadata": {},
   "outputs": [],
   "source": [
    "# predict(basename=\"163_A1a\",\n",
    "#             analysis_type=\"tumor\",\n",
    "#             gpu_id=0)\n",
    "# predict(basename=\"163_A1a\",\n",
    "#             analysis_type=\"macro\",\n",
    "#             gpu_id=0)"
   ]
  },
  {
   "cell_type": "code",
   "execution_count": 31,
   "metadata": {},
   "outputs": [],
   "source": [
    "# nuclei prediction"
   ]
  },
  {
   "cell_type": "code",
   "execution_count": 40,
   "metadata": {},
   "outputs": [],
   "source": [
    "from PIL import Image\n",
    "from torch.utils.data import Dataset\n",
    "import torch, pandas as pd, numpy as np\n",
    "import pickle\n",
    "from pathpretrain.train_model import train_model, generate_transformers, generate_kornia_transforms\n",
    "from tqdm import trange\n",
    "\n",
    "class WSI_Dataset(Dataset):\n",
    "    def __init__(self, patches, transform):\n",
    "        self.patches=patches\n",
    "        self.to_pil=lambda x: Image.fromarray(x)\n",
    "        self.length=len(self.patches)\n",
    "        self.transform=transform\n",
    "        \n",
    "    def __getitem__(self,idx):\n",
    "        X=self.transform(self.to_pil(self.patches[idx]))\n",
    "        return X,torch.zeros(X.shape[-2:]).unsqueeze(0).long()\n",
    "    \n",
    "    def __len__(self):\n",
    "        return self.length\n",
    "    \n",
    "def predict_nuclei(basename=\"163_A1a\",\n",
    "                   gpu_id=0):\n",
    "    analysis_type=\"tumor\"\n",
    "    patch_size=256\n",
    "    patch_info_file,npy_file=f\"patches/{basename}_{analysis_type}_map.pkl\",f\"patches/{basename}_{analysis_type}_map.npy\"\n",
    "    patches=np.load(npy_file)\n",
    "    custom_dataset=WSI_Dataset(patches,generate_transformers(256,256)['test'])\n",
    "    Y_seg=train_model(inputs_dir='inputs',\n",
    "                    architecture='resnet50',\n",
    "                    batch_size=512,\n",
    "                    num_classes=2,\n",
    "                    predict=True,\n",
    "                    model_save_loc=\"models/nuclei.pth\",\n",
    "                    predictions_save_path='tmp_test.pkl',\n",
    "                    predict_set='custom',\n",
    "                    verbose=False,\n",
    "                    class_balance=False,\n",
    "                    gpu_id=gpu_id,\n",
    "                    tensor_dataset=False,\n",
    "                    semantic_segmentation=True,\n",
    "                    custom_dataset=custom_dataset,\n",
    "                    save_predictions=False)['pred']\n",
    "\n",
    "    xy=pd.read_pickle(patch_info_file)[['x','y']].values\n",
    "    img_shape=np.load(f\"inputs/{basename}.npy\",mmap_mode=\"r\").shape[:-1]\n",
    "    pred_mask=np.zeros(img_shape)\n",
    "    for i in trange(Y_seg.shape[0]):\n",
    "        x,y=xy[i]\n",
    "        pred_mask[x:x+patch_size,y:y+patch_size]=Y_seg[i].argmax(0)\n",
    "    pred_mask=pred_mask.astype(bool)\n",
    "    np.save(f\"nuclei_results/{basename}.npy\",pred_mask)\n"
   ]
  },
  {
   "cell_type": "code",
   "execution_count": 33,
   "metadata": {},
   "outputs": [],
   "source": [
    "# predict_nuclei(basename=\"163_A1a\",\n",
    "#                    gpu_id=0)"
   ]
  },
  {
   "cell_type": "code",
   "execution_count": 34,
   "metadata": {},
   "outputs": [],
   "source": [
    "# estimate Mapper graphs macro+tumor"
   ]
  },
  {
   "cell_type": "code",
   "execution_count": 35,
   "metadata": {},
   "outputs": [],
   "source": [
    "from torch_cluster import nearest\n",
    "import sys, os, torch, numpy as np, pandas as pd\n",
    "from sklearn.preprocessing import LabelEncoder, LabelBinarizer\n",
    "sys.path.insert(0,os.path.abspath(\"./dgm/\"))\n",
    "from dgm.dgm import DGM\n",
    "from umap import UMAP\n",
    "import pickle\n",
    "\n",
    "classes_=['dermis', 'epidermis', 'hole', 'subcutaneous tissue']\n",
    "\n",
    "def relabel_tumor(graph_tumor,graph_macro):\n",
    "    le=LabelEncoder().fit(classes_)\n",
    "    re_idx=nearest(torch.tensor(graph_tumor['xy']), torch.tensor(graph_macro['xy'])).numpy()\n",
    "    unassigned=(graph_tumor['xy']-graph_macro['xy'][re_idx]).sum()!=0\n",
    "    macro_pred=graph_macro['y_pred'].argmax(1)\n",
    "    tumor_pred=graph_tumor['y_pred'].argmax(1)\n",
    "    benign=tumor_pred==0\n",
    "    tumor_pred=tumor_pred.astype('str')\n",
    "    tumor_pred[benign]=le.inverse_transform(macro_pred[re_idx][benign])\n",
    "    tumor_pred[~benign]='tumor'\n",
    "    tumor_pred[unassigned]='unassigned'\n",
    "    graph_tumor['annotation']=tumor_pred\n",
    "    return graph_tumor\n",
    "\n",
    "def construct_mapper(graph):\n",
    "    z=UMAP(n_components=2,random_state=42).fit_transform(graph['z'])\n",
    "    return dict(out_res=DGM(num_intervals=2,overlap=0.01,min_component_size=100,eps=0.1, sdgm=True).fit_transform(graph['G'], z),graph=graph)\n",
    "\n",
    "def get_interaction(out_graph,y_orig,res,lb=None,plot=False,le=None):\n",
    "    if not isinstance(lb,type(None)):\n",
    "        y_orig=lb.transform(y_orig)\n",
    "    node_makeup={}# only if predict\n",
    "    for node in out_graph.nodes():\n",
    "        nodes=res['mnode_to_nodes'][node]\n",
    "        node_makeup[node]=y_orig[np.array(list(nodes))].mean(0)\n",
    "    edges = out_graph.edges()\n",
    "    edge_weight=res['edge_weight']\n",
    "    weights = np.array([edge_weight[(min(u, v), max(u, v))] for u, v in edges], dtype=np.float32)\n",
    "    edgelist=list(edges)\n",
    "    A=np.zeros((len(lb.classes_),len(lb.classes_)))\n",
    "    for i in range(len(edgelist)):\n",
    "        send=node_makeup[edgelist[i][0]]\n",
    "        receive=node_makeup[edgelist[i][1]]\n",
    "        a=np.outer(send,receive)\n",
    "        a=(a+a.T)/2.*weights[i]\n",
    "        A+=a\n",
    "    invasion_mat=pd.DataFrame(A,columns=le.inverse_transform(np.arange(len(lb.classes_))),index=le.inverse_transform(np.arange(len(lb.classes_))))\n",
    "    return invasion_mat\n",
    "\n",
    "def calc_hole_vals(dgm_result,weights={'dermis':1,'epidermis':1,'subcutaneous tissue':1}):\n",
    "    y_pred=dgm_result['graph']['y_pred'].argmax(1)\n",
    "    out_graph,res=dgm_result['out_res']\n",
    "    le=LabelEncoder().fit(classes_)\n",
    "    area_hole=(le.inverse_transform(y_pred)=='hole').mean()\n",
    "    hole_share=get_interaction(out_graph,y_pred,res,lb=LabelBinarizer().fit(np.arange(len(le.classes_))),le=le)['hole']\n",
    "    hole_share=hole_share.loc[hole_share.index!='hole']\n",
    "    hole_share=pd.DataFrame(hole_share).reset_index()\n",
    "    hole_share2=hole_share.set_index('index')\n",
    "    hole_share2['weight']=pd.Series(weights)\n",
    "    hole_share2['importance']=hole_share2['weight']*hole_share2['hole']\n",
    "    return hole_share2\n",
    "\n",
    "def calc_tumor_vals(dgm_result,weights={'dermis':1,'epidermis':1,'subcutaneous tissue':1,'hole':1}):\n",
    "    out_graph,res=dgm_result['out_res']\n",
    "    le=LabelEncoder().fit(dgm_result['graph']['annotation'])\n",
    "    y=le.transform(dgm_result['graph']['annotation'])\n",
    "    tumor_share=get_interaction(out_graph,y,res,lb=LabelBinarizer().fit(np.arange(len(le.classes_))),le=le)['tumor']\n",
    "    tumor_share=tumor_share.loc[~tumor_share.index.isin(['tumor','unassigned'])]\n",
    "    tumor_share=pd.DataFrame(tumor_share).reset_index()\n",
    "    tumor_share2=tumor_share.set_index('index')\n",
    "    tumor_share2['weight']=pd.Series(weights)\n",
    "    tumor_share2['importance']=tumor_share2['weight']*tumor_share2['tumor']\n",
    "    return tumor_share2\n",
    "\n",
    "def generate_quality_scores(basename):\n",
    "    graphs={k:torch.load(os.path.join(\"gnn_results\",f\"{basename}_{k}_map.pkl\")) for k in ['tumor','macro']}\n",
    "    graphs['tumor']=[relabel_tumor(graph_tumor,graph_macro) for graph_tumor,graph_macro in zip(graphs['tumor'],graphs['macro'])]\n",
    "\n",
    "    mapper_graphs=dict()\n",
    "    for k in ['tumor','macro']:\n",
    "        mapper_graphs[k]=[construct_mapper(graph) for graph in graphs[k]]\n",
    "\n",
    "    scoring_fn=dict(tumor=calc_tumor_vals,macro=calc_hole_vals)\n",
    "    quality_score=dict()\n",
    "\n",
    "    for k in mapper_graphs:\n",
    "        quality_score[k]=pd.concat([scoring_fn[k](dgm_result)['importance'] for dgm_result in mapper_graphs[k]],axis=1)\n",
    "        quality_score[k].columns=[f'section_{i}' for i in range(1,len(quality_score[k].columns)+1)]\n",
    "\n",
    "    pickle.dump(quality_score,open(f'quality_scores/{basename}.pkl','wb'))"
   ]
  },
  {
   "cell_type": "code",
   "execution_count": 36,
   "metadata": {},
   "outputs": [],
   "source": [
    "# ink prediction"
   ]
  },
  {
   "cell_type": "code",
   "execution_count": 37,
   "metadata": {},
   "outputs": [],
   "source": [
    "from skimage import morphology as morph\n",
    "from scipy.ndimage import binary_opening, binary_dilation, label as scilabel\n",
    "from skimage import filters, measure\n",
    "from skimage.morphology import disk\n",
    "import numpy as np, pandas as pd, copy\n",
    "import sys,os,cv2\n",
    "from itertools import product\n",
    "sys.path.insert(0,os.path.abspath('.'))\n",
    "from filters import filter_red_pen, filter_blue_pen, filter_green_pen\n",
    "\n",
    "def filter_yellow(img): # https://www.learnopencv.com/color-spaces-in-opencv-cpp-python/\n",
    "    img_hsv=cv2.cvtColor(img, cv2.COLOR_RGB2HSV)\n",
    "    return cv2.inRange(img_hsv,(10, 30, 30), (30, 255, 255))\n",
    "\n",
    "ink_fn=dict(red=filter_red_pen,\n",
    "           blue=filter_blue_pen,\n",
    "           green=filter_green_pen,\n",
    "           yellow=filter_yellow)\n",
    "\n",
    "ink_min_size=dict(red=100,\n",
    "           blue=30,\n",
    "           green=30,\n",
    "           yellow=1000)\n",
    "\n",
    "colors=dict(red=np.array([255,0,0]),\n",
    "           blue=np.array([0,0,255]),\n",
    "           green=np.array([0,255,0]),\n",
    "           yellow=np.array([255,255,0]))\n",
    "\n",
    "def tune_mask(mask,edges,min_size=30):\n",
    "    mask=(binary_dilation(mask,disk(3,bool),iterations=5) & edges)\n",
    "    mask=binary_opening(mask,disk(3,bool),iterations=1)\n",
    "    return morph.remove_small_objects(mask, min_size=min_size, connectivity = 2, in_place=True)>0\n",
    "\n",
    "def filter_tune(img,color,edges):\n",
    "    return tune_mask(~ink_fn[color](img),edges,min_size=ink_min_size[color])\n",
    "\n",
    "def get_edges(mask):\n",
    "    edges=filters.sobel(mask)>0\n",
    "    edges = binary_dilation(edges,disk(30,bool))\n",
    "    return edges\n",
    "\n",
    "def detect_inks(basename=\"163_A1a\",\n",
    "                compression=8):\n",
    "    img,mask=np.load(f\"inputs/{basename}.npy\"),np.load(f\"masks/{basename}_macro_map.npy\")\n",
    "    img=cv2.resize(img,None,fx=1/compression,fy=1/compression)\n",
    "    mask=cv2.resize(mask.astype(int),None,fx=1/compression,fy=1/compression,interpolation=cv2.INTER_NEAREST).astype(bool)\n",
    "    labels,n_objects=scilabel(mask)\n",
    "    edges=get_edges(mask)\n",
    "    pen_masks={k:filter_tune(img,k,edges) for k in ink_fn}\n",
    "\n",
    "    for k in ['green','blue','red','yellow']:\n",
    "        img[pen_masks[k],:]=colors[k]\n",
    "\n",
    "    coords_df=pd.DataFrame(index=list(ink_fn.keys())+[\"center_mass\"],columns=np.arange(1,n_objects+1))\n",
    "    for color,obj in product(coords_df.index[:-1],coords_df.columns):\n",
    "        coords_df.loc[color,obj]=np.vstack(np.where((labels==obj) & (pen_masks[color]))).T*compression\n",
    "    for obj in coords_df.columns:\n",
    "        coords_df.loc[\"center_mass\",obj]=np.vstack(np.where(labels==obj)).T.mean(0)*compression\n",
    "\n",
    "    coords_df.to_pickle(f\"detected_inks/{basename}.pkl\")\n",
    "    np.save(f\"detected_inks/{basename}_thumbnail.npy\",img)"
   ]
  },
  {
   "cell_type": "code",
   "execution_count": 58,
   "metadata": {},
   "outputs": [],
   "source": [
    "def run_workflow_series(basename):\n",
    "    print(f\"{basename} preprocessing\")\n",
    "    preprocess(basename=basename,\n",
    "               threshold=0.05,\n",
    "               patch_size=256)\n",
    "    \n",
    "    for k in ['tumor','macro']:\n",
    "        print(f\"{basename} {k} embedding\")\n",
    "        generate_embeddings(basename=basename,\n",
    "                            analysis_type=k,\n",
    "                           gpu_id=0)\n",
    "\n",
    "        print(f\"{basename} {k} build graph\")\n",
    "        create_graph_data(basename=basename,\n",
    "                          analysis_type=k,\n",
    "                          radius=256,\n",
    "                          min_component_size=600)\n",
    "        \n",
    "        print(f\"{basename} {k} gnn predict\")\n",
    "        predict(basename=basename,\n",
    "                analysis_type=k,\n",
    "                gpu_id=0)\n",
    "\n",
    "    print(f\"{basename} quality assessment\")\n",
    "    generate_quality_scores(basename)\n",
    "    \n",
    "    print(f\"{basename} ink detection\")\n",
    "    detect_inks(basename=basename,\n",
    "                compression=8)\n",
    "    \n",
    "    print(f\"{basename} nuclei detection\")\n",
    "    predict_nuclei(basename=basename,\n",
    "                   gpu_id=0)\n",
    "    "
   ]
  },
  {
   "cell_type": "code",
   "execution_count": 61,
   "metadata": {},
   "outputs": [],
   "source": [
    "import glob, os\n",
    "def run_series(patient=\"163_A1\"):\n",
    "    for f in glob.glob(f\"inputs/{patient}*.npy\"):\n",
    "        run_workflow_series(os.path.basename(f).replace(\".npy\",\"\"))"
   ]
  },
  {
   "cell_type": "code",
   "execution_count": null,
   "metadata": {},
   "outputs": [],
   "source": [
    "# blend predicted scores\n",
    "# do later"
   ]
  },
  {
   "cell_type": "code",
   "execution_count": null,
   "metadata": {},
   "outputs": [],
   "source": [
    "# organize / cut sections"
   ]
  },
  {
   "cell_type": "code",
   "execution_count": 23,
   "metadata": {},
   "outputs": [],
   "source": [
    "import glob,pickle, numpy as np\n",
    "\n",
    "def dump_results(patient=\"163_A1\",scheme=\"2/1\"):\n",
    "    n_sections_per_slide,n_blocks_per_section=np.array(scheme.split(\"/\")).astype(int)\n",
    "    images=sorted(glob.glob(f\"inputs/{patient}*.npy\"))\n",
    "    image_ids=np.vectorize(lambda x: os.path.basename(x).replace(\".npy\",\"\"))(images)\n",
    "    masks=sorted(glob.glob(f\"masks/{patient}*macro*.npy\"))\n",
    "    tumor_gnn_results=sorted(glob.glob(f\"gnn_results/{patient}*tumor*.pkl\"))\n",
    "    macro_gnn_results=sorted(glob.glob(f\"gnn_results/{patient}*macro*.pkl\"))\n",
    "    quality_scores=sorted(glob.glob(f\"quality_scores/{patient}*.pkl\"))\n",
    "    ink_results=sorted(glob.glob(f\"detected_inks/{patient}*.pkl\"))\n",
    "    nuclei_results=sorted(glob.glob(f\"nuclei_results/{patient}*.npy\"))\n",
    "\n",
    "    pickle.dump(dict(n_slides=len(images),\n",
    "                    image_ids=image_ids,\n",
    "                    n_sections_per_slide=n_sections_per_slide,\n",
    "                    n_blocks_per_section=n_blocks_per_section,\n",
    "                    images=images,\n",
    "                    masks=masks,\n",
    "                    tumor_gnn_results=tumor_gnn_results,\n",
    "                    macro_gnn_results=macro_gnn_results,\n",
    "                    quality_scores=quality_scores,\n",
    "                    ink_results=ink_results,\n",
    "                    nuclei_results=nuclei_results),open(f'results/{patient}.pkl','wb'))\n"
   ]
  },
  {
   "cell_type": "code",
   "execution_count": 65,
   "metadata": {},
   "outputs": [
    {
     "name": "stderr",
     "output_type": "stream",
     "text": [
      "100%|██████████| 25748/25748 [00:26<00:00, 961.98it/s] \n"
     ]
    }
   ],
   "source": []
  },
  {
   "cell_type": "code",
   "execution_count": 66,
   "metadata": {},
   "outputs": [],
   "source": [
    "# cache above"
   ]
  },
  {
   "cell_type": "code",
   "execution_count": 17,
   "metadata": {},
   "outputs": [],
   "source": [
    "# estimate alignment parameters\n",
    "# do later"
   ]
  },
  {
   "cell_type": "code",
   "execution_count": 18,
   "metadata": {},
   "outputs": [],
   "source": [
    "# apply slide level alignment parameters to each exported image + mask\n",
    "# original, macro, tumor, nuclei\n",
    "# do later"
   ]
  },
  {
   "cell_type": "code",
   "execution_count": null,
   "metadata": {},
   "outputs": [],
   "source": [
    "# quality score from adjacent sections after extracting mapper scores"
   ]
  },
  {
   "cell_type": "code",
   "execution_count": 8,
   "metadata": {},
   "outputs": [],
   "source": [
    "import pandas as pd, numpy as np\n",
    "from scipy.ndimage import label as scilabel\n",
    "from skimage.measure import regionprops_table\n",
    "import cv2, os, subprocess\n",
    "from deepzoom import *\n",
    "from deepzoom import _get_or_create_path,_get_files_path\n",
    "from PIL import Image\n",
    "import tqdm\n",
    "import dask\n",
    "from dask.diagnostics import ProgressBar\n",
    "from scipy.special import softmax\n",
    "import torch\n",
    "from sauth import SimpleHTTPAuthHandler, serve_http\n",
    "import pysnooper\n",
    "Image.MAX_IMAGE_PIXELS = None\n",
    "\n",
    "class Numpy2DZI(ImageCreator):\n",
    "    def __init__(\n",
    "        self,\n",
    "        tile_size=254,\n",
    "        tile_overlap=1,\n",
    "        tile_format=\"jpg\",\n",
    "        image_quality=0.8,\n",
    "        resize_filter=None,\n",
    "        copy_metadata=False,\n",
    "        compression=1.\n",
    "    ):\n",
    "        super().__init__(tile_size,tile_overlap,tile_format,image_quality,resize_filter,copy_metadata)\n",
    "        self.compression=compression\n",
    "        \n",
    "    def create(self, source_arr, destination):\n",
    "        # potentially have an option where dynamically softlink once deeper layer is made so slide is readily available, push to background process and write metadata for dash app to read  \n",
    "        # speed up image saving with dask https://stackoverflow.com/questions/54615625/how-to-save-dask-array-as-png-files-slice-by-slice https://github.com/dask/dask-image/issues/110\n",
    "        self.image = PIL.Image.fromarray(source_arr if self.compression==1 else cv2.resize(source_arr,None,fx=1/self.compression,fy=1/self.compression,interpolation=cv2.INTER_CUBIC))\n",
    "        width, height = self.image.size\n",
    "        self.descriptor = DeepZoomImageDescriptor(\n",
    "            width=width,\n",
    "            height=height,\n",
    "            tile_size=self.tile_size,\n",
    "            tile_overlap=self.tile_overlap,\n",
    "            tile_format=self.tile_format,\n",
    "        )\n",
    "        image_files = _get_or_create_path(_get_files_path(destination))\n",
    "        for level in tqdm.trange(self.descriptor.num_levels, desc='level'):\n",
    "            level_dir = _get_or_create_path(os.path.join(image_files, str(level)))\n",
    "            level_image = self.get_image(level)\n",
    "            for (column, row) in tqdm.tqdm(self.tiles(level), desc='tiles'):\n",
    "                bounds = self.descriptor.get_tile_bounds(level, column, row)\n",
    "                tile = level_image.crop(bounds)\n",
    "                format = self.descriptor.tile_format\n",
    "                tile_path = os.path.join(level_dir, \"%s_%s.%s\" % (column, row, format))\n",
    "                tile_file = open(tile_path, \"wb\")\n",
    "                if self.descriptor.tile_format == \"jpg\":\n",
    "                    jpeg_quality = int(self.image_quality * 100)\n",
    "                    tile.save(tile_file, \"JPEG\", quality=jpeg_quality)\n",
    "                else:\n",
    "                    tile.save(tile_file)\n",
    "        self.descriptor.save(destination)\n",
    "        return destination\n",
    "        \n",
    "@dask.delayed\n",
    "def write_dzi(img, out_dzi, compression=8):\n",
    "    return Numpy2DZI(compression=compression).create(img,out_dzi)\n",
    "\n",
    "def add_depth(x):\n",
    "    x=x.sort_values(['slide_id',\"section_id\"])\n",
    "    x['depth']=np.arange(1,len(x)+1)\n",
    "    return x\n",
    "\n",
    "def mask2label(mask,compression=8):\n",
    "    mask_small=cv2.resize(mask.astype(int),None,fx=1/compression,fy=1/compression,interpolation=cv2.INTER_NEAREST).astype(bool)\n",
    "    label=cv2.resize(scilabel(mask_small)[0],dsize=mask.shape[::-1],interpolation=cv2.INTER_NEAREST)\n",
    "    return label\n",
    "\n",
    "class Case:\n",
    "    def __init__(self, patient=\"163_A1\"):\n",
    "        self.launch_dir=os.path.abspath(\".\")\n",
    "        self.patient=patient\n",
    "        self.results=pd.read_pickle(f\"results/{patient}.pkl\")\n",
    "        self.slide_metadata,self.section_metadata=self.add_metadata(self.results)\n",
    "        self.n_slides=self.results['n_slides']\n",
    "        self.slide_cache=self.slide_metadata.copy()\n",
    "        self.section_cache=self.section_metadata.copy()\n",
    "        self.slide_cache['label']=''\n",
    "        self.slide_cache['tumor_map']=''\n",
    "        self.slide_cache['macro_map']=''\n",
    "        self.slide_cache['region_props']=''\n",
    "        self.section_metadata['quality']=''\n",
    "        self.max_depth=self.section_metadata['depth'].max()\n",
    "        self.n_blocks=self.section_metadata['block_id'].max()\n",
    "        \n",
    "        \n",
    "    def add_metadata(self, results):\n",
    "        slide_metadata=pd.DataFrame({k:results[k] for k in results if isinstance(results[k],list)}).reset_index().rename(columns=dict(index=\"slide_id\"))\n",
    "        slide_metadata['slide_id']+=1\n",
    "        section_metadata=dict(slide_id=[],\n",
    "                             block_id=[],\n",
    "                             section_id=[],\n",
    "                             label_id=[])\n",
    "        for slide in slide_metadata['slide_id'].values:\n",
    "            section_metadata['label_id'].extend(np.arange(1,results['n_sections_per_slide']*results['n_blocks_per_section']+1))\n",
    "            section_metadata['slide_id'].extend([slide]*(results['n_sections_per_slide']*results['n_blocks_per_section']))\n",
    "            section_metadata['block_id'].extend(np.arange(1,results['n_blocks_per_section']+1).tolist()*results['n_sections_per_slide'])\n",
    "            for i in range(1,results['n_sections_per_slide']+1): section_metadata['section_id'].extend([i]*results['n_blocks_per_section'])\n",
    "        section_metadata=pd.DataFrame(section_metadata)\n",
    "        section_metadata['id']=np.arange(len(section_metadata))\n",
    "        section_metadata=pd.DataFrame(section_metadata.groupby(\"block_id\").apply(add_depth)).reset_index(drop=True).sort_values(['id'])\n",
    "        return slide_metadata,section_metadata\n",
    "            \n",
    "    \n",
    "    def compute_quality(self, importance_regions={'dermis':3.,'epidermis':1.,'subcutaneous tissue':2.},\n",
    "                                importance_tumor=4.,\n",
    "                                distance_weight=0.7,\n",
    "                                baseline_region=1.):\n",
    "        \n",
    "        quality_scores=self.slide_metadata['quality_scores'].map(pd.read_pickle)\n",
    "\n",
    "        tumor_quality_scores=pd.concat([quality_scores[i]['tumor'] for i in range(self.n_slides)],axis=1).fillna(0).T.reset_index(drop=True)\n",
    "        macro_quality_scores=pd.concat([quality_scores[i]['macro'] for i in range(self.n_slides)],axis=1).fillna(0).T.reset_index(drop=True)\n",
    "\n",
    "        self.section_metadata['quality']=np.nan\n",
    "        for block_id in self.section_metadata['block_id'].unique():\n",
    "            idx=self.section_metadata['block_id'].values==block_id\n",
    "            section_metadata_ids=self.section_metadata['id'].loc[idx]\n",
    "            macro_qual,tumor_qual=macro_quality_scores.loc[idx],tumor_quality_scores.loc[idx]\n",
    "            for i in range(len(macro_qual)):\n",
    "                macro_qual['distance_weight']=distance_weight**(np.abs(macro_qual.index-i))\n",
    "                tumor_qual['distance_weight']=distance_weight**(np.abs(tumor_qual.index-i))\n",
    "                quality_score=pd.concat([importance_regions[region]*(macro_qual[region]*(baseline_region+tumor_qual[region]*tumor_qual[\"distance_weight\"])) for region in importance_regions]+[importance_tumor*tumor_qual['hole']*tumor_qual[\"distance_weight\"]],axis=1)\n",
    "                quality_score.columns=list(importance_regions)+['hole']\n",
    "                self.section_metadata.loc[self.section_metadata['id']==section_metadata_ids[i],'quality']=quality_score.values.sum()\n",
    "\n",
    "    def load_slide(self, slide, compression=8):\n",
    "        slide_loc=self.get_slide_loc(slide)\n",
    "        if self.slide_cache.loc[slide_loc,['images','masks','label']].map(lambda x: isinstance(x,str)).sum()>0:\n",
    "            self.slide_cache.loc[slide_loc,['images','masks']]=self.slide_metadata.loc[slide_loc,['images','masks']].map(np.load)\n",
    "            self.slide_cache.loc[slide_loc,'label']=[mask2label(self.slide_cache.loc[slide_loc,'masks'],compression)]\n",
    "            self.slide_cache.loc[slide_loc,'region_props']=[regionprops_table(self.slide_cache.loc[slide_loc,'label'], properties=['bbox'])] \n",
    "        image,mask,label=self.slide_cache.loc[slide_loc,['images','masks','label']].tolist()\n",
    "        return image,mask,label\n",
    "    \n",
    "    def get_slide_loc(self, slide):\n",
    "        return self.slide_metadata.index[np.where(self.slide_metadata['slide_id']==slide)[0][0]]\n",
    "    \n",
    "    def get_section_bbox(self, slide_id, label_id):\n",
    "        slide_loc=self.get_slide_loc(slide_id)\n",
    "        bbox=pd.DataFrame(self.slide_cache.loc[slide_loc,'region_props'])\n",
    "        bbox.columns=['xmin','ymin','xmax','ymax']\n",
    "        bbox.index+=1\n",
    "        xmin,ymin,xmax,ymax=bbox.loc[label_id]\n",
    "        return xmin,ymin,xmax,ymax\n",
    "    \n",
    "    def load_nuclei(self, slide):\n",
    "        slide_loc=self.get_slide_loc(slide)\n",
    "        if not isinstance(self.slide_cache.loc[slide_loc,'nuclei_results'],np.ndarray):\n",
    "            nuclei_result=np.load(self.slide_cache.loc[slide_loc,'nuclei_results'])\n",
    "            self.slide_cache.loc[slide_loc,'nuclei_results']=[nuclei_result]\n",
    "        else: nuclei_result=self.slide_cache.loc[slide_loc,'nuclei_results']\n",
    "        return nuclei_result \n",
    "    \n",
    "    def load_tumor_map(self, slide, alpha=0.1, patch_size=256, low_res=True):\n",
    "        assert low_res, \"High resolution label propagation completed, but not available as an option yet\"\n",
    "        slide_loc=self.get_slide_loc(slide)\n",
    "        if not isinstance(self.slide_cache.loc[slide_loc,'tumor_gnn_results'],np.ndarray):\n",
    "            graphs=torch.load(self.slide_cache.loc[slide_loc,'tumor_gnn_results'])\n",
    "            xy=np.vstack([graph['xy'] for graph in graphs]).astype(int)\n",
    "            y_pred=softmax(np.vstack([graph['y_pred'] for graph in graphs]),1)[:,1].reshape(-1,1)\n",
    "            img_=self.load_slide(slide)[0].copy()\n",
    "            one_square=np.ones((patch_size,patch_size)).astype(np.float)*255\n",
    "            for x,y,pred in tqdm.tqdm(np.hstack([xy,y_pred]).tolist(), desc='tumor'):\n",
    "                x,y=map(int,[x,y])\n",
    "                img_[x:x+patch_size,y:y+patch_size]=alpha*cv2.applyColorMap(np.uint8(pred*one_square), cv2.COLORMAP_JET)+(1-alpha)*img_[x:x+patch_size,y:y+patch_size]\n",
    "            self.slide_cache.loc[slide_loc,'tumor_gnn_results']=[img_]\n",
    "        else: img_=self.slide_cache.loc[slide_loc,'tumor_gnn_results']\n",
    "        return img_\n",
    "\n",
    "    def extract_section_image(self, depth, block_id, compression=8):\n",
    "        section=self.section_metadata.loc[(self.section_metadata['depth']==depth) & (self.section_metadata['block_id']==block_id)]\n",
    "        label_id,slide_id=section.loc[:,['label_id','slide_id']].values.flatten()\n",
    "        image,mask,label=self.load_slide(slide_id,compression)\n",
    "        xmin,ymin,xmax,ymax=self.get_section_bbox(slide_id,label_id)\n",
    "        \n",
    "        img=image[xmin:xmax,ymin:ymax].copy()\n",
    "        img[label[xmin:xmax,ymin:ymax]!=label_id]=255\n",
    "        return img\n",
    "    \n",
    "    def extract_tumor_results(self, depth, block_id, alpha=0.3, patch_size=256, low_res=True, compression=8):\n",
    "        section=self.section_metadata.loc[(self.section_metadata['depth']==depth) & (self.section_metadata['block_id']==block_id)]\n",
    "        label_id,slide_id=section.loc[:,['label_id','slide_id']].values.flatten()\n",
    "        _,mask,label=self.load_slide(slide_id,compression)\n",
    "        xmin,ymin,xmax,ymax=self.get_section_bbox(slide_id,label_id)\n",
    "        tumor_map=self.load_tumor_map(slide_id, alpha=alpha, patch_size=patch_size, low_res=low_res)\n",
    "                \n",
    "        img=tumor_map[xmin:xmax,ymin:ymax].copy()\n",
    "        img[label[xmin:xmax,ymin:ymax]!=label_id]=255\n",
    "        return img\n",
    "    \n",
    "    def extract_nuclei_results(self, depth, block_id, compression=8):\n",
    "        section=self.section_metadata.loc[(self.section_metadata['depth']==depth) & (self.section_metadata['block_id']==block_id)]\n",
    "        label_id,slide_id=section.loc[:,['label_id','slide_id']].values.flatten()\n",
    "        image,mask,label=self.load_slide(slide_id,compression)\n",
    "        xmin,ymin,xmax,ymax=self.get_section_bbox(slide_id,label_id)\n",
    "        \n",
    "        nuclei=self.load_nuclei(slide_id)\n",
    "        \n",
    "        img=image[xmin:xmax,ymin:ymax].copy()\n",
    "        nuc_mask=nuclei[xmin:xmax,ymin:ymax].copy()\n",
    "        img[nuc_mask,:]=[255,0,0]\n",
    "        img[label[xmin:xmax,ymin:ymax]!=label_id]=255\n",
    "        return img\n",
    "    \n",
    "    def write_dzi(self, img, out_dzi, compression=8):\n",
    "        Numpy2DZI(compression=compression).create(img,out_dzi)\n",
    "        \n",
    "    def write_dzi_parallel(self, imgs, out_dzis, compression=8, scheduler='processes'):\n",
    "        written_dzis=[]\n",
    "        for img, out_dzi in zip(imgs,out_dzis):\n",
    "            written_dzis.append(write_dzi(img, out_dzi, compression))\n",
    "        with ProgressBar():\n",
    "            written_dzis=dask.compute(*written_dzis, scheduler=scheduler)\n",
    "        return written_dzis\n",
    "    \n",
    "    def launch_server(self, username='username', password='password', port=5554):\n",
    "        self.reset_dir()\n",
    "        SimpleHTTPAuthHandler.username = username\n",
    "        SimpleHTTPAuthHandler.password = password\n",
    "        serve_http(ip='localhost', port=port, https=False,\n",
    "               start_dir='dzi_files', handler_class=SimpleHTTPAuthHandler)\n",
    "        \n",
    "    def reset_dir(self):\n",
    "        os.chdir(self.launch_dir)\n",
    "    \n",
    "    def visualize_dzi(self, dzis):\n",
    "        self.reset_dir()\n",
    "        replace_txt='\",\"'.join(list(map(os.path.basename,dzis)))\n",
    "        with open(\"osd_template.html\") as f_in, open('dzi_files/index.html','w') as f_out:\n",
    "            f_out.write(f_in.read().replace(\"REPLACE\",replace_txt).replace(\"BASENAME\",self.patient))\n"
   ]
  },
  {
   "cell_type": "code",
   "execution_count": 9,
   "metadata": {},
   "outputs": [],
   "source": [
    "case=Case()"
   ]
  },
  {
   "cell_type": "code",
   "execution_count": 4,
   "metadata": {},
   "outputs": [
    {
     "name": "stderr",
     "output_type": "stream",
     "text": [
      "block:   0%|          | 0/1 [00:00<?, ?it/s]\n",
      "depth:   0%|          | 0/6 [00:00<?, ?it/s]\u001b[A\n",
      "depth:  17%|█▋        | 1/6 [01:36<08:00, 96.14s/it]\u001b[A\n",
      "depth:  33%|███▎      | 2/6 [01:49<04:45, 71.29s/it]\u001b[A\n",
      "depth:  50%|█████     | 3/6 [03:26<03:57, 79.12s/it]\u001b[A\n",
      "depth:  67%|██████▋   | 4/6 [03:38<01:57, 58.84s/it]\u001b[A\n",
      "depth:  83%|████████▎ | 5/6 [05:13<01:09, 69.87s/it]\u001b[A\n",
      "depth: 100%|██████████| 6/6 [05:25<00:00, 54.19s/it]\u001b[A\n",
      "block: 100%|██████████| 1/1 [05:25<00:00, 325.13s/it]\n"
     ]
    }
   ],
   "source": [
    "imgs=[(case.patient,depth,block,case.extract_section_image(depth,block)) for block in tqdm.trange(1,case.n_blocks+1, desc='block') for depth in tqdm.trange(1,case.max_depth+1, desc='depth')]\n",
    "ims=[im[-1] for im in imgs]\n",
    "dzis=[f\"dzi_files/{'_'.join(list(map(str,im[:-1])))}.dzi\" for im in imgs]\n",
    "case.write_dzi_parallel(ims,dzis,scheduler='single-threaded')"
   ]
  },
  {
   "cell_type": "code",
   "execution_count": 116,
   "metadata": {},
   "outputs": [
    {
     "name": "stderr",
     "output_type": "stream",
     "text": [
      "block:   0%|          | 0/1 [00:00<?, ?it/s]\n",
      "depth:   0%|          | 0/6 [00:00<?, ?it/s]\u001b[A"
     ]
    },
    {
     "name": "stdout",
     "output_type": "stream",
     "text": [
      "   slide_id              images                        masks  \\\n",
      "0         1  inputs/163_A1a.npy  masks/163_A1a_macro_map.npy   \n",
      "\n",
      "                   tumor_gnn_results                  macro_gnn_results  \\\n",
      "0  gnn_results/163_A1a_tumor_map.pkl  gnn_results/163_A1a_macro_map.pkl   \n",
      "\n",
      "               quality_scores                ink_results  \\\n",
      "0  quality_scores/163_A1a.pkl  detected_inks/163_A1a.pkl   \n",
      "\n",
      "               nuclei_results  \n",
      "0  nuclei_results/163_A1a.npy  \n",
      "   slide_id              images                        masks  \\\n",
      "0         1  inputs/163_A1a.npy  masks/163_A1a_macro_map.npy   \n",
      "\n",
      "                   tumor_gnn_results                  macro_gnn_results  \\\n",
      "0  gnn_results/163_A1a_tumor_map.pkl  gnn_results/163_A1a_macro_map.pkl   \n",
      "\n",
      "               quality_scores                ink_results  \\\n",
      "0  quality_scores/163_A1a.pkl  detected_inks/163_A1a.pkl   \n",
      "\n",
      "               nuclei_results  \n",
      "0  nuclei_results/163_A1a.npy  \n",
      "1 0 {'bbox-0': array([1496, 2216]), 'bbox-1': array([ 1097, 45915]), 'bbox-2': array([36352, 37536]), 'bbox-3': array([36698, 82124])}\n",
      "0    {'bbox-0': [1496, 2216], 'bbox-1': [1097, 4591...\n",
      "1                                                     \n",
      "2                                                     \n",
      "Name: region_props, dtype: object\n",
      "   slide_id              images                        masks  \\\n",
      "0         1  inputs/163_A1a.npy  masks/163_A1a_macro_map.npy   \n",
      "\n",
      "                   tumor_gnn_results                  macro_gnn_results  \\\n",
      "0  gnn_results/163_A1a_tumor_map.pkl  gnn_results/163_A1a_macro_map.pkl   \n",
      "\n",
      "               quality_scores                ink_results  \\\n",
      "0  quality_scores/163_A1a.pkl  detected_inks/163_A1a.pkl   \n",
      "\n",
      "               nuclei_results  \n",
      "0  nuclei_results/163_A1a.npy  \n"
     ]
    },
    {
     "name": "stderr",
     "output_type": "stream",
     "text": [
      "\n",
      "depth:  17%|█▋        | 1/6 [00:19<01:39, 19.97s/it]\u001b[A"
     ]
    },
    {
     "name": "stdout",
     "output_type": "stream",
     "text": [
      "   slide_id              images                        masks  \\\n",
      "0         1  inputs/163_A1a.npy  masks/163_A1a_macro_map.npy   \n",
      "\n",
      "                   tumor_gnn_results                  macro_gnn_results  \\\n",
      "0  gnn_results/163_A1a_tumor_map.pkl  gnn_results/163_A1a_macro_map.pkl   \n",
      "\n",
      "               quality_scores                ink_results  \\\n",
      "0  quality_scores/163_A1a.pkl  detected_inks/163_A1a.pkl   \n",
      "\n",
      "               nuclei_results  \n",
      "0  nuclei_results/163_A1a.npy  \n",
      "   slide_id              images                        masks  \\\n",
      "1         2  inputs/163_A1b.npy  masks/163_A1b_macro_map.npy   \n",
      "\n",
      "                   tumor_gnn_results                  macro_gnn_results  \\\n",
      "1  gnn_results/163_A1b_tumor_map.pkl  gnn_results/163_A1b_macro_map.pkl   \n",
      "\n",
      "               quality_scores                ink_results  \\\n",
      "1  quality_scores/163_A1b.pkl  detected_inks/163_A1b.pkl   \n",
      "\n",
      "               nuclei_results  \n",
      "1  nuclei_results/163_A1b.npy  \n",
      "2 1 \n",
      "0    {'bbox-0': [1496, 2216], 'bbox-1': [1097, 4591...\n",
      "1                                                     \n",
      "2                                                     \n",
      "Name: region_props, dtype: object\n"
     ]
    },
    {
     "name": "stderr",
     "output_type": "stream",
     "text": [
      "\n"
     ]
    },
    {
     "ename": "ValueError",
     "evalue": "DataFrame constructor not properly called!",
     "output_type": "error",
     "traceback": [
      "\u001b[0;31m---------------------------------------------------------------------------\u001b[0m",
      "\u001b[0;31mValueError\u001b[0m                                Traceback (most recent call last)",
      "\u001b[0;32m<ipython-input-116-18dd0d9fc4d2>\u001b[0m in \u001b[0;36m<module>\u001b[0;34m\u001b[0m\n\u001b[0;32m----> 1\u001b[0;31m \u001b[0mnuclei_imgs\u001b[0m\u001b[0;34m=\u001b[0m\u001b[0;34m[\u001b[0m\u001b[0;34m(\u001b[0m\u001b[0mcase\u001b[0m\u001b[0;34m.\u001b[0m\u001b[0mpatient\u001b[0m\u001b[0;34m,\u001b[0m\u001b[0mdepth\u001b[0m\u001b[0;34m,\u001b[0m\u001b[0mblock\u001b[0m\u001b[0;34m,\u001b[0m\u001b[0;34m'nuclei'\u001b[0m\u001b[0;34m,\u001b[0m\u001b[0mcase\u001b[0m\u001b[0;34m.\u001b[0m\u001b[0mextract_nuclei_results\u001b[0m\u001b[0;34m(\u001b[0m\u001b[0mdepth\u001b[0m\u001b[0;34m,\u001b[0m\u001b[0mblock\u001b[0m\u001b[0;34m)\u001b[0m\u001b[0;34m)\u001b[0m \u001b[0;32mfor\u001b[0m \u001b[0mblock\u001b[0m \u001b[0;32min\u001b[0m \u001b[0mtqdm\u001b[0m\u001b[0;34m.\u001b[0m\u001b[0mtrange\u001b[0m\u001b[0;34m(\u001b[0m\u001b[0;36m1\u001b[0m\u001b[0;34m,\u001b[0m\u001b[0mcase\u001b[0m\u001b[0;34m.\u001b[0m\u001b[0mn_blocks\u001b[0m\u001b[0;34m+\u001b[0m\u001b[0;36m1\u001b[0m\u001b[0;34m,\u001b[0m \u001b[0mdesc\u001b[0m\u001b[0;34m=\u001b[0m\u001b[0;34m'block'\u001b[0m\u001b[0;34m)\u001b[0m \u001b[0;32mfor\u001b[0m \u001b[0mdepth\u001b[0m \u001b[0;32min\u001b[0m \u001b[0mtqdm\u001b[0m\u001b[0;34m.\u001b[0m\u001b[0mtrange\u001b[0m\u001b[0;34m(\u001b[0m\u001b[0;36m1\u001b[0m\u001b[0;34m,\u001b[0m\u001b[0mcase\u001b[0m\u001b[0;34m.\u001b[0m\u001b[0mmax_depth\u001b[0m\u001b[0;34m+\u001b[0m\u001b[0;36m1\u001b[0m\u001b[0;34m,\u001b[0m \u001b[0mdesc\u001b[0m\u001b[0;34m=\u001b[0m\u001b[0;34m'depth'\u001b[0m\u001b[0;34m)\u001b[0m\u001b[0;34m]\u001b[0m\u001b[0;34m\u001b[0m\u001b[0;34m\u001b[0m\u001b[0m\n\u001b[0m\u001b[1;32m      2\u001b[0m \u001b[0mims\u001b[0m\u001b[0;34m=\u001b[0m\u001b[0;34m[\u001b[0m\u001b[0mim\u001b[0m\u001b[0;34m[\u001b[0m\u001b[0;34m-\u001b[0m\u001b[0;36m1\u001b[0m\u001b[0;34m]\u001b[0m \u001b[0;32mfor\u001b[0m \u001b[0mim\u001b[0m \u001b[0;32min\u001b[0m \u001b[0mnuclei_imgs\u001b[0m\u001b[0;34m]\u001b[0m\u001b[0;34m\u001b[0m\u001b[0;34m\u001b[0m\u001b[0m\n\u001b[1;32m      3\u001b[0m \u001b[0mdzis\u001b[0m\u001b[0;34m=\u001b[0m\u001b[0;34m[\u001b[0m\u001b[0;34mf\"dzi_files/{'_'.join(list(map(str,im[:-1])))}.dzi\"\u001b[0m \u001b[0;32mfor\u001b[0m \u001b[0mim\u001b[0m \u001b[0;32min\u001b[0m \u001b[0mimgs\u001b[0m\u001b[0;34m]\u001b[0m\u001b[0;34m\u001b[0m\u001b[0;34m\u001b[0m\u001b[0m\n\u001b[1;32m      4\u001b[0m \u001b[0mcase\u001b[0m\u001b[0;34m.\u001b[0m\u001b[0mwrite_dzi_parallel\u001b[0m\u001b[0;34m(\u001b[0m\u001b[0mims\u001b[0m\u001b[0;34m,\u001b[0m\u001b[0mdzis\u001b[0m\u001b[0;34m,\u001b[0m\u001b[0mscheduler\u001b[0m\u001b[0;34m=\u001b[0m\u001b[0;34m'single-threaded'\u001b[0m\u001b[0;34m)\u001b[0m\u001b[0;34m\u001b[0m\u001b[0;34m\u001b[0m\u001b[0m\n",
      "\u001b[0;32m<ipython-input-116-18dd0d9fc4d2>\u001b[0m in \u001b[0;36m<listcomp>\u001b[0;34m(.0)\u001b[0m\n\u001b[0;32m----> 1\u001b[0;31m \u001b[0mnuclei_imgs\u001b[0m\u001b[0;34m=\u001b[0m\u001b[0;34m[\u001b[0m\u001b[0;34m(\u001b[0m\u001b[0mcase\u001b[0m\u001b[0;34m.\u001b[0m\u001b[0mpatient\u001b[0m\u001b[0;34m,\u001b[0m\u001b[0mdepth\u001b[0m\u001b[0;34m,\u001b[0m\u001b[0mblock\u001b[0m\u001b[0;34m,\u001b[0m\u001b[0;34m'nuclei'\u001b[0m\u001b[0;34m,\u001b[0m\u001b[0mcase\u001b[0m\u001b[0;34m.\u001b[0m\u001b[0mextract_nuclei_results\u001b[0m\u001b[0;34m(\u001b[0m\u001b[0mdepth\u001b[0m\u001b[0;34m,\u001b[0m\u001b[0mblock\u001b[0m\u001b[0;34m)\u001b[0m\u001b[0;34m)\u001b[0m \u001b[0;32mfor\u001b[0m \u001b[0mblock\u001b[0m \u001b[0;32min\u001b[0m \u001b[0mtqdm\u001b[0m\u001b[0;34m.\u001b[0m\u001b[0mtrange\u001b[0m\u001b[0;34m(\u001b[0m\u001b[0;36m1\u001b[0m\u001b[0;34m,\u001b[0m\u001b[0mcase\u001b[0m\u001b[0;34m.\u001b[0m\u001b[0mn_blocks\u001b[0m\u001b[0;34m+\u001b[0m\u001b[0;36m1\u001b[0m\u001b[0;34m,\u001b[0m \u001b[0mdesc\u001b[0m\u001b[0;34m=\u001b[0m\u001b[0;34m'block'\u001b[0m\u001b[0;34m)\u001b[0m \u001b[0;32mfor\u001b[0m \u001b[0mdepth\u001b[0m \u001b[0;32min\u001b[0m \u001b[0mtqdm\u001b[0m\u001b[0;34m.\u001b[0m\u001b[0mtrange\u001b[0m\u001b[0;34m(\u001b[0m\u001b[0;36m1\u001b[0m\u001b[0;34m,\u001b[0m\u001b[0mcase\u001b[0m\u001b[0;34m.\u001b[0m\u001b[0mmax_depth\u001b[0m\u001b[0;34m+\u001b[0m\u001b[0;36m1\u001b[0m\u001b[0;34m,\u001b[0m \u001b[0mdesc\u001b[0m\u001b[0;34m=\u001b[0m\u001b[0;34m'depth'\u001b[0m\u001b[0;34m)\u001b[0m\u001b[0;34m]\u001b[0m\u001b[0;34m\u001b[0m\u001b[0;34m\u001b[0m\u001b[0m\n\u001b[0m\u001b[1;32m      2\u001b[0m \u001b[0mims\u001b[0m\u001b[0;34m=\u001b[0m\u001b[0;34m[\u001b[0m\u001b[0mim\u001b[0m\u001b[0;34m[\u001b[0m\u001b[0;34m-\u001b[0m\u001b[0;36m1\u001b[0m\u001b[0;34m]\u001b[0m \u001b[0;32mfor\u001b[0m \u001b[0mim\u001b[0m \u001b[0;32min\u001b[0m \u001b[0mnuclei_imgs\u001b[0m\u001b[0;34m]\u001b[0m\u001b[0;34m\u001b[0m\u001b[0;34m\u001b[0m\u001b[0m\n\u001b[1;32m      3\u001b[0m \u001b[0mdzis\u001b[0m\u001b[0;34m=\u001b[0m\u001b[0;34m[\u001b[0m\u001b[0;34mf\"dzi_files/{'_'.join(list(map(str,im[:-1])))}.dzi\"\u001b[0m \u001b[0;32mfor\u001b[0m \u001b[0mim\u001b[0m \u001b[0;32min\u001b[0m \u001b[0mimgs\u001b[0m\u001b[0;34m]\u001b[0m\u001b[0;34m\u001b[0m\u001b[0;34m\u001b[0m\u001b[0m\n\u001b[1;32m      4\u001b[0m \u001b[0mcase\u001b[0m\u001b[0;34m.\u001b[0m\u001b[0mwrite_dzi_parallel\u001b[0m\u001b[0;34m(\u001b[0m\u001b[0mims\u001b[0m\u001b[0;34m,\u001b[0m\u001b[0mdzis\u001b[0m\u001b[0;34m,\u001b[0m\u001b[0mscheduler\u001b[0m\u001b[0;34m=\u001b[0m\u001b[0;34m'single-threaded'\u001b[0m\u001b[0;34m)\u001b[0m\u001b[0;34m\u001b[0m\u001b[0;34m\u001b[0m\u001b[0m\n",
      "\u001b[0;32m<ipython-input-113-6dfa76a5ea5b>\u001b[0m in \u001b[0;36mextract_nuclei_results\u001b[0;34m(self, depth, block_id, compression)\u001b[0m\n\u001b[1;32m    205\u001b[0m         \u001b[0mlabel_id\u001b[0m\u001b[0;34m,\u001b[0m\u001b[0mslide_id\u001b[0m\u001b[0;34m=\u001b[0m\u001b[0msection\u001b[0m\u001b[0;34m.\u001b[0m\u001b[0mloc\u001b[0m\u001b[0;34m[\u001b[0m\u001b[0;34m:\u001b[0m\u001b[0;34m,\u001b[0m\u001b[0;34m[\u001b[0m\u001b[0;34m'label_id'\u001b[0m\u001b[0;34m,\u001b[0m\u001b[0;34m'slide_id'\u001b[0m\u001b[0;34m]\u001b[0m\u001b[0;34m]\u001b[0m\u001b[0;34m.\u001b[0m\u001b[0mvalues\u001b[0m\u001b[0;34m.\u001b[0m\u001b[0mflatten\u001b[0m\u001b[0;34m(\u001b[0m\u001b[0;34m)\u001b[0m\u001b[0;34m\u001b[0m\u001b[0;34m\u001b[0m\u001b[0m\n\u001b[1;32m    206\u001b[0m         \u001b[0mimage\u001b[0m\u001b[0;34m,\u001b[0m\u001b[0mmask\u001b[0m\u001b[0;34m,\u001b[0m\u001b[0mlabel\u001b[0m\u001b[0;34m=\u001b[0m\u001b[0mself\u001b[0m\u001b[0;34m.\u001b[0m\u001b[0mload_slide\u001b[0m\u001b[0;34m(\u001b[0m\u001b[0mslide_id\u001b[0m\u001b[0;34m,\u001b[0m\u001b[0mcompression\u001b[0m\u001b[0;34m)\u001b[0m\u001b[0;34m\u001b[0m\u001b[0;34m\u001b[0m\u001b[0m\n\u001b[0;32m--> 207\u001b[0;31m         \u001b[0mxmin\u001b[0m\u001b[0;34m,\u001b[0m\u001b[0mymin\u001b[0m\u001b[0;34m,\u001b[0m\u001b[0mxmax\u001b[0m\u001b[0;34m,\u001b[0m\u001b[0mymax\u001b[0m\u001b[0;34m=\u001b[0m\u001b[0mself\u001b[0m\u001b[0;34m.\u001b[0m\u001b[0mget_section_bbox\u001b[0m\u001b[0;34m(\u001b[0m\u001b[0mlabel_id\u001b[0m\u001b[0;34m,\u001b[0m\u001b[0mslide_id\u001b[0m\u001b[0;34m)\u001b[0m\u001b[0;34m\u001b[0m\u001b[0;34m\u001b[0m\u001b[0m\n\u001b[0m\u001b[1;32m    208\u001b[0m \u001b[0;34m\u001b[0m\u001b[0m\n\u001b[1;32m    209\u001b[0m         \u001b[0mnuclei\u001b[0m\u001b[0;34m=\u001b[0m\u001b[0mself\u001b[0m\u001b[0;34m.\u001b[0m\u001b[0mload_nuclei\u001b[0m\u001b[0;34m(\u001b[0m\u001b[0mslide_id\u001b[0m\u001b[0;34m)\u001b[0m\u001b[0;34m\u001b[0m\u001b[0;34m\u001b[0m\u001b[0m\n",
      "\u001b[0;32m<ipython-input-113-6dfa76a5ea5b>\u001b[0m in \u001b[0;36mget_section_bbox\u001b[0;34m(self, slide_id, label_id)\u001b[0m\n\u001b[1;32m    148\u001b[0m         \u001b[0mprint\u001b[0m\u001b[0;34m(\u001b[0m\u001b[0mslide_id\u001b[0m\u001b[0;34m,\u001b[0m\u001b[0mslide_loc\u001b[0m\u001b[0;34m,\u001b[0m\u001b[0mself\u001b[0m\u001b[0;34m.\u001b[0m\u001b[0mslide_cache\u001b[0m\u001b[0;34m.\u001b[0m\u001b[0mloc\u001b[0m\u001b[0;34m[\u001b[0m\u001b[0mslide_loc\u001b[0m\u001b[0;34m,\u001b[0m\u001b[0;34m'region_props'\u001b[0m\u001b[0;34m]\u001b[0m\u001b[0;34m)\u001b[0m\u001b[0;34m\u001b[0m\u001b[0;34m\u001b[0m\u001b[0m\n\u001b[1;32m    149\u001b[0m         \u001b[0mprint\u001b[0m\u001b[0;34m(\u001b[0m\u001b[0mself\u001b[0m\u001b[0;34m.\u001b[0m\u001b[0mslide_cache\u001b[0m\u001b[0;34m[\u001b[0m\u001b[0;34m'region_props'\u001b[0m\u001b[0;34m]\u001b[0m\u001b[0;34m)\u001b[0m\u001b[0;34m\u001b[0m\u001b[0;34m\u001b[0m\u001b[0m\n\u001b[0;32m--> 150\u001b[0;31m         \u001b[0mbbox\u001b[0m\u001b[0;34m=\u001b[0m\u001b[0mpd\u001b[0m\u001b[0;34m.\u001b[0m\u001b[0mDataFrame\u001b[0m\u001b[0;34m(\u001b[0m\u001b[0mself\u001b[0m\u001b[0;34m.\u001b[0m\u001b[0mslide_cache\u001b[0m\u001b[0;34m.\u001b[0m\u001b[0mloc\u001b[0m\u001b[0;34m[\u001b[0m\u001b[0mslide_loc\u001b[0m\u001b[0;34m,\u001b[0m\u001b[0;34m'region_props'\u001b[0m\u001b[0;34m]\u001b[0m\u001b[0;34m)\u001b[0m\u001b[0;34m\u001b[0m\u001b[0;34m\u001b[0m\u001b[0m\n\u001b[0m\u001b[1;32m    151\u001b[0m         \u001b[0mbbox\u001b[0m\u001b[0;34m.\u001b[0m\u001b[0mcolumns\u001b[0m\u001b[0;34m=\u001b[0m\u001b[0;34m[\u001b[0m\u001b[0;34m'xmin'\u001b[0m\u001b[0;34m,\u001b[0m\u001b[0;34m'ymin'\u001b[0m\u001b[0;34m,\u001b[0m\u001b[0;34m'xmax'\u001b[0m\u001b[0;34m,\u001b[0m\u001b[0;34m'ymax'\u001b[0m\u001b[0;34m]\u001b[0m\u001b[0;34m\u001b[0m\u001b[0;34m\u001b[0m\u001b[0m\n\u001b[1;32m    152\u001b[0m         \u001b[0mbbox\u001b[0m\u001b[0;34m.\u001b[0m\u001b[0mindex\u001b[0m\u001b[0;34m+=\u001b[0m\u001b[0;36m1\u001b[0m\u001b[0;34m\u001b[0m\u001b[0;34m\u001b[0m\u001b[0m\n",
      "\u001b[0;32m~/.local/lib/python3.7/site-packages/pandas/core/frame.py\u001b[0m in \u001b[0;36m__init__\u001b[0;34m(self, data, index, columns, dtype, copy)\u001b[0m\n\u001b[1;32m    527\u001b[0m         \u001b[0;32melse\u001b[0m\u001b[0;34m:\u001b[0m\u001b[0;34m\u001b[0m\u001b[0;34m\u001b[0m\u001b[0m\n\u001b[1;32m    528\u001b[0m             \u001b[0;32mif\u001b[0m \u001b[0mindex\u001b[0m \u001b[0;32mis\u001b[0m \u001b[0;32mNone\u001b[0m \u001b[0;32mor\u001b[0m \u001b[0mcolumns\u001b[0m \u001b[0;32mis\u001b[0m \u001b[0;32mNone\u001b[0m\u001b[0;34m:\u001b[0m\u001b[0;34m\u001b[0m\u001b[0;34m\u001b[0m\u001b[0m\n\u001b[0;32m--> 529\u001b[0;31m                 \u001b[0;32mraise\u001b[0m \u001b[0mValueError\u001b[0m\u001b[0;34m(\u001b[0m\u001b[0;34m\"DataFrame constructor not properly called!\"\u001b[0m\u001b[0;34m)\u001b[0m\u001b[0;34m\u001b[0m\u001b[0;34m\u001b[0m\u001b[0m\n\u001b[0m\u001b[1;32m    530\u001b[0m \u001b[0;34m\u001b[0m\u001b[0m\n\u001b[1;32m    531\u001b[0m             \u001b[0;32mif\u001b[0m \u001b[0;32mnot\u001b[0m \u001b[0mdtype\u001b[0m\u001b[0;34m:\u001b[0m\u001b[0;34m\u001b[0m\u001b[0;34m\u001b[0m\u001b[0m\n",
      "\u001b[0;31mValueError\u001b[0m: DataFrame constructor not properly called!"
     ]
    }
   ],
   "source": [
    "nuclei_imgs=[(case.patient,depth,block,'nuclei',case.extract_nuclei_results(depth,block)) for block in tqdm.trange(1,case.n_blocks+1, desc='block') for depth in tqdm.trange(1,case.max_depth+1, desc='depth')]\n",
    "ims=[im[-1] for im in nuclei_imgs]\n",
    "dzis=[f\"dzi_files/{'_'.join(list(map(str,im[:-1])))}.dzi\" for im in nuclei_imgs]\n",
    "case.write_dzi_parallel(ims,dzis,scheduler='single-threaded')"
   ]
  },
  {
   "cell_type": "code",
   "execution_count": 22,
   "metadata": {},
   "outputs": [
    {
     "data": {
      "text/html": [
       "<div>\n",
       "<style scoped>\n",
       "    .dataframe tbody tr th:only-of-type {\n",
       "        vertical-align: middle;\n",
       "    }\n",
       "\n",
       "    .dataframe tbody tr th {\n",
       "        vertical-align: top;\n",
       "    }\n",
       "\n",
       "    .dataframe thead th {\n",
       "        text-align: right;\n",
       "    }\n",
       "</style>\n",
       "<table border=\"1\" class=\"dataframe\">\n",
       "  <thead>\n",
       "    <tr style=\"text-align: right;\">\n",
       "      <th></th>\n",
       "      <th>slide_id</th>\n",
       "      <th>images</th>\n",
       "      <th>masks</th>\n",
       "      <th>tumor_gnn_results</th>\n",
       "      <th>macro_gnn_results</th>\n",
       "      <th>quality_scores</th>\n",
       "      <th>ink_results</th>\n",
       "      <th>nuclei_results</th>\n",
       "      <th>label</th>\n",
       "      <th>tumor_map</th>\n",
       "      <th>macro_map</th>\n",
       "      <th>region_props</th>\n",
       "    </tr>\n",
       "  </thead>\n",
       "  <tbody>\n",
       "    <tr>\n",
       "      <th>0</th>\n",
       "      <td>1</td>\n",
       "      <td>[[[240, 240, 242], [240, 239, 242], [241, 239,...</td>\n",
       "      <td>[[False, False, False, False, False, False, Fa...</td>\n",
       "      <td>[[[240, 240, 242], [240, 239, 242], [241, 239,...</td>\n",
       "      <td>gnn_results/163_A1a_macro_map.pkl</td>\n",
       "      <td>quality_scores/163_A1a.pkl</td>\n",
       "      <td>detected_inks/163_A1a.pkl</td>\n",
       "      <td>nuclei_results/163_A1a.npy</td>\n",
       "      <td>[[0, 0, 0, 0, 0, 0, 0, 0, 0, 0, 0, 0, 0, 0, 0,...</td>\n",
       "      <td></td>\n",
       "      <td></td>\n",
       "      <td>{'bbox-0': [1496, 2216], 'bbox-1': [1097, 4591...</td>\n",
       "    </tr>\n",
       "    <tr>\n",
       "      <th>1</th>\n",
       "      <td>2</td>\n",
       "      <td>[[[244, 244, 244], [244, 244, 244], [244, 244,...</td>\n",
       "      <td>[[False, False, False, False, False, False, Fa...</td>\n",
       "      <td>[[[244, 244, 244], [244, 244, 244], [244, 244,...</td>\n",
       "      <td>gnn_results/163_A1b_macro_map.pkl</td>\n",
       "      <td>quality_scores/163_A1b.pkl</td>\n",
       "      <td>detected_inks/163_A1b.pkl</td>\n",
       "      <td>nuclei_results/163_A1b.npy</td>\n",
       "      <td>[[0, 0, 0, 0, 0, 0, 0, 0, 0, 0, 0, 0, 0, 0, 0,...</td>\n",
       "      <td></td>\n",
       "      <td></td>\n",
       "      <td>{'bbox-0': [1257, 4193], 'bbox-1': [44504, 107...</td>\n",
       "    </tr>\n",
       "    <tr>\n",
       "      <th>2</th>\n",
       "      <td>3</td>\n",
       "      <td>[[[241, 244, 243], [243, 243, 242], [243, 243,...</td>\n",
       "      <td>[[False, False, False, False, False, False, Fa...</td>\n",
       "      <td>[[[241, 244, 243], [243, 243, 242], [243, 243,...</td>\n",
       "      <td>gnn_results/163_A1c_macro_map.pkl</td>\n",
       "      <td>quality_scores/163_A1c.pkl</td>\n",
       "      <td>detected_inks/163_A1c.pkl</td>\n",
       "      <td>nuclei_results/163_A1c.npy</td>\n",
       "      <td>[[0, 0, 0, 0, 0, 0, 0, 0, 0, 0, 0, 0, 0, 0, 0,...</td>\n",
       "      <td></td>\n",
       "      <td></td>\n",
       "      <td>{'bbox-0': [1336, 3192], 'bbox-1': [45208, 200...</td>\n",
       "    </tr>\n",
       "  </tbody>\n",
       "</table>\n",
       "</div>"
      ],
      "text/plain": [
       "   slide_id                                             images  \\\n",
       "0         1  [[[240, 240, 242], [240, 239, 242], [241, 239,...   \n",
       "1         2  [[[244, 244, 244], [244, 244, 244], [244, 244,...   \n",
       "2         3  [[[241, 244, 243], [243, 243, 242], [243, 243,...   \n",
       "\n",
       "                                               masks  \\\n",
       "0  [[False, False, False, False, False, False, Fa...   \n",
       "1  [[False, False, False, False, False, False, Fa...   \n",
       "2  [[False, False, False, False, False, False, Fa...   \n",
       "\n",
       "                                   tumor_gnn_results  \\\n",
       "0  [[[240, 240, 242], [240, 239, 242], [241, 239,...   \n",
       "1  [[[244, 244, 244], [244, 244, 244], [244, 244,...   \n",
       "2  [[[241, 244, 243], [243, 243, 242], [243, 243,...   \n",
       "\n",
       "                   macro_gnn_results              quality_scores  \\\n",
       "0  gnn_results/163_A1a_macro_map.pkl  quality_scores/163_A1a.pkl   \n",
       "1  gnn_results/163_A1b_macro_map.pkl  quality_scores/163_A1b.pkl   \n",
       "2  gnn_results/163_A1c_macro_map.pkl  quality_scores/163_A1c.pkl   \n",
       "\n",
       "                 ink_results              nuclei_results  \\\n",
       "0  detected_inks/163_A1a.pkl  nuclei_results/163_A1a.npy   \n",
       "1  detected_inks/163_A1b.pkl  nuclei_results/163_A1b.npy   \n",
       "2  detected_inks/163_A1c.pkl  nuclei_results/163_A1c.npy   \n",
       "\n",
       "                                               label tumor_map macro_map  \\\n",
       "0  [[0, 0, 0, 0, 0, 0, 0, 0, 0, 0, 0, 0, 0, 0, 0,...                       \n",
       "1  [[0, 0, 0, 0, 0, 0, 0, 0, 0, 0, 0, 0, 0, 0, 0,...                       \n",
       "2  [[0, 0, 0, 0, 0, 0, 0, 0, 0, 0, 0, 0, 0, 0, 0,...                       \n",
       "\n",
       "                                        region_props  \n",
       "0  {'bbox-0': [1496, 2216], 'bbox-1': [1097, 4591...  \n",
       "1  {'bbox-0': [1257, 4193], 'bbox-1': [44504, 107...  \n",
       "2  {'bbox-0': [1336, 3192], 'bbox-1': [45208, 200...  "
      ]
     },
     "execution_count": 22,
     "metadata": {},
     "output_type": "execute_result"
    }
   ],
   "source": [
    "case.slide_cache"
   ]
  },
  {
   "cell_type": "code",
   "execution_count": 30,
   "metadata": {},
   "outputs": [],
   "source": [
    "! mkdir dzi_old && mv dzi_files/*_files dzi_files/*dzi dzi_old"
   ]
  },
  {
   "cell_type": "code",
   "execution_count": 28,
   "metadata": {},
   "outputs": [
    {
     "name": "stdout",
     "output_type": "stream",
     "text": [
      "163_A1_1_1.dzi\t\t163_A1_3_1_files\t163_A1_5_1_tumor.dzi\r\n",
      "163_A1_1_1_files\t163_A1_3_1_tumor.dzi\t163_A1_5_1_tumor_files\r\n",
      "163_A1_1_1_tumor.dzi\t163_A1_3_1_tumor_files\t163_A1_6_1.dzi\r\n",
      "163_A1_1_1_tumor_files\t163_A1_4_1.dzi\t\t163_A1_6_1_files\r\n",
      "163_A1_2_1.dzi\t\t163_A1_4_1_files\t163_A1_6_1_tumor.dzi\r\n",
      "163_A1_2_1_files\t163_A1_4_1_tumor.dzi\t163_A1_6_1_tumor_files\r\n",
      "163_A1_2_1_tumor.dzi\t163_A1_4_1_tumor_files\tdzi_files\r\n",
      "163_A1_2_1_tumor_files\t163_A1_5_1.dzi\t\tindex.html\r\n",
      "163_A1_3_1.dzi\t\t163_A1_5_1_files\topenseadragon\r\n"
     ]
    }
   ],
   "source": [
    "! ls"
   ]
  },
  {
   "cell_type": "code",
   "execution_count": 17,
   "metadata": {},
   "outputs": [
    {
     "name": "stderr",
     "output_type": "stream",
     "text": [
      "block:   0%|          | 0/1 [00:00<?, ?it/s]\n",
      "depth:   0%|          | 0/6 [00:00<?, ?it/s]\u001b[A\n",
      "depth:  17%|█▋        | 1/6 [00:11<00:57, 11.48s/it]\u001b[A\n",
      "depth:  33%|███▎      | 2/6 [00:24<00:47, 11.93s/it]\u001b[A\n",
      "depth:  50%|█████     | 3/6 [00:37<00:36, 12.13s/it]\u001b[A\n",
      "depth:  67%|██████▋   | 4/6 [00:48<00:24, 12.06s/it]\u001b[A\n",
      "depth:  83%|████████▎ | 5/6 [01:01<00:12, 12.06s/it]\u001b[A\n",
      "depth: 100%|██████████| 6/6 [01:12<00:00, 12.03s/it]\u001b[A\n",
      "block: 100%|██████████| 1/1 [01:12<00:00, 72.19s/it]"
     ]
    },
    {
     "name": "stdout",
     "output_type": "stream",
     "text": [
      "\r",
      "[                                        ] | 0% Completed |  0.0s"
     ]
    },
    {
     "name": "stderr",
     "output_type": "stream",
     "text": [
      "\n",
      "\r",
      "level:   0%|          | 0/14 [00:00<?, ?it/s]"
     ]
    },
    {
     "name": "stdout",
     "output_type": "stream",
     "text": [
      "\r",
      "[                                        ] | 0% Completed |  0.1s"
     ]
    },
    {
     "name": "stderr",
     "output_type": "stream",
     "text": [
      "\n",
      "tiles: 1it [00:00, 222.18it/s]\n",
      "\n",
      "tiles: 1it [00:00, 136.11it/s]\n"
     ]
    },
    {
     "name": "stdout",
     "output_type": "stream",
     "text": [
      "\r",
      "[                                        ] | 0% Completed |  0.2s"
     ]
    },
    {
     "name": "stderr",
     "output_type": "stream",
     "text": [
      "\n",
      "tiles: 1it [00:00, 160.79it/s]\n",
      "level:  21%|██▏       | 3/14 [00:00<00:00, 18.56it/s]"
     ]
    },
    {
     "name": "stdout",
     "output_type": "stream",
     "text": [
      "\r",
      "[                                        ] | 0% Completed |  0.3s"
     ]
    },
    {
     "name": "stderr",
     "output_type": "stream",
     "text": [
      "\n",
      "tiles: 1it [00:00, 143.99it/s]\n"
     ]
    },
    {
     "name": "stdout",
     "output_type": "stream",
     "text": [
      "\r",
      "[                                        ] | 0% Completed |  0.4s"
     ]
    },
    {
     "name": "stderr",
     "output_type": "stream",
     "text": [
      "\n",
      "tiles: 1it [00:00, 168.72it/s]\n",
      "level:  36%|███▌      | 5/14 [00:00<00:00, 13.56it/s]"
     ]
    },
    {
     "name": "stdout",
     "output_type": "stream",
     "text": [
      "[                                        ] | 0% Completed |  0.6s"
     ]
    },
    {
     "name": "stderr",
     "output_type": "stream",
     "text": [
      "\n",
      "tiles: 1it [00:00, 204.20it/s]\n",
      "level:  43%|████▎     | 6/14 [00:00<00:00,  9.25it/s]"
     ]
    },
    {
     "name": "stdout",
     "output_type": "stream",
     "text": [
      "\r",
      "[                                        ] | 0% Completed |  0.7s"
     ]
    },
    {
     "name": "stderr",
     "output_type": "stream",
     "text": [
      "\n",
      "tiles: 0it [00:00, ?it/s]\u001b[A"
     ]
    },
    {
     "name": "stdout",
     "output_type": "stream",
     "text": [
      "\r",
      "[                                        ] | 0% Completed |  0.8s"
     ]
    },
    {
     "name": "stderr",
     "output_type": "stream",
     "text": [
      "tiles: 1it [00:00, 139.28it/s]\n",
      "level:  50%|█████     | 7/14 [00:00<00:00,  8.65it/s]"
     ]
    },
    {
     "name": "stdout",
     "output_type": "stream",
     "text": [
      "\r",
      "[                                        ] | 0% Completed |  0.9s"
     ]
    },
    {
     "name": "stderr",
     "output_type": "stream",
     "text": [
      "\n",
      "tiles: 1it [00:00, 141.26it/s]\n",
      "level:  57%|█████▋    | 8/14 [00:00<00:00,  8.24it/s]"
     ]
    },
    {
     "name": "stdout",
     "output_type": "stream",
     "text": [
      "\r",
      "[                                        ] | 0% Completed |  1.0s"
     ]
    },
    {
     "name": "stderr",
     "output_type": "stream",
     "text": [
      "\n",
      "tiles: 1it [00:00, 130.13it/s]\n",
      "level:  64%|██████▍   | 9/14 [00:01<00:00,  7.82it/s]"
     ]
    },
    {
     "name": "stdout",
     "output_type": "stream",
     "text": [
      "[                                        ] | 0% Completed |  1.2s"
     ]
    },
    {
     "name": "stderr",
     "output_type": "stream",
     "text": [
      "\n",
      "tiles: 4it [00:00, 126.96it/s]\n",
      "level:  71%|███████▏  | 10/14 [00:01<00:00,  6.91it/s]"
     ]
    },
    {
     "name": "stdout",
     "output_type": "stream",
     "text": [
      "[                                        ] | 0% Completed |  1.4s"
     ]
    },
    {
     "name": "stderr",
     "output_type": "stream",
     "text": [
      "\n",
      "tiles: 9it [00:00, 135.61it/s]\n",
      "level:  79%|███████▊  | 11/14 [00:01<00:00,  5.73it/s]"
     ]
    },
    {
     "name": "stdout",
     "output_type": "stream",
     "text": [
      "[                                        ] | 0% Completed |  1.7s"
     ]
    },
    {
     "name": "stderr",
     "output_type": "stream",
     "text": [
      "\n",
      "tiles: 0it [00:00, ?it/s]\u001b[A"
     ]
    },
    {
     "name": "stdout",
     "output_type": "stream",
     "text": [
      "\r",
      "[                                        ] | 0% Completed |  1.8s"
     ]
    },
    {
     "name": "stderr",
     "output_type": "stream",
     "text": [
      "\n",
      "tiles: 13it [00:00, 125.60it/s]\u001b[A"
     ]
    },
    {
     "name": "stdout",
     "output_type": "stream",
     "text": [
      "\r",
      "[                                        ] | 0% Completed |  1.9s"
     ]
    },
    {
     "name": "stderr",
     "output_type": "stream",
     "text": [
      "tiles: 25it [00:00, 125.63it/s]\n",
      "level:  86%|████████▌ | 12/14 [00:01<00:00,  3.89it/s]"
     ]
    },
    {
     "name": "stdout",
     "output_type": "stream",
     "text": [
      "[                                        ] | 0% Completed |  2.3s"
     ]
    },
    {
     "name": "stderr",
     "output_type": "stream",
     "text": [
      "\n",
      "tiles: 0it [00:00, ?it/s]\u001b[A"
     ]
    },
    {
     "name": "stdout",
     "output_type": "stream",
     "text": [
      "\r",
      "[                                        ] | 0% Completed |  2.4s"
     ]
    },
    {
     "name": "stderr",
     "output_type": "stream",
     "text": [
      "\n",
      "tiles: 14it [00:00, 139.47it/s]\u001b[A"
     ]
    },
    {
     "name": "stdout",
     "output_type": "stream",
     "text": [
      "\r",
      "[                                        ] | 0% Completed |  2.5s"
     ]
    },
    {
     "name": "stderr",
     "output_type": "stream",
     "text": [
      "\n",
      "tiles: 28it [00:00, 138.32it/s]\u001b[A"
     ]
    },
    {
     "name": "stdout",
     "output_type": "stream",
     "text": [
      "\r",
      "[                                        ] | 0% Completed |  2.6s"
     ]
    },
    {
     "name": "stderr",
     "output_type": "stream",
     "text": [
      "\n",
      "tiles: 41it [00:00, 132.88it/s]\u001b[A"
     ]
    },
    {
     "name": "stdout",
     "output_type": "stream",
     "text": [
      "\r",
      "[                                        ] | 0% Completed |  2.7s"
     ]
    },
    {
     "name": "stderr",
     "output_type": "stream",
     "text": [
      "\n",
      "tiles: 55it [00:00, 132.06it/s]\u001b[A"
     ]
    },
    {
     "name": "stdout",
     "output_type": "stream",
     "text": [
      "\r",
      "[                                        ] | 0% Completed |  2.8s"
     ]
    },
    {
     "name": "stderr",
     "output_type": "stream",
     "text": [
      "\n",
      "tiles: 68it [00:00, 130.87it/s]\u001b[A"
     ]
    },
    {
     "name": "stdout",
     "output_type": "stream",
     "text": [
      "\r",
      "[                                        ] | 0% Completed |  2.9s"
     ]
    },
    {
     "name": "stderr",
     "output_type": "stream",
     "text": [
      "\n",
      "tiles: 81it [00:00, 129.78it/s]\u001b[A\n",
      "level:  93%|█████████▎| 13/14 [00:02<00:00,  2.05it/s]\n",
      "tiles: 0it [00:00, ?it/s]\u001b[A"
     ]
    },
    {
     "name": "stdout",
     "output_type": "stream",
     "text": [
      "\r",
      "[                                        ] | 0% Completed |  3.0s"
     ]
    },
    {
     "name": "stderr",
     "output_type": "stream",
     "text": [
      "\n",
      "tiles: 11it [00:00, 109.16it/s]\u001b[A"
     ]
    },
    {
     "name": "stdout",
     "output_type": "stream",
     "text": [
      "\r",
      "[                                        ] | 0% Completed |  3.1s"
     ]
    },
    {
     "name": "stderr",
     "output_type": "stream",
     "text": [
      "\n",
      "tiles: 23it [00:00, 110.45it/s]\u001b[A"
     ]
    },
    {
     "name": "stdout",
     "output_type": "stream",
     "text": [
      "\r",
      "[                                        ] | 0% Completed |  3.2s"
     ]
    },
    {
     "name": "stderr",
     "output_type": "stream",
     "text": [
      "\n",
      "tiles: 32it [00:00, 100.68it/s]\u001b[A"
     ]
    },
    {
     "name": "stdout",
     "output_type": "stream",
     "text": [
      "\r",
      "[                                        ] | 0% Completed |  3.3s"
     ]
    },
    {
     "name": "stderr",
     "output_type": "stream",
     "text": [
      "\n",
      "tiles: 43it [00:00, 102.13it/s]\u001b[A"
     ]
    },
    {
     "name": "stdout",
     "output_type": "stream",
     "text": [
      "\r",
      "[                                        ] | 0% Completed |  3.4s"
     ]
    },
    {
     "name": "stderr",
     "output_type": "stream",
     "text": [
      "\n",
      "tiles: 54it [00:00, 104.09it/s]\u001b[A"
     ]
    },
    {
     "name": "stdout",
     "output_type": "stream",
     "text": [
      "\r",
      "[                                        ] | 0% Completed |  3.5s"
     ]
    },
    {
     "name": "stderr",
     "output_type": "stream",
     "text": [
      "\n",
      "tiles: 64it [00:00, 99.77it/s] \u001b[A"
     ]
    },
    {
     "name": "stdout",
     "output_type": "stream",
     "text": [
      "\r",
      "[                                        ] | 0% Completed |  3.6s"
     ]
    },
    {
     "name": "stderr",
     "output_type": "stream",
     "text": [
      "\n",
      "tiles: 75it [00:00, 101.60it/s]\u001b[A"
     ]
    },
    {
     "name": "stdout",
     "output_type": "stream",
     "text": [
      "[                                        ] | 0% Completed |  3.8s"
     ]
    },
    {
     "name": "stderr",
     "output_type": "stream",
     "text": [
      "\n",
      "tiles: 85it [00:00, 96.75it/s] \u001b[A"
     ]
    },
    {
     "name": "stdout",
     "output_type": "stream",
     "text": [
      "\r",
      "[                                        ] | 0% Completed |  3.9s"
     ]
    },
    {
     "name": "stderr",
     "output_type": "stream",
     "text": [
      "\n",
      "tiles: 96it [00:00, 98.95it/s]\u001b[A"
     ]
    },
    {
     "name": "stdout",
     "output_type": "stream",
     "text": [
      "\r",
      "[                                        ] | 0% Completed |  4.1s"
     ]
    },
    {
     "name": "stderr",
     "output_type": "stream",
     "text": [
      "\n",
      "tiles: 106it [00:01, 92.68it/s]\u001b[A"
     ]
    },
    {
     "name": "stdout",
     "output_type": "stream",
     "text": [
      "\r",
      "[                                        ] | 0% Completed |  4.2s"
     ]
    },
    {
     "name": "stderr",
     "output_type": "stream",
     "text": [
      "\n",
      "tiles: 116it [00:01, 90.86it/s]\u001b[A"
     ]
    },
    {
     "name": "stdout",
     "output_type": "stream",
     "text": [
      "\r",
      "[                                        ] | 0% Completed |  4.3s"
     ]
    },
    {
     "name": "stderr",
     "output_type": "stream",
     "text": [
      "\n",
      "tiles: 125it [00:01, 89.27it/s]\u001b[A"
     ]
    },
    {
     "name": "stdout",
     "output_type": "stream",
     "text": [
      "\r",
      "[                                        ] | 0% Completed |  4.4s"
     ]
    },
    {
     "name": "stderr",
     "output_type": "stream",
     "text": [
      "\n",
      "tiles: 134it [00:01, 88.14it/s]\u001b[A"
     ]
    },
    {
     "name": "stdout",
     "output_type": "stream",
     "text": [
      "\r",
      "[                                        ] | 0% Completed |  4.5s"
     ]
    },
    {
     "name": "stderr",
     "output_type": "stream",
     "text": [
      "\n",
      "tiles: 143it [00:01, 87.00it/s]\u001b[A"
     ]
    },
    {
     "name": "stdout",
     "output_type": "stream",
     "text": [
      "\r",
      "[                                        ] | 0% Completed |  4.6s"
     ]
    },
    {
     "name": "stderr",
     "output_type": "stream",
     "text": [
      "\n",
      "tiles: 154it [00:01, 91.02it/s]\u001b[A"
     ]
    },
    {
     "name": "stdout",
     "output_type": "stream",
     "text": [
      "\r",
      "[                                        ] | 0% Completed |  4.7s"
     ]
    },
    {
     "name": "stderr",
     "output_type": "stream",
     "text": [
      "\n",
      "tiles: 166it [00:01, 96.45it/s]\u001b[A"
     ]
    },
    {
     "name": "stdout",
     "output_type": "stream",
     "text": [
      "\r",
      "[                                        ] | 0% Completed |  4.8s"
     ]
    },
    {
     "name": "stderr",
     "output_type": "stream",
     "text": [
      "\n",
      "tiles: 177it [00:01, 98.98it/s]\u001b[A"
     ]
    },
    {
     "name": "stdout",
     "output_type": "stream",
     "text": [
      "\r",
      "[                                        ] | 0% Completed |  4.9s"
     ]
    },
    {
     "name": "stderr",
     "output_type": "stream",
     "text": [
      "\n",
      "tiles: 188it [00:01, 100.29it/s]\u001b[A"
     ]
    },
    {
     "name": "stdout",
     "output_type": "stream",
     "text": [
      "[                                        ] | 0% Completed |  5.1s"
     ]
    },
    {
     "name": "stderr",
     "output_type": "stream",
     "text": [
      "\n",
      "tiles: 199it [00:02, 89.43it/s] \u001b[A"
     ]
    },
    {
     "name": "stdout",
     "output_type": "stream",
     "text": [
      "\r",
      "[                                        ] | 0% Completed |  5.2s"
     ]
    },
    {
     "name": "stderr",
     "output_type": "stream",
     "text": [
      "\n",
      "tiles: 209it [00:02, 83.15it/s]\u001b[A"
     ]
    },
    {
     "name": "stdout",
     "output_type": "stream",
     "text": [
      "\r",
      "[                                        ] | 0% Completed |  5.3s"
     ]
    },
    {
     "name": "stderr",
     "output_type": "stream",
     "text": [
      "\n",
      "tiles: 219it [00:02, 86.60it/s]\u001b[A"
     ]
    },
    {
     "name": "stdout",
     "output_type": "stream",
     "text": [
      "\r",
      "[                                        ] | 0% Completed |  5.4s"
     ]
    },
    {
     "name": "stderr",
     "output_type": "stream",
     "text": [
      "\n",
      "tiles: 229it [00:02, 88.11it/s]\u001b[A"
     ]
    },
    {
     "name": "stdout",
     "output_type": "stream",
     "text": [
      "[                                        ] | 0% Completed |  5.6s"
     ]
    },
    {
     "name": "stderr",
     "output_type": "stream",
     "text": [
      "\n",
      "tiles: 241it [00:02, 86.32it/s]\u001b[A"
     ]
    },
    {
     "name": "stdout",
     "output_type": "stream",
     "text": [
      "\r",
      "[                                        ] | 0% Completed |  5.7s"
     ]
    },
    {
     "name": "stderr",
     "output_type": "stream",
     "text": [
      "\n",
      "tiles: 251it [00:02, 88.27it/s]\u001b[A"
     ]
    },
    {
     "name": "stdout",
     "output_type": "stream",
     "text": [
      "\r",
      "[                                        ] | 0% Completed |  5.8s"
     ]
    },
    {
     "name": "stderr",
     "output_type": "stream",
     "text": [
      "\n",
      "tiles: 261it [00:02, 91.09it/s]\u001b[A"
     ]
    },
    {
     "name": "stdout",
     "output_type": "stream",
     "text": [
      "\r",
      "[                                        ] | 0% Completed |  5.9s"
     ]
    },
    {
     "name": "stderr",
     "output_type": "stream",
     "text": [
      "\n",
      "tiles: 274it [00:02, 98.42it/s]\u001b[A"
     ]
    },
    {
     "name": "stdout",
     "output_type": "stream",
     "text": [
      "\r",
      "[                                        ] | 0% Completed |  6.0s"
     ]
    },
    {
     "name": "stderr",
     "output_type": "stream",
     "text": [
      "\n",
      "tiles: 286it [00:03, 103.79it/s]\u001b[A"
     ]
    },
    {
     "name": "stdout",
     "output_type": "stream",
     "text": [
      "\r",
      "[                                        ] | 0% Completed |  6.1s"
     ]
    },
    {
     "name": "stderr",
     "output_type": "stream",
     "text": [
      "\n",
      "tiles: 297it [00:03, 100.28it/s]\u001b[A"
     ]
    },
    {
     "name": "stdout",
     "output_type": "stream",
     "text": [
      "\r",
      "[                                        ] | 0% Completed |  6.2s"
     ]
    },
    {
     "name": "stderr",
     "output_type": "stream",
     "text": [
      "\n",
      "tiles: 310it [00:03, 107.54it/s]\u001b[A"
     ]
    },
    {
     "name": "stdout",
     "output_type": "stream",
     "text": [
      "\r",
      "[                                        ] | 0% Completed |  6.3s"
     ]
    },
    {
     "name": "stderr",
     "output_type": "stream",
     "text": [
      "\n",
      "tiles: 324it [00:03, 97.20it/s] \u001b[A\n",
      "level: 100%|██████████| 14/14 [00:06<00:00,  2.24it/s]"
     ]
    },
    {
     "name": "stdout",
     "output_type": "stream",
     "text": [
      "\r",
      "[######                                  ] | 16% Completed |  6.4s"
     ]
    },
    {
     "name": "stderr",
     "output_type": "stream",
     "text": [
      "\n",
      "level:   0%|          | 0/14 [00:00<?, ?it/s]"
     ]
    },
    {
     "name": "stdout",
     "output_type": "stream",
     "text": [
      "\r",
      "[######                                  ] | 16% Completed |  6.5s"
     ]
    },
    {
     "name": "stderr",
     "output_type": "stream",
     "text": [
      "\n",
      "tiles: 1it [00:00, 241.18it/s]\n",
      "\n",
      "tiles: 1it [00:00, 145.00it/s]\n",
      "level:  14%|█▍        | 2/14 [00:00<00:00, 14.16it/s]"
     ]
    },
    {
     "name": "stdout",
     "output_type": "stream",
     "text": [
      "\r",
      "[######                                  ] | 16% Completed |  6.6s"
     ]
    },
    {
     "name": "stderr",
     "output_type": "stream",
     "text": [
      "\n",
      "tiles: 1it [00:00, 177.99it/s]"
     ]
    },
    {
     "name": "stdout",
     "output_type": "stream",
     "text": [
      "\r",
      "[######                                  ] | 16% Completed |  6.7s"
     ]
    },
    {
     "name": "stderr",
     "output_type": "stream",
     "text": [
      "\n",
      "\n",
      "tiles: 1it [00:00, 196.76it/s]\n",
      "level:  29%|██▊       | 4/14 [00:00<00:00, 13.11it/s]"
     ]
    },
    {
     "name": "stdout",
     "output_type": "stream",
     "text": [
      "\r",
      "[######                                  ] | 16% Completed |  6.8s"
     ]
    },
    {
     "name": "stderr",
     "output_type": "stream",
     "text": [
      "\n",
      "tiles: 1it [00:00, 160.52it/s]\n",
      "level:  36%|███▌      | 5/14 [00:00<00:00, 11.51it/s]"
     ]
    },
    {
     "name": "stdout",
     "output_type": "stream",
     "text": [
      "\r",
      "[######                                  ] | 16% Completed |  6.9s"
     ]
    },
    {
     "name": "stderr",
     "output_type": "stream",
     "text": [
      "\n",
      "tiles: 0it [00:00, ?it/s]\u001b[A"
     ]
    },
    {
     "name": "stdout",
     "output_type": "stream",
     "text": [
      "\r",
      "[######                                  ] | 16% Completed |  7.0s"
     ]
    },
    {
     "name": "stderr",
     "output_type": "stream",
     "text": [
      "tiles: 1it [00:00, 184.75it/s]\n",
      "level:  43%|████▎     | 6/14 [00:00<00:00, 10.28it/s]"
     ]
    },
    {
     "name": "stdout",
     "output_type": "stream",
     "text": [
      "\r",
      "[######                                  ] | 16% Completed |  7.1s"
     ]
    },
    {
     "name": "stderr",
     "output_type": "stream",
     "text": [
      "\n",
      "tiles: 1it [00:00, 134.67it/s]\n",
      "level:  50%|█████     | 7/14 [00:00<00:00,  9.31it/s]"
     ]
    },
    {
     "name": "stdout",
     "output_type": "stream",
     "text": [
      "\r",
      "[######                                  ] | 16% Completed |  7.2s"
     ]
    },
    {
     "name": "stderr",
     "output_type": "stream",
     "text": [
      "\n",
      "tiles: 1it [00:00, 132.51it/s]\n",
      "level:  57%|█████▋    | 8/14 [00:00<00:00,  8.61it/s]"
     ]
    },
    {
     "name": "stdout",
     "output_type": "stream",
     "text": [
      "[######                                  ] | 16% Completed |  7.4s"
     ]
    },
    {
     "name": "stderr",
     "output_type": "stream",
     "text": [
      "\n",
      "tiles: 1it [00:00, 105.12it/s]\n",
      "level:  64%|██████▍   | 9/14 [00:00<00:00,  8.02it/s]"
     ]
    },
    {
     "name": "stdout",
     "output_type": "stream",
     "text": [
      "\r",
      "[######                                  ] | 16% Completed |  7.5s"
     ]
    },
    {
     "name": "stderr",
     "output_type": "stream",
     "text": [
      "\n",
      "tiles: 0it [00:00, ?it/s]\u001b[A"
     ]
    },
    {
     "name": "stdout",
     "output_type": "stream",
     "text": [
      "\r",
      "[######                                  ] | 16% Completed |  7.6s"
     ]
    },
    {
     "name": "stderr",
     "output_type": "stream",
     "text": [
      "tiles: 4it [00:00, 55.36it/s]\n",
      "level:  71%|███████▏  | 10/14 [00:01<00:00,  6.43it/s]"
     ]
    },
    {
     "name": "stdout",
     "output_type": "stream",
     "text": [
      "[######                                  ] | 16% Completed |  7.8s"
     ]
    },
    {
     "name": "stderr",
     "output_type": "stream",
     "text": [
      "\n",
      "tiles: 0it [00:00, ?it/s]\u001b[A"
     ]
    },
    {
     "name": "stdout",
     "output_type": "stream",
     "text": [
      "\r",
      "[######                                  ] | 16% Completed |  7.9s"
     ]
    },
    {
     "name": "stderr",
     "output_type": "stream",
     "text": [
      "\n",
      "tiles: 9it [00:00, 83.68it/s]\u001b[A\n",
      "level:  79%|███████▊  | 11/14 [00:01<00:00,  5.01it/s]"
     ]
    },
    {
     "name": "stdout",
     "output_type": "stream",
     "text": [
      "[######                                  ] | 16% Completed |  8.2s"
     ]
    },
    {
     "name": "stderr",
     "output_type": "stream",
     "text": [
      "\n",
      "tiles: 0it [00:00, ?it/s]\u001b[A"
     ]
    },
    {
     "name": "stdout",
     "output_type": "stream",
     "text": [
      "\r",
      "[######                                  ] | 16% Completed |  8.3s"
     ]
    },
    {
     "name": "stderr",
     "output_type": "stream",
     "text": [
      "\n",
      "tiles: 12it [00:00, 111.58it/s]\u001b[A"
     ]
    },
    {
     "name": "stdout",
     "output_type": "stream",
     "text": [
      "\r",
      "[######                                  ] | 16% Completed |  8.4s"
     ]
    },
    {
     "name": "stderr",
     "output_type": "stream",
     "text": [
      "\n",
      "tiles: 25it [00:00, 106.50it/s]\u001b[A\n",
      "level:  86%|████████▌ | 12/14 [00:02<00:00,  3.36it/s]"
     ]
    },
    {
     "name": "stdout",
     "output_type": "stream",
     "text": [
      "[######                                  ] | 16% Completed |  8.7s"
     ]
    },
    {
     "name": "stderr",
     "output_type": "stream",
     "text": [
      "\n",
      "tiles: 0it [00:00, ?it/s]\u001b[A"
     ]
    },
    {
     "name": "stdout",
     "output_type": "stream",
     "text": [
      "\r",
      "[######                                  ] | 16% Completed |  8.8s"
     ]
    },
    {
     "name": "stderr",
     "output_type": "stream",
     "text": [
      "\n",
      "tiles: 15it [00:00, 146.68it/s]\u001b[A"
     ]
    },
    {
     "name": "stdout",
     "output_type": "stream",
     "text": [
      "\r",
      "[######                                  ] | 16% Completed |  8.9s"
     ]
    },
    {
     "name": "stderr",
     "output_type": "stream",
     "text": [
      "\n",
      "tiles: 25it [00:00, 123.69it/s]\u001b[A"
     ]
    },
    {
     "name": "stdout",
     "output_type": "stream",
     "text": [
      "\r",
      "[######                                  ] | 16% Completed |  9.0s"
     ]
    },
    {
     "name": "stderr",
     "output_type": "stream",
     "text": [
      "\n",
      "tiles: 36it [00:00, 118.80it/s]\u001b[A"
     ]
    },
    {
     "name": "stdout",
     "output_type": "stream",
     "text": [
      "[######                                  ] | 16% Completed |  9.2s"
     ]
    },
    {
     "name": "stderr",
     "output_type": "stream",
     "text": [
      "\n",
      "tiles: 48it [00:00, 115.61it/s]\u001b[A"
     ]
    },
    {
     "name": "stdout",
     "output_type": "stream",
     "text": [
      "\r",
      "[######                                  ] | 16% Completed |  9.3s"
     ]
    },
    {
     "name": "stderr",
     "output_type": "stream",
     "text": [
      "\n",
      "tiles: 57it [00:00, 98.26it/s] \u001b[A"
     ]
    },
    {
     "name": "stdout",
     "output_type": "stream",
     "text": [
      "\r",
      "[######                                  ] | 16% Completed |  9.4s"
     ]
    },
    {
     "name": "stderr",
     "output_type": "stream",
     "text": [
      "\n",
      "tiles: 66it [00:00, 91.67it/s]\u001b[A"
     ]
    },
    {
     "name": "stdout",
     "output_type": "stream",
     "text": [
      "\r",
      "[######                                  ] | 16% Completed |  9.5s"
     ]
    },
    {
     "name": "stderr",
     "output_type": "stream",
     "text": [
      "\n",
      "tiles: 81it [00:00, 99.15it/s]\u001b[A\n",
      "level:  93%|█████████▎| 13/14 [00:03<00:00,  1.81it/s]\n",
      "tiles: 0it [00:00, ?it/s]\u001b[A"
     ]
    },
    {
     "name": "stdout",
     "output_type": "stream",
     "text": [
      "[######                                  ] | 16% Completed |  9.7s"
     ]
    },
    {
     "name": "stderr",
     "output_type": "stream",
     "text": [
      "\n",
      "tiles: 10it [00:00, 95.72it/s]\u001b[A"
     ]
    },
    {
     "name": "stdout",
     "output_type": "stream",
     "text": [
      "\r",
      "[######                                  ] | 16% Completed |  9.8s"
     ]
    },
    {
     "name": "stderr",
     "output_type": "stream",
     "text": [
      "\n",
      "tiles: 23it [00:00, 102.31it/s]\u001b[A"
     ]
    },
    {
     "name": "stdout",
     "output_type": "stream",
     "text": [
      "\r",
      "[######                                  ] | 16% Completed |  9.9s"
     ]
    },
    {
     "name": "stderr",
     "output_type": "stream",
     "text": [
      "\n",
      "tiles: 35it [00:00, 106.32it/s]\u001b[A"
     ]
    },
    {
     "name": "stdout",
     "output_type": "stream",
     "text": [
      "\r",
      "[######                                  ] | 16% Completed | 10.0s"
     ]
    },
    {
     "name": "stderr",
     "output_type": "stream",
     "text": [
      "\n",
      "tiles: 48it [00:00, 109.84it/s]\u001b[A"
     ]
    },
    {
     "name": "stdout",
     "output_type": "stream",
     "text": [
      "\r",
      "[######                                  ] | 16% Completed | 10.1s"
     ]
    },
    {
     "name": "stderr",
     "output_type": "stream",
     "text": [
      "\n",
      "tiles: 62it [00:00, 116.32it/s]\u001b[A"
     ]
    },
    {
     "name": "stdout",
     "output_type": "stream",
     "text": [
      "\r",
      "[######                                  ] | 16% Completed | 10.2s"
     ]
    },
    {
     "name": "stderr",
     "output_type": "stream",
     "text": [
      "\n",
      "tiles: 74it [00:00, 116.00it/s]\u001b[A"
     ]
    },
    {
     "name": "stdout",
     "output_type": "stream",
     "text": [
      "\r",
      "[######                                  ] | 16% Completed | 10.3s"
     ]
    },
    {
     "name": "stderr",
     "output_type": "stream",
     "text": [
      "\n",
      "tiles: 85it [00:00, 106.07it/s]\u001b[A"
     ]
    },
    {
     "name": "stdout",
     "output_type": "stream",
     "text": [
      "\r",
      "[######                                  ] | 16% Completed | 10.4s"
     ]
    },
    {
     "name": "stderr",
     "output_type": "stream",
     "text": [
      "\n",
      "tiles: 96it [00:00, 99.36it/s] \u001b[A"
     ]
    },
    {
     "name": "stdout",
     "output_type": "stream",
     "text": [
      "\r",
      "[######                                  ] | 16% Completed | 10.5s"
     ]
    },
    {
     "name": "stderr",
     "output_type": "stream",
     "text": [
      "\n",
      "tiles: 107it [00:00, 101.74it/s]\u001b[A"
     ]
    },
    {
     "name": "stdout",
     "output_type": "stream",
     "text": [
      "\r",
      "[######                                  ] | 16% Completed | 10.6s"
     ]
    },
    {
     "name": "stderr",
     "output_type": "stream",
     "text": [
      "\n",
      "tiles: 120it [00:01, 107.58it/s]\u001b[A"
     ]
    },
    {
     "name": "stdout",
     "output_type": "stream",
     "text": [
      "\r",
      "[######                                  ] | 16% Completed | 10.7s"
     ]
    },
    {
     "name": "stderr",
     "output_type": "stream",
     "text": [
      "\n",
      "tiles: 134it [00:01, 113.57it/s]\u001b[A"
     ]
    },
    {
     "name": "stdout",
     "output_type": "stream",
     "text": [
      "\r",
      "[######                                  ] | 16% Completed | 10.8s"
     ]
    },
    {
     "name": "stderr",
     "output_type": "stream",
     "text": [
      "\n",
      "tiles: 147it [00:01, 115.92it/s]\u001b[A"
     ]
    },
    {
     "name": "stdout",
     "output_type": "stream",
     "text": [
      "\r",
      "[######                                  ] | 16% Completed | 10.9s"
     ]
    },
    {
     "name": "stderr",
     "output_type": "stream",
     "text": [
      "\n",
      "tiles: 159it [00:01, 116.28it/s]\u001b[A"
     ]
    },
    {
     "name": "stdout",
     "output_type": "stream",
     "text": [
      "\r",
      "[######                                  ] | 16% Completed | 11.0s"
     ]
    },
    {
     "name": "stderr",
     "output_type": "stream",
     "text": [
      "\n",
      "tiles: 172it [00:01, 117.17it/s]\u001b[A"
     ]
    },
    {
     "name": "stdout",
     "output_type": "stream",
     "text": [
      "\r",
      "[######                                  ] | 16% Completed | 11.1s"
     ]
    },
    {
     "name": "stderr",
     "output_type": "stream",
     "text": [
      "\n",
      "tiles: 185it [00:01, 119.54it/s]\u001b[A"
     ]
    },
    {
     "name": "stdout",
     "output_type": "stream",
     "text": [
      "[######                                  ] | 16% Completed | 11.3s"
     ]
    },
    {
     "name": "stderr",
     "output_type": "stream",
     "text": [
      "\n",
      "tiles: 197it [00:01, 115.10it/s]\u001b[A"
     ]
    },
    {
     "name": "stdout",
     "output_type": "stream",
     "text": [
      "\r",
      "[######                                  ] | 16% Completed | 11.4s"
     ]
    },
    {
     "name": "stderr",
     "output_type": "stream",
     "text": [
      "\n",
      "tiles: 209it [00:01, 105.12it/s]\u001b[A"
     ]
    },
    {
     "name": "stdout",
     "output_type": "stream",
     "text": [
      "[######                                  ] | 16% Completed | 11.6s"
     ]
    },
    {
     "name": "stderr",
     "output_type": "stream",
     "text": [
      "\n",
      "tiles: 220it [00:02, 90.57it/s] \u001b[A"
     ]
    },
    {
     "name": "stdout",
     "output_type": "stream",
     "text": [
      "\r",
      "[######                                  ] | 16% Completed | 11.7s"
     ]
    },
    {
     "name": "stderr",
     "output_type": "stream",
     "text": [
      "\n",
      "tiles: 230it [00:02, 81.76it/s]\u001b[A"
     ]
    },
    {
     "name": "stdout",
     "output_type": "stream",
     "text": [
      "\r",
      "[######                                  ] | 16% Completed | 11.9s"
     ]
    },
    {
     "name": "stderr",
     "output_type": "stream",
     "text": [
      "\n",
      "tiles: 240it [00:02, 86.20it/s]\u001b[A"
     ]
    },
    {
     "name": "stdout",
     "output_type": "stream",
     "text": [
      "\r",
      "[######                                  ] | 16% Completed | 12.0s"
     ]
    },
    {
     "name": "stderr",
     "output_type": "stream",
     "text": [
      "\n",
      "tiles: 250it [00:02, 88.40it/s]\u001b[A"
     ]
    },
    {
     "name": "stdout",
     "output_type": "stream",
     "text": [
      "\r",
      "[######                                  ] | 16% Completed | 12.1s"
     ]
    },
    {
     "name": "stderr",
     "output_type": "stream",
     "text": [
      "\n",
      "tiles: 262it [00:02, 94.58it/s]\u001b[A"
     ]
    },
    {
     "name": "stdout",
     "output_type": "stream",
     "text": [
      "\r",
      "[######                                  ] | 16% Completed | 12.2s"
     ]
    },
    {
     "name": "stderr",
     "output_type": "stream",
     "text": [
      "\n",
      "tiles: 274it [00:02, 100.81it/s]\u001b[A"
     ]
    },
    {
     "name": "stdout",
     "output_type": "stream",
     "text": [
      "\r",
      "[######                                  ] | 16% Completed | 12.3s"
     ]
    },
    {
     "name": "stderr",
     "output_type": "stream",
     "text": [
      "\n",
      "tiles: 285it [00:02, 100.53it/s]\u001b[A"
     ]
    },
    {
     "name": "stdout",
     "output_type": "stream",
     "text": [
      "\r",
      "[######                                  ] | 16% Completed | 12.4s"
     ]
    },
    {
     "name": "stderr",
     "output_type": "stream",
     "text": [
      "\n",
      "tiles: 297it [00:02, 104.23it/s]\u001b[A"
     ]
    },
    {
     "name": "stdout",
     "output_type": "stream",
     "text": [
      "\r",
      "[######                                  ] | 16% Completed | 12.5s"
     ]
    },
    {
     "name": "stderr",
     "output_type": "stream",
     "text": [
      "\n",
      "tiles: 311it [00:02, 111.61it/s]\u001b[A"
     ]
    },
    {
     "name": "stdout",
     "output_type": "stream",
     "text": [
      "\r",
      "[######                                  ] | 16% Completed | 12.6s"
     ]
    },
    {
     "name": "stderr",
     "output_type": "stream",
     "text": [
      "\n",
      "tiles: 324it [00:03, 107.27it/s]\u001b[A\n",
      "level: 100%|██████████| 14/14 [00:06<00:00,  2.26it/s]"
     ]
    },
    {
     "name": "stdout",
     "output_type": "stream",
     "text": [
      "\r",
      "[#############                           ] | 33% Completed | 12.7s"
     ]
    },
    {
     "name": "stderr",
     "output_type": "stream",
     "text": [
      "\n",
      "level:   0%|          | 0/14 [00:00<?, ?it/s]"
     ]
    },
    {
     "name": "stdout",
     "output_type": "stream",
     "text": [
      "\r",
      "[#############                           ] | 33% Completed | 12.8s"
     ]
    },
    {
     "name": "stderr",
     "output_type": "stream",
     "text": [
      "\n",
      "tiles: 1it [00:00, 279.16it/s]\n",
      "\n",
      "tiles: 1it [00:00, 114.90it/s]\n",
      "level:  14%|█▍        | 2/14 [00:00<00:00, 16.56it/s]"
     ]
    },
    {
     "name": "stdout",
     "output_type": "stream",
     "text": [
      "\r",
      "[#############                           ] | 33% Completed | 12.9s"
     ]
    },
    {
     "name": "stderr",
     "output_type": "stream",
     "text": [
      "\n",
      "tiles: 1it [00:00, 176.13it/s]"
     ]
    },
    {
     "name": "stdout",
     "output_type": "stream",
     "text": [
      "\r",
      "[#############                           ] | 33% Completed | 13.0s"
     ]
    },
    {
     "name": "stderr",
     "output_type": "stream",
     "text": [
      "\n",
      "\n",
      "tiles: 1it [00:00, 159.14it/s]\n",
      "level:  29%|██▊       | 4/14 [00:00<00:00, 14.52it/s]"
     ]
    },
    {
     "name": "stdout",
     "output_type": "stream",
     "text": [
      "\r",
      "[#############                           ] | 33% Completed | 13.1s"
     ]
    },
    {
     "name": "stderr",
     "output_type": "stream",
     "text": [
      "\n",
      "tiles: 1it [00:00, 174.78it/s]\n",
      "level:  36%|███▌      | 5/14 [00:00<00:00, 12.40it/s]"
     ]
    },
    {
     "name": "stdout",
     "output_type": "stream",
     "text": [
      "\r",
      "[#############                           ] | 33% Completed | 13.2s"
     ]
    },
    {
     "name": "stderr",
     "output_type": "stream",
     "text": [
      "\n",
      "tiles: 1it [00:00, 183.11it/s]\n",
      "level:  43%|████▎     | 6/14 [00:00<00:00, 10.86it/s]"
     ]
    },
    {
     "name": "stdout",
     "output_type": "stream",
     "text": [
      "\r",
      "[#############                           ] | 33% Completed | 13.3s"
     ]
    },
    {
     "name": "stderr",
     "output_type": "stream",
     "text": [
      "\n",
      "tiles: 0it [00:00, ?it/s]\u001b[A"
     ]
    },
    {
     "name": "stdout",
     "output_type": "stream",
     "text": [
      "\r",
      "[#############                           ] | 33% Completed | 13.4s"
     ]
    },
    {
     "name": "stderr",
     "output_type": "stream",
     "text": [
      "tiles: 1it [00:00, 209.72it/s]\n",
      "level:  50%|█████     | 7/14 [00:00<00:00, 10.00it/s]"
     ]
    },
    {
     "name": "stdout",
     "output_type": "stream",
     "text": [
      "\r",
      "[#############                           ] | 33% Completed | 13.5s"
     ]
    },
    {
     "name": "stderr",
     "output_type": "stream",
     "text": [
      "\n",
      "tiles: 1it [00:00, 125.20it/s]\n",
      "level:  57%|█████▋    | 8/14 [00:00<00:00,  9.16it/s]"
     ]
    },
    {
     "name": "stdout",
     "output_type": "stream",
     "text": [
      "\r",
      "[#############                           ] | 33% Completed | 13.6s"
     ]
    },
    {
     "name": "stderr",
     "output_type": "stream",
     "text": [
      "\n",
      "tiles: 1it [00:00, 153.80it/s]\n",
      "level:  64%|██████▍   | 9/14 [00:00<00:00,  8.50it/s]"
     ]
    },
    {
     "name": "stdout",
     "output_type": "stream",
     "text": [
      "[#############                           ] | 33% Completed | 13.8s"
     ]
    },
    {
     "name": "stderr",
     "output_type": "stream",
     "text": [
      "\n",
      "tiles: 4it [00:00, 192.08it/s]\n",
      "level:  71%|███████▏  | 10/14 [00:01<00:00,  7.41it/s]"
     ]
    },
    {
     "name": "stdout",
     "output_type": "stream",
     "text": [
      "[#############                           ] | 33% Completed | 14.0s"
     ]
    },
    {
     "name": "stderr",
     "output_type": "stream",
     "text": [
      "\n",
      "tiles: 9it [00:00, 165.12it/s]\n",
      "level:  79%|███████▊  | 11/14 [00:01<00:00,  6.17it/s]"
     ]
    },
    {
     "name": "stdout",
     "output_type": "stream",
     "text": [
      "[#############                           ] | 33% Completed | 14.2s"
     ]
    },
    {
     "name": "stderr",
     "output_type": "stream",
     "text": [
      "\n",
      "tiles: 0it [00:00, ?it/s]\u001b[A"
     ]
    },
    {
     "name": "stdout",
     "output_type": "stream",
     "text": [
      "[#############                           ] | 33% Completed | 14.4s"
     ]
    },
    {
     "name": "stderr",
     "output_type": "stream",
     "text": [
      "\n",
      "tiles: 25it [00:00, 125.52it/s]\u001b[A\n",
      "level:  86%|████████▌ | 12/14 [00:01<00:00,  4.06it/s]"
     ]
    },
    {
     "name": "stdout",
     "output_type": "stream",
     "text": [
      "[#############                           ] | 33% Completed | 14.7s"
     ]
    },
    {
     "name": "stderr",
     "output_type": "stream",
     "text": [
      "\n",
      "tiles: 0it [00:00, ?it/s]\u001b[A"
     ]
    },
    {
     "name": "stdout",
     "output_type": "stream",
     "text": [
      "\r",
      "[#############                           ] | 33% Completed | 14.8s"
     ]
    },
    {
     "name": "stderr",
     "output_type": "stream",
     "text": [
      "\n",
      "tiles: 11it [00:00, 109.37it/s]\u001b[A"
     ]
    },
    {
     "name": "stdout",
     "output_type": "stream",
     "text": [
      "\r",
      "[#############                           ] | 33% Completed | 14.9s"
     ]
    },
    {
     "name": "stderr",
     "output_type": "stream",
     "text": [
      "\n",
      "tiles: 25it [00:00, 116.37it/s]\u001b[A"
     ]
    },
    {
     "name": "stdout",
     "output_type": "stream",
     "text": [
      "\r",
      "[#############                           ] | 33% Completed | 15.0s"
     ]
    },
    {
     "name": "stderr",
     "output_type": "stream",
     "text": [
      "\n",
      "tiles: 40it [00:00, 124.54it/s]\u001b[A"
     ]
    },
    {
     "name": "stdout",
     "output_type": "stream",
     "text": [
      "\r",
      "[#############                           ] | 33% Completed | 15.1s"
     ]
    },
    {
     "name": "stderr",
     "output_type": "stream",
     "text": [
      "\n",
      "tiles: 53it [00:00, 126.12it/s]\u001b[A"
     ]
    },
    {
     "name": "stdout",
     "output_type": "stream",
     "text": [
      "\r",
      "[#############                           ] | 33% Completed | 15.2s"
     ]
    },
    {
     "name": "stderr",
     "output_type": "stream",
     "text": [
      "\n",
      "tiles: 65it [00:00, 122.86it/s]\u001b[A"
     ]
    },
    {
     "name": "stdout",
     "output_type": "stream",
     "text": [
      "[#############                           ] | 33% Completed | 15.4s"
     ]
    },
    {
     "name": "stderr",
     "output_type": "stream",
     "text": [
      "\n",
      "tiles: 81it [00:00, 130.04it/s]\u001b[A\n",
      "level:  93%|█████████▎| 13/14 [00:02<00:00,  2.22it/s]\n",
      "tiles: 0it [00:00, ?it/s]\u001b[A"
     ]
    },
    {
     "name": "stdout",
     "output_type": "stream",
     "text": [
      "\r",
      "[#############                           ] | 33% Completed | 15.5s"
     ]
    },
    {
     "name": "stderr",
     "output_type": "stream",
     "text": [
      "\n",
      "tiles: 9it [00:00, 82.84it/s]\u001b[A"
     ]
    },
    {
     "name": "stdout",
     "output_type": "stream",
     "text": [
      "\r",
      "[#############                           ] | 33% Completed | 15.6s"
     ]
    },
    {
     "name": "stderr",
     "output_type": "stream",
     "text": [
      "\n",
      "tiles: 21it [00:00, 89.80it/s]\u001b[A"
     ]
    },
    {
     "name": "stdout",
     "output_type": "stream",
     "text": [
      "\r",
      "[#############                           ] | 33% Completed | 15.7s"
     ]
    },
    {
     "name": "stderr",
     "output_type": "stream",
     "text": [
      "\n",
      "tiles: 32it [00:00, 92.83it/s]\u001b[A"
     ]
    },
    {
     "name": "stdout",
     "output_type": "stream",
     "text": [
      "\r",
      "[#############                           ] | 33% Completed | 15.8s"
     ]
    },
    {
     "name": "stderr",
     "output_type": "stream",
     "text": [
      "\n",
      "tiles: 42it [00:00, 89.24it/s]\u001b[A"
     ]
    },
    {
     "name": "stdout",
     "output_type": "stream",
     "text": [
      "\r",
      "[#############                           ] | 33% Completed | 15.9s"
     ]
    },
    {
     "name": "stderr",
     "output_type": "stream",
     "text": [
      "\n",
      "tiles: 52it [00:00, 89.91it/s]\u001b[A"
     ]
    },
    {
     "name": "stdout",
     "output_type": "stream",
     "text": [
      "\r",
      "[#############                           ] | 33% Completed | 16.0s"
     ]
    },
    {
     "name": "stderr",
     "output_type": "stream",
     "text": [
      "\n",
      "tiles: 63it [00:00, 95.07it/s]\u001b[A"
     ]
    },
    {
     "name": "stdout",
     "output_type": "stream",
     "text": [
      "\r",
      "[#############                           ] | 33% Completed | 16.1s"
     ]
    },
    {
     "name": "stderr",
     "output_type": "stream",
     "text": [
      "\n",
      "tiles: 75it [00:00, 100.66it/s]\u001b[A"
     ]
    },
    {
     "name": "stdout",
     "output_type": "stream",
     "text": [
      "\r",
      "[#############                           ] | 33% Completed | 16.2s"
     ]
    },
    {
     "name": "stderr",
     "output_type": "stream",
     "text": [
      "\n",
      "tiles: 86it [00:00, 101.73it/s]\u001b[A"
     ]
    },
    {
     "name": "stdout",
     "output_type": "stream",
     "text": [
      "\r",
      "[#############                           ] | 33% Completed | 16.3s"
     ]
    },
    {
     "name": "stderr",
     "output_type": "stream",
     "text": [
      "\n",
      "tiles: 96it [00:00, 100.22it/s]\u001b[A"
     ]
    },
    {
     "name": "stdout",
     "output_type": "stream",
     "text": [
      "\r",
      "[#############                           ] | 33% Completed | 16.4s"
     ]
    },
    {
     "name": "stderr",
     "output_type": "stream",
     "text": [
      "\n",
      "tiles: 106it [00:01, 99.65it/s]\u001b[A"
     ]
    },
    {
     "name": "stdout",
     "output_type": "stream",
     "text": [
      "\r",
      "[#############                           ] | 33% Completed | 16.5s"
     ]
    },
    {
     "name": "stderr",
     "output_type": "stream",
     "text": [
      "\n",
      "tiles: 116it [00:01, 93.69it/s]\u001b[A"
     ]
    },
    {
     "name": "stdout",
     "output_type": "stream",
     "text": [
      "[#############                           ] | 33% Completed | 16.7s"
     ]
    },
    {
     "name": "stderr",
     "output_type": "stream",
     "text": [
      "\n",
      "tiles: 126it [00:01, 90.27it/s]\u001b[A"
     ]
    },
    {
     "name": "stdout",
     "output_type": "stream",
     "text": [
      "\r",
      "[#############                           ] | 33% Completed | 16.8s"
     ]
    },
    {
     "name": "stderr",
     "output_type": "stream",
     "text": [
      "\n",
      "tiles: 136it [00:01, 83.81it/s]\u001b[A"
     ]
    },
    {
     "name": "stdout",
     "output_type": "stream",
     "text": [
      "\r",
      "[#############                           ] | 33% Completed | 16.9s"
     ]
    },
    {
     "name": "stderr",
     "output_type": "stream",
     "text": [
      "\n",
      "tiles: 148it [00:01, 91.38it/s]\u001b[A"
     ]
    },
    {
     "name": "stdout",
     "output_type": "stream",
     "text": [
      "\r",
      "[#############                           ] | 33% Completed | 17.0s"
     ]
    },
    {
     "name": "stderr",
     "output_type": "stream",
     "text": [
      "\n",
      "tiles: 161it [00:01, 98.33it/s]\u001b[A"
     ]
    },
    {
     "name": "stdout",
     "output_type": "stream",
     "text": [
      "\r",
      "[#############                           ] | 33% Completed | 17.1s"
     ]
    },
    {
     "name": "stderr",
     "output_type": "stream",
     "text": [
      "\n",
      "tiles: 174it [00:01, 105.65it/s]\u001b[A"
     ]
    },
    {
     "name": "stdout",
     "output_type": "stream",
     "text": [
      "\r",
      "[#############                           ] | 33% Completed | 17.2s"
     ]
    },
    {
     "name": "stderr",
     "output_type": "stream",
     "text": [
      "\n",
      "tiles: 186it [00:01, 108.15it/s]\u001b[A"
     ]
    },
    {
     "name": "stdout",
     "output_type": "stream",
     "text": [
      "\r",
      "[#############                           ] | 33% Completed | 17.3s"
     ]
    },
    {
     "name": "stderr",
     "output_type": "stream",
     "text": [
      "\n",
      "tiles: 198it [00:01, 110.93it/s]\u001b[A"
     ]
    },
    {
     "name": "stdout",
     "output_type": "stream",
     "text": [
      "\r",
      "[#############                           ] | 33% Completed | 17.4s"
     ]
    },
    {
     "name": "stderr",
     "output_type": "stream",
     "text": [
      "\n",
      "tiles: 211it [00:02, 113.84it/s]\u001b[A"
     ]
    },
    {
     "name": "stdout",
     "output_type": "stream",
     "text": [
      "\r",
      "[#############                           ] | 33% Completed | 17.5s"
     ]
    },
    {
     "name": "stderr",
     "output_type": "stream",
     "text": [
      "\n",
      "tiles: 223it [00:02, 115.06it/s]\u001b[A"
     ]
    },
    {
     "name": "stdout",
     "output_type": "stream",
     "text": [
      "\r",
      "[#############                           ] | 33% Completed | 17.6s"
     ]
    },
    {
     "name": "stderr",
     "output_type": "stream",
     "text": [
      "\n",
      "tiles: 235it [00:02, 108.70it/s]\u001b[A"
     ]
    },
    {
     "name": "stdout",
     "output_type": "stream",
     "text": [
      "\r",
      "[#############                           ] | 33% Completed | 17.7s"
     ]
    },
    {
     "name": "stderr",
     "output_type": "stream",
     "text": [
      "\n",
      "tiles: 247it [00:02, 109.83it/s]\u001b[A"
     ]
    },
    {
     "name": "stdout",
     "output_type": "stream",
     "text": [
      "\r",
      "[#############                           ] | 33% Completed | 17.8s"
     ]
    },
    {
     "name": "stderr",
     "output_type": "stream",
     "text": [
      "\n",
      "tiles: 259it [00:02, 112.56it/s]\u001b[A"
     ]
    },
    {
     "name": "stdout",
     "output_type": "stream",
     "text": [
      "[#############                           ] | 33% Completed | 18.0s"
     ]
    },
    {
     "name": "stderr",
     "output_type": "stream",
     "text": [
      "\n",
      "tiles: 271it [00:02, 111.97it/s]\u001b[A"
     ]
    },
    {
     "name": "stdout",
     "output_type": "stream",
     "text": [
      "\r",
      "[#############                           ] | 33% Completed | 18.2s"
     ]
    },
    {
     "name": "stderr",
     "output_type": "stream",
     "text": [
      "\n",
      "tiles: 285it [00:02, 119.06it/s]\u001b[A"
     ]
    },
    {
     "name": "stdout",
     "output_type": "stream",
     "text": [
      "\r",
      "[#############                           ] | 33% Completed | 18.3s"
     ]
    },
    {
     "name": "stderr",
     "output_type": "stream",
     "text": [
      "\n",
      "tiles: 306it [00:02, 107.70it/s]\u001b[A\n",
      "level: 100%|██████████| 14/14 [00:05<00:00,  2.53it/s]\n"
     ]
    },
    {
     "name": "stdout",
     "output_type": "stream",
     "text": [
      "\r",
      "[####################                    ] | 50% Completed | 18.4s"
     ]
    },
    {
     "name": "stderr",
     "output_type": "stream",
     "text": [
      "level:   0%|          | 0/14 [00:00<?, ?it/s]\n",
      "tiles: 1it [00:00, 254.66it/s]\n",
      "\n",
      "tiles: 1it [00:00, 166.03it/s]\n"
     ]
    },
    {
     "name": "stdout",
     "output_type": "stream",
     "text": [
      "\r",
      "[####################                    ] | 50% Completed | 18.5s"
     ]
    },
    {
     "name": "stderr",
     "output_type": "stream",
     "text": [
      "\n",
      "tiles: 1it [00:00, 110.49it/s]\n",
      "level:  21%|██▏       | 3/14 [00:00<00:00, 19.76it/s]"
     ]
    },
    {
     "name": "stdout",
     "output_type": "stream",
     "text": [
      "[####################                    ] | 50% Completed | 18.7s"
     ]
    },
    {
     "name": "stderr",
     "output_type": "stream",
     "text": [
      "\n",
      "tiles: 1it [00:00, 120.98it/s]\n",
      "level:  29%|██▊       | 4/14 [00:00<00:00, 12.13it/s]"
     ]
    },
    {
     "name": "stdout",
     "output_type": "stream",
     "text": [
      "\r",
      "[####################                    ] | 50% Completed | 18.8s"
     ]
    },
    {
     "name": "stderr",
     "output_type": "stream",
     "text": [
      "\n",
      "tiles: 1it [00:00, 138.87it/s]\n",
      "level:  36%|███▌      | 5/14 [00:00<00:00,  9.23it/s]"
     ]
    },
    {
     "name": "stdout",
     "output_type": "stream",
     "text": [
      "[####################                    ] | 50% Completed | 19.0s"
     ]
    },
    {
     "name": "stderr",
     "output_type": "stream",
     "text": [
      "\n",
      "tiles: 1it [00:00, 140.38it/s]\n",
      "level:  43%|████▎     | 6/14 [00:00<00:00,  8.69it/s]"
     ]
    },
    {
     "name": "stdout",
     "output_type": "stream",
     "text": [
      "\r",
      "[####################                    ] | 50% Completed | 19.1s"
     ]
    },
    {
     "name": "stderr",
     "output_type": "stream",
     "text": [
      "\n",
      "tiles: 1it [00:00, 108.93it/s]\n",
      "level:  50%|█████     | 7/14 [00:00<00:00,  8.52it/s]"
     ]
    },
    {
     "name": "stdout",
     "output_type": "stream",
     "text": [
      "\r",
      "[####################                    ] | 50% Completed | 19.2s"
     ]
    },
    {
     "name": "stderr",
     "output_type": "stream",
     "text": [
      "\n",
      "tiles: 1it [00:00, 67.68it/s]\n",
      "level:  57%|█████▋    | 8/14 [00:00<00:00,  8.15it/s]"
     ]
    },
    {
     "name": "stdout",
     "output_type": "stream",
     "text": [
      "\r",
      "[####################                    ] | 50% Completed | 19.3s"
     ]
    },
    {
     "name": "stderr",
     "output_type": "stream",
     "text": [
      "\n",
      "tiles: 0it [00:00, ?it/s]\u001b[A"
     ]
    },
    {
     "name": "stdout",
     "output_type": "stream",
     "text": [
      "\r",
      "[####################                    ] | 50% Completed | 19.4s"
     ]
    },
    {
     "name": "stderr",
     "output_type": "stream",
     "text": [
      "tiles: 1it [00:00, 137.42it/s]\n",
      "level:  64%|██████▍   | 9/14 [00:01<00:00,  7.84it/s]"
     ]
    },
    {
     "name": "stdout",
     "output_type": "stream",
     "text": [
      "\r",
      "[####################                    ] | 50% Completed | 19.5s"
     ]
    },
    {
     "name": "stderr",
     "output_type": "stream",
     "text": [
      "\n",
      "tiles: 4it [00:00, 167.51it/s]\n",
      "level:  71%|███████▏  | 10/14 [00:01<00:00,  7.19it/s]"
     ]
    },
    {
     "name": "stdout",
     "output_type": "stream",
     "text": [
      "[####################                    ] | 50% Completed | 19.7s"
     ]
    },
    {
     "name": "stderr",
     "output_type": "stream",
     "text": [
      "\n",
      "tiles: 0it [00:00, ?it/s]\u001b[A"
     ]
    },
    {
     "name": "stdout",
     "output_type": "stream",
     "text": [
      "\r",
      "[####################                    ] | 50% Completed | 19.8s"
     ]
    },
    {
     "name": "stderr",
     "output_type": "stream",
     "text": [
      "tiles: 9it [00:00, 111.54it/s]\n",
      "level:  79%|███████▊  | 11/14 [00:01<00:00,  5.73it/s]"
     ]
    },
    {
     "name": "stdout",
     "output_type": "stream",
     "text": [
      "[####################                    ] | 50% Completed | 20.0s"
     ]
    },
    {
     "name": "stderr",
     "output_type": "stream",
     "text": [
      "\n",
      "tiles: 0it [00:00, ?it/s]\u001b[A"
     ]
    },
    {
     "name": "stdout",
     "output_type": "stream",
     "text": [
      "\r",
      "[####################                    ] | 50% Completed | 20.1s"
     ]
    },
    {
     "name": "stderr",
     "output_type": "stream",
     "text": [
      "\n",
      "tiles: 11it [00:00, 102.90it/s]\u001b[A"
     ]
    },
    {
     "name": "stdout",
     "output_type": "stream",
     "text": [
      "\r",
      "[####################                    ] | 50% Completed | 20.2s"
     ]
    },
    {
     "name": "stderr",
     "output_type": "stream",
     "text": [
      "\n",
      "tiles: 25it [00:00, 119.12it/s]\u001b[A\n",
      "level:  86%|████████▌ | 12/14 [00:01<00:00,  3.93it/s]"
     ]
    },
    {
     "name": "stdout",
     "output_type": "stream",
     "text": [
      "[####################                    ] | 50% Completed | 20.5s"
     ]
    },
    {
     "name": "stderr",
     "output_type": "stream",
     "text": [
      "\n",
      "tiles: 0it [00:00, ?it/s]\u001b[A"
     ]
    },
    {
     "name": "stdout",
     "output_type": "stream",
     "text": [
      "\r",
      "[####################                    ] | 50% Completed | 20.6s"
     ]
    },
    {
     "name": "stderr",
     "output_type": "stream",
     "text": [
      "\n",
      "tiles: 13it [00:00, 128.98it/s]\u001b[A"
     ]
    },
    {
     "name": "stdout",
     "output_type": "stream",
     "text": [
      "\r",
      "[####################                    ] | 50% Completed | 20.7s"
     ]
    },
    {
     "name": "stderr",
     "output_type": "stream",
     "text": [
      "\n",
      "tiles: 23it [00:00, 117.23it/s]\u001b[A"
     ]
    },
    {
     "name": "stdout",
     "output_type": "stream",
     "text": [
      "\r",
      "[####################                    ] | 50% Completed | 20.8s"
     ]
    },
    {
     "name": "stderr",
     "output_type": "stream",
     "text": [
      "\n",
      "tiles: 32it [00:00, 106.14it/s]\u001b[A"
     ]
    },
    {
     "name": "stdout",
     "output_type": "stream",
     "text": [
      "\r",
      "[####################                    ] | 50% Completed | 20.9s"
     ]
    },
    {
     "name": "stderr",
     "output_type": "stream",
     "text": [
      "\n",
      "tiles: 41it [00:00, 96.82it/s] \u001b[A"
     ]
    },
    {
     "name": "stdout",
     "output_type": "stream",
     "text": [
      "\r",
      "[####################                    ] | 50% Completed | 21.0s"
     ]
    },
    {
     "name": "stderr",
     "output_type": "stream",
     "text": [
      "\n",
      "tiles: 50it [00:00, 93.14it/s]\u001b[A"
     ]
    },
    {
     "name": "stdout",
     "output_type": "stream",
     "text": [
      "\r",
      "[####################                    ] | 50% Completed | 21.1s"
     ]
    },
    {
     "name": "stderr",
     "output_type": "stream",
     "text": [
      "\n",
      "tiles: 58it [00:00, 81.33it/s]\u001b[A"
     ]
    },
    {
     "name": "stdout",
     "output_type": "stream",
     "text": [
      "[####################                    ] | 50% Completed | 21.3s"
     ]
    },
    {
     "name": "stderr",
     "output_type": "stream",
     "text": [
      "\n",
      "tiles: 68it [00:00, 84.29it/s]\u001b[A"
     ]
    },
    {
     "name": "stdout",
     "output_type": "stream",
     "text": [
      "\r",
      "[####################                    ] | 50% Completed | 21.4s"
     ]
    },
    {
     "name": "stderr",
     "output_type": "stream",
     "text": [
      "\n",
      "tiles: 81it [00:00, 91.90it/s]\u001b[A\n",
      "level:  93%|█████████▎| 13/14 [00:03<00:00,  1.87it/s]\n",
      "tiles: 0it [00:00, ?it/s]\u001b[A"
     ]
    },
    {
     "name": "stdout",
     "output_type": "stream",
     "text": [
      "\r",
      "[####################                    ] | 50% Completed | 21.5s"
     ]
    },
    {
     "name": "stderr",
     "output_type": "stream",
     "text": [
      "\n",
      "tiles: 6it [00:00, 55.08it/s]\u001b[A"
     ]
    },
    {
     "name": "stdout",
     "output_type": "stream",
     "text": [
      "\r",
      "[####################                    ] | 50% Completed | 21.6s"
     ]
    },
    {
     "name": "stderr",
     "output_type": "stream",
     "text": [
      "\n",
      "tiles: 19it [00:00, 65.99it/s]\u001b[A"
     ]
    },
    {
     "name": "stdout",
     "output_type": "stream",
     "text": [
      "\r",
      "[####################                    ] | 50% Completed | 21.7s"
     ]
    },
    {
     "name": "stderr",
     "output_type": "stream",
     "text": [
      "\n",
      "tiles: 31it [00:00, 75.52it/s]\u001b[A"
     ]
    },
    {
     "name": "stdout",
     "output_type": "stream",
     "text": [
      "\r",
      "[####################                    ] | 50% Completed | 21.8s"
     ]
    },
    {
     "name": "stderr",
     "output_type": "stream",
     "text": [
      "\n",
      "tiles: 42it [00:00, 82.15it/s]\u001b[A"
     ]
    },
    {
     "name": "stdout",
     "output_type": "stream",
     "text": [
      "\r",
      "[####################                    ] | 50% Completed | 21.9s"
     ]
    },
    {
     "name": "stderr",
     "output_type": "stream",
     "text": [
      "\n",
      "tiles: 54it [00:00, 90.13it/s]\u001b[A"
     ]
    },
    {
     "name": "stdout",
     "output_type": "stream",
     "text": [
      "\r",
      "[####################                    ] | 50% Completed | 22.0s"
     ]
    },
    {
     "name": "stderr",
     "output_type": "stream",
     "text": [
      "\n",
      "tiles: 64it [00:00, 90.85it/s]\u001b[A"
     ]
    },
    {
     "name": "stdout",
     "output_type": "stream",
     "text": [
      "\r",
      "[####################                    ] | 50% Completed | 22.1s"
     ]
    },
    {
     "name": "stderr",
     "output_type": "stream",
     "text": [
      "\n",
      "tiles: 74it [00:00, 89.57it/s]\u001b[A"
     ]
    },
    {
     "name": "stdout",
     "output_type": "stream",
     "text": [
      "\r",
      "[####################                    ] | 50% Completed | 22.2s"
     ]
    },
    {
     "name": "stderr",
     "output_type": "stream",
     "text": [
      "\n",
      "tiles: 84it [00:00, 91.14it/s]\u001b[A"
     ]
    },
    {
     "name": "stdout",
     "output_type": "stream",
     "text": [
      "\r",
      "[####################                    ] | 50% Completed | 22.3s"
     ]
    },
    {
     "name": "stderr",
     "output_type": "stream",
     "text": [
      "\n",
      "tiles: 94it [00:00, 88.64it/s]\u001b[A"
     ]
    },
    {
     "name": "stdout",
     "output_type": "stream",
     "text": [
      "[####################                    ] | 50% Completed | 22.5s"
     ]
    },
    {
     "name": "stderr",
     "output_type": "stream",
     "text": [
      "\n",
      "tiles: 104it [00:01, 89.91it/s]\u001b[A"
     ]
    },
    {
     "name": "stdout",
     "output_type": "stream",
     "text": [
      "\r",
      "[####################                    ] | 50% Completed | 22.6s"
     ]
    },
    {
     "name": "stderr",
     "output_type": "stream",
     "text": [
      "\n",
      "tiles: 115it [00:01, 93.41it/s]\u001b[A"
     ]
    },
    {
     "name": "stdout",
     "output_type": "stream",
     "text": [
      "\r",
      "[####################                    ] | 50% Completed | 22.7s"
     ]
    },
    {
     "name": "stderr",
     "output_type": "stream",
     "text": [
      "\n",
      "tiles: 127it [00:01, 98.14it/s]\u001b[A"
     ]
    },
    {
     "name": "stdout",
     "output_type": "stream",
     "text": [
      "\r",
      "[####################                    ] | 50% Completed | 22.8s"
     ]
    },
    {
     "name": "stderr",
     "output_type": "stream",
     "text": [
      "\n",
      "tiles: 137it [00:01, 98.64it/s]\u001b[A"
     ]
    },
    {
     "name": "stdout",
     "output_type": "stream",
     "text": [
      "\r",
      "[####################                    ] | 50% Completed | 22.9s"
     ]
    },
    {
     "name": "stderr",
     "output_type": "stream",
     "text": [
      "\n",
      "tiles: 147it [00:01, 91.13it/s]\u001b[A"
     ]
    },
    {
     "name": "stdout",
     "output_type": "stream",
     "text": [
      "\r",
      "[####################                    ] | 50% Completed | 23.0s"
     ]
    },
    {
     "name": "stderr",
     "output_type": "stream",
     "text": [
      "\n",
      "tiles: 157it [00:01, 93.51it/s]\u001b[A"
     ]
    },
    {
     "name": "stdout",
     "output_type": "stream",
     "text": [
      "\r",
      "[####################                    ] | 50% Completed | 23.1s"
     ]
    },
    {
     "name": "stderr",
     "output_type": "stream",
     "text": [
      "\n",
      "tiles: 167it [00:01, 90.77it/s]\u001b[A"
     ]
    },
    {
     "name": "stdout",
     "output_type": "stream",
     "text": [
      "\r",
      "[####################                    ] | 50% Completed | 23.2s"
     ]
    },
    {
     "name": "stderr",
     "output_type": "stream",
     "text": [
      "\n",
      "tiles: 177it [00:01, 90.70it/s]\u001b[A"
     ]
    },
    {
     "name": "stdout",
     "output_type": "stream",
     "text": [
      "\r",
      "[####################                    ] | 50% Completed | 23.3s"
     ]
    },
    {
     "name": "stderr",
     "output_type": "stream",
     "text": [
      "\n",
      "tiles: 188it [00:01, 95.13it/s]\u001b[A"
     ]
    },
    {
     "name": "stdout",
     "output_type": "stream",
     "text": [
      "\r",
      "[####################                    ] | 50% Completed | 23.4s"
     ]
    },
    {
     "name": "stderr",
     "output_type": "stream",
     "text": [
      "\n",
      "tiles: 200it [00:02, 99.79it/s]\u001b[A"
     ]
    },
    {
     "name": "stdout",
     "output_type": "stream",
     "text": [
      "\r",
      "[####################                    ] | 50% Completed | 23.5s"
     ]
    },
    {
     "name": "stderr",
     "output_type": "stream",
     "text": [
      "\n",
      "tiles: 211it [00:02, 102.41it/s]\u001b[A"
     ]
    },
    {
     "name": "stdout",
     "output_type": "stream",
     "text": [
      "\r",
      "[####################                    ] | 50% Completed | 23.6s"
     ]
    },
    {
     "name": "stderr",
     "output_type": "stream",
     "text": [
      "\n",
      "tiles: 222it [00:02, 102.11it/s]\u001b[A"
     ]
    },
    {
     "name": "stdout",
     "output_type": "stream",
     "text": [
      "[####################                    ] | 50% Completed | 23.8s"
     ]
    },
    {
     "name": "stderr",
     "output_type": "stream",
     "text": [
      "\n",
      "tiles: 233it [00:02, 97.56it/s] \u001b[A"
     ]
    },
    {
     "name": "stdout",
     "output_type": "stream",
     "text": [
      "\r",
      "[####################                    ] | 50% Completed | 23.9s"
     ]
    },
    {
     "name": "stderr",
     "output_type": "stream",
     "text": [
      "\n",
      "tiles: 245it [00:02, 101.85it/s]\u001b[A"
     ]
    },
    {
     "name": "stdout",
     "output_type": "stream",
     "text": [
      "\r",
      "[####################                    ] | 50% Completed | 24.0s"
     ]
    },
    {
     "name": "stderr",
     "output_type": "stream",
     "text": [
      "\n",
      "tiles: 257it [00:02, 104.49it/s]\u001b[A"
     ]
    },
    {
     "name": "stdout",
     "output_type": "stream",
     "text": [
      "\r",
      "[####################                    ] | 50% Completed | 24.1s"
     ]
    },
    {
     "name": "stderr",
     "output_type": "stream",
     "text": [
      "\n",
      "tiles: 268it [00:02, 98.04it/s] \u001b[A"
     ]
    },
    {
     "name": "stdout",
     "output_type": "stream",
     "text": [
      "\r",
      "[####################                    ] | 50% Completed | 24.2s"
     ]
    },
    {
     "name": "stderr",
     "output_type": "stream",
     "text": [
      "\n",
      "tiles: 278it [00:02, 94.30it/s]\u001b[A"
     ]
    },
    {
     "name": "stdout",
     "output_type": "stream",
     "text": [
      "\r",
      "[####################                    ] | 50% Completed | 24.3s"
     ]
    },
    {
     "name": "stderr",
     "output_type": "stream",
     "text": [
      "\n",
      "tiles: 291it [00:02, 102.39it/s]\u001b[A"
     ]
    },
    {
     "name": "stdout",
     "output_type": "stream",
     "text": [
      "\r",
      "[####################                    ] | 50% Completed | 24.4s"
     ]
    },
    {
     "name": "stderr",
     "output_type": "stream",
     "text": [
      "\n",
      "tiles: 306it [00:03, 99.51it/s] \u001b[A\n",
      "level: 100%|██████████| 14/14 [00:06<00:00,  2.28it/s]"
     ]
    },
    {
     "name": "stdout",
     "output_type": "stream",
     "text": [
      "\r",
      "[##########################              ] | 66% Completed | 24.5s"
     ]
    },
    {
     "name": "stderr",
     "output_type": "stream",
     "text": [
      "\n",
      "level:   0%|          | 0/14 [00:00<?, ?it/s]\n",
      "tiles: 1it [00:00, 268.62it/s]"
     ]
    },
    {
     "name": "stdout",
     "output_type": "stream",
     "text": [
      "\r",
      "[##########################              ] | 66% Completed | 24.6s"
     ]
    },
    {
     "name": "stderr",
     "output_type": "stream",
     "text": [
      "\n",
      "\n",
      "tiles: 1it [00:00, 195.16it/s]\n",
      "\n",
      "tiles: 0it [00:00, ?it/s]\u001b[A"
     ]
    },
    {
     "name": "stdout",
     "output_type": "stream",
     "text": [
      "\r",
      "[##########################              ] | 66% Completed | 24.7s"
     ]
    },
    {
     "name": "stderr",
     "output_type": "stream",
     "text": [
      "tiles: 1it [00:00, 161.53it/s]\n",
      "level:  21%|██▏       | 3/14 [00:00<00:00, 19.82it/s]\n",
      "tiles: 0it [00:00, ?it/s]\u001b[A"
     ]
    },
    {
     "name": "stdout",
     "output_type": "stream",
     "text": [
      "\r",
      "[##########################              ] | 66% Completed | 24.8s"
     ]
    },
    {
     "name": "stderr",
     "output_type": "stream",
     "text": [
      "tiles: 1it [00:00, 137.27it/s]\n",
      "\n"
     ]
    },
    {
     "name": "stdout",
     "output_type": "stream",
     "text": [
      "\r",
      "[##########################              ] | 66% Completed | 24.9s"
     ]
    },
    {
     "name": "stderr",
     "output_type": "stream",
     "text": [
      "tiles: 1it [00:00, 126.98it/s]\n",
      "level:  36%|███▌      | 5/14 [00:00<00:00, 15.09it/s]"
     ]
    },
    {
     "name": "stdout",
     "output_type": "stream",
     "text": [
      "\r",
      "[##########################              ] | 66% Completed | 25.0s"
     ]
    },
    {
     "name": "stderr",
     "output_type": "stream",
     "text": [
      "\n",
      "tiles: 1it [00:00, 102.08it/s]\n",
      "level:  43%|████▎     | 6/14 [00:00<00:00, 12.04it/s]"
     ]
    },
    {
     "name": "stdout",
     "output_type": "stream",
     "text": [
      "\r",
      "[##########################              ] | 66% Completed | 25.1s"
     ]
    },
    {
     "name": "stderr",
     "output_type": "stream",
     "text": [
      "\n",
      "tiles: 1it [00:00, 104.88it/s]\n",
      "level:  50%|█████     | 7/14 [00:00<00:00, 10.28it/s]"
     ]
    },
    {
     "name": "stdout",
     "output_type": "stream",
     "text": [
      "\r",
      "[##########################              ] | 66% Completed | 25.2s"
     ]
    },
    {
     "name": "stderr",
     "output_type": "stream",
     "text": [
      "\n",
      "tiles: 1it [00:00, 123.78it/s]\n",
      "level:  57%|█████▋    | 8/14 [00:00<00:00,  9.16it/s]"
     ]
    },
    {
     "name": "stdout",
     "output_type": "stream",
     "text": [
      "[##########################              ] | 66% Completed | 25.4s"
     ]
    },
    {
     "name": "stderr",
     "output_type": "stream",
     "text": [
      "\n",
      "tiles: 1it [00:00, 145.38it/s]\n",
      "level:  64%|██████▍   | 9/14 [00:00<00:00,  8.42it/s]"
     ]
    },
    {
     "name": "stdout",
     "output_type": "stream",
     "text": [
      "\r",
      "[##########################              ] | 66% Completed | 25.5s"
     ]
    },
    {
     "name": "stderr",
     "output_type": "stream",
     "text": [
      "\n",
      "tiles: 0it [00:00, ?it/s]\u001b[A"
     ]
    },
    {
     "name": "stdout",
     "output_type": "stream",
     "text": [
      "\r",
      "[##########################              ] | 66% Completed | 25.6s"
     ]
    },
    {
     "name": "stderr",
     "output_type": "stream",
     "text": [
      "tiles: 4it [00:00, 177.93it/s]\n",
      "level:  71%|███████▏  | 10/14 [00:01<00:00,  7.46it/s]"
     ]
    },
    {
     "name": "stdout",
     "output_type": "stream",
     "text": [
      "\r",
      "[##########################              ] | 66% Completed | 25.7s"
     ]
    },
    {
     "name": "stderr",
     "output_type": "stream",
     "text": [
      "\n",
      "tiles: 0it [00:00, ?it/s]\u001b[A"
     ]
    },
    {
     "name": "stdout",
     "output_type": "stream",
     "text": [
      "\r",
      "[##########################              ] | 66% Completed | 25.9s"
     ]
    },
    {
     "name": "stderr",
     "output_type": "stream",
     "text": [
      "tiles: 9it [00:00, 129.71it/s]\n",
      "level:  79%|███████▊  | 11/14 [00:01<00:00,  6.00it/s]"
     ]
    },
    {
     "name": "stdout",
     "output_type": "stream",
     "text": [
      "[##########################              ] | 66% Completed | 26.1s"
     ]
    },
    {
     "name": "stderr",
     "output_type": "stream",
     "text": [
      "\n",
      "tiles: 0it [00:00, ?it/s]\u001b[A"
     ]
    },
    {
     "name": "stdout",
     "output_type": "stream",
     "text": [
      "\r",
      "[##########################              ] | 66% Completed | 26.2s"
     ]
    },
    {
     "name": "stderr",
     "output_type": "stream",
     "text": [
      "\n",
      "tiles: 12it [00:00, 116.79it/s]\u001b[A"
     ]
    },
    {
     "name": "stdout",
     "output_type": "stream",
     "text": [
      "\r",
      "[##########################              ] | 66% Completed | 26.3s"
     ]
    },
    {
     "name": "stderr",
     "output_type": "stream",
     "text": [
      "\n",
      "tiles: 25it [00:00, 117.57it/s]\u001b[A\n",
      "level:  86%|████████▌ | 12/14 [00:01<00:00,  4.01it/s]"
     ]
    },
    {
     "name": "stdout",
     "output_type": "stream",
     "text": [
      "[##########################              ] | 66% Completed | 26.6s"
     ]
    },
    {
     "name": "stderr",
     "output_type": "stream",
     "text": [
      "\n",
      "tiles: 0it [00:00, ?it/s]\u001b[A"
     ]
    },
    {
     "name": "stdout",
     "output_type": "stream",
     "text": [
      "\r",
      "[##########################              ] | 66% Completed | 26.7s"
     ]
    },
    {
     "name": "stderr",
     "output_type": "stream",
     "text": [
      "\n",
      "tiles: 13it [00:00, 128.94it/s]\u001b[A"
     ]
    },
    {
     "name": "stdout",
     "output_type": "stream",
     "text": [
      "\r",
      "[##########################              ] | 66% Completed | 26.8s"
     ]
    },
    {
     "name": "stderr",
     "output_type": "stream",
     "text": [
      "\n",
      "tiles: 22it [00:00, 112.13it/s]\u001b[A"
     ]
    },
    {
     "name": "stdout",
     "output_type": "stream",
     "text": [
      "[##########################              ] | 66% Completed | 27.0s"
     ]
    },
    {
     "name": "stderr",
     "output_type": "stream",
     "text": [
      "\n",
      "tiles: 31it [00:00, 92.13it/s] \u001b[A"
     ]
    },
    {
     "name": "stdout",
     "output_type": "stream",
     "text": [
      "\r",
      "[##########################              ] | 66% Completed | 27.1s"
     ]
    },
    {
     "name": "stderr",
     "output_type": "stream",
     "text": [
      "\n",
      "tiles: 38it [00:00, 80.89it/s]\u001b[A"
     ]
    },
    {
     "name": "stdout",
     "output_type": "stream",
     "text": [
      "\r",
      "[##########################              ] | 66% Completed | 27.2s"
     ]
    },
    {
     "name": "stderr",
     "output_type": "stream",
     "text": [
      "\n",
      "tiles: 47it [00:00, 81.00it/s]\u001b[A"
     ]
    },
    {
     "name": "stdout",
     "output_type": "stream",
     "text": [
      "\r",
      "[##########################              ] | 66% Completed | 27.3s"
     ]
    },
    {
     "name": "stderr",
     "output_type": "stream",
     "text": [
      "\n",
      "tiles: 54it [00:00, 71.41it/s]\u001b[A"
     ]
    },
    {
     "name": "stdout",
     "output_type": "stream",
     "text": [
      "\r",
      "[##########################              ] | 66% Completed | 27.4s"
     ]
    },
    {
     "name": "stderr",
     "output_type": "stream",
     "text": [
      "\n",
      "tiles: 61it [00:00, 65.36it/s]\u001b[A"
     ]
    },
    {
     "name": "stdout",
     "output_type": "stream",
     "text": [
      "\r",
      "[##########################              ] | 66% Completed | 27.5s"
     ]
    },
    {
     "name": "stderr",
     "output_type": "stream",
     "text": [
      "\n",
      "tiles: 68it [00:00, 66.54it/s]\u001b[A"
     ]
    },
    {
     "name": "stdout",
     "output_type": "stream",
     "text": [
      "\r",
      "[##########################              ] | 66% Completed | 27.6s"
     ]
    },
    {
     "name": "stderr",
     "output_type": "stream",
     "text": [
      "\n",
      "tiles: 79it [00:01, 75.14it/s]\u001b[A"
     ]
    },
    {
     "name": "stdout",
     "output_type": "stream",
     "text": [
      "\r",
      "[##########################              ] | 66% Completed | 27.7s"
     ]
    },
    {
     "name": "stderr",
     "output_type": "stream",
     "text": [
      "tiles: 81it [00:01, 78.07it/s]\n",
      "level:  93%|█████████▎| 13/14 [00:03<00:00,  1.73it/s]\n",
      "tiles: 0it [00:00, ?it/s]\u001b[A"
     ]
    },
    {
     "name": "stdout",
     "output_type": "stream",
     "text": [
      "\r",
      "[##########################              ] | 66% Completed | 27.8s"
     ]
    },
    {
     "name": "stderr",
     "output_type": "stream",
     "text": [
      "\n",
      "tiles: 15it [00:00, 140.53it/s]\u001b[A"
     ]
    },
    {
     "name": "stdout",
     "output_type": "stream",
     "text": [
      "\r",
      "[##########################              ] | 66% Completed | 27.9s"
     ]
    },
    {
     "name": "stderr",
     "output_type": "stream",
     "text": [
      "\n",
      "tiles: 29it [00:00, 137.15it/s]\u001b[A"
     ]
    },
    {
     "name": "stdout",
     "output_type": "stream",
     "text": [
      "\r",
      "[##########################              ] | 66% Completed | 28.0s"
     ]
    },
    {
     "name": "stderr",
     "output_type": "stream",
     "text": [
      "\n",
      "tiles: 41it [00:00, 129.50it/s]\u001b[A"
     ]
    },
    {
     "name": "stdout",
     "output_type": "stream",
     "text": [
      "\r",
      "[##########################              ] | 66% Completed | 28.1s"
     ]
    },
    {
     "name": "stderr",
     "output_type": "stream",
     "text": [
      "\n",
      "tiles: 51it [00:00, 117.12it/s]\u001b[A"
     ]
    },
    {
     "name": "stdout",
     "output_type": "stream",
     "text": [
      "\r",
      "[##########################              ] | 66% Completed | 28.2s"
     ]
    },
    {
     "name": "stderr",
     "output_type": "stream",
     "text": [
      "\n",
      "tiles: 61it [00:00, 98.42it/s] \u001b[A"
     ]
    },
    {
     "name": "stdout",
     "output_type": "stream",
     "text": [
      "\r",
      "[##########################              ] | 66% Completed | 28.3s"
     ]
    },
    {
     "name": "stderr",
     "output_type": "stream",
     "text": [
      "\n",
      "tiles: 73it [00:00, 102.67it/s]\u001b[A"
     ]
    },
    {
     "name": "stdout",
     "output_type": "stream",
     "text": [
      "\r",
      "[##########################              ] | 66% Completed | 28.4s"
     ]
    },
    {
     "name": "stderr",
     "output_type": "stream",
     "text": [
      "\n",
      "tiles: 85it [00:00, 103.86it/s]\u001b[A"
     ]
    },
    {
     "name": "stdout",
     "output_type": "stream",
     "text": [
      "\r",
      "[##########################              ] | 66% Completed | 28.5s"
     ]
    },
    {
     "name": "stderr",
     "output_type": "stream",
     "text": [
      "\n",
      "tiles: 99it [00:00, 111.61it/s]\u001b[A"
     ]
    },
    {
     "name": "stdout",
     "output_type": "stream",
     "text": [
      "\r",
      "[##########################              ] | 66% Completed | 28.6s"
     ]
    },
    {
     "name": "stderr",
     "output_type": "stream",
     "text": [
      "\n",
      "tiles: 111it [00:00, 113.31it/s]\u001b[A"
     ]
    },
    {
     "name": "stdout",
     "output_type": "stream",
     "text": [
      "\r",
      "[##########################              ] | 66% Completed | 28.7s"
     ]
    },
    {
     "name": "stderr",
     "output_type": "stream",
     "text": [
      "\n",
      "tiles: 123it [00:01, 112.67it/s]\u001b[A"
     ]
    },
    {
     "name": "stdout",
     "output_type": "stream",
     "text": [
      "[##########################              ] | 66% Completed | 28.9s"
     ]
    },
    {
     "name": "stderr",
     "output_type": "stream",
     "text": [
      "\n",
      "tiles: 135it [00:01, 107.99it/s]\u001b[A"
     ]
    },
    {
     "name": "stdout",
     "output_type": "stream",
     "text": [
      "\r",
      "[##########################              ] | 66% Completed | 29.0s"
     ]
    },
    {
     "name": "stderr",
     "output_type": "stream",
     "text": [
      "\n",
      "tiles: 146it [00:01, 106.64it/s]\u001b[A"
     ]
    },
    {
     "name": "stdout",
     "output_type": "stream",
     "text": [
      "\r",
      "[##########################              ] | 66% Completed | 29.1s"
     ]
    },
    {
     "name": "stderr",
     "output_type": "stream",
     "text": [
      "\n",
      "tiles: 157it [00:01, 104.51it/s]\u001b[A"
     ]
    },
    {
     "name": "stdout",
     "output_type": "stream",
     "text": [
      "\r",
      "[##########################              ] | 66% Completed | 29.2s"
     ]
    },
    {
     "name": "stderr",
     "output_type": "stream",
     "text": [
      "\n",
      "tiles: 170it [00:01, 108.49it/s]\u001b[A"
     ]
    },
    {
     "name": "stdout",
     "output_type": "stream",
     "text": [
      "\r",
      "[##########################              ] | 66% Completed | 29.3s"
     ]
    },
    {
     "name": "stderr",
     "output_type": "stream",
     "text": [
      "\n",
      "tiles: 182it [00:01, 110.12it/s]\u001b[A"
     ]
    },
    {
     "name": "stdout",
     "output_type": "stream",
     "text": [
      "\r",
      "[##########################              ] | 66% Completed | 29.4s"
     ]
    },
    {
     "name": "stderr",
     "output_type": "stream",
     "text": [
      "\n",
      "tiles: 194it [00:01, 108.45it/s]\u001b[A"
     ]
    },
    {
     "name": "stdout",
     "output_type": "stream",
     "text": [
      "\r",
      "[##########################              ] | 66% Completed | 29.5s"
     ]
    },
    {
     "name": "stderr",
     "output_type": "stream",
     "text": [
      "\n",
      "tiles: 207it [00:01, 111.56it/s]\u001b[A"
     ]
    },
    {
     "name": "stdout",
     "output_type": "stream",
     "text": [
      "\r",
      "[##########################              ] | 66% Completed | 29.6s"
     ]
    },
    {
     "name": "stderr",
     "output_type": "stream",
     "text": [
      "\n",
      "tiles: 222it [00:01, 119.79it/s]\u001b[A"
     ]
    },
    {
     "name": "stdout",
     "output_type": "stream",
     "text": [
      "\r",
      "[##########################              ] | 66% Completed | 29.7s"
     ]
    },
    {
     "name": "stderr",
     "output_type": "stream",
     "text": [
      "\n",
      "tiles: 235it [00:02, 122.66it/s]\u001b[A"
     ]
    },
    {
     "name": "stdout",
     "output_type": "stream",
     "text": [
      "\r",
      "[##########################              ] | 66% Completed | 29.8s"
     ]
    },
    {
     "name": "stderr",
     "output_type": "stream",
     "text": [
      "\n",
      "tiles: 248it [00:02, 120.65it/s]\u001b[A"
     ]
    },
    {
     "name": "stdout",
     "output_type": "stream",
     "text": [
      "\r",
      "[##########################              ] | 66% Completed | 29.9s"
     ]
    },
    {
     "name": "stderr",
     "output_type": "stream",
     "text": [
      "\n",
      "tiles: 263it [00:02, 126.50it/s]\u001b[A"
     ]
    },
    {
     "name": "stdout",
     "output_type": "stream",
     "text": [
      "\r",
      "[##########################              ] | 66% Completed | 30.0s"
     ]
    },
    {
     "name": "stderr",
     "output_type": "stream",
     "text": [
      "\n",
      "tiles: 276it [00:02, 123.89it/s]\u001b[A"
     ]
    },
    {
     "name": "stdout",
     "output_type": "stream",
     "text": [
      "\r",
      "[##########################              ] | 66% Completed | 30.1s"
     ]
    },
    {
     "name": "stderr",
     "output_type": "stream",
     "text": [
      "\n",
      "tiles: 289it [00:02, 123.05it/s]\u001b[A"
     ]
    },
    {
     "name": "stdout",
     "output_type": "stream",
     "text": [
      "[##########################              ] | 66% Completed | 30.3s"
     ]
    },
    {
     "name": "stderr",
     "output_type": "stream",
     "text": [
      "\n",
      "tiles: 302it [00:02, 114.88it/s]\u001b[A"
     ]
    },
    {
     "name": "stdout",
     "output_type": "stream",
     "text": [
      "\r",
      "[##########################              ] | 66% Completed | 30.4s"
     ]
    },
    {
     "name": "stderr",
     "output_type": "stream",
     "text": [
      "\n",
      "tiles: 314it [00:02, 109.28it/s]\u001b[A"
     ]
    },
    {
     "name": "stdout",
     "output_type": "stream",
     "text": [
      "\r",
      "[##########################              ] | 66% Completed | 30.5s"
     ]
    },
    {
     "name": "stderr",
     "output_type": "stream",
     "text": [
      "tiles: 324it [00:02, 114.67it/s]\n",
      "level: 100%|██████████| 14/14 [00:05<00:00,  2.36it/s]\n"
     ]
    },
    {
     "name": "stdout",
     "output_type": "stream",
     "text": [
      "\r",
      "[#################################       ] | 83% Completed | 30.6s"
     ]
    },
    {
     "name": "stderr",
     "output_type": "stream",
     "text": [
      "level:   0%|          | 0/14 [00:00<?, ?it/s]\n",
      "tiles: 1it [00:00, 221.80it/s]"
     ]
    },
    {
     "name": "stdout",
     "output_type": "stream",
     "text": [
      "\r",
      "[#################################       ] | 83% Completed | 30.7s"
     ]
    },
    {
     "name": "stderr",
     "output_type": "stream",
     "text": [
      "\n",
      "\n",
      "tiles: 1it [00:00, 136.73it/s]\n",
      "level:  14%|█▍        | 2/14 [00:00<00:00, 17.83it/s]\n",
      "tiles: 1it [00:00, 155.30it/s]"
     ]
    },
    {
     "name": "stdout",
     "output_type": "stream",
     "text": [
      "\r",
      "[#################################       ] | 83% Completed | 30.8s"
     ]
    },
    {
     "name": "stderr",
     "output_type": "stream",
     "text": [
      "\n",
      "\n",
      "tiles: 1it [00:00, 184.07it/s]\n",
      "level:  29%|██▊       | 4/14 [00:00<00:00, 15.19it/s]"
     ]
    },
    {
     "name": "stdout",
     "output_type": "stream",
     "text": [
      "\r",
      "[#################################       ] | 83% Completed | 30.9s"
     ]
    },
    {
     "name": "stderr",
     "output_type": "stream",
     "text": [
      "\n",
      "tiles: 0it [00:00, ?it/s]\u001b[A"
     ]
    },
    {
     "name": "stdout",
     "output_type": "stream",
     "text": [
      "\r",
      "[#################################       ] | 83% Completed | 31.0s"
     ]
    },
    {
     "name": "stderr",
     "output_type": "stream",
     "text": [
      "tiles: 1it [00:00, 165.57it/s]\n",
      "level:  36%|███▌      | 5/14 [00:00<00:00, 12.57it/s]"
     ]
    },
    {
     "name": "stdout",
     "output_type": "stream",
     "text": [
      "\r",
      "[#################################       ] | 83% Completed | 31.1s"
     ]
    },
    {
     "name": "stderr",
     "output_type": "stream",
     "text": [
      "\n",
      "tiles: 1it [00:00, 144.49it/s]\n",
      "level:  43%|████▎     | 6/14 [00:00<00:00, 10.70it/s]"
     ]
    },
    {
     "name": "stdout",
     "output_type": "stream",
     "text": [
      "\r",
      "[#################################       ] | 83% Completed | 31.2s"
     ]
    },
    {
     "name": "stderr",
     "output_type": "stream",
     "text": [
      "\n",
      "tiles: 1it [00:00, 99.14it/s]\n",
      "level:  50%|█████     | 7/14 [00:00<00:00,  9.42it/s]"
     ]
    },
    {
     "name": "stdout",
     "output_type": "stream",
     "text": [
      "\r",
      "[#################################       ] | 83% Completed | 31.3s"
     ]
    },
    {
     "name": "stderr",
     "output_type": "stream",
     "text": [
      "\n",
      "tiles: 0it [00:00, ?it/s]\u001b[A"
     ]
    },
    {
     "name": "stdout",
     "output_type": "stream",
     "text": [
      "\r",
      "[#################################       ] | 83% Completed | 31.4s"
     ]
    },
    {
     "name": "stderr",
     "output_type": "stream",
     "text": [
      "tiles: 1it [00:00, 180.75it/s]\n",
      "level:  57%|█████▋    | 8/14 [00:00<00:00,  8.62it/s]"
     ]
    },
    {
     "name": "stdout",
     "output_type": "stream",
     "text": [
      "\r",
      "[#################################       ] | 83% Completed | 31.5s"
     ]
    },
    {
     "name": "stderr",
     "output_type": "stream",
     "text": [
      "\n",
      "tiles: 1it [00:00, 155.05it/s]\n",
      "level:  64%|██████▍   | 9/14 [00:00<00:00,  7.98it/s]"
     ]
    },
    {
     "name": "stdout",
     "output_type": "stream",
     "text": [
      "\r",
      "[#################################       ] | 83% Completed | 31.6s"
     ]
    },
    {
     "name": "stderr",
     "output_type": "stream",
     "text": [
      "\n",
      "tiles: 0it [00:00, ?it/s]\u001b[A"
     ]
    },
    {
     "name": "stdout",
     "output_type": "stream",
     "text": [
      "\r",
      "[#################################       ] | 83% Completed | 31.7s"
     ]
    },
    {
     "name": "stderr",
     "output_type": "stream",
     "text": [
      "tiles: 4it [00:00, 138.85it/s]\n",
      "level:  71%|███████▏  | 10/14 [00:01<00:00,  7.02it/s]"
     ]
    },
    {
     "name": "stdout",
     "output_type": "stream",
     "text": [
      "\r",
      "[#################################       ] | 83% Completed | 31.8s"
     ]
    },
    {
     "name": "stderr",
     "output_type": "stream",
     "text": [
      "\n",
      "tiles: 0it [00:00, ?it/s]\u001b[A"
     ]
    },
    {
     "name": "stdout",
     "output_type": "stream",
     "text": [
      "\r",
      "[#################################       ] | 83% Completed | 31.9s"
     ]
    },
    {
     "name": "stderr",
     "output_type": "stream",
     "text": [
      "tiles: 9it [00:00, 175.13it/s]\n",
      "level:  79%|███████▊  | 11/14 [00:01<00:00,  5.94it/s]"
     ]
    },
    {
     "name": "stdout",
     "output_type": "stream",
     "text": [
      "[#################################       ] | 83% Completed | 32.1s"
     ]
    },
    {
     "name": "stderr",
     "output_type": "stream",
     "text": [
      "\n",
      "tiles: 0it [00:00, ?it/s]\u001b[A"
     ]
    },
    {
     "name": "stdout",
     "output_type": "stream",
     "text": [
      "\r",
      "[#################################       ] | 83% Completed | 32.2s"
     ]
    },
    {
     "name": "stderr",
     "output_type": "stream",
     "text": [
      "\n",
      "tiles: 13it [00:00, 129.36it/s]\u001b[A"
     ]
    },
    {
     "name": "stdout",
     "output_type": "stream",
     "text": [
      "\r",
      "[#################################       ] | 83% Completed | 32.3s"
     ]
    },
    {
     "name": "stderr",
     "output_type": "stream",
     "text": [
      "tiles: 25it [00:00, 127.58it/s]\n",
      "level:  86%|████████▌ | 12/14 [00:01<00:00,  4.02it/s]"
     ]
    },
    {
     "name": "stdout",
     "output_type": "stream",
     "text": [
      "[#################################       ] | 83% Completed | 32.7s"
     ]
    },
    {
     "name": "stderr",
     "output_type": "stream",
     "text": [
      "\n",
      "tiles: 0it [00:00, ?it/s]\u001b[A"
     ]
    },
    {
     "name": "stdout",
     "output_type": "stream",
     "text": [
      "\r",
      "[#################################       ] | 83% Completed | 32.8s"
     ]
    },
    {
     "name": "stderr",
     "output_type": "stream",
     "text": [
      "\n",
      "tiles: 12it [00:00, 111.86it/s]\u001b[A"
     ]
    },
    {
     "name": "stdout",
     "output_type": "stream",
     "text": [
      "\r",
      "[#################################       ] | 83% Completed | 32.9s"
     ]
    },
    {
     "name": "stderr",
     "output_type": "stream",
     "text": [
      "\n",
      "tiles: 24it [00:00, 113.54it/s]\u001b[A"
     ]
    },
    {
     "name": "stdout",
     "output_type": "stream",
     "text": [
      "\r",
      "[#################################       ] | 83% Completed | 33.0s"
     ]
    },
    {
     "name": "stderr",
     "output_type": "stream",
     "text": [
      "\n",
      "tiles: 33it [00:00, 100.58it/s]\u001b[A"
     ]
    },
    {
     "name": "stdout",
     "output_type": "stream",
     "text": [
      "\r",
      "[#################################       ] | 83% Completed | 33.1s"
     ]
    },
    {
     "name": "stderr",
     "output_type": "stream",
     "text": [
      "\n",
      "tiles: 44it [00:00, 101.73it/s]\u001b[A"
     ]
    },
    {
     "name": "stdout",
     "output_type": "stream",
     "text": [
      "[#################################       ] | 83% Completed | 33.3s"
     ]
    },
    {
     "name": "stderr",
     "output_type": "stream",
     "text": [
      "\n",
      "tiles: 57it [00:00, 106.40it/s]\u001b[A"
     ]
    },
    {
     "name": "stdout",
     "output_type": "stream",
     "text": [
      "\r",
      "[#################################       ] | 83% Completed | 33.4s"
     ]
    },
    {
     "name": "stderr",
     "output_type": "stream",
     "text": [
      "\n",
      "tiles: 66it [00:00, 100.56it/s]\u001b[A"
     ]
    },
    {
     "name": "stdout",
     "output_type": "stream",
     "text": [
      "\r",
      "[#################################       ] | 83% Completed | 33.5s"
     ]
    },
    {
     "name": "stderr",
     "output_type": "stream",
     "text": [
      "\n",
      "tiles: 81it [00:00, 106.89it/s]\u001b[A\n",
      "level:  93%|█████████▎| 13/14 [00:02<00:00,  1.92it/s]\n",
      "tiles: 0it [00:00, ?it/s]\u001b[A"
     ]
    },
    {
     "name": "stdout",
     "output_type": "stream",
     "text": [
      "\r",
      "[#################################       ] | 83% Completed | 33.6s"
     ]
    },
    {
     "name": "stderr",
     "output_type": "stream",
     "text": [
      "\n",
      "tiles: 17it [00:00, 163.84it/s]\u001b[A"
     ]
    },
    {
     "name": "stdout",
     "output_type": "stream",
     "text": [
      "\r",
      "[#################################       ] | 83% Completed | 33.7s"
     ]
    },
    {
     "name": "stderr",
     "output_type": "stream",
     "text": [
      "\n",
      "tiles: 31it [00:00, 153.45it/s]\u001b[A"
     ]
    },
    {
     "name": "stdout",
     "output_type": "stream",
     "text": [
      "\r",
      "[#################################       ] | 83% Completed | 33.8s"
     ]
    },
    {
     "name": "stderr",
     "output_type": "stream",
     "text": [
      "\n",
      "tiles: 44it [00:00, 144.93it/s]\u001b[A"
     ]
    },
    {
     "name": "stdout",
     "output_type": "stream",
     "text": [
      "\r",
      "[#################################       ] | 83% Completed | 33.9s"
     ]
    },
    {
     "name": "stderr",
     "output_type": "stream",
     "text": [
      "\n",
      "tiles: 59it [00:00, 143.93it/s]\u001b[A"
     ]
    },
    {
     "name": "stdout",
     "output_type": "stream",
     "text": [
      "\r",
      "[#################################       ] | 83% Completed | 34.1s"
     ]
    },
    {
     "name": "stderr",
     "output_type": "stream",
     "text": [
      "\n",
      "tiles: 73it [00:00, 140.94it/s]\u001b[A"
     ]
    },
    {
     "name": "stdout",
     "output_type": "stream",
     "text": [
      "\r",
      "[#################################       ] | 83% Completed | 34.2s"
     ]
    },
    {
     "name": "stderr",
     "output_type": "stream",
     "text": [
      "\n",
      "tiles: 85it [00:00, 124.67it/s]\u001b[A"
     ]
    },
    {
     "name": "stdout",
     "output_type": "stream",
     "text": [
      "\r",
      "[#################################       ] | 83% Completed | 34.3s"
     ]
    },
    {
     "name": "stderr",
     "output_type": "stream",
     "text": [
      "\n",
      "tiles: 96it [00:00, 116.72it/s]\u001b[A"
     ]
    },
    {
     "name": "stdout",
     "output_type": "stream",
     "text": [
      "\r",
      "[#################################       ] | 83% Completed | 34.4s"
     ]
    },
    {
     "name": "stderr",
     "output_type": "stream",
     "text": [
      "\n",
      "tiles: 107it [00:00, 112.21it/s]\u001b[A"
     ]
    },
    {
     "name": "stdout",
     "output_type": "stream",
     "text": [
      "\r",
      "[#################################       ] | 83% Completed | 34.5s"
     ]
    },
    {
     "name": "stderr",
     "output_type": "stream",
     "text": [
      "\n",
      "tiles: 119it [00:00, 112.25it/s]\u001b[A"
     ]
    },
    {
     "name": "stdout",
     "output_type": "stream",
     "text": [
      "\r",
      "[#################################       ] | 83% Completed | 34.6s"
     ]
    },
    {
     "name": "stderr",
     "output_type": "stream",
     "text": [
      "\n",
      "tiles: 132it [00:01, 116.89it/s]\u001b[A"
     ]
    },
    {
     "name": "stdout",
     "output_type": "stream",
     "text": [
      "\r",
      "[#################################       ] | 83% Completed | 34.7s"
     ]
    },
    {
     "name": "stderr",
     "output_type": "stream",
     "text": [
      "\n",
      "tiles: 146it [00:01, 122.46it/s]\u001b[A"
     ]
    },
    {
     "name": "stdout",
     "output_type": "stream",
     "text": [
      "\r",
      "[#################################       ] | 83% Completed | 34.8s"
     ]
    },
    {
     "name": "stderr",
     "output_type": "stream",
     "text": [
      "\n",
      "tiles: 159it [00:01, 123.66it/s]\u001b[A"
     ]
    },
    {
     "name": "stdout",
     "output_type": "stream",
     "text": [
      "\r",
      "[#################################       ] | 83% Completed | 34.9s"
     ]
    },
    {
     "name": "stderr",
     "output_type": "stream",
     "text": [
      "\n",
      "tiles: 173it [00:01, 127.98it/s]\u001b[A"
     ]
    },
    {
     "name": "stdout",
     "output_type": "stream",
     "text": [
      "\r",
      "[#################################       ] | 83% Completed | 35.0s"
     ]
    },
    {
     "name": "stderr",
     "output_type": "stream",
     "text": [
      "\n",
      "tiles: 187it [00:01, 129.94it/s]\u001b[A"
     ]
    },
    {
     "name": "stdout",
     "output_type": "stream",
     "text": [
      "\r",
      "[#################################       ] | 83% Completed | 35.1s"
     ]
    },
    {
     "name": "stderr",
     "output_type": "stream",
     "text": [
      "\n",
      "tiles: 201it [00:01, 132.03it/s]\u001b[A"
     ]
    },
    {
     "name": "stdout",
     "output_type": "stream",
     "text": [
      "[#################################       ] | 83% Completed | 35.3s"
     ]
    },
    {
     "name": "stderr",
     "output_type": "stream",
     "text": [
      "\n",
      "tiles: 215it [00:01, 123.27it/s]\u001b[A"
     ]
    },
    {
     "name": "stdout",
     "output_type": "stream",
     "text": [
      "\r",
      "[#################################       ] | 83% Completed | 35.4s"
     ]
    },
    {
     "name": "stderr",
     "output_type": "stream",
     "text": [
      "\n",
      "tiles: 228it [00:01, 118.86it/s]\u001b[A"
     ]
    },
    {
     "name": "stdout",
     "output_type": "stream",
     "text": [
      "\r",
      "[#################################       ] | 83% Completed | 35.5s"
     ]
    },
    {
     "name": "stderr",
     "output_type": "stream",
     "text": [
      "\n",
      "tiles: 241it [00:01, 114.89it/s]\u001b[A"
     ]
    },
    {
     "name": "stdout",
     "output_type": "stream",
     "text": [
      "\r",
      "[#################################       ] | 83% Completed | 35.6s"
     ]
    },
    {
     "name": "stderr",
     "output_type": "stream",
     "text": [
      "\n",
      "tiles: 253it [00:02, 113.74it/s]\u001b[A"
     ]
    },
    {
     "name": "stdout",
     "output_type": "stream",
     "text": [
      "\r",
      "[#################################       ] | 83% Completed | 35.7s"
     ]
    },
    {
     "name": "stderr",
     "output_type": "stream",
     "text": [
      "\n",
      "tiles: 265it [00:02, 114.18it/s]\u001b[A"
     ]
    },
    {
     "name": "stdout",
     "output_type": "stream",
     "text": [
      "\r",
      "[#################################       ] | 83% Completed | 35.8s"
     ]
    },
    {
     "name": "stderr",
     "output_type": "stream",
     "text": [
      "\n",
      "tiles: 277it [00:02, 115.83it/s]\u001b[A"
     ]
    },
    {
     "name": "stdout",
     "output_type": "stream",
     "text": [
      "\r",
      "[#################################       ] | 83% Completed | 35.9s"
     ]
    },
    {
     "name": "stderr",
     "output_type": "stream",
     "text": [
      "\n",
      "tiles: 293it [00:02, 125.33it/s]\u001b[A"
     ]
    },
    {
     "name": "stdout",
     "output_type": "stream",
     "text": [
      "\r",
      "[#################################       ] | 83% Completed | 36.0s"
     ]
    },
    {
     "name": "stderr",
     "output_type": "stream",
     "text": [
      "\n",
      "tiles: 310it [00:02, 135.60it/s]\u001b[A"
     ]
    },
    {
     "name": "stdout",
     "output_type": "stream",
     "text": [
      "\r",
      "[#################################       ] | 83% Completed | 36.1s"
     ]
    },
    {
     "name": "stderr",
     "output_type": "stream",
     "text": [
      "tiles: 324it [00:02, 127.27it/s]\n",
      "level: 100%|██████████| 14/14 [00:05<00:00,  2.54it/s]\n"
     ]
    },
    {
     "name": "stdout",
     "output_type": "stream",
     "text": [
      "[########################################] | 100% Completed | 36.2s\n"
     ]
    },
    {
     "data": {
      "text/plain": [
       "('dzi_files/163_A1_1_1_tumor.dzi',\n",
       " 'dzi_files/163_A1_2_1_tumor.dzi',\n",
       " 'dzi_files/163_A1_3_1_tumor.dzi',\n",
       " 'dzi_files/163_A1_4_1_tumor.dzi',\n",
       " 'dzi_files/163_A1_5_1_tumor.dzi',\n",
       " 'dzi_files/163_A1_6_1_tumor.dzi')"
      ]
     },
     "execution_count": 17,
     "metadata": {},
     "output_type": "execute_result"
    }
   ],
   "source": [
    "tumor_imgs=[(case.patient,depth,block,'tumor',case.extract_tumor_results(depth,block)) for block in tqdm.trange(1,case.n_blocks+1, desc='block') for depth in tqdm.trange(1,case.max_depth+1, desc='depth')]\n",
    "ims=[im[-1] for im in tumor_imgs]\n",
    "dzis=[f\"dzi_files/{'_'.join(list(map(str,im[:-1])))}.dzi\" for im in tumor_imgs]\n",
    "case.write_dzi_parallel(ims,dzis,scheduler='single-threaded')"
   ]
  },
  {
   "cell_type": "code",
   "execution_count": 32,
   "metadata": {},
   "outputs": [
    {
     "name": "stdout",
     "output_type": "stream",
     "text": [
      "\r",
      "[                                        ] | 0% Completed |  0.0s"
     ]
    },
    {
     "name": "stderr",
     "output_type": "stream",
     "text": [
      "\r",
      "level:   0%|          | 0/14 [00:00<?, ?it/s]"
     ]
    },
    {
     "name": "stdout",
     "output_type": "stream",
     "text": [
      "\r",
      "[                                        ] | 0% Completed |  0.1s"
     ]
    },
    {
     "name": "stderr",
     "output_type": "stream",
     "text": [
      "\n",
      "tiles: 1it [00:00, 164.04it/s]\n",
      "\n",
      "tiles: 0it [00:00, ?it/s]\u001b[A"
     ]
    },
    {
     "name": "stdout",
     "output_type": "stream",
     "text": [
      "\r",
      "[                                        ] | 0% Completed |  0.2s"
     ]
    },
    {
     "name": "stderr",
     "output_type": "stream",
     "text": [
      "tiles: 1it [00:00, 178.65it/s]\n",
      "level:  14%|█▍        | 2/14 [00:00<00:00, 17.70it/s]\n",
      "tiles: 1it [00:00, 168.93it/s]\n"
     ]
    },
    {
     "name": "stdout",
     "output_type": "stream",
     "text": [
      "\r",
      "[                                        ] | 0% Completed |  0.3s"
     ]
    },
    {
     "name": "stderr",
     "output_type": "stream",
     "text": [
      "\n",
      "tiles: 1it [00:00, 181.45it/s]\n",
      "level:  29%|██▊       | 4/14 [00:00<00:00, 15.31it/s]"
     ]
    },
    {
     "name": "stdout",
     "output_type": "stream",
     "text": [
      "\r",
      "[                                        ] | 0% Completed |  0.4s"
     ]
    },
    {
     "name": "stderr",
     "output_type": "stream",
     "text": [
      "\n",
      "tiles: 1it [00:00, 137.25it/s]\n",
      "level:  36%|███▌      | 5/14 [00:00<00:00, 12.68it/s]"
     ]
    },
    {
     "name": "stdout",
     "output_type": "stream",
     "text": [
      "\r",
      "[                                        ] | 0% Completed |  0.5s"
     ]
    },
    {
     "name": "stderr",
     "output_type": "stream",
     "text": [
      "\n",
      "tiles: 0it [00:00, ?it/s]\u001b[A"
     ]
    },
    {
     "name": "stdout",
     "output_type": "stream",
     "text": [
      "\r",
      "[                                        ] | 0% Completed |  0.6s"
     ]
    },
    {
     "name": "stderr",
     "output_type": "stream",
     "text": [
      "tiles: 1it [00:00, 190.43it/s]\n",
      "level:  43%|████▎     | 6/14 [00:00<00:00, 11.03it/s]"
     ]
    },
    {
     "name": "stdout",
     "output_type": "stream",
     "text": [
      "[                                        ] | 0% Completed |  0.8s"
     ]
    },
    {
     "name": "stderr",
     "output_type": "stream",
     "text": [
      "\n",
      "tiles: 1it [00:00, 152.51it/s]\n",
      "level:  50%|█████     | 7/14 [00:00<00:00,  7.86it/s]"
     ]
    },
    {
     "name": "stdout",
     "output_type": "stream",
     "text": [
      "[                                        ] | 0% Completed |  1.0s"
     ]
    },
    {
     "name": "stderr",
     "output_type": "stream",
     "text": [
      "\n",
      "tiles: 0it [00:00, ?it/s]\u001b[A"
     ]
    },
    {
     "name": "stdout",
     "output_type": "stream",
     "text": [
      "\r",
      "[                                        ] | 0% Completed |  1.1s"
     ]
    },
    {
     "name": "stderr",
     "output_type": "stream",
     "text": [
      "tiles: 1it [00:00, 11.59it/s]\n",
      "level:  57%|█████▋    | 8/14 [00:01<00:01,  5.41it/s]"
     ]
    },
    {
     "name": "stdout",
     "output_type": "stream",
     "text": [
      "[                                        ] | 0% Completed |  1.3s"
     ]
    },
    {
     "name": "stderr",
     "output_type": "stream",
     "text": [
      "\n",
      "tiles: 1it [00:00, 142.71it/s]\n",
      "level:  64%|██████▍   | 9/14 [00:01<00:01,  4.97it/s]"
     ]
    },
    {
     "name": "stdout",
     "output_type": "stream",
     "text": [
      "[                                        ] | 0% Completed |  1.5s"
     ]
    },
    {
     "name": "stderr",
     "output_type": "stream",
     "text": [
      "\n",
      "tiles: 4it [00:00, 176.92it/s]\n",
      "level:  71%|███████▏  | 10/14 [00:01<00:00,  5.18it/s]"
     ]
    },
    {
     "name": "stdout",
     "output_type": "stream",
     "text": [
      "[                                        ] | 0% Completed |  1.7s"
     ]
    },
    {
     "name": "stderr",
     "output_type": "stream",
     "text": [
      "\n",
      "tiles: 9it [00:00, 149.10it/s]\n",
      "level:  79%|███████▊  | 11/14 [00:01<00:00,  4.87it/s]"
     ]
    },
    {
     "name": "stdout",
     "output_type": "stream",
     "text": [
      "[                                        ] | 0% Completed |  2.0s"
     ]
    },
    {
     "name": "stderr",
     "output_type": "stream",
     "text": [
      "\n",
      "tiles: 0it [00:00, ?it/s]\u001b[A"
     ]
    },
    {
     "name": "stdout",
     "output_type": "stream",
     "text": [
      "\r",
      "[                                        ] | 0% Completed |  2.1s"
     ]
    },
    {
     "name": "stderr",
     "output_type": "stream",
     "text": [
      "\n",
      "tiles: 14it [00:00, 137.61it/s]\u001b[A"
     ]
    },
    {
     "name": "stdout",
     "output_type": "stream",
     "text": [
      "\r",
      "[                                        ] | 0% Completed |  2.2s"
     ]
    },
    {
     "name": "stderr",
     "output_type": "stream",
     "text": [
      "tiles: 25it [00:00, 135.30it/s]\n",
      "level:  86%|████████▌ | 12/14 [00:02<00:00,  3.57it/s]"
     ]
    },
    {
     "name": "stdout",
     "output_type": "stream",
     "text": [
      "[                                        ] | 0% Completed |  2.5s"
     ]
    },
    {
     "name": "stderr",
     "output_type": "stream",
     "text": [
      "\n",
      "tiles: 0it [00:00, ?it/s]\u001b[A"
     ]
    },
    {
     "name": "stdout",
     "output_type": "stream",
     "text": [
      "\r",
      "[                                        ] | 0% Completed |  2.6s"
     ]
    },
    {
     "name": "stderr",
     "output_type": "stream",
     "text": [
      "\n",
      "tiles: 13it [00:00, 129.46it/s]\u001b[A"
     ]
    },
    {
     "name": "stdout",
     "output_type": "stream",
     "text": [
      "\r",
      "[                                        ] | 0% Completed |  2.7s"
     ]
    },
    {
     "name": "stderr",
     "output_type": "stream",
     "text": [
      "\n",
      "tiles: 26it [00:00, 129.22it/s]\u001b[A"
     ]
    },
    {
     "name": "stdout",
     "output_type": "stream",
     "text": [
      "\r",
      "[                                        ] | 0% Completed |  2.8s"
     ]
    },
    {
     "name": "stderr",
     "output_type": "stream",
     "text": [
      "\n",
      "tiles: 38it [00:00, 124.98it/s]\u001b[A"
     ]
    },
    {
     "name": "stdout",
     "output_type": "stream",
     "text": [
      "\r",
      "[                                        ] | 0% Completed |  2.9s"
     ]
    },
    {
     "name": "stderr",
     "output_type": "stream",
     "text": [
      "\n",
      "tiles: 48it [00:00, 116.04it/s]\u001b[A"
     ]
    },
    {
     "name": "stdout",
     "output_type": "stream",
     "text": [
      "\r",
      "[                                        ] | 0% Completed |  3.0s"
     ]
    },
    {
     "name": "stderr",
     "output_type": "stream",
     "text": [
      "\n"
     ]
    },
    {
     "name": "stdout",
     "output_type": "stream",
     "text": [
      "\r",
      "[                                        ] | 0% Completed |  3.1s"
     ]
    },
    {
     "name": "stderr",
     "output_type": "stream",
     "text": [
      "tiles: 59it [00:00, 110.93it/s]\u001b[A"
     ]
    },
    {
     "name": "stdout",
     "output_type": "stream",
     "text": [
      "\r",
      "[                                        ] | 0% Completed |  3.2s"
     ]
    },
    {
     "name": "stderr",
     "output_type": "stream",
     "text": [
      "\n",
      "tiles: 69it [00:00, 105.86it/s]\u001b[A"
     ]
    },
    {
     "name": "stdout",
     "output_type": "stream",
     "text": [
      "\r",
      "[                                        ] | 0% Completed |  3.3s"
     ]
    },
    {
     "name": "stderr",
     "output_type": "stream",
     "text": [
      "\n",
      "tiles: 81it [00:00, 109.83it/s]\u001b[A\n",
      "level:  93%|█████████▎| 13/14 [00:03<00:00,  1.88it/s]\n",
      "tiles: 0it [00:00, ?it/s]\u001b[A"
     ]
    },
    {
     "name": "stdout",
     "output_type": "stream",
     "text": [
      "\r",
      "[                                        ] | 0% Completed |  3.4s"
     ]
    },
    {
     "name": "stderr",
     "output_type": "stream",
     "text": [
      "\n",
      "tiles: 13it [00:00, 124.02it/s]\u001b[A"
     ]
    },
    {
     "name": "stdout",
     "output_type": "stream",
     "text": [
      "\r",
      "[                                        ] | 0% Completed |  3.5s"
     ]
    },
    {
     "name": "stderr",
     "output_type": "stream",
     "text": [
      "\n",
      "tiles: 23it [00:00, 114.43it/s]\u001b[A"
     ]
    },
    {
     "name": "stdout",
     "output_type": "stream",
     "text": [
      "\r",
      "[                                        ] | 0% Completed |  3.7s"
     ]
    },
    {
     "name": "stderr",
     "output_type": "stream",
     "text": [
      "\n",
      "tiles: 35it [00:00, 115.78it/s]\u001b[A"
     ]
    },
    {
     "name": "stdout",
     "output_type": "stream",
     "text": [
      "\r",
      "[                                        ] | 0% Completed |  3.8s"
     ]
    },
    {
     "name": "stderr",
     "output_type": "stream",
     "text": [
      "\n",
      "tiles: 49it [00:00, 121.72it/s]\u001b[A"
     ]
    },
    {
     "name": "stdout",
     "output_type": "stream",
     "text": [
      "\r",
      "[                                        ] | 0% Completed |  3.9s"
     ]
    },
    {
     "name": "stderr",
     "output_type": "stream",
     "text": [
      "\n",
      "tiles: 63it [00:00, 126.61it/s]\u001b[A"
     ]
    },
    {
     "name": "stdout",
     "output_type": "stream",
     "text": [
      "\r",
      "[                                        ] | 0% Completed |  4.0s"
     ]
    },
    {
     "name": "stderr",
     "output_type": "stream",
     "text": [
      "\n",
      "tiles: 78it [00:00, 132.11it/s]\u001b[A"
     ]
    },
    {
     "name": "stdout",
     "output_type": "stream",
     "text": [
      "\r",
      "[                                        ] | 0% Completed |  4.1s"
     ]
    },
    {
     "name": "stderr",
     "output_type": "stream",
     "text": [
      "\n",
      "tiles: 92it [00:00, 125.83it/s]\u001b[A"
     ]
    },
    {
     "name": "stdout",
     "output_type": "stream",
     "text": [
      "\r",
      "[                                        ] | 0% Completed |  4.2s"
     ]
    },
    {
     "name": "stderr",
     "output_type": "stream",
     "text": [
      "\n",
      "tiles: 106it [00:00, 127.73it/s]\u001b[A"
     ]
    },
    {
     "name": "stdout",
     "output_type": "stream",
     "text": [
      "\r",
      "[                                        ] | 0% Completed |  4.3s"
     ]
    },
    {
     "name": "stderr",
     "output_type": "stream",
     "text": [
      "\n",
      "tiles: 119it [00:00, 117.68it/s]\u001b[A"
     ]
    },
    {
     "name": "stdout",
     "output_type": "stream",
     "text": [
      "\r",
      "[                                        ] | 0% Completed |  4.4s"
     ]
    },
    {
     "name": "stderr",
     "output_type": "stream",
     "text": [
      "\n",
      "tiles: 132it [00:01, 119.75it/s]\u001b[A"
     ]
    },
    {
     "name": "stdout",
     "output_type": "stream",
     "text": [
      "\r",
      "[                                        ] | 0% Completed |  4.5s"
     ]
    },
    {
     "name": "stderr",
     "output_type": "stream",
     "text": [
      "\n",
      "tiles: 145it [00:01, 121.86it/s]\u001b[A"
     ]
    },
    {
     "name": "stdout",
     "output_type": "stream",
     "text": [
      "\r",
      "[                                        ] | 0% Completed |  4.6s"
     ]
    },
    {
     "name": "stderr",
     "output_type": "stream",
     "text": [
      "\n",
      "tiles: 158it [00:01, 121.50it/s]\u001b[A"
     ]
    },
    {
     "name": "stdout",
     "output_type": "stream",
     "text": [
      "[                                        ] | 0% Completed |  4.8s"
     ]
    },
    {
     "name": "stderr",
     "output_type": "stream",
     "text": [
      "\n",
      "tiles: 172it [00:01, 124.83it/s]\u001b[A"
     ]
    },
    {
     "name": "stdout",
     "output_type": "stream",
     "text": [
      "\r",
      "[                                        ] | 0% Completed |  4.9s"
     ]
    },
    {
     "name": "stderr",
     "output_type": "stream",
     "text": [
      "\n",
      "tiles: 186it [00:01, 126.56it/s]\u001b[A"
     ]
    },
    {
     "name": "stdout",
     "output_type": "stream",
     "text": [
      "\r",
      "[                                        ] | 0% Completed |  5.0s"
     ]
    },
    {
     "name": "stderr",
     "output_type": "stream",
     "text": [
      "\n",
      "tiles: 201it [00:01, 130.40it/s]\u001b[A"
     ]
    },
    {
     "name": "stdout",
     "output_type": "stream",
     "text": [
      "\r",
      "[                                        ] | 0% Completed |  5.1s"
     ]
    },
    {
     "name": "stderr",
     "output_type": "stream",
     "text": [
      "\n",
      "tiles: 215it [00:01, 132.69it/s]\u001b[A"
     ]
    },
    {
     "name": "stdout",
     "output_type": "stream",
     "text": [
      "\r",
      "[                                        ] | 0% Completed |  5.2s"
     ]
    },
    {
     "name": "stderr",
     "output_type": "stream",
     "text": [
      "\n",
      "tiles: 229it [00:01, 133.03it/s]\u001b[A"
     ]
    },
    {
     "name": "stdout",
     "output_type": "stream",
     "text": [
      "\r",
      "[                                        ] | 0% Completed |  5.3s"
     ]
    },
    {
     "name": "stderr",
     "output_type": "stream",
     "text": [
      "\n",
      "tiles: 244it [00:01, 137.44it/s]\u001b[A"
     ]
    },
    {
     "name": "stdout",
     "output_type": "stream",
     "text": [
      "\r",
      "[                                        ] | 0% Completed |  5.4s"
     ]
    },
    {
     "name": "stderr",
     "output_type": "stream",
     "text": [
      "\n",
      "tiles: 259it [00:02, 140.58it/s]\u001b[A"
     ]
    },
    {
     "name": "stdout",
     "output_type": "stream",
     "text": [
      "\r",
      "[                                        ] | 0% Completed |  5.5s"
     ]
    },
    {
     "name": "stderr",
     "output_type": "stream",
     "text": [
      "\n",
      "tiles: 274it [00:02, 122.20it/s]\u001b[A"
     ]
    },
    {
     "name": "stdout",
     "output_type": "stream",
     "text": [
      "\r",
      "[                                        ] | 0% Completed |  5.6s"
     ]
    },
    {
     "name": "stderr",
     "output_type": "stream",
     "text": [
      "\n",
      "tiles: 288it [00:02, 126.09it/s]\u001b[A"
     ]
    },
    {
     "name": "stdout",
     "output_type": "stream",
     "text": [
      "\r",
      "[                                        ] | 0% Completed |  5.7s"
     ]
    },
    {
     "name": "stderr",
     "output_type": "stream",
     "text": [
      "\n",
      "tiles: 301it [00:02, 127.06it/s]\u001b[A"
     ]
    },
    {
     "name": "stdout",
     "output_type": "stream",
     "text": [
      "\r",
      "[                                        ] | 0% Completed |  5.8s"
     ]
    },
    {
     "name": "stderr",
     "output_type": "stream",
     "text": [
      "\n",
      "tiles: 324it [00:02, 129.43it/s]\u001b[A\n",
      "level: 100%|██████████| 14/14 [00:05<00:00,  2.42it/s]"
     ]
    },
    {
     "name": "stdout",
     "output_type": "stream",
     "text": [
      "\r",
      "[                                        ] | 0% Completed |  5.9s"
     ]
    },
    {
     "name": "stderr",
     "output_type": "stream",
     "text": [
      "\n",
      "level:   0%|          | 0/14 [00:00<?, ?it/s]"
     ]
    },
    {
     "name": "stdout",
     "output_type": "stream",
     "text": [
      "\r",
      "[######                                  ] | 16% Completed |  6.0s"
     ]
    },
    {
     "name": "stderr",
     "output_type": "stream",
     "text": [
      "\n",
      "tiles: 1it [00:00, 310.46it/s]\n",
      "\n",
      "tiles: 1it [00:00, 159.22it/s]\n"
     ]
    },
    {
     "name": "stdout",
     "output_type": "stream",
     "text": [
      "\r",
      "[######                                  ] | 16% Completed |  6.1s"
     ]
    },
    {
     "name": "stderr",
     "output_type": "stream",
     "text": [
      "\n",
      "tiles: 1it [00:00, 202.70it/s]\n",
      "level:  21%|██▏       | 3/14 [00:00<00:00, 19.61it/s]"
     ]
    },
    {
     "name": "stdout",
     "output_type": "stream",
     "text": [
      "\r",
      "[######                                  ] | 16% Completed |  6.2s"
     ]
    },
    {
     "name": "stderr",
     "output_type": "stream",
     "text": [
      "\n",
      "tiles: 1it [00:00, 199.60it/s]\n"
     ]
    },
    {
     "name": "stdout",
     "output_type": "stream",
     "text": [
      "\r",
      "[######                                  ] | 16% Completed |  6.3s"
     ]
    },
    {
     "name": "stderr",
     "output_type": "stream",
     "text": [
      "\n",
      "tiles: 1it [00:00, 164.90it/s]\n",
      "level:  36%|███▌      | 5/14 [00:00<00:00, 15.07it/s]"
     ]
    },
    {
     "name": "stdout",
     "output_type": "stream",
     "text": [
      "\r",
      "[######                                  ] | 16% Completed |  6.4s"
     ]
    },
    {
     "name": "stderr",
     "output_type": "stream",
     "text": [
      "\n",
      "tiles: 1it [00:00, 195.46it/s]\n",
      "level:  43%|████▎     | 6/14 [00:00<00:00, 12.29it/s]"
     ]
    },
    {
     "name": "stdout",
     "output_type": "stream",
     "text": [
      "\r",
      "[######                                  ] | 16% Completed |  6.5s"
     ]
    },
    {
     "name": "stderr",
     "output_type": "stream",
     "text": [
      "\n",
      "tiles: 1it [00:00, 163.97it/s]\n",
      "level:  50%|█████     | 7/14 [00:00<00:00, 10.56it/s]"
     ]
    },
    {
     "name": "stdout",
     "output_type": "stream",
     "text": [
      "[######                                  ] | 16% Completed |  6.7s"
     ]
    },
    {
     "name": "stderr",
     "output_type": "stream",
     "text": [
      "\n",
      "tiles: 1it [00:00, 188.32it/s]\n",
      "level:  57%|█████▋    | 8/14 [00:00<00:00,  9.47it/s]"
     ]
    },
    {
     "name": "stdout",
     "output_type": "stream",
     "text": [
      "\r",
      "[######                                  ] | 16% Completed |  6.8s"
     ]
    },
    {
     "name": "stderr",
     "output_type": "stream",
     "text": [
      "\n",
      "tiles: 1it [00:00, 173.86it/s]\n",
      "level:  64%|██████▍   | 9/14 [00:00<00:00,  8.58it/s]"
     ]
    },
    {
     "name": "stdout",
     "output_type": "stream",
     "text": [
      "\r",
      "[######                                  ] | 16% Completed |  6.9s"
     ]
    },
    {
     "name": "stderr",
     "output_type": "stream",
     "text": [
      "\n",
      "tiles: 0it [00:00, ?it/s]\u001b[A"
     ]
    },
    {
     "name": "stdout",
     "output_type": "stream",
     "text": [
      "\r",
      "[######                                  ] | 16% Completed |  7.0s"
     ]
    },
    {
     "name": "stderr",
     "output_type": "stream",
     "text": [
      "tiles: 4it [00:00, 173.23it/s]\n",
      "level:  71%|███████▏  | 10/14 [00:01<00:00,  7.50it/s]"
     ]
    },
    {
     "name": "stdout",
     "output_type": "stream",
     "text": [
      "\r",
      "[######                                  ] | 16% Completed |  7.1s"
     ]
    },
    {
     "name": "stderr",
     "output_type": "stream",
     "text": [
      "\n",
      "tiles: 0it [00:00, ?it/s]\u001b[A"
     ]
    },
    {
     "name": "stdout",
     "output_type": "stream",
     "text": [
      "\r",
      "[######                                  ] | 16% Completed |  7.2s"
     ]
    },
    {
     "name": "stderr",
     "output_type": "stream",
     "text": [
      "tiles: 9it [00:00, 140.97it/s]\n",
      "level:  79%|███████▊  | 11/14 [00:01<00:00,  6.13it/s]"
     ]
    },
    {
     "name": "stdout",
     "output_type": "stream",
     "text": [
      "[######                                  ] | 16% Completed |  7.4s"
     ]
    },
    {
     "name": "stderr",
     "output_type": "stream",
     "text": [
      "\n",
      "tiles: 0it [00:00, ?it/s]\u001b[A"
     ]
    },
    {
     "name": "stdout",
     "output_type": "stream",
     "text": [
      "\r",
      "[######                                  ] | 16% Completed |  7.5s"
     ]
    },
    {
     "name": "stderr",
     "output_type": "stream",
     "text": [
      "\n",
      "tiles: 16it [00:00, 159.55it/s]\u001b[A"
     ]
    },
    {
     "name": "stdout",
     "output_type": "stream",
     "text": [
      "\r",
      "[######                                  ] | 16% Completed |  7.6s"
     ]
    },
    {
     "name": "stderr",
     "output_type": "stream",
     "text": [
      "tiles: 25it [00:00, 164.64it/s]\n",
      "level:  86%|████████▌ | 12/14 [00:01<00:00,  4.37it/s]"
     ]
    },
    {
     "name": "stdout",
     "output_type": "stream",
     "text": [
      "[######                                  ] | 16% Completed |  7.8s"
     ]
    },
    {
     "name": "stderr",
     "output_type": "stream",
     "text": [
      "\n"
     ]
    },
    {
     "name": "stdout",
     "output_type": "stream",
     "text": [
      "\r",
      "[######                                  ] | 16% Completed |  7.9s"
     ]
    },
    {
     "name": "stderr",
     "output_type": "stream",
     "text": [
      "tiles: 0it [00:00, ?it/s]\u001b[A"
     ]
    },
    {
     "name": "stdout",
     "output_type": "stream",
     "text": [
      "\r",
      "[######                                  ] | 16% Completed |  8.0s"
     ]
    },
    {
     "name": "stderr",
     "output_type": "stream",
     "text": [
      "\n",
      "tiles: 17it [00:00, 165.94it/s]\u001b[A"
     ]
    },
    {
     "name": "stdout",
     "output_type": "stream",
     "text": [
      "\r",
      "[######                                  ] | 16% Completed |  8.1s"
     ]
    },
    {
     "name": "stderr",
     "output_type": "stream",
     "text": [
      "\n",
      "tiles: 34it [00:00, 164.21it/s]\u001b[A"
     ]
    },
    {
     "name": "stdout",
     "output_type": "stream",
     "text": [
      "\r",
      "[######                                  ] | 16% Completed |  8.2s"
     ]
    },
    {
     "name": "stderr",
     "output_type": "stream",
     "text": [
      "\n",
      "tiles: 49it [00:00, 159.28it/s]\u001b[A"
     ]
    },
    {
     "name": "stdout",
     "output_type": "stream",
     "text": [
      "\r",
      "[######                                  ] | 16% Completed |  8.3s"
     ]
    },
    {
     "name": "stderr",
     "output_type": "stream",
     "text": [
      "\n",
      "tiles: 64it [00:00, 154.85it/s]\u001b[A"
     ]
    },
    {
     "name": "stdout",
     "output_type": "stream",
     "text": [
      "\r",
      "[######                                  ] | 16% Completed |  8.4s"
     ]
    },
    {
     "name": "stderr",
     "output_type": "stream",
     "text": [
      "\n",
      "tiles: 81it [00:00, 154.57it/s]\u001b[A\n",
      "level:  93%|█████████▎| 13/14 [00:02<00:00,  2.49it/s]\n",
      "tiles: 0it [00:00, ?it/s]\u001b[A"
     ]
    },
    {
     "name": "stdout",
     "output_type": "stream",
     "text": [
      "\r",
      "[######                                  ] | 16% Completed |  8.5s"
     ]
    },
    {
     "name": "stderr",
     "output_type": "stream",
     "text": [
      "\n",
      "tiles: 19it [00:00, 182.86it/s]\u001b[A"
     ]
    },
    {
     "name": "stdout",
     "output_type": "stream",
     "text": [
      "\r",
      "[######                                  ] | 16% Completed |  8.6s"
     ]
    },
    {
     "name": "stderr",
     "output_type": "stream",
     "text": [
      "\n",
      "tiles: 36it [00:00, 175.55it/s]\u001b[A"
     ]
    },
    {
     "name": "stdout",
     "output_type": "stream",
     "text": [
      "\r",
      "[######                                  ] | 16% Completed |  8.7s"
     ]
    },
    {
     "name": "stderr",
     "output_type": "stream",
     "text": [
      "\n",
      "tiles: 52it [00:00, 169.15it/s]\u001b[A"
     ]
    },
    {
     "name": "stdout",
     "output_type": "stream",
     "text": [
      "\r",
      "[######                                  ] | 16% Completed |  8.8s"
     ]
    },
    {
     "name": "stderr",
     "output_type": "stream",
     "text": [
      "\n",
      "tiles: 68it [00:00, 165.64it/s]\u001b[A"
     ]
    },
    {
     "name": "stdout",
     "output_type": "stream",
     "text": [
      "\r",
      "[######                                  ] | 16% Completed |  8.9s"
     ]
    },
    {
     "name": "stderr",
     "output_type": "stream",
     "text": [
      "\n",
      "tiles: 84it [00:00, 162.72it/s]\u001b[A"
     ]
    },
    {
     "name": "stdout",
     "output_type": "stream",
     "text": [
      "\r",
      "[######                                  ] | 16% Completed |  9.0s"
     ]
    },
    {
     "name": "stderr",
     "output_type": "stream",
     "text": [
      "\n",
      "tiles: 100it [00:00, 159.75it/s]\u001b[A"
     ]
    },
    {
     "name": "stdout",
     "output_type": "stream",
     "text": [
      "\r",
      "[######                                  ] | 16% Completed |  9.1s"
     ]
    },
    {
     "name": "stderr",
     "output_type": "stream",
     "text": [
      "\n",
      "tiles: 115it [00:00, 155.60it/s]\u001b[A"
     ]
    },
    {
     "name": "stdout",
     "output_type": "stream",
     "text": [
      "\r",
      "[######                                  ] | 16% Completed |  9.2s"
     ]
    },
    {
     "name": "stderr",
     "output_type": "stream",
     "text": [
      "\n",
      "tiles: 130it [00:00, 151.53it/s]\u001b[A"
     ]
    },
    {
     "name": "stdout",
     "output_type": "stream",
     "text": [
      "\r",
      "[######                                  ] | 16% Completed |  9.3s"
     ]
    },
    {
     "name": "stderr",
     "output_type": "stream",
     "text": [
      "\n",
      "tiles: 145it [00:00, 147.81it/s]\u001b[A"
     ]
    },
    {
     "name": "stdout",
     "output_type": "stream",
     "text": [
      "\r",
      "[######                                  ] | 16% Completed |  9.4s"
     ]
    },
    {
     "name": "stderr",
     "output_type": "stream",
     "text": [
      "\n",
      "tiles: 160it [00:01, 146.94it/s]\u001b[A"
     ]
    },
    {
     "name": "stdout",
     "output_type": "stream",
     "text": [
      "\r",
      "[######                                  ] | 16% Completed |  9.5s"
     ]
    },
    {
     "name": "stderr",
     "output_type": "stream",
     "text": [
      "\n",
      "tiles: 175it [00:01, 146.99it/s]\u001b[A"
     ]
    },
    {
     "name": "stdout",
     "output_type": "stream",
     "text": [
      "\r",
      "[######                                  ] | 16% Completed |  9.6s"
     ]
    },
    {
     "name": "stderr",
     "output_type": "stream",
     "text": [
      "\n",
      "tiles: 190it [00:01, 147.24it/s]\u001b[A"
     ]
    },
    {
     "name": "stdout",
     "output_type": "stream",
     "text": [
      "\r",
      "[######                                  ] | 16% Completed |  9.7s"
     ]
    },
    {
     "name": "stderr",
     "output_type": "stream",
     "text": [
      "\n",
      "tiles: 205it [00:01, 146.07it/s]\u001b[A"
     ]
    },
    {
     "name": "stdout",
     "output_type": "stream",
     "text": [
      "\r",
      "[######                                  ] | 16% Completed |  9.8s"
     ]
    },
    {
     "name": "stderr",
     "output_type": "stream",
     "text": [
      "\n",
      "tiles: 221it [00:01, 147.57it/s]\u001b[A"
     ]
    },
    {
     "name": "stdout",
     "output_type": "stream",
     "text": [
      "\r",
      "[######                                  ] | 16% Completed |  9.9s"
     ]
    },
    {
     "name": "stderr",
     "output_type": "stream",
     "text": [
      "\n",
      "tiles: 237it [00:01, 150.60it/s]\u001b[A"
     ]
    },
    {
     "name": "stdout",
     "output_type": "stream",
     "text": [
      "\r",
      "[######                                  ] | 16% Completed | 10.0s"
     ]
    },
    {
     "name": "stderr",
     "output_type": "stream",
     "text": [
      "\n",
      "tiles: 253it [00:01, 150.84it/s]\u001b[A"
     ]
    },
    {
     "name": "stdout",
     "output_type": "stream",
     "text": [
      "\r",
      "[######                                  ] | 16% Completed | 10.1s"
     ]
    },
    {
     "name": "stderr",
     "output_type": "stream",
     "text": [
      "\n",
      "tiles: 269it [00:01, 149.62it/s]\u001b[A"
     ]
    },
    {
     "name": "stdout",
     "output_type": "stream",
     "text": [
      "\r",
      "[######                                  ] | 16% Completed | 10.2s"
     ]
    },
    {
     "name": "stderr",
     "output_type": "stream",
     "text": [
      "\n",
      "tiles: 286it [00:01, 153.32it/s]\u001b[A"
     ]
    },
    {
     "name": "stdout",
     "output_type": "stream",
     "text": [
      "\r",
      "[######                                  ] | 16% Completed | 10.3s"
     ]
    },
    {
     "name": "stderr",
     "output_type": "stream",
     "text": [
      "\n",
      "tiles: 302it [00:01, 153.64it/s]\u001b[A"
     ]
    },
    {
     "name": "stdout",
     "output_type": "stream",
     "text": [
      "\r",
      "[######                                  ] | 16% Completed | 10.4s"
     ]
    },
    {
     "name": "stderr",
     "output_type": "stream",
     "text": [
      "\n",
      "tiles: 320it [00:02, 159.33it/s]\u001b[A"
     ]
    },
    {
     "name": "stdout",
     "output_type": "stream",
     "text": [
      "\r",
      "[######                                  ] | 16% Completed | 10.5s"
     ]
    },
    {
     "name": "stderr",
     "output_type": "stream",
     "text": [
      "tiles: 324it [00:02, 154.06it/s]\n",
      "level: 100%|██████████| 14/14 [00:04<00:00,  3.06it/s]\n",
      "level:   0%|          | 0/14 [00:00<?, ?it/s]"
     ]
    },
    {
     "name": "stdout",
     "output_type": "stream",
     "text": [
      "\r",
      "[#############                           ] | 33% Completed | 10.6s"
     ]
    },
    {
     "name": "stderr",
     "output_type": "stream",
     "text": [
      "\n",
      "tiles: 1it [00:00, 303.36it/s]\n",
      "\n",
      "tiles: 1it [00:00, 186.02it/s]\n"
     ]
    },
    {
     "name": "stdout",
     "output_type": "stream",
     "text": [
      "\r",
      "[#############                           ] | 33% Completed | 10.7s"
     ]
    },
    {
     "name": "stderr",
     "output_type": "stream",
     "text": [
      "\n",
      "tiles: 1it [00:00, 185.88it/s]\n",
      "level:  21%|██▏       | 3/14 [00:00<00:00, 20.44it/s]"
     ]
    },
    {
     "name": "stdout",
     "output_type": "stream",
     "text": [
      "\r",
      "[#############                           ] | 33% Completed | 10.8s"
     ]
    },
    {
     "name": "stderr",
     "output_type": "stream",
     "text": [
      "\n",
      "tiles: 1it [00:00, 180.21it/s]\n"
     ]
    },
    {
     "name": "stdout",
     "output_type": "stream",
     "text": [
      "\r",
      "[#############                           ] | 33% Completed | 10.9s"
     ]
    },
    {
     "name": "stderr",
     "output_type": "stream",
     "text": [
      "\n",
      "tiles: 1it [00:00, 228.67it/s]\n",
      "level:  36%|███▌      | 5/14 [00:00<00:00, 15.65it/s]"
     ]
    },
    {
     "name": "stdout",
     "output_type": "stream",
     "text": [
      "\r",
      "[#############                           ] | 33% Completed | 11.1s"
     ]
    },
    {
     "name": "stderr",
     "output_type": "stream",
     "text": [
      "\n",
      "tiles: 1it [00:00, 186.55it/s]\n",
      "level:  43%|████▎     | 6/14 [00:00<00:00, 12.49it/s]"
     ]
    },
    {
     "name": "stdout",
     "output_type": "stream",
     "text": [
      "\r",
      "[#############                           ] | 33% Completed | 11.2s"
     ]
    },
    {
     "name": "stderr",
     "output_type": "stream",
     "text": [
      "\n",
      "tiles: 1it [00:00, 185.25it/s]\n",
      "level:  50%|█████     | 7/14 [00:00<00:00, 10.62it/s]"
     ]
    },
    {
     "name": "stdout",
     "output_type": "stream",
     "text": [
      "\r",
      "[#############                           ] | 33% Completed | 11.3s"
     ]
    },
    {
     "name": "stderr",
     "output_type": "stream",
     "text": [
      "\n",
      "tiles: 1it [00:00, 168.24it/s]\n",
      "level:  57%|█████▋    | 8/14 [00:00<00:00,  9.47it/s]"
     ]
    },
    {
     "name": "stdout",
     "output_type": "stream",
     "text": [
      "[#############                           ] | 33% Completed | 11.5s"
     ]
    },
    {
     "name": "stderr",
     "output_type": "stream",
     "text": [
      "\n",
      "tiles: 1it [00:00, 185.65it/s]\n",
      "level:  64%|██████▍   | 9/14 [00:00<00:00,  8.62it/s]"
     ]
    },
    {
     "name": "stdout",
     "output_type": "stream",
     "text": [
      "\r",
      "[#############                           ] | 33% Completed | 11.6s"
     ]
    },
    {
     "name": "stderr",
     "output_type": "stream",
     "text": [
      "\n",
      "tiles: 0it [00:00, ?it/s]\u001b[A"
     ]
    },
    {
     "name": "stdout",
     "output_type": "stream",
     "text": [
      "\r",
      "[#############                           ] | 33% Completed | 11.7s"
     ]
    },
    {
     "name": "stderr",
     "output_type": "stream",
     "text": [
      "tiles: 4it [00:00, 188.77it/s]\n",
      "level:  71%|███████▏  | 10/14 [00:01<00:00,  7.58it/s]"
     ]
    },
    {
     "name": "stdout",
     "output_type": "stream",
     "text": [
      "\r",
      "[#############                           ] | 33% Completed | 11.8s"
     ]
    },
    {
     "name": "stderr",
     "output_type": "stream",
     "text": [
      "\n",
      "tiles: 0it [00:00, ?it/s]\u001b[A"
     ]
    },
    {
     "name": "stdout",
     "output_type": "stream",
     "text": [
      "\r",
      "[#############                           ] | 33% Completed | 11.9s"
     ]
    },
    {
     "name": "stderr",
     "output_type": "stream",
     "text": [
      "tiles: 9it [00:00, 161.43it/s]\n",
      "level:  79%|███████▊  | 11/14 [00:01<00:00,  6.24it/s]"
     ]
    },
    {
     "name": "stdout",
     "output_type": "stream",
     "text": [
      "[#############                           ] | 33% Completed | 12.1s"
     ]
    },
    {
     "name": "stderr",
     "output_type": "stream",
     "text": [
      "\n",
      "tiles: 0it [00:00, ?it/s]\u001b[A"
     ]
    },
    {
     "name": "stdout",
     "output_type": "stream",
     "text": [
      "\r",
      "[#############                           ] | 33% Completed | 12.2s"
     ]
    },
    {
     "name": "stderr",
     "output_type": "stream",
     "text": [
      "\n",
      "tiles: 14it [00:00, 133.21it/s]\u001b[A"
     ]
    },
    {
     "name": "stdout",
     "output_type": "stream",
     "text": [
      "\r",
      "[#############                           ] | 33% Completed | 12.3s"
     ]
    },
    {
     "name": "stderr",
     "output_type": "stream",
     "text": [
      "tiles: 25it [00:00, 140.80it/s]\n",
      "level:  86%|████████▌ | 12/14 [00:01<00:00,  4.28it/s]"
     ]
    },
    {
     "name": "stdout",
     "output_type": "stream",
     "text": [
      "[#############                           ] | 33% Completed | 12.6s"
     ]
    },
    {
     "name": "stderr",
     "output_type": "stream",
     "text": [
      "\n",
      "tiles: 0it [00:00, ?it/s]\u001b[A"
     ]
    },
    {
     "name": "stdout",
     "output_type": "stream",
     "text": [
      "\r",
      "[#############                           ] | 33% Completed | 12.7s"
     ]
    },
    {
     "name": "stderr",
     "output_type": "stream",
     "text": [
      "\n",
      "tiles: 15it [00:00, 144.18it/s]\u001b[A"
     ]
    },
    {
     "name": "stdout",
     "output_type": "stream",
     "text": [
      "\r",
      "[#############                           ] | 33% Completed | 12.8s"
     ]
    },
    {
     "name": "stderr",
     "output_type": "stream",
     "text": [
      "\n",
      "tiles: 30it [00:00, 144.88it/s]\u001b[A"
     ]
    },
    {
     "name": "stdout",
     "output_type": "stream",
     "text": [
      "\r",
      "[#############                           ] | 33% Completed | 12.9s"
     ]
    },
    {
     "name": "stderr",
     "output_type": "stream",
     "text": [
      "\n",
      "tiles: 44it [00:00, 143.29it/s]\u001b[A"
     ]
    },
    {
     "name": "stdout",
     "output_type": "stream",
     "text": [
      "\r",
      "[#############                           ] | 33% Completed | 13.0s"
     ]
    },
    {
     "name": "stderr",
     "output_type": "stream",
     "text": [
      "\n",
      "tiles: 56it [00:00, 134.27it/s]\u001b[A"
     ]
    },
    {
     "name": "stdout",
     "output_type": "stream",
     "text": [
      "\r",
      "[#############                           ] | 33% Completed | 13.1s"
     ]
    },
    {
     "name": "stderr",
     "output_type": "stream",
     "text": [
      "\n",
      "tiles: 68it [00:00, 127.41it/s]\u001b[A"
     ]
    },
    {
     "name": "stdout",
     "output_type": "stream",
     "text": [
      "\r",
      "[#############                           ] | 33% Completed | 13.2s"
     ]
    },
    {
     "name": "stderr",
     "output_type": "stream",
     "text": [
      "tiles: 81it [00:00, 133.24it/s]\n",
      "level:  93%|█████████▎| 13/14 [00:02<00:00,  2.32it/s]\n",
      "tiles: 0it [00:00, ?it/s]\u001b[A"
     ]
    },
    {
     "name": "stdout",
     "output_type": "stream",
     "text": [
      "\r",
      "[#############                           ] | 33% Completed | 13.3s"
     ]
    },
    {
     "name": "stderr",
     "output_type": "stream",
     "text": [
      "\n",
      "tiles: 14it [00:00, 136.68it/s]\u001b[A"
     ]
    },
    {
     "name": "stdout",
     "output_type": "stream",
     "text": [
      "\r",
      "[#############                           ] | 33% Completed | 13.4s"
     ]
    },
    {
     "name": "stderr",
     "output_type": "stream",
     "text": [
      "\n",
      "tiles: 27it [00:00, 131.66it/s]\u001b[A"
     ]
    },
    {
     "name": "stdout",
     "output_type": "stream",
     "text": [
      "\r",
      "[#############                           ] | 33% Completed | 13.5s"
     ]
    },
    {
     "name": "stderr",
     "output_type": "stream",
     "text": [
      "\n",
      "tiles: 41it [00:00, 131.22it/s]\u001b[A"
     ]
    },
    {
     "name": "stdout",
     "output_type": "stream",
     "text": [
      "\r",
      "[#############                           ] | 33% Completed | 13.6s"
     ]
    },
    {
     "name": "stderr",
     "output_type": "stream",
     "text": [
      "\n",
      "tiles: 54it [00:00, 130.45it/s]\u001b[A"
     ]
    },
    {
     "name": "stdout",
     "output_type": "stream",
     "text": [
      "\r",
      "[#############                           ] | 33% Completed | 13.7s"
     ]
    },
    {
     "name": "stderr",
     "output_type": "stream",
     "text": [
      "\n",
      "tiles: 68it [00:00, 132.83it/s]\u001b[A"
     ]
    },
    {
     "name": "stdout",
     "output_type": "stream",
     "text": [
      "\r",
      "[#############                           ] | 33% Completed | 13.8s"
     ]
    },
    {
     "name": "stderr",
     "output_type": "stream",
     "text": [
      "\n",
      "tiles: 83it [00:00, 135.60it/s]\u001b[A"
     ]
    },
    {
     "name": "stdout",
     "output_type": "stream",
     "text": [
      "\r",
      "[#############                           ] | 33% Completed | 13.9s"
     ]
    },
    {
     "name": "stderr",
     "output_type": "stream",
     "text": [
      "\n",
      "tiles: 97it [00:00, 136.16it/s]\u001b[A"
     ]
    },
    {
     "name": "stdout",
     "output_type": "stream",
     "text": [
      "\r",
      "[#############                           ] | 33% Completed | 14.0s"
     ]
    },
    {
     "name": "stderr",
     "output_type": "stream",
     "text": [
      "\n",
      "tiles: 110it [00:00, 133.25it/s]\u001b[A"
     ]
    },
    {
     "name": "stdout",
     "output_type": "stream",
     "text": [
      "\r",
      "[#############                           ] | 33% Completed | 14.1s"
     ]
    },
    {
     "name": "stderr",
     "output_type": "stream",
     "text": [
      "\n",
      "tiles: 123it [00:00, 122.77it/s]\u001b[A"
     ]
    },
    {
     "name": "stdout",
     "output_type": "stream",
     "text": [
      "\r",
      "[#############                           ] | 33% Completed | 14.2s"
     ]
    },
    {
     "name": "stderr",
     "output_type": "stream",
     "text": [
      "\n",
      "tiles: 135it [00:01, 112.32it/s]\u001b[A"
     ]
    },
    {
     "name": "stdout",
     "output_type": "stream",
     "text": [
      "\r",
      "[#############                           ] | 33% Completed | 14.3s"
     ]
    },
    {
     "name": "stderr",
     "output_type": "stream",
     "text": [
      "\n",
      "tiles: 147it [00:01, 110.88it/s]\u001b[A"
     ]
    },
    {
     "name": "stdout",
     "output_type": "stream",
     "text": [
      "\r",
      "[#############                           ] | 33% Completed | 14.4s"
     ]
    },
    {
     "name": "stderr",
     "output_type": "stream",
     "text": [
      "\n",
      "tiles: 159it [00:01, 111.53it/s]\u001b[A"
     ]
    },
    {
     "name": "stdout",
     "output_type": "stream",
     "text": [
      "\r",
      "[#############                           ] | 33% Completed | 14.5s"
     ]
    },
    {
     "name": "stderr",
     "output_type": "stream",
     "text": [
      "\n",
      "tiles: 172it [00:01, 116.18it/s]\u001b[A"
     ]
    },
    {
     "name": "stdout",
     "output_type": "stream",
     "text": [
      "\r",
      "[#############                           ] | 33% Completed | 14.6s"
     ]
    },
    {
     "name": "stderr",
     "output_type": "stream",
     "text": [
      "\n",
      "tiles: 185it [00:01, 117.55it/s]\u001b[A"
     ]
    },
    {
     "name": "stdout",
     "output_type": "stream",
     "text": [
      "\r",
      "[#############                           ] | 33% Completed | 14.7s"
     ]
    },
    {
     "name": "stderr",
     "output_type": "stream",
     "text": [
      "\n",
      "tiles: 197it [00:01, 117.33it/s]\u001b[A"
     ]
    },
    {
     "name": "stdout",
     "output_type": "stream",
     "text": [
      "[#############                           ] | 33% Completed | 14.9s"
     ]
    },
    {
     "name": "stderr",
     "output_type": "stream",
     "text": [
      "\n",
      "tiles: 211it [00:01, 121.69it/s]\u001b[A"
     ]
    },
    {
     "name": "stdout",
     "output_type": "stream",
     "text": [
      "\r",
      "[#############                           ] | 33% Completed | 15.0s"
     ]
    },
    {
     "name": "stderr",
     "output_type": "stream",
     "text": [
      "\n",
      "tiles: 224it [00:01, 121.97it/s]\u001b[A"
     ]
    },
    {
     "name": "stdout",
     "output_type": "stream",
     "text": [
      "\r",
      "[#############                           ] | 33% Completed | 15.1s"
     ]
    },
    {
     "name": "stderr",
     "output_type": "stream",
     "text": [
      "\n",
      "tiles: 237it [00:01, 121.77it/s]\u001b[A"
     ]
    },
    {
     "name": "stdout",
     "output_type": "stream",
     "text": [
      "\r",
      "[#############                           ] | 33% Completed | 15.2s"
     ]
    },
    {
     "name": "stderr",
     "output_type": "stream",
     "text": [
      "\n",
      "tiles: 250it [00:02, 121.75it/s]\u001b[A"
     ]
    },
    {
     "name": "stdout",
     "output_type": "stream",
     "text": [
      "\r",
      "[#############                           ] | 33% Completed | 15.3s"
     ]
    },
    {
     "name": "stderr",
     "output_type": "stream",
     "text": [
      "\n",
      "tiles: 264it [00:02, 125.84it/s]\u001b[A"
     ]
    },
    {
     "name": "stdout",
     "output_type": "stream",
     "text": [
      "\r",
      "[#############                           ] | 33% Completed | 15.4s"
     ]
    },
    {
     "name": "stderr",
     "output_type": "stream",
     "text": [
      "\n",
      "tiles: 277it [00:02, 126.33it/s]\u001b[A"
     ]
    },
    {
     "name": "stdout",
     "output_type": "stream",
     "text": [
      "\r",
      "[#############                           ] | 33% Completed | 15.5s"
     ]
    },
    {
     "name": "stderr",
     "output_type": "stream",
     "text": [
      "\n",
      "tiles: 290it [00:02, 126.80it/s]\u001b[A"
     ]
    },
    {
     "name": "stdout",
     "output_type": "stream",
     "text": [
      "\r",
      "[#############                           ] | 33% Completed | 15.6s"
     ]
    },
    {
     "name": "stderr",
     "output_type": "stream",
     "text": [
      "\n",
      "tiles: 303it [00:02, 124.17it/s]\u001b[A"
     ]
    },
    {
     "name": "stdout",
     "output_type": "stream",
     "text": [
      "\r",
      "[#############                           ] | 33% Completed | 15.7s"
     ]
    },
    {
     "name": "stderr",
     "output_type": "stream",
     "text": [
      "\n",
      "tiles: 324it [00:02, 124.27it/s]\u001b[A\n",
      "level: 100%|██████████| 14/14 [00:05<00:00,  2.71it/s]"
     ]
    },
    {
     "name": "stdout",
     "output_type": "stream",
     "text": [
      "\r",
      "[####################                    ] | 50% Completed | 15.8s"
     ]
    },
    {
     "name": "stderr",
     "output_type": "stream",
     "text": [
      "\n",
      "level:   0%|          | 0/14 [00:00<?, ?it/s]"
     ]
    },
    {
     "name": "stdout",
     "output_type": "stream",
     "text": [
      "\r",
      "[####################                    ] | 50% Completed | 15.9s"
     ]
    },
    {
     "name": "stderr",
     "output_type": "stream",
     "text": [
      "\n",
      "tiles: 1it [00:00, 311.36it/s]\n",
      "\n",
      "tiles: 1it [00:00, 193.44it/s]\n",
      "level:  14%|█▍        | 2/14 [00:00<00:00, 17.74it/s]"
     ]
    },
    {
     "name": "stdout",
     "output_type": "stream",
     "text": [
      "\r",
      "[####################                    ] | 50% Completed | 16.0s"
     ]
    },
    {
     "name": "stderr",
     "output_type": "stream",
     "text": [
      "\n",
      "tiles: 1it [00:00, 150.97it/s]\n"
     ]
    },
    {
     "name": "stdout",
     "output_type": "stream",
     "text": [
      "\r",
      "[####################                    ] | 50% Completed | 16.1s"
     ]
    },
    {
     "name": "stderr",
     "output_type": "stream",
     "text": [
      "\n",
      "tiles: 1it [00:00, 174.88it/s]\n",
      "level:  29%|██▊       | 4/14 [00:00<00:00, 15.11it/s]"
     ]
    },
    {
     "name": "stdout",
     "output_type": "stream",
     "text": [
      "\r",
      "[####################                    ] | 50% Completed | 16.2s"
     ]
    },
    {
     "name": "stderr",
     "output_type": "stream",
     "text": [
      "\n",
      "tiles: 1it [00:00, 169.06it/s]\n",
      "level:  36%|███▌      | 5/14 [00:00<00:00, 12.40it/s]"
     ]
    },
    {
     "name": "stdout",
     "output_type": "stream",
     "text": [
      "\r",
      "[####################                    ] | 50% Completed | 16.3s"
     ]
    },
    {
     "name": "stderr",
     "output_type": "stream",
     "text": [
      "\n",
      "tiles: 1it [00:00, 166.01it/s]\n",
      "level:  43%|████▎     | 6/14 [00:00<00:00, 10.78it/s]"
     ]
    },
    {
     "name": "stdout",
     "output_type": "stream",
     "text": [
      "[####################                    ] | 50% Completed | 16.5s"
     ]
    },
    {
     "name": "stderr",
     "output_type": "stream",
     "text": [
      "\n",
      "tiles: 1it [00:00, 166.16it/s]\n",
      "level:  50%|█████     | 7/14 [00:00<00:00,  9.74it/s]"
     ]
    },
    {
     "name": "stdout",
     "output_type": "stream",
     "text": [
      "\r",
      "[####################                    ] | 50% Completed | 16.6s"
     ]
    },
    {
     "name": "stderr",
     "output_type": "stream",
     "text": [
      "\n",
      "tiles: 1it [00:00, 191.90it/s]\n",
      "level:  57%|█████▋    | 8/14 [00:00<00:00,  8.93it/s]"
     ]
    },
    {
     "name": "stdout",
     "output_type": "stream",
     "text": [
      "\r",
      "[####################                    ] | 50% Completed | 16.7s"
     ]
    },
    {
     "name": "stderr",
     "output_type": "stream",
     "text": [
      "\n",
      "tiles: 1it [00:00, 156.91it/s]\n",
      "level:  64%|██████▍   | 9/14 [00:00<00:00,  8.34it/s]"
     ]
    },
    {
     "name": "stdout",
     "output_type": "stream",
     "text": [
      "[####################                    ] | 50% Completed | 16.9s"
     ]
    },
    {
     "name": "stderr",
     "output_type": "stream",
     "text": [
      "\n",
      "tiles: 4it [00:00, 125.49it/s]\n",
      "level:  71%|███████▏  | 10/14 [00:01<00:00,  7.23it/s]"
     ]
    },
    {
     "name": "stdout",
     "output_type": "stream",
     "text": [
      "[####################                    ] | 50% Completed | 17.1s"
     ]
    },
    {
     "name": "stderr",
     "output_type": "stream",
     "text": [
      "\n",
      "tiles: 0it [00:00, ?it/s]\u001b[A"
     ]
    },
    {
     "name": "stdout",
     "output_type": "stream",
     "text": [
      "\r",
      "[####################                    ] | 50% Completed | 17.2s"
     ]
    },
    {
     "name": "stderr",
     "output_type": "stream",
     "text": [
      "tiles: 9it [00:00, 138.35it/s]\n",
      "level:  79%|███████▊  | 11/14 [00:01<00:00,  5.74it/s]"
     ]
    },
    {
     "name": "stdout",
     "output_type": "stream",
     "text": [
      "[####################                    ] | 50% Completed | 17.4s"
     ]
    },
    {
     "name": "stderr",
     "output_type": "stream",
     "text": [
      "\n",
      "tiles: 0it [00:00, ?it/s]\u001b[A"
     ]
    },
    {
     "name": "stdout",
     "output_type": "stream",
     "text": [
      "\r",
      "[####################                    ] | 50% Completed | 17.6s"
     ]
    },
    {
     "name": "stderr",
     "output_type": "stream",
     "text": [
      "\n",
      "tiles: 15it [00:00, 145.84it/s]\u001b[A"
     ]
    },
    {
     "name": "stdout",
     "output_type": "stream",
     "text": [
      "\r",
      "[####################                    ] | 50% Completed | 17.7s"
     ]
    },
    {
     "name": "stderr",
     "output_type": "stream",
     "text": [
      "tiles: 25it [00:00, 148.12it/s]\n",
      "level:  86%|████████▌ | 12/14 [00:01<00:00,  4.10it/s]"
     ]
    },
    {
     "name": "stdout",
     "output_type": "stream",
     "text": [
      "[####################                    ] | 50% Completed | 18.0s"
     ]
    },
    {
     "name": "stderr",
     "output_type": "stream",
     "text": [
      "\n",
      "tiles: 0it [00:00, ?it/s]\u001b[A"
     ]
    },
    {
     "name": "stdout",
     "output_type": "stream",
     "text": [
      "\r",
      "[####################                    ] | 50% Completed | 18.1s"
     ]
    },
    {
     "name": "stderr",
     "output_type": "stream",
     "text": [
      "\n"
     ]
    },
    {
     "name": "stdout",
     "output_type": "stream",
     "text": [
      "\r",
      "[####################                    ] | 50% Completed | 18.2s"
     ]
    },
    {
     "name": "stderr",
     "output_type": "stream",
     "text": [
      "tiles: 15it [00:00, 140.48it/s]\u001b[A"
     ]
    },
    {
     "name": "stdout",
     "output_type": "stream",
     "text": [
      "\r",
      "[####################                    ] | 50% Completed | 18.3s"
     ]
    },
    {
     "name": "stderr",
     "output_type": "stream",
     "text": [
      "\n",
      "tiles: 28it [00:00, 134.50it/s]\u001b[A"
     ]
    },
    {
     "name": "stdout",
     "output_type": "stream",
     "text": [
      "\r",
      "[####################                    ] | 50% Completed | 18.4s"
     ]
    },
    {
     "name": "stderr",
     "output_type": "stream",
     "text": [
      "\n",
      "tiles: 35it [00:00, 97.26it/s] \u001b[A"
     ]
    },
    {
     "name": "stdout",
     "output_type": "stream",
     "text": [
      "\r",
      "[####################                    ] | 50% Completed | 18.5s"
     ]
    },
    {
     "name": "stderr",
     "output_type": "stream",
     "text": [
      "\n",
      "tiles: 45it [00:00, 97.95it/s]\u001b[A"
     ]
    },
    {
     "name": "stdout",
     "output_type": "stream",
     "text": [
      "\r",
      "[####################                    ] | 50% Completed | 18.6s"
     ]
    },
    {
     "name": "stderr",
     "output_type": "stream",
     "text": [
      "\n",
      "tiles: 53it [00:00, 81.25it/s]\u001b[A"
     ]
    },
    {
     "name": "stdout",
     "output_type": "stream",
     "text": [
      "\r",
      "[####################                    ] | 50% Completed | 18.7s"
     ]
    },
    {
     "name": "stderr",
     "output_type": "stream",
     "text": [
      "\n",
      "tiles: 63it [00:00, 86.03it/s]\u001b[A"
     ]
    },
    {
     "name": "stdout",
     "output_type": "stream",
     "text": [
      "\r",
      "[####################                    ] | 50% Completed | 18.8s"
     ]
    },
    {
     "name": "stderr",
     "output_type": "stream",
     "text": [
      "\n",
      "tiles: 75it [00:00, 93.30it/s]\u001b[A"
     ]
    },
    {
     "name": "stdout",
     "output_type": "stream",
     "text": [
      "\r",
      "[####################                    ] | 50% Completed | 18.9s"
     ]
    },
    {
     "name": "stderr",
     "output_type": "stream",
     "text": [
      "tiles: 81it [00:00, 98.79it/s]\n",
      "level:  93%|█████████▎| 13/14 [00:02<00:00,  1.89it/s]\n",
      "tiles: 0it [00:00, ?it/s]\u001b[A"
     ]
    },
    {
     "name": "stdout",
     "output_type": "stream",
     "text": [
      "\r",
      "[####################                    ] | 50% Completed | 19.0s"
     ]
    },
    {
     "name": "stderr",
     "output_type": "stream",
     "text": [
      "\n",
      "tiles: 12it [00:00, 118.26it/s]\u001b[A"
     ]
    },
    {
     "name": "stdout",
     "output_type": "stream",
     "text": [
      "\r",
      "[####################                    ] | 50% Completed | 19.1s"
     ]
    },
    {
     "name": "stderr",
     "output_type": "stream",
     "text": [
      "\n",
      "tiles: 25it [00:00, 118.34it/s]\u001b[A"
     ]
    },
    {
     "name": "stdout",
     "output_type": "stream",
     "text": [
      "\r",
      "[####################                    ] | 50% Completed | 19.2s"
     ]
    },
    {
     "name": "stderr",
     "output_type": "stream",
     "text": [
      "\n",
      "tiles: 38it [00:00, 118.59it/s]\u001b[A"
     ]
    },
    {
     "name": "stdout",
     "output_type": "stream",
     "text": [
      "\r",
      "[####################                    ] | 50% Completed | 19.3s"
     ]
    },
    {
     "name": "stderr",
     "output_type": "stream",
     "text": [
      "\n",
      "tiles: 47it [00:00, 108.17it/s]\u001b[A"
     ]
    },
    {
     "name": "stdout",
     "output_type": "stream",
     "text": [
      "\r",
      "[####################                    ] | 50% Completed | 19.4s"
     ]
    },
    {
     "name": "stderr",
     "output_type": "stream",
     "text": [
      "\n",
      "tiles: 59it [00:00, 111.26it/s]\u001b[A"
     ]
    },
    {
     "name": "stdout",
     "output_type": "stream",
     "text": [
      "\r",
      "[####################                    ] | 50% Completed | 19.5s"
     ]
    },
    {
     "name": "stderr",
     "output_type": "stream",
     "text": [
      "\n",
      "tiles: 71it [00:00, 112.05it/s]\u001b[A"
     ]
    },
    {
     "name": "stdout",
     "output_type": "stream",
     "text": [
      "\r",
      "[####################                    ] | 50% Completed | 19.6s"
     ]
    },
    {
     "name": "stderr",
     "output_type": "stream",
     "text": [
      "\n",
      "tiles: 82it [00:00, 111.40it/s]\u001b[A"
     ]
    },
    {
     "name": "stdout",
     "output_type": "stream",
     "text": [
      "\r",
      "[####################                    ] | 50% Completed | 19.7s"
     ]
    },
    {
     "name": "stderr",
     "output_type": "stream",
     "text": [
      "\n",
      "tiles: 93it [00:00, 108.09it/s]\u001b[A"
     ]
    },
    {
     "name": "stdout",
     "output_type": "stream",
     "text": [
      "\r",
      "[####################                    ] | 50% Completed | 19.8s"
     ]
    },
    {
     "name": "stderr",
     "output_type": "stream",
     "text": [
      "\n",
      "tiles: 104it [00:00, 106.20it/s]\u001b[A"
     ]
    },
    {
     "name": "stdout",
     "output_type": "stream",
     "text": [
      "\r",
      "[####################                    ] | 50% Completed | 19.9s"
     ]
    },
    {
     "name": "stderr",
     "output_type": "stream",
     "text": [
      "\n",
      "tiles: 116it [00:01, 109.43it/s]\u001b[A"
     ]
    },
    {
     "name": "stdout",
     "output_type": "stream",
     "text": [
      "\r",
      "[####################                    ] | 50% Completed | 20.0s"
     ]
    },
    {
     "name": "stderr",
     "output_type": "stream",
     "text": [
      "\n",
      "tiles: 129it [00:01, 114.77it/s]\u001b[A"
     ]
    },
    {
     "name": "stdout",
     "output_type": "stream",
     "text": [
      "\r",
      "[####################                    ] | 50% Completed | 20.1s"
     ]
    },
    {
     "name": "stderr",
     "output_type": "stream",
     "text": [
      "\n",
      "tiles: 142it [00:01, 118.00it/s]\u001b[A"
     ]
    },
    {
     "name": "stdout",
     "output_type": "stream",
     "text": [
      "[####################                    ] | 50% Completed | 20.3s"
     ]
    },
    {
     "name": "stderr",
     "output_type": "stream",
     "text": [
      "\n",
      "tiles: 154it [00:01, 92.88it/s] \u001b[A"
     ]
    },
    {
     "name": "stdout",
     "output_type": "stream",
     "text": [
      "\r",
      "[####################                    ] | 50% Completed | 20.4s"
     ]
    },
    {
     "name": "stderr",
     "output_type": "stream",
     "text": [
      "\n",
      "tiles: 165it [00:01, 91.56it/s]\u001b[A"
     ]
    },
    {
     "name": "stdout",
     "output_type": "stream",
     "text": [
      "\r",
      "[####################                    ] | 50% Completed | 20.5s"
     ]
    },
    {
     "name": "stderr",
     "output_type": "stream",
     "text": [
      "\n",
      "tiles: 176it [00:01, 95.55it/s]\u001b[A"
     ]
    },
    {
     "name": "stdout",
     "output_type": "stream",
     "text": [
      "\r",
      "[####################                    ] | 50% Completed | 20.6s"
     ]
    },
    {
     "name": "stderr",
     "output_type": "stream",
     "text": [
      "\n"
     ]
    },
    {
     "name": "stdout",
     "output_type": "stream",
     "text": [
      "\r",
      "[####################                    ] | 50% Completed | 20.7s"
     ]
    },
    {
     "name": "stderr",
     "output_type": "stream",
     "text": [
      "tiles: 188it [00:01, 100.25it/s]\u001b[A"
     ]
    },
    {
     "name": "stdout",
     "output_type": "stream",
     "text": [
      "\r",
      "[####################                    ] | 50% Completed | 20.8s"
     ]
    },
    {
     "name": "stderr",
     "output_type": "stream",
     "text": [
      "\n",
      "tiles: 199it [00:01, 97.68it/s] \u001b[A"
     ]
    },
    {
     "name": "stdout",
     "output_type": "stream",
     "text": [
      "\r",
      "[####################                    ] | 50% Completed | 20.9s"
     ]
    },
    {
     "name": "stderr",
     "output_type": "stream",
     "text": [
      "\n",
      "tiles: 210it [00:01, 100.01it/s]\u001b[A"
     ]
    },
    {
     "name": "stdout",
     "output_type": "stream",
     "text": [
      "[####################                    ] | 50% Completed | 21.1s"
     ]
    },
    {
     "name": "stderr",
     "output_type": "stream",
     "text": [
      "\n",
      "tiles: 221it [00:02, 79.03it/s] \u001b[A"
     ]
    },
    {
     "name": "stdout",
     "output_type": "stream",
     "text": [
      "\r",
      "[####################                    ] | 50% Completed | 21.2s"
     ]
    },
    {
     "name": "stderr",
     "output_type": "stream",
     "text": [
      "\n",
      "tiles: 230it [00:02, 81.44it/s]\u001b[A"
     ]
    },
    {
     "name": "stdout",
     "output_type": "stream",
     "text": [
      "\r",
      "[####################                    ] | 50% Completed | 21.3s"
     ]
    },
    {
     "name": "stderr",
     "output_type": "stream",
     "text": [
      "\n",
      "tiles: 243it [00:02, 90.13it/s]\u001b[A"
     ]
    },
    {
     "name": "stdout",
     "output_type": "stream",
     "text": [
      "\r",
      "[####################                    ] | 50% Completed | 21.4s"
     ]
    },
    {
     "name": "stderr",
     "output_type": "stream",
     "text": [
      "\n",
      "tiles: 256it [00:02, 98.58it/s]\u001b[A"
     ]
    },
    {
     "name": "stdout",
     "output_type": "stream",
     "text": [
      "\r",
      "[####################                    ] | 50% Completed | 21.5s"
     ]
    },
    {
     "name": "stderr",
     "output_type": "stream",
     "text": [
      "\n",
      "tiles: 268it [00:02, 104.03it/s]\u001b[A"
     ]
    },
    {
     "name": "stdout",
     "output_type": "stream",
     "text": [
      "\r",
      "[####################                    ] | 50% Completed | 21.6s"
     ]
    },
    {
     "name": "stderr",
     "output_type": "stream",
     "text": [
      "\n",
      "tiles: 279it [00:02, 92.80it/s] \u001b[A"
     ]
    },
    {
     "name": "stdout",
     "output_type": "stream",
     "text": [
      "\r",
      "[####################                    ] | 50% Completed | 21.7s"
     ]
    },
    {
     "name": "stderr",
     "output_type": "stream",
     "text": [
      "\n",
      "tiles: 292it [00:02, 100.66it/s]\u001b[A"
     ]
    },
    {
     "name": "stdout",
     "output_type": "stream",
     "text": [
      "\r",
      "[####################                    ] | 50% Completed | 21.8s"
     ]
    },
    {
     "name": "stderr",
     "output_type": "stream",
     "text": [
      "tiles: 306it [00:02, 102.97it/s]\n",
      "level: 100%|██████████| 14/14 [00:05<00:00,  2.34it/s]"
     ]
    },
    {
     "name": "stdout",
     "output_type": "stream",
     "text": [
      "\r",
      "[##########################              ] | 66% Completed | 21.9s"
     ]
    },
    {
     "name": "stderr",
     "output_type": "stream",
     "text": [
      "\n",
      "level:   0%|          | 0/14 [00:00<?, ?it/s]"
     ]
    },
    {
     "name": "stdout",
     "output_type": "stream",
     "text": [
      "\r",
      "[##########################              ] | 66% Completed | 22.0s"
     ]
    },
    {
     "name": "stderr",
     "output_type": "stream",
     "text": [
      "\n",
      "tiles: 1it [00:00, 344.13it/s]\n",
      "\n",
      "tiles: 1it [00:00, 212.13it/s]\n",
      "level:  14%|█▍        | 2/14 [00:00<00:00, 17.72it/s]"
     ]
    },
    {
     "name": "stdout",
     "output_type": "stream",
     "text": [
      "\r",
      "[##########################              ] | 66% Completed | 22.1s"
     ]
    },
    {
     "name": "stderr",
     "output_type": "stream",
     "text": [
      "\n",
      "tiles: 1it [00:00, 217.85it/s]\n"
     ]
    },
    {
     "name": "stdout",
     "output_type": "stream",
     "text": [
      "\r",
      "[##########################              ] | 66% Completed | 22.2s"
     ]
    },
    {
     "name": "stderr",
     "output_type": "stream",
     "text": [
      "\n",
      "tiles: 1it [00:00, 182.98it/s]\n",
      "level:  29%|██▊       | 4/14 [00:00<00:00, 15.13it/s]"
     ]
    },
    {
     "name": "stdout",
     "output_type": "stream",
     "text": [
      "\r",
      "[##########################              ] | 66% Completed | 22.3s"
     ]
    },
    {
     "name": "stderr",
     "output_type": "stream",
     "text": [
      "\n",
      "tiles: 1it [00:00, 175.90it/s]\n",
      "level:  36%|███▌      | 5/14 [00:00<00:00, 12.59it/s]"
     ]
    },
    {
     "name": "stdout",
     "output_type": "stream",
     "text": [
      "\r",
      "[##########################              ] | 66% Completed | 22.4s"
     ]
    },
    {
     "name": "stderr",
     "output_type": "stream",
     "text": [
      "\n",
      "tiles: 0it [00:00, ?it/s]\u001b[A"
     ]
    },
    {
     "name": "stdout",
     "output_type": "stream",
     "text": [
      "\r",
      "[##########################              ] | 66% Completed | 22.5s"
     ]
    },
    {
     "name": "stderr",
     "output_type": "stream",
     "text": [
      "tiles: 1it [00:00, 161.91it/s]\n",
      "level:  43%|████▎     | 6/14 [00:00<00:00, 10.69it/s]"
     ]
    },
    {
     "name": "stdout",
     "output_type": "stream",
     "text": [
      "\r",
      "[##########################              ] | 66% Completed | 22.6s"
     ]
    },
    {
     "name": "stderr",
     "output_type": "stream",
     "text": [
      "\n",
      "tiles: 1it [00:00, 128.47it/s]\n",
      "level:  50%|█████     | 7/14 [00:00<00:00,  9.43it/s]"
     ]
    },
    {
     "name": "stdout",
     "output_type": "stream",
     "text": [
      "\r",
      "[##########################              ] | 66% Completed | 22.7s"
     ]
    },
    {
     "name": "stderr",
     "output_type": "stream",
     "text": [
      "\n",
      "tiles: 1it [00:00, 179.54it/s]\n",
      "level:  57%|█████▋    | 8/14 [00:00<00:00,  8.64it/s]"
     ]
    },
    {
     "name": "stdout",
     "output_type": "stream",
     "text": [
      "[##########################              ] | 66% Completed | 22.9s"
     ]
    },
    {
     "name": "stderr",
     "output_type": "stream",
     "text": [
      "\n",
      "tiles: 1it [00:00, 147.80it/s]\n",
      "level:  64%|██████▍   | 9/14 [00:00<00:00,  8.00it/s]"
     ]
    },
    {
     "name": "stdout",
     "output_type": "stream",
     "text": [
      "\r",
      "[##########################              ] | 66% Completed | 23.0s"
     ]
    },
    {
     "name": "stderr",
     "output_type": "stream",
     "text": [
      "\n",
      "tiles: 4it [00:00, 170.88it/s]\n",
      "level:  71%|███████▏  | 10/14 [00:01<00:00,  7.11it/s]"
     ]
    },
    {
     "name": "stdout",
     "output_type": "stream",
     "text": [
      "[##########################              ] | 66% Completed | 23.2s"
     ]
    },
    {
     "name": "stderr",
     "output_type": "stream",
     "text": [
      "\n",
      "tiles: 0it [00:00, ?it/s]\u001b[A"
     ]
    },
    {
     "name": "stdout",
     "output_type": "stream",
     "text": [
      "\r",
      "[##########################              ] | 66% Completed | 23.3s"
     ]
    },
    {
     "name": "stderr",
     "output_type": "stream",
     "text": [
      "tiles: 9it [00:00, 174.69it/s]\n",
      "level:  79%|███████▊  | 11/14 [00:01<00:00,  5.88it/s]"
     ]
    },
    {
     "name": "stdout",
     "output_type": "stream",
     "text": [
      "[##########################              ] | 66% Completed | 23.5s"
     ]
    },
    {
     "name": "stderr",
     "output_type": "stream",
     "text": [
      "\n",
      "tiles: 0it [00:00, ?it/s]\u001b[A"
     ]
    },
    {
     "name": "stdout",
     "output_type": "stream",
     "text": [
      "\r",
      "[##########################              ] | 66% Completed | 23.6s"
     ]
    },
    {
     "name": "stderr",
     "output_type": "stream",
     "text": [
      "\n",
      "tiles: 13it [00:00, 124.87it/s]\u001b[A"
     ]
    },
    {
     "name": "stdout",
     "output_type": "stream",
     "text": [
      "\r",
      "[##########################              ] | 66% Completed | 23.7s"
     ]
    },
    {
     "name": "stderr",
     "output_type": "stream",
     "text": [
      "tiles: 25it [00:00, 137.29it/s]\n",
      "level:  86%|████████▌ | 12/14 [00:01<00:00,  4.09it/s]"
     ]
    },
    {
     "name": "stdout",
     "output_type": "stream",
     "text": [
      "[##########################              ] | 66% Completed | 24.1s"
     ]
    },
    {
     "name": "stderr",
     "output_type": "stream",
     "text": [
      "\n",
      "tiles: 0it [00:00, ?it/s]\u001b[A"
     ]
    },
    {
     "name": "stdout",
     "output_type": "stream",
     "text": [
      "\r",
      "[##########################              ] | 66% Completed | 24.2s"
     ]
    },
    {
     "name": "stderr",
     "output_type": "stream",
     "text": [
      "\n",
      "tiles: 15it [00:00, 139.67it/s]\u001b[A"
     ]
    },
    {
     "name": "stdout",
     "output_type": "stream",
     "text": [
      "\r",
      "[##########################              ] | 66% Completed | 24.3s"
     ]
    },
    {
     "name": "stderr",
     "output_type": "stream",
     "text": [
      "\n",
      "tiles: 26it [00:00, 128.26it/s]\u001b[A"
     ]
    },
    {
     "name": "stdout",
     "output_type": "stream",
     "text": [
      "\r",
      "[##########################              ] | 66% Completed | 24.4s"
     ]
    },
    {
     "name": "stderr",
     "output_type": "stream",
     "text": [
      "\n",
      "tiles: 37it [00:00, 121.49it/s]\u001b[A"
     ]
    },
    {
     "name": "stdout",
     "output_type": "stream",
     "text": [
      "\r",
      "[##########################              ] | 66% Completed | 24.6s"
     ]
    },
    {
     "name": "stderr",
     "output_type": "stream",
     "text": [
      "\n",
      "tiles: 48it [00:00, 116.35it/s]\u001b[A"
     ]
    },
    {
     "name": "stdout",
     "output_type": "stream",
     "text": [
      "\r",
      "[##########################              ] | 66% Completed | 24.7s"
     ]
    },
    {
     "name": "stderr",
     "output_type": "stream",
     "text": [
      "\n",
      "tiles: 60it [00:00, 114.95it/s]\u001b[A"
     ]
    },
    {
     "name": "stdout",
     "output_type": "stream",
     "text": [
      "\r",
      "[##########################              ] | 66% Completed | 24.8s"
     ]
    },
    {
     "name": "stderr",
     "output_type": "stream",
     "text": [
      "\n",
      "tiles: 81it [00:00, 118.19it/s]\u001b[A\n",
      "level:  93%|█████████▎| 13/14 [00:02<00:00,  2.04it/s]\n",
      "tiles: 0it [00:00, ?it/s]\u001b[A"
     ]
    },
    {
     "name": "stdout",
     "output_type": "stream",
     "text": [
      "[##########################              ] | 66% Completed | 25.0s"
     ]
    },
    {
     "name": "stderr",
     "output_type": "stream",
     "text": [
      "\n",
      "tiles: 14it [00:00, 132.72it/s]\u001b[A"
     ]
    },
    {
     "name": "stdout",
     "output_type": "stream",
     "text": [
      "\r",
      "[##########################              ] | 66% Completed | 25.1s"
     ]
    },
    {
     "name": "stderr",
     "output_type": "stream",
     "text": [
      "\n",
      "tiles: 28it [00:00, 133.88it/s]\u001b[A"
     ]
    },
    {
     "name": "stdout",
     "output_type": "stream",
     "text": [
      "\r",
      "[##########################              ] | 66% Completed | 25.2s"
     ]
    },
    {
     "name": "stderr",
     "output_type": "stream",
     "text": [
      "\n",
      "tiles: 42it [00:00, 134.48it/s]\u001b[A"
     ]
    },
    {
     "name": "stdout",
     "output_type": "stream",
     "text": [
      "\r",
      "[##########################              ] | 66% Completed | 25.3s"
     ]
    },
    {
     "name": "stderr",
     "output_type": "stream",
     "text": [
      "\n",
      "tiles: 53it [00:00, 124.89it/s]\u001b[A"
     ]
    },
    {
     "name": "stdout",
     "output_type": "stream",
     "text": [
      "\r",
      "[##########################              ] | 66% Completed | 25.4s"
     ]
    },
    {
     "name": "stderr",
     "output_type": "stream",
     "text": [
      "\n",
      "tiles: 66it [00:00, 124.08it/s]\u001b[A"
     ]
    },
    {
     "name": "stdout",
     "output_type": "stream",
     "text": [
      "\r",
      "[##########################              ] | 66% Completed | 25.5s"
     ]
    },
    {
     "name": "stderr",
     "output_type": "stream",
     "text": [
      "\n",
      "tiles: 81it [00:00, 129.76it/s]\u001b[A"
     ]
    },
    {
     "name": "stdout",
     "output_type": "stream",
     "text": [
      "\r",
      "[##########################              ] | 66% Completed | 25.6s"
     ]
    },
    {
     "name": "stderr",
     "output_type": "stream",
     "text": [
      "\n",
      "tiles: 94it [00:00, 125.44it/s]\u001b[A"
     ]
    },
    {
     "name": "stdout",
     "output_type": "stream",
     "text": [
      "\r",
      "[##########################              ] | 66% Completed | 25.7s"
     ]
    },
    {
     "name": "stderr",
     "output_type": "stream",
     "text": [
      "\n",
      "tiles: 106it [00:00, 114.30it/s]\u001b[A"
     ]
    },
    {
     "name": "stdout",
     "output_type": "stream",
     "text": [
      "\r",
      "[##########################              ] | 66% Completed | 25.8s"
     ]
    },
    {
     "name": "stderr",
     "output_type": "stream",
     "text": [
      "\n",
      "tiles: 118it [00:00, 114.06it/s]\u001b[A"
     ]
    },
    {
     "name": "stdout",
     "output_type": "stream",
     "text": [
      "\r",
      "[##########################              ] | 66% Completed | 25.9s"
     ]
    },
    {
     "name": "stderr",
     "output_type": "stream",
     "text": [
      "\n",
      "tiles: 130it [00:01, 114.26it/s]\u001b[A"
     ]
    },
    {
     "name": "stdout",
     "output_type": "stream",
     "text": [
      "\r",
      "[##########################              ] | 66% Completed | 26.0s"
     ]
    },
    {
     "name": "stderr",
     "output_type": "stream",
     "text": [
      "\n",
      "tiles: 142it [00:01, 111.64it/s]\u001b[A"
     ]
    },
    {
     "name": "stdout",
     "output_type": "stream",
     "text": [
      "\r",
      "[##########################              ] | 66% Completed | 26.1s"
     ]
    },
    {
     "name": "stderr",
     "output_type": "stream",
     "text": [
      "\n",
      "tiles: 155it [00:01, 113.74it/s]\u001b[A"
     ]
    },
    {
     "name": "stdout",
     "output_type": "stream",
     "text": [
      "\r",
      "[##########################              ] | 66% Completed | 26.2s"
     ]
    },
    {
     "name": "stderr",
     "output_type": "stream",
     "text": [
      "\n",
      "tiles: 168it [00:01, 118.02it/s]\u001b[A"
     ]
    },
    {
     "name": "stdout",
     "output_type": "stream",
     "text": [
      "\r",
      "[##########################              ] | 66% Completed | 26.3s"
     ]
    },
    {
     "name": "stderr",
     "output_type": "stream",
     "text": [
      "\n",
      "tiles: 181it [00:01, 120.01it/s]\u001b[A"
     ]
    },
    {
     "name": "stdout",
     "output_type": "stream",
     "text": [
      "\r",
      "[##########################              ] | 66% Completed | 26.4s"
     ]
    },
    {
     "name": "stderr",
     "output_type": "stream",
     "text": [
      "\n",
      "tiles: 193it [00:01, 119.53it/s]\u001b[A"
     ]
    },
    {
     "name": "stdout",
     "output_type": "stream",
     "text": [
      "\r",
      "[##########################              ] | 66% Completed | 26.5s"
     ]
    },
    {
     "name": "stderr",
     "output_type": "stream",
     "text": [
      "\n",
      "tiles: 207it [00:01, 124.72it/s]\u001b[A"
     ]
    },
    {
     "name": "stdout",
     "output_type": "stream",
     "text": [
      "\r",
      "[##########################              ] | 66% Completed | 26.6s"
     ]
    },
    {
     "name": "stderr",
     "output_type": "stream",
     "text": [
      "\n",
      "tiles: 222it [00:01, 130.72it/s]\u001b[A"
     ]
    },
    {
     "name": "stdout",
     "output_type": "stream",
     "text": [
      "[##########################              ] | 66% Completed | 26.8s"
     ]
    },
    {
     "name": "stderr",
     "output_type": "stream",
     "text": [
      "\n",
      "tiles: 236it [00:01, 122.93it/s]\u001b[A"
     ]
    },
    {
     "name": "stdout",
     "output_type": "stream",
     "text": [
      "\r",
      "[##########################              ] | 66% Completed | 26.9s"
     ]
    },
    {
     "name": "stderr",
     "output_type": "stream",
     "text": [
      "\n",
      "tiles: 249it [00:02, 118.05it/s]\u001b[A"
     ]
    },
    {
     "name": "stdout",
     "output_type": "stream",
     "text": [
      "\r",
      "[##########################              ] | 66% Completed | 27.0s"
     ]
    },
    {
     "name": "stderr",
     "output_type": "stream",
     "text": [
      "\n",
      "tiles: 263it [00:02, 122.93it/s]\u001b[A"
     ]
    },
    {
     "name": "stdout",
     "output_type": "stream",
     "text": [
      "\r",
      "[##########################              ] | 66% Completed | 27.1s"
     ]
    },
    {
     "name": "stderr",
     "output_type": "stream",
     "text": [
      "\n",
      "tiles: 277it [00:02, 126.44it/s]\u001b[A"
     ]
    },
    {
     "name": "stdout",
     "output_type": "stream",
     "text": [
      "\r",
      "[##########################              ] | 66% Completed | 27.2s"
     ]
    },
    {
     "name": "stderr",
     "output_type": "stream",
     "text": [
      "\n",
      "tiles: 291it [00:02, 126.58it/s]\u001b[A"
     ]
    },
    {
     "name": "stdout",
     "output_type": "stream",
     "text": [
      "\r",
      "[##########################              ] | 66% Completed | 27.3s"
     ]
    },
    {
     "name": "stderr",
     "output_type": "stream",
     "text": [
      "\n",
      "tiles: 304it [00:02, 126.58it/s]\u001b[A"
     ]
    },
    {
     "name": "stdout",
     "output_type": "stream",
     "text": [
      "\r",
      "[##########################              ] | 66% Completed | 27.4s"
     ]
    },
    {
     "name": "stderr",
     "output_type": "stream",
     "text": [
      "\n",
      "tiles: 324it [00:02, 123.71it/s]\u001b[A\n",
      "level: 100%|██████████| 14/14 [00:05<00:00,  2.56it/s]"
     ]
    },
    {
     "name": "stdout",
     "output_type": "stream",
     "text": [
      "\r",
      "[#################################       ] | 83% Completed | 27.5s"
     ]
    },
    {
     "name": "stderr",
     "output_type": "stream",
     "text": [
      "\n",
      "level:   0%|          | 0/14 [00:00<?, ?it/s]\n",
      "tiles: 0it [00:00, ?it/s]\u001b[A"
     ]
    },
    {
     "name": "stdout",
     "output_type": "stream",
     "text": [
      "\r",
      "[#################################       ] | 83% Completed | 27.6s"
     ]
    },
    {
     "name": "stderr",
     "output_type": "stream",
     "text": [
      "tiles: 1it [00:00, 288.03it/s]\n",
      "\n",
      "tiles: 1it [00:00, 227.51it/s]\n"
     ]
    },
    {
     "name": "stdout",
     "output_type": "stream",
     "text": [
      "\r",
      "[#################################       ] | 83% Completed | 27.7s"
     ]
    },
    {
     "name": "stderr",
     "output_type": "stream",
     "text": [
      "\n",
      "tiles: 1it [00:00, 202.39it/s]\n",
      "level:  21%|██▏       | 3/14 [00:00<00:00, 18.26it/s]"
     ]
    },
    {
     "name": "stdout",
     "output_type": "stream",
     "text": [
      "\r",
      "[#################################       ] | 83% Completed | 27.8s"
     ]
    },
    {
     "name": "stderr",
     "output_type": "stream",
     "text": [
      "\n",
      "tiles: 1it [00:00, 204.06it/s]\n"
     ]
    },
    {
     "name": "stdout",
     "output_type": "stream",
     "text": [
      "\r",
      "[#################################       ] | 83% Completed | 27.9s"
     ]
    },
    {
     "name": "stderr",
     "output_type": "stream",
     "text": [
      "\n",
      "tiles: 1it [00:00, 152.50it/s]\n",
      "level:  36%|███▌      | 5/14 [00:00<00:00, 14.86it/s]"
     ]
    },
    {
     "name": "stdout",
     "output_type": "stream",
     "text": [
      "\r",
      "[#################################       ] | 83% Completed | 28.0s"
     ]
    },
    {
     "name": "stderr",
     "output_type": "stream",
     "text": [
      "\n",
      "tiles: 1it [00:00, 198.43it/s]\n",
      "level:  43%|████▎     | 6/14 [00:00<00:00, 12.34it/s]"
     ]
    },
    {
     "name": "stdout",
     "output_type": "stream",
     "text": [
      "\r",
      "[#################################       ] | 83% Completed | 28.1s"
     ]
    },
    {
     "name": "stderr",
     "output_type": "stream",
     "text": [
      "\n",
      "tiles: 1it [00:00, 173.05it/s]\n",
      "level:  50%|█████     | 7/14 [00:00<00:00, 10.66it/s]"
     ]
    },
    {
     "name": "stdout",
     "output_type": "stream",
     "text": [
      "\r",
      "[#################################       ] | 83% Completed | 28.2s"
     ]
    },
    {
     "name": "stderr",
     "output_type": "stream",
     "text": [
      "\n",
      "tiles: 1it [00:00, 193.42it/s]\n",
      "level:  57%|█████▋    | 8/14 [00:00<00:00,  9.76it/s]"
     ]
    },
    {
     "name": "stdout",
     "output_type": "stream",
     "text": [
      "[#################################       ] | 83% Completed | 28.4s"
     ]
    },
    {
     "name": "stderr",
     "output_type": "stream",
     "text": [
      "\n",
      "tiles: 1it [00:00, 181.88it/s]\n",
      "level:  64%|██████▍   | 9/14 [00:00<00:00,  8.86it/s]"
     ]
    },
    {
     "name": "stdout",
     "output_type": "stream",
     "text": [
      "\r",
      "[#################################       ] | 83% Completed | 28.5s"
     ]
    },
    {
     "name": "stderr",
     "output_type": "stream",
     "text": [
      "\n",
      "tiles: 4it [00:00, 183.98it/s]\n",
      "level:  71%|███████▏  | 10/14 [00:01<00:00,  7.75it/s]"
     ]
    },
    {
     "name": "stdout",
     "output_type": "stream",
     "text": [
      "[#################################       ] | 83% Completed | 28.7s"
     ]
    },
    {
     "name": "stderr",
     "output_type": "stream",
     "text": [
      "\n",
      "tiles: 9it [00:00, 175.43it/s]\n",
      "level:  79%|███████▊  | 11/14 [00:01<00:00,  6.42it/s]"
     ]
    },
    {
     "name": "stdout",
     "output_type": "stream",
     "text": [
      "[#################################       ] | 83% Completed | 29.0s"
     ]
    },
    {
     "name": "stderr",
     "output_type": "stream",
     "text": [
      "\n",
      "tiles: 0it [00:00, ?it/s]\u001b[A"
     ]
    },
    {
     "name": "stdout",
     "output_type": "stream",
     "text": [
      "\r",
      "[#################################       ] | 83% Completed | 29.1s"
     ]
    },
    {
     "name": "stderr",
     "output_type": "stream",
     "text": [
      "\n",
      "tiles: 25it [00:00, 167.89it/s]\u001b[A\n",
      "level:  86%|████████▌ | 12/14 [00:01<00:00,  4.39it/s]"
     ]
    },
    {
     "name": "stdout",
     "output_type": "stream",
     "text": [
      "[#################################       ] | 83% Completed | 29.4s"
     ]
    },
    {
     "name": "stderr",
     "output_type": "stream",
     "text": [
      "\n",
      "tiles: 0it [00:00, ?it/s]\u001b[A"
     ]
    },
    {
     "name": "stdout",
     "output_type": "stream",
     "text": [
      "\r",
      "[#################################       ] | 83% Completed | 29.5s"
     ]
    },
    {
     "name": "stderr",
     "output_type": "stream",
     "text": [
      "\n",
      "tiles: 16it [00:00, 159.57it/s]\u001b[A"
     ]
    },
    {
     "name": "stdout",
     "output_type": "stream",
     "text": [
      "\r",
      "[#################################       ] | 83% Completed | 29.6s"
     ]
    },
    {
     "name": "stderr",
     "output_type": "stream",
     "text": [
      "\n",
      "tiles: 32it [00:00, 156.16it/s]\u001b[A"
     ]
    },
    {
     "name": "stdout",
     "output_type": "stream",
     "text": [
      "\r",
      "[#################################       ] | 83% Completed | 29.7s"
     ]
    },
    {
     "name": "stderr",
     "output_type": "stream",
     "text": [
      "\n",
      "tiles: 45it [00:00, 147.00it/s]\u001b[A"
     ]
    },
    {
     "name": "stdout",
     "output_type": "stream",
     "text": [
      "\r",
      "[#################################       ] | 83% Completed | 29.8s"
     ]
    },
    {
     "name": "stderr",
     "output_type": "stream",
     "text": [
      "\n",
      "tiles: 57it [00:00, 135.41it/s]\u001b[A"
     ]
    },
    {
     "name": "stdout",
     "output_type": "stream",
     "text": [
      "\r",
      "[#################################       ] | 83% Completed | 29.9s"
     ]
    },
    {
     "name": "stderr",
     "output_type": "stream",
     "text": [
      "\n",
      "tiles: 70it [00:00, 132.49it/s]\u001b[A"
     ]
    },
    {
     "name": "stdout",
     "output_type": "stream",
     "text": [
      "\r",
      "[#################################       ] | 83% Completed | 30.0s"
     ]
    },
    {
     "name": "stderr",
     "output_type": "stream",
     "text": [
      "tiles: 81it [00:00, 137.24it/s]\n",
      "level:  93%|█████████▎| 13/14 [00:02<00:00,  2.38it/s]\n",
      "tiles: 0it [00:00, ?it/s]\u001b[A"
     ]
    },
    {
     "name": "stdout",
     "output_type": "stream",
     "text": [
      "\r",
      "[#################################       ] | 83% Completed | 30.1s"
     ]
    },
    {
     "name": "stderr",
     "output_type": "stream",
     "text": [
      "\n",
      "tiles: 15it [00:00, 142.75it/s]\u001b[A"
     ]
    },
    {
     "name": "stdout",
     "output_type": "stream",
     "text": [
      "\r",
      "[#################################       ] | 83% Completed | 30.2s"
     ]
    },
    {
     "name": "stderr",
     "output_type": "stream",
     "text": [
      "\n",
      "tiles: 27it [00:00, 132.01it/s]\u001b[A"
     ]
    },
    {
     "name": "stdout",
     "output_type": "stream",
     "text": [
      "\r",
      "[#################################       ] | 83% Completed | 30.3s"
     ]
    },
    {
     "name": "stderr",
     "output_type": "stream",
     "text": [
      "\n",
      "tiles: 40it [00:00, 126.46it/s]\u001b[A"
     ]
    },
    {
     "name": "stdout",
     "output_type": "stream",
     "text": [
      "\r",
      "[#################################       ] | 83% Completed | 30.4s"
     ]
    },
    {
     "name": "stderr",
     "output_type": "stream",
     "text": [
      "\n",
      "tiles: 52it [00:00, 122.91it/s]\u001b[A"
     ]
    },
    {
     "name": "stdout",
     "output_type": "stream",
     "text": [
      "\r",
      "[#################################       ] | 83% Completed | 30.5s"
     ]
    },
    {
     "name": "stderr",
     "output_type": "stream",
     "text": [
      "\n",
      "tiles: 64it [00:00, 121.45it/s]\u001b[A"
     ]
    },
    {
     "name": "stdout",
     "output_type": "stream",
     "text": [
      "\r",
      "[#################################       ] | 83% Completed | 30.6s"
     ]
    },
    {
     "name": "stderr",
     "output_type": "stream",
     "text": [
      "\n",
      "tiles: 77it [00:00, 123.29it/s]\u001b[A"
     ]
    },
    {
     "name": "stdout",
     "output_type": "stream",
     "text": [
      "\r",
      "[#################################       ] | 83% Completed | 30.7s"
     ]
    },
    {
     "name": "stderr",
     "output_type": "stream",
     "text": [
      "\n",
      "tiles: 90it [00:00, 124.64it/s]\u001b[A"
     ]
    },
    {
     "name": "stdout",
     "output_type": "stream",
     "text": [
      "\r",
      "[#################################       ] | 83% Completed | 30.8s"
     ]
    },
    {
     "name": "stderr",
     "output_type": "stream",
     "text": [
      "\n",
      "tiles: 102it [00:00, 118.78it/s]\u001b[A"
     ]
    },
    {
     "name": "stdout",
     "output_type": "stream",
     "text": [
      "[#################################       ] | 83% Completed | 31.0s"
     ]
    },
    {
     "name": "stderr",
     "output_type": "stream",
     "text": [
      "\n",
      "tiles: 114it [00:00, 110.62it/s]\u001b[A"
     ]
    },
    {
     "name": "stdout",
     "output_type": "stream",
     "text": [
      "\r",
      "[#################################       ] | 83% Completed | 31.1s"
     ]
    },
    {
     "name": "stderr",
     "output_type": "stream",
     "text": [
      "\n",
      "tiles: 125it [00:01, 109.03it/s]\u001b[A"
     ]
    },
    {
     "name": "stdout",
     "output_type": "stream",
     "text": [
      "\r",
      "[#################################       ] | 83% Completed | 31.2s"
     ]
    },
    {
     "name": "stderr",
     "output_type": "stream",
     "text": [
      "\n",
      "tiles: 136it [00:01, 103.33it/s]\u001b[A"
     ]
    },
    {
     "name": "stdout",
     "output_type": "stream",
     "text": [
      "\r",
      "[#################################       ] | 83% Completed | 31.3s"
     ]
    },
    {
     "name": "stderr",
     "output_type": "stream",
     "text": [
      "\n",
      "tiles: 149it [00:01, 107.92it/s]\u001b[A"
     ]
    },
    {
     "name": "stdout",
     "output_type": "stream",
     "text": [
      "\r",
      "[#################################       ] | 83% Completed | 31.4s"
     ]
    },
    {
     "name": "stderr",
     "output_type": "stream",
     "text": [
      "\n",
      "tiles: 160it [00:01, 107.11it/s]\u001b[A"
     ]
    },
    {
     "name": "stdout",
     "output_type": "stream",
     "text": [
      "\r",
      "[#################################       ] | 83% Completed | 31.5s"
     ]
    },
    {
     "name": "stderr",
     "output_type": "stream",
     "text": [
      "\n",
      "tiles: 173it [00:01, 112.14it/s]\u001b[A"
     ]
    },
    {
     "name": "stdout",
     "output_type": "stream",
     "text": [
      "\r",
      "[#################################       ] | 83% Completed | 31.7s"
     ]
    },
    {
     "name": "stderr",
     "output_type": "stream",
     "text": [
      "\n",
      "tiles: 186it [00:01, 114.64it/s]\u001b[A"
     ]
    },
    {
     "name": "stdout",
     "output_type": "stream",
     "text": [
      "\r",
      "[#################################       ] | 83% Completed | 31.8s"
     ]
    },
    {
     "name": "stderr",
     "output_type": "stream",
     "text": [
      "\n",
      "tiles: 199it [00:01, 117.45it/s]\u001b[A"
     ]
    },
    {
     "name": "stdout",
     "output_type": "stream",
     "text": [
      "\r",
      "[#################################       ] | 83% Completed | 31.9s"
     ]
    },
    {
     "name": "stderr",
     "output_type": "stream",
     "text": [
      "\n",
      "tiles: 211it [00:01, 117.75it/s]\u001b[A"
     ]
    },
    {
     "name": "stdout",
     "output_type": "stream",
     "text": [
      "\r",
      "[#################################       ] | 83% Completed | 32.0s"
     ]
    },
    {
     "name": "stderr",
     "output_type": "stream",
     "text": [
      "\n",
      "tiles: 223it [00:01, 113.15it/s]\u001b[A"
     ]
    },
    {
     "name": "stdout",
     "output_type": "stream",
     "text": [
      "\r",
      "[#################################       ] | 83% Completed | 32.1s"
     ]
    },
    {
     "name": "stderr",
     "output_type": "stream",
     "text": [
      "\n",
      "tiles: 235it [00:02, 108.38it/s]\u001b[A"
     ]
    },
    {
     "name": "stdout",
     "output_type": "stream",
     "text": [
      "\r",
      "[#################################       ] | 83% Completed | 32.2s"
     ]
    },
    {
     "name": "stderr",
     "output_type": "stream",
     "text": [
      "\n",
      "tiles: 246it [00:02, 107.05it/s]\u001b[A"
     ]
    },
    {
     "name": "stdout",
     "output_type": "stream",
     "text": [
      "\r",
      "[#################################       ] | 83% Completed | 32.3s"
     ]
    },
    {
     "name": "stderr",
     "output_type": "stream",
     "text": [
      "\n",
      "tiles: 258it [00:02, 110.09it/s]\u001b[A"
     ]
    },
    {
     "name": "stdout",
     "output_type": "stream",
     "text": [
      "\r",
      "[#################################       ] | 83% Completed | 32.4s"
     ]
    },
    {
     "name": "stderr",
     "output_type": "stream",
     "text": [
      "\n",
      "tiles: 270it [00:02, 108.66it/s]\u001b[A"
     ]
    },
    {
     "name": "stdout",
     "output_type": "stream",
     "text": [
      "\r",
      "[#################################       ] | 83% Completed | 32.5s"
     ]
    },
    {
     "name": "stderr",
     "output_type": "stream",
     "text": [
      "\n",
      "tiles: 283it [00:02, 114.24it/s]\u001b[A"
     ]
    },
    {
     "name": "stdout",
     "output_type": "stream",
     "text": [
      "\r",
      "[#################################       ] | 83% Completed | 32.6s"
     ]
    },
    {
     "name": "stderr",
     "output_type": "stream",
     "text": [
      "\n",
      "tiles: 300it [00:02, 125.68it/s]\u001b[A"
     ]
    },
    {
     "name": "stdout",
     "output_type": "stream",
     "text": [
      "\r",
      "[#################################       ] | 83% Completed | 32.7s"
     ]
    },
    {
     "name": "stderr",
     "output_type": "stream",
     "text": [
      "tiles: 306it [00:02, 116.55it/s]\n",
      "level: 100%|██████████| 14/14 [00:05<00:00,  2.73it/s]\n"
     ]
    },
    {
     "name": "stdout",
     "output_type": "stream",
     "text": [
      "[########################################] | 100% Completed | 32.8s\n"
     ]
    }
   ],
   "source": [
    "case.write_dzi_parallel(ims,dzis,scheduler='single-threaded')\n",
    "case.visualize_dzi(dzis)"
   ]
  },
  {
   "cell_type": "code",
   "execution_count": 35,
   "metadata": {},
   "outputs": [],
   "source": [
    "case.reset_dir()"
   ]
  },
  {
   "cell_type": "code",
   "execution_count": 34,
   "metadata": {},
   "outputs": [
    {
     "name": "stdout",
     "output_type": "stream",
     "text": [
      "Changing dir to dzi_files\n",
      "Serving \"/dartfs/rc/lab/V/VaickusL_slow/users/jlevy/arctic_ai/prototype/workflow_automation/dzi_files\" directory on http://127.0.0.1:5554\n",
      "send header\n"
     ]
    },
    {
     "name": "stderr",
     "output_type": "stream",
     "text": [
      "127.0.0.1 - - [26/Dec/2020 04:25:03] \"GET / HTTP/1.1\" 401 -\n",
      "127.0.0.1 - - [26/Dec/2020 04:25:08] \"GET / HTTP/1.1\" 200 -\n",
      "127.0.0.1 - - [26/Dec/2020 04:25:09] code 404, message File not found\n",
      "127.0.0.1 - - [26/Dec/2020 04:25:09] \"GET /style.css HTTP/1.1\" 404 -\n",
      "127.0.0.1 - - [26/Dec/2020 04:25:09] code 404, message File not found\n",
      "127.0.0.1 - - [26/Dec/2020 04:25:09] \"GET /scripts.js HTTP/1.1\" 404 -\n",
      "127.0.0.1 - - [26/Dec/2020 04:25:09] \"GET /openseadragon/openseadragon.min.js HTTP/1.1\" 200 -\n",
      "127.0.0.1 - - [26/Dec/2020 04:25:09] \"GET /openseadragon/openseadragon-curtain-sync.min.js HTTP/1.1\" 200 -\n",
      "127.0.0.1 - - [26/Dec/2020 04:25:10] \"GET /163_A1_1_1_tumor.dzi HTTP/1.1\" 200 -\n",
      "127.0.0.1 - - [26/Dec/2020 04:25:10] \"GET /163_A1_2_1_tumor.dzi HTTP/1.1\" 200 -\n",
      "127.0.0.1 - - [26/Dec/2020 04:25:10] \"GET /163_A1_3_1_tumor.dzi HTTP/1.1\" 200 -\n",
      "127.0.0.1 - - [26/Dec/2020 04:25:10] \"GET /163_A1_4_1_tumor.dzi HTTP/1.1\" 200 -\n",
      "127.0.0.1 - - [26/Dec/2020 04:25:10] \"GET /163_A1_5_1_tumor.dzi HTTP/1.1\" 200 -\n",
      "127.0.0.1 - - [26/Dec/2020 04:25:10] \"GET /163_A1_6_1_tumor.dzi HTTP/1.1\" 200 -\n",
      "127.0.0.1 - - [26/Dec/2020 04:25:10] code 404, message File not found\n",
      "127.0.0.1 - - [26/Dec/2020 04:25:10] \"GET /favicon.ico HTTP/1.1\" 404 -\n",
      "127.0.0.1 - - [26/Dec/2020 04:25:10] \"GET /163_A1_1_1_tumor_files/8/0_0.jpg HTTP/1.1\" 200 -\n",
      "127.0.0.1 - - [26/Dec/2020 04:25:10] \"GET /163_A1_2_1_tumor_files/8/0_0.jpg HTTP/1.1\" 200 -\n",
      "127.0.0.1 - - [26/Dec/2020 04:25:10] \"GET /163_A1_3_1_tumor_files/1/0_0.jpg HTTP/1.1\" 200 -\n",
      "127.0.0.1 - - [26/Dec/2020 04:25:10] \"GET /163_A1_4_1_tumor_files/1/0_0.jpg HTTP/1.1\" 200 -\n",
      "127.0.0.1 - - [26/Dec/2020 04:25:10] \"GET /163_A1_5_1_tumor_files/1/0_0.jpg HTTP/1.1\" 200 -\n",
      "127.0.0.1 - - [26/Dec/2020 04:25:10] \"GET /163_A1_1_1_tumor_files/9/0_0.jpg HTTP/1.1\" 200 -\n",
      "127.0.0.1 - - [26/Dec/2020 04:25:10] \"GET /163_A1_2_1_tumor_files/9/0_0.jpg HTTP/1.1\" 200 -\n",
      "127.0.0.1 - - [26/Dec/2020 04:25:10] \"GET /163_A1_6_1_tumor_files/1/0_0.jpg HTTP/1.1\" 200 -\n",
      "127.0.0.1 - - [26/Dec/2020 04:25:10] \"GET /163_A1_1_1_tumor_files/9/1_0.jpg HTTP/1.1\" 200 -\n",
      "127.0.0.1 - - [26/Dec/2020 04:25:10] \"GET /163_A1_2_1_tumor_files/9/1_0.jpg HTTP/1.1\" 200 -\n",
      "127.0.0.1 - - [26/Dec/2020 04:25:10] \"GET /163_A1_1_1_tumor_files/9/0_1.jpg HTTP/1.1\" 200 -\n",
      "127.0.0.1 - - [26/Dec/2020 04:25:11] \"GET /163_A1_2_1_tumor_files/9/0_1.jpg HTTP/1.1\" 200 -\n",
      "127.0.0.1 - - [26/Dec/2020 04:25:11] \"GET /163_A1_1_1_tumor_files/9/1_1.jpg HTTP/1.1\" 200 -\n",
      "127.0.0.1 - - [26/Dec/2020 04:25:11] \"GET /163_A1_2_1_tumor_files/9/1_1.jpg HTTP/1.1\" 200 -\n",
      "127.0.0.1 - - [26/Dec/2020 04:25:11] \"GET /163_A1_1_1_tumor_files/10/1_1.jpg HTTP/1.1\" 200 -\n",
      "127.0.0.1 - - [26/Dec/2020 04:25:11] \"GET /163_A1_2_1_tumor_files/10/1_1.jpg HTTP/1.1\" 200 -\n",
      "127.0.0.1 - - [26/Dec/2020 04:25:11] \"GET /163_A1_1_1_tumor_files/10/1_0.jpg HTTP/1.1\" 200 -\n",
      "127.0.0.1 - - [26/Dec/2020 04:25:11] \"GET /163_A1_2_1_tumor_files/10/1_0.jpg HTTP/1.1\" 200 -\n",
      "127.0.0.1 - - [26/Dec/2020 04:25:11] \"GET /163_A1_1_1_tumor_files/10/0_1.jpg HTTP/1.1\" 200 -\n",
      "127.0.0.1 - - [26/Dec/2020 04:25:11] \"GET /163_A1_2_1_tumor_files/10/0_1.jpg HTTP/1.1\" 200 -\n",
      "127.0.0.1 - - [26/Dec/2020 04:25:11] \"GET /163_A1_1_1_tumor_files/10/0_0.jpg HTTP/1.1\" 200 -\n",
      "127.0.0.1 - - [26/Dec/2020 04:25:11] \"GET /163_A1_2_1_tumor_files/10/0_0.jpg HTTP/1.1\" 200 -\n",
      "127.0.0.1 - - [26/Dec/2020 04:25:11] \"GET /163_A1_1_1_tumor_files/10/1_2.jpg HTTP/1.1\" 200 -\n",
      "127.0.0.1 - - [26/Dec/2020 04:25:11] \"GET /163_A1_2_1_tumor_files/10/1_2.jpg HTTP/1.1\" 200 -\n",
      "127.0.0.1 - - [26/Dec/2020 04:25:11] \"GET /163_A1_1_1_tumor_files/10/2_1.jpg HTTP/1.1\" 200 -\n",
      "127.0.0.1 - - [26/Dec/2020 04:25:11] \"GET /163_A1_2_1_tumor_files/10/2_1.jpg HTTP/1.1\" 200 -\n",
      "127.0.0.1 - - [26/Dec/2020 04:25:11] \"GET /163_A1_1_1_tumor_files/10/2_0.jpg HTTP/1.1\" 200 -\n",
      "127.0.0.1 - - [26/Dec/2020 04:25:11] \"GET /163_A1_2_1_tumor_files/10/2_0.jpg HTTP/1.1\" 200 -\n",
      "127.0.0.1 - - [26/Dec/2020 04:25:11] \"GET /163_A1_1_1_tumor_files/10/0_2.jpg HTTP/1.1\" 200 -\n",
      "127.0.0.1 - - [26/Dec/2020 04:25:11] \"GET /163_A1_2_1_tumor_files/10/0_2.jpg HTTP/1.1\" 200 -\n",
      "127.0.0.1 - - [26/Dec/2020 04:25:11] \"GET /163_A1_1_1_tumor_files/10/2_2.jpg HTTP/1.1\" 200 -\n",
      "127.0.0.1 - - [26/Dec/2020 04:25:12] \"GET /163_A1_2_1_tumor_files/10/2_2.jpg HTTP/1.1\" 200 -\n",
      "127.0.0.1 - - [26/Dec/2020 04:25:12] \"GET /163_A1_1_1_tumor_files/11/2_2.jpg HTTP/1.1\" 200 -\n",
      "127.0.0.1 - - [26/Dec/2020 04:25:12] \"GET /163_A1_2_1_tumor_files/11/2_2.jpg HTTP/1.1\" 200 -\n",
      "127.0.0.1 - - [26/Dec/2020 04:25:12] \"GET /163_A1_1_1_tumor_files/11/2_1.jpg HTTP/1.1\" 200 -\n",
      "127.0.0.1 - - [26/Dec/2020 04:25:12] \"GET /163_A1_2_1_tumor_files/11/2_1.jpg HTTP/1.1\" 200 -\n",
      "127.0.0.1 - - [26/Dec/2020 04:25:12] \"GET /163_A1_1_1_tumor_files/11/1_2.jpg HTTP/1.1\" 200 -\n",
      "127.0.0.1 - - [26/Dec/2020 04:25:12] \"GET /163_A1_2_1_tumor_files/11/1_2.jpg HTTP/1.1\" 200 -\n",
      "127.0.0.1 - - [26/Dec/2020 04:25:12] \"GET /163_A1_1_1_tumor_files/11/1_1.jpg HTTP/1.1\" 200 -\n",
      "127.0.0.1 - - [26/Dec/2020 04:25:12] \"GET /163_A1_2_1_tumor_files/11/1_1.jpg HTTP/1.1\" 200 -\n",
      "127.0.0.1 - - [26/Dec/2020 04:25:12] \"GET /163_A1_1_1_tumor_files/11/3_2.jpg HTTP/1.1\" 200 -\n",
      "127.0.0.1 - - [26/Dec/2020 04:25:12] \"GET /163_A1_2_1_tumor_files/11/3_2.jpg HTTP/1.1\" 200 -\n",
      "127.0.0.1 - - [26/Dec/2020 04:25:12] \"GET /163_A1_1_1_tumor_files/11/2_3.jpg HTTP/1.1\" 200 -\n",
      "127.0.0.1 - - [26/Dec/2020 04:25:12] \"GET /163_A1_2_1_tumor_files/11/2_3.jpg HTTP/1.1\" 200 -\n",
      "127.0.0.1 - - [26/Dec/2020 04:25:12] \"GET /163_A1_1_1_tumor_files/11/3_1.jpg HTTP/1.1\" 200 -\n",
      "127.0.0.1 - - [26/Dec/2020 04:25:13] \"GET /163_A1_2_1_tumor_files/11/3_1.jpg HTTP/1.1\" 200 -\n",
      "127.0.0.1 - - [26/Dec/2020 04:25:13] \"GET /163_A1_1_1_tumor_files/11/1_3.jpg HTTP/1.1\" 200 -\n",
      "127.0.0.1 - - [26/Dec/2020 04:25:13] \"GET /163_A1_2_1_tumor_files/11/1_3.jpg HTTP/1.1\" 200 -\n",
      "127.0.0.1 - - [26/Dec/2020 04:25:13] \"GET /163_A1_1_1_tumor_files/11/2_0.jpg HTTP/1.1\" 200 -\n",
      "127.0.0.1 - - [26/Dec/2020 04:25:13] \"GET /163_A1_2_1_tumor_files/11/2_0.jpg HTTP/1.1\" 200 -\n",
      "127.0.0.1 - - [26/Dec/2020 04:25:13] \"GET /163_A1_1_1_tumor_files/11/0_2.jpg HTTP/1.1\" 200 -\n",
      "127.0.0.1 - - [26/Dec/2020 04:25:13] \"GET /163_A1_2_1_tumor_files/11/0_2.jpg HTTP/1.1\" 200 -\n",
      "127.0.0.1 - - [26/Dec/2020 04:25:13] \"GET /163_A1_1_1_tumor_files/11/1_0.jpg HTTP/1.1\" 200 -\n",
      "127.0.0.1 - - [26/Dec/2020 04:25:13] \"GET /163_A1_2_1_tumor_files/11/1_0.jpg HTTP/1.1\" 200 -\n",
      "127.0.0.1 - - [26/Dec/2020 04:25:13] \"GET /163_A1_1_1_tumor_files/11/0_1.jpg HTTP/1.1\" 200 -\n",
      "127.0.0.1 - - [26/Dec/2020 04:25:13] \"GET /163_A1_2_1_tumor_files/11/0_1.jpg HTTP/1.1\" 200 -\n",
      "127.0.0.1 - - [26/Dec/2020 04:25:13] \"GET /163_A1_1_1_tumor_files/11/3_3.jpg HTTP/1.1\" 200 -\n",
      "127.0.0.1 - - [26/Dec/2020 04:25:13] \"GET /163_A1_2_1_tumor_files/11/3_3.jpg HTTP/1.1\" 200 -\n",
      "127.0.0.1 - - [26/Dec/2020 04:25:13] \"GET /163_A1_1_1_tumor_files/11/4_2.jpg HTTP/1.1\" 200 -\n",
      "127.0.0.1 - - [26/Dec/2020 04:25:13] \"GET /163_A1_2_1_tumor_files/11/4_2.jpg HTTP/1.1\" 200 -\n",
      "127.0.0.1 - - [26/Dec/2020 04:25:13] \"GET /163_A1_1_1_tumor_files/11/2_4.jpg HTTP/1.1\" 200 -\n",
      "127.0.0.1 - - [26/Dec/2020 04:25:13] \"GET /163_A1_2_1_tumor_files/11/2_4.jpg HTTP/1.1\" 200 -\n",
      "127.0.0.1 - - [26/Dec/2020 04:25:13] \"GET /163_A1_1_1_tumor_files/11/3_0.jpg HTTP/1.1\" 200 -\n",
      "127.0.0.1 - - [26/Dec/2020 04:25:13] \"GET /163_A1_2_1_tumor_files/11/3_0.jpg HTTP/1.1\" 200 -\n",
      "127.0.0.1 - - [26/Dec/2020 04:25:13] \"GET /163_A1_1_1_tumor_files/11/4_1.jpg HTTP/1.1\" 200 -\n",
      "127.0.0.1 - - [26/Dec/2020 04:25:13] \"GET /163_A1_2_1_tumor_files/11/4_1.jpg HTTP/1.1\" 200 -\n",
      "127.0.0.1 - - [26/Dec/2020 04:25:14] \"GET /163_A1_1_1_tumor_files/11/1_4.jpg HTTP/1.1\" 200 -\n",
      "127.0.0.1 - - [26/Dec/2020 04:25:14] \"GET /163_A1_2_1_tumor_files/11/1_4.jpg HTTP/1.1\" 200 -\n",
      "127.0.0.1 - - [26/Dec/2020 04:25:14] \"GET /163_A1_1_1_tumor_files/11/0_3.jpg HTTP/1.1\" 200 -\n",
      "127.0.0.1 - - [26/Dec/2020 04:25:14] \"GET /163_A1_2_1_tumor_files/11/0_3.jpg HTTP/1.1\" 200 -\n",
      "127.0.0.1 - - [26/Dec/2020 04:25:14] \"GET /163_A1_1_1_tumor_files/11/0_0.jpg HTTP/1.1\" 200 -\n",
      "127.0.0.1 - - [26/Dec/2020 04:25:14] \"GET /163_A1_2_1_tumor_files/11/3_4.jpg HTTP/1.1\" 200 -\n",
      "127.0.0.1 - - [26/Dec/2020 04:25:14] \"GET /163_A1_1_1_tumor_files/11/3_4.jpg HTTP/1.1\" 200 -\n",
      "127.0.0.1 - - [26/Dec/2020 04:25:14] \"GET /163_A1_2_1_tumor_files/11/0_0.jpg HTTP/1.1\" 200 -\n",
      "127.0.0.1 - - [26/Dec/2020 04:25:14] \"GET /163_A1_1_1_tumor_files/11/4_3.jpg HTTP/1.1\" 200 -\n",
      "127.0.0.1 - - [26/Dec/2020 04:25:14] \"GET /163_A1_2_1_tumor_files/11/4_3.jpg HTTP/1.1\" 200 -\n"
     ]
    },
    {
     "name": "stderr",
     "output_type": "stream",
     "text": [
      "127.0.0.1 - - [26/Dec/2020 04:25:14] \"GET /163_A1_1_1_tumor_files/11/4_0.jpg HTTP/1.1\" 200 -\n",
      "127.0.0.1 - - [26/Dec/2020 04:25:14] \"GET /163_A1_2_1_tumor_files/11/4_0.jpg HTTP/1.1\" 200 -\n",
      "127.0.0.1 - - [26/Dec/2020 04:25:14] \"GET /163_A1_1_1_tumor_files/11/0_4.jpg HTTP/1.1\" 200 -\n",
      "127.0.0.1 - - [26/Dec/2020 04:25:14] \"GET /163_A1_2_1_tumor_files/11/0_4.jpg HTTP/1.1\" 200 -\n",
      "127.0.0.1 - - [26/Dec/2020 04:25:14] \"GET /163_A1_1_1_tumor_files/11/4_4.jpg HTTP/1.1\" 200 -\n",
      "127.0.0.1 - - [26/Dec/2020 04:25:14] \"GET /163_A1_2_1_tumor_files/11/4_4.jpg HTTP/1.1\" 200 -\n",
      "127.0.0.1 - - [26/Dec/2020 04:25:22] \"GET /163_A1_2_1_tumor_files/1/0_0.jpg HTTP/1.1\" 200 -\n",
      "127.0.0.1 - - [26/Dec/2020 04:25:22] \"GET /163_A1_3_1_tumor_files/8/0_0.jpg HTTP/1.1\" 200 -\n",
      "127.0.0.1 - - [26/Dec/2020 04:25:22] \"GET /163_A1_3_1_tumor_files/9/0_0.jpg HTTP/1.1\" 200 -\n",
      "127.0.0.1 - - [26/Dec/2020 04:25:22] \"GET /163_A1_3_1_tumor_files/9/1_0.jpg HTTP/1.1\" 200 -\n",
      "127.0.0.1 - - [26/Dec/2020 04:25:22] \"GET /163_A1_3_1_tumor_files/9/0_1.jpg HTTP/1.1\" 200 -\n",
      "127.0.0.1 - - [26/Dec/2020 04:25:22] \"GET /163_A1_3_1_tumor_files/9/1_1.jpg HTTP/1.1\" 200 -\n",
      "127.0.0.1 - - [26/Dec/2020 04:25:23] \"GET /163_A1_3_1_tumor_files/10/1_1.jpg HTTP/1.1\" 200 -\n",
      "127.0.0.1 - - [26/Dec/2020 04:25:23] \"GET /163_A1_3_1_tumor_files/10/1_0.jpg HTTP/1.1\" 200 -\n",
      "127.0.0.1 - - [26/Dec/2020 04:25:23] \"GET /163_A1_3_1_tumor_files/10/0_1.jpg HTTP/1.1\" 200 -\n",
      "127.0.0.1 - - [26/Dec/2020 04:25:23] \"GET /163_A1_3_1_tumor_files/10/0_0.jpg HTTP/1.1\" 200 -\n",
      "127.0.0.1 - - [26/Dec/2020 04:25:23] \"GET /163_A1_3_1_tumor_files/10/2_1.jpg HTTP/1.1\" 200 -\n",
      "127.0.0.1 - - [26/Dec/2020 04:25:23] \"GET /163_A1_3_1_tumor_files/10/1_2.jpg HTTP/1.1\" 200 -\n",
      "127.0.0.1 - - [26/Dec/2020 04:25:24] \"GET /163_A1_3_1_tumor_files/10/2_0.jpg HTTP/1.1\" 200 -\n",
      "127.0.0.1 - - [26/Dec/2020 04:25:24] \"GET /163_A1_3_1_tumor_files/10/0_2.jpg HTTP/1.1\" 200 -\n",
      "127.0.0.1 - - [26/Dec/2020 04:25:24] \"GET /163_A1_3_1_tumor_files/10/2_2.jpg HTTP/1.1\" 200 -\n",
      "127.0.0.1 - - [26/Dec/2020 04:25:24] \"GET /163_A1_3_1_tumor_files/11/2_2.jpg HTTP/1.1\" 200 -\n",
      "127.0.0.1 - - [26/Dec/2020 04:25:24] \"GET /163_A1_3_1_tumor_files/11/2_1.jpg HTTP/1.1\" 200 -\n",
      "127.0.0.1 - - [26/Dec/2020 04:25:25] \"GET /163_A1_3_1_tumor_files/11/1_2.jpg HTTP/1.1\" 200 -\n",
      "127.0.0.1 - - [26/Dec/2020 04:25:25] \"GET /163_A1_3_1_tumor_files/11/1_1.jpg HTTP/1.1\" 200 -\n",
      "127.0.0.1 - - [26/Dec/2020 04:25:25] \"GET /163_A1_3_1_tumor_files/11/3_2.jpg HTTP/1.1\" 200 -\n",
      "127.0.0.1 - - [26/Dec/2020 04:25:25] \"GET /163_A1_3_1_tumor_files/11/2_3.jpg HTTP/1.1\" 200 -\n",
      "127.0.0.1 - - [26/Dec/2020 04:25:25] \"GET /163_A1_3_1_tumor_files/11/3_1.jpg HTTP/1.1\" 200 -\n",
      "127.0.0.1 - - [26/Dec/2020 04:25:26] \"GET /163_A1_3_1_tumor_files/11/1_3.jpg HTTP/1.1\" 200 -\n",
      "127.0.0.1 - - [26/Dec/2020 04:25:26] \"GET /163_A1_3_1_tumor_files/11/2_0.jpg HTTP/1.1\" 200 -\n",
      "127.0.0.1 - - [26/Dec/2020 04:25:26] \"GET /163_A1_3_1_tumor_files/11/0_2.jpg HTTP/1.1\" 200 -\n",
      "127.0.0.1 - - [26/Dec/2020 04:25:26] \"GET /163_A1_3_1_tumor_files/11/1_0.jpg HTTP/1.1\" 200 -\n",
      "127.0.0.1 - - [26/Dec/2020 04:25:26] \"GET /163_A1_3_1_tumor_files/11/0_1.jpg HTTP/1.1\" 200 -\n",
      "127.0.0.1 - - [26/Dec/2020 04:25:26] \"GET /163_A1_3_1_tumor_files/11/3_3.jpg HTTP/1.1\" 200 -\n",
      "127.0.0.1 - - [26/Dec/2020 04:25:27] \"GET /163_A1_3_1_tumor_files/11/4_2.jpg HTTP/1.1\" 200 -\n",
      "127.0.0.1 - - [26/Dec/2020 04:25:27] \"GET /163_A1_3_1_tumor_files/11/2_4.jpg HTTP/1.1\" 200 -\n",
      "127.0.0.1 - - [26/Dec/2020 04:25:27] \"GET /163_A1_3_1_tumor_files/11/3_0.jpg HTTP/1.1\" 200 -\n",
      "127.0.0.1 - - [26/Dec/2020 04:25:27] \"GET /163_A1_3_1_tumor_files/11/4_1.jpg HTTP/1.1\" 200 -\n",
      "127.0.0.1 - - [26/Dec/2020 04:25:27] \"GET /163_A1_3_1_tumor_files/11/1_4.jpg HTTP/1.1\" 200 -\n",
      "127.0.0.1 - - [26/Dec/2020 04:25:27] \"GET /163_A1_3_1_tumor_files/11/0_3.jpg HTTP/1.1\" 200 -\n",
      "127.0.0.1 - - [26/Dec/2020 04:25:27] \"GET /163_A1_3_1_tumor_files/11/0_0.jpg HTTP/1.1\" 200 -\n",
      "127.0.0.1 - - [26/Dec/2020 04:25:27] \"GET /163_A1_3_1_tumor_files/11/4_3.jpg HTTP/1.1\" 200 -\n",
      "127.0.0.1 - - [26/Dec/2020 04:25:27] \"GET /163_A1_3_1_tumor_files/11/3_4.jpg HTTP/1.1\" 200 -\n",
      "127.0.0.1 - - [26/Dec/2020 04:25:28] \"GET /163_A1_3_1_tumor_files/11/4_0.jpg HTTP/1.1\" 200 -\n",
      "127.0.0.1 - - [26/Dec/2020 04:25:28] \"GET /163_A1_3_1_tumor_files/11/0_4.jpg HTTP/1.1\" 200 -\n",
      "127.0.0.1 - - [26/Dec/2020 04:25:28] \"GET /163_A1_3_1_tumor_files/11/4_4.jpg HTTP/1.1\" 200 -\n",
      "127.0.0.1 - - [26/Dec/2020 04:25:28] \"GET /163_A1_6_1_tumor_files/8/0_0.jpg HTTP/1.1\" 200 -\n",
      "127.0.0.1 - - [26/Dec/2020 04:25:28] \"GET /163_A1_6_1_tumor_files/9/0_0.jpg HTTP/1.1\" 200 -\n",
      "127.0.0.1 - - [26/Dec/2020 04:25:28] \"GET /163_A1_6_1_tumor_files/9/0_1.jpg HTTP/1.1\" 200 -\n",
      "127.0.0.1 - - [26/Dec/2020 04:25:28] \"GET /163_A1_6_1_tumor_files/9/1_0.jpg HTTP/1.1\" 200 -\n",
      "127.0.0.1 - - [26/Dec/2020 04:25:28] \"GET /163_A1_6_1_tumor_files/9/1_1.jpg HTTP/1.1\" 200 -\n",
      "127.0.0.1 - - [26/Dec/2020 04:25:28] \"GET /163_A1_6_1_tumor_files/10/1_1.jpg HTTP/1.1\" 200 -\n",
      "127.0.0.1 - - [26/Dec/2020 04:25:28] \"GET /163_A1_6_1_tumor_files/10/0_1.jpg HTTP/1.1\" 200 -\n",
      "127.0.0.1 - - [26/Dec/2020 04:25:28] \"GET /163_A1_6_1_tumor_files/10/1_0.jpg HTTP/1.1\" 200 -\n",
      "127.0.0.1 - - [26/Dec/2020 04:25:28] \"GET /163_A1_6_1_tumor_files/10/0_0.jpg HTTP/1.1\" 200 -\n",
      "127.0.0.1 - - [26/Dec/2020 04:25:28] \"GET /163_A1_6_1_tumor_files/10/1_2.jpg HTTP/1.1\" 200 -\n",
      "127.0.0.1 - - [26/Dec/2020 04:25:28] \"GET /163_A1_6_1_tumor_files/10/2_1.jpg HTTP/1.1\" 200 -\n",
      "127.0.0.1 - - [26/Dec/2020 04:25:28] \"GET /163_A1_6_1_tumor_files/10/0_2.jpg HTTP/1.1\" 200 -\n",
      "127.0.0.1 - - [26/Dec/2020 04:25:29] \"GET /163_A1_6_1_tumor_files/10/2_0.jpg HTTP/1.1\" 200 -\n",
      "127.0.0.1 - - [26/Dec/2020 04:25:29] \"GET /163_A1_6_1_tumor_files/10/2_2.jpg HTTP/1.1\" 200 -\n",
      "127.0.0.1 - - [26/Dec/2020 04:25:29] \"GET /163_A1_6_1_tumor_files/11/2_2.jpg HTTP/1.1\" 200 -\n",
      "127.0.0.1 - - [26/Dec/2020 04:25:29] \"GET /163_A1_6_1_tumor_files/11/1_2.jpg HTTP/1.1\" 200 -\n",
      "127.0.0.1 - - [26/Dec/2020 04:25:29] \"GET /163_A1_6_1_tumor_files/11/2_1.jpg HTTP/1.1\" 200 -\n",
      "127.0.0.1 - - [26/Dec/2020 04:25:29] \"GET /163_A1_6_1_tumor_files/11/1_1.jpg HTTP/1.1\" 200 -\n",
      "127.0.0.1 - - [26/Dec/2020 04:25:29] \"GET /163_A1_6_1_tumor_files/11/2_3.jpg HTTP/1.1\" 200 -\n",
      "127.0.0.1 - - [26/Dec/2020 04:25:29] \"GET /163_A1_6_1_tumor_files/11/3_2.jpg HTTP/1.1\" 200 -\n",
      "127.0.0.1 - - [26/Dec/2020 04:25:30] \"GET /163_A1_6_1_tumor_files/11/1_3.jpg HTTP/1.1\" 200 -\n",
      "127.0.0.1 - - [26/Dec/2020 04:25:30] \"GET /163_A1_6_1_tumor_files/11/3_1.jpg HTTP/1.1\" 200 -\n",
      "127.0.0.1 - - [26/Dec/2020 04:25:30] \"GET /163_A1_6_1_tumor_files/11/0_2.jpg HTTP/1.1\" 200 -\n",
      "127.0.0.1 - - [26/Dec/2020 04:25:30] \"GET /163_A1_6_1_tumor_files/11/3_3.jpg HTTP/1.1\" 200 -\n",
      "127.0.0.1 - - [26/Dec/2020 04:25:30] \"GET /163_A1_6_1_tumor_files/11/2_4.jpg HTTP/1.1\" 200 -\n",
      "127.0.0.1 - - [26/Dec/2020 04:25:30] \"GET /163_A1_6_1_tumor_files/11/2_0.jpg HTTP/1.1\" 200 -\n",
      "127.0.0.1 - - [26/Dec/2020 04:25:30] \"GET /163_A1_6_1_tumor_files/11/0_1.jpg HTTP/1.1\" 200 -\n",
      "127.0.0.1 - - [26/Dec/2020 04:25:30] \"GET /163_A1_6_1_tumor_files/11/1_4.jpg HTTP/1.1\" 200 -\n",
      "127.0.0.1 - - [26/Dec/2020 04:25:30] \"GET /163_A1_6_1_tumor_files/11/1_0.jpg HTTP/1.1\" 200 -\n",
      "127.0.0.1 - - [26/Dec/2020 04:25:31] \"GET /163_A1_6_1_tumor_files/11/4_2.jpg HTTP/1.1\" 200 -\n",
      "127.0.0.1 - - [26/Dec/2020 04:25:31] \"GET /163_A1_6_1_tumor_files/11/0_3.jpg HTTP/1.1\" 200 -\n",
      "127.0.0.1 - - [26/Dec/2020 04:25:31] \"GET /163_A1_6_1_tumor_files/11/4_1.jpg HTTP/1.1\" 200 -\n",
      "127.0.0.1 - - [26/Dec/2020 04:25:31] \"GET /163_A1_6_1_tumor_files/11/3_4.jpg HTTP/1.1\" 200 -\n",
      "127.0.0.1 - - [26/Dec/2020 04:25:31] \"GET /163_A1_6_1_tumor_files/11/3_0.jpg HTTP/1.1\" 200 -\n",
      "127.0.0.1 - - [26/Dec/2020 04:25:31] \"GET /163_A1_6_1_tumor_files/11/4_3.jpg HTTP/1.1\" 200 -\n",
      "127.0.0.1 - - [26/Dec/2020 04:25:31] \"GET /163_A1_6_1_tumor_files/11/0_4.jpg HTTP/1.1\" 200 -\n",
      "127.0.0.1 - - [26/Dec/2020 04:25:31] \"GET /163_A1_6_1_tumor_files/11/0_0.jpg HTTP/1.1\" 200 -\n",
      "127.0.0.1 - - [26/Dec/2020 04:25:31] \"GET /163_A1_6_1_tumor_files/11/4_4.jpg HTTP/1.1\" 200 -\n",
      "127.0.0.1 - - [26/Dec/2020 04:25:31] \"GET /163_A1_6_1_tumor_files/11/4_0.jpg HTTP/1.1\" 200 -\n",
      "127.0.0.1 - - [26/Dec/2020 04:25:34] \"GET /163_A1_1_1_tumor_files/1/0_0.jpg HTTP/1.1\" 200 -\n",
      "127.0.0.1 - - [26/Dec/2020 04:25:39] \"GET /163_A1_4_1_tumor_files/8/0_0.jpg HTTP/1.1\" 200 -\n",
      "127.0.0.1 - - [26/Dec/2020 04:25:39] \"GET /163_A1_4_1_tumor_files/9/0_0.jpg HTTP/1.1\" 200 -\n",
      "127.0.0.1 - - [26/Dec/2020 04:25:39] \"GET /163_A1_4_1_tumor_files/9/0_1.jpg HTTP/1.1\" 200 -\n",
      "127.0.0.1 - - [26/Dec/2020 04:25:39] \"GET /163_A1_4_1_tumor_files/9/1_0.jpg HTTP/1.1\" 200 -\n",
      "127.0.0.1 - - [26/Dec/2020 04:25:39] \"GET /163_A1_4_1_tumor_files/9/1_1.jpg HTTP/1.1\" 200 -\n",
      "127.0.0.1 - - [26/Dec/2020 04:25:39] \"GET /163_A1_4_1_tumor_files/10/1_1.jpg HTTP/1.1\" 200 -\n"
     ]
    },
    {
     "name": "stderr",
     "output_type": "stream",
     "text": [
      "127.0.0.1 - - [26/Dec/2020 04:25:39] \"GET /163_A1_4_1_tumor_files/10/0_1.jpg HTTP/1.1\" 200 -\n",
      "127.0.0.1 - - [26/Dec/2020 04:25:39] \"GET /163_A1_4_1_tumor_files/10/1_0.jpg HTTP/1.1\" 200 -\n",
      "127.0.0.1 - - [26/Dec/2020 04:25:39] \"GET /163_A1_4_1_tumor_files/10/1_2.jpg HTTP/1.1\" 200 -\n",
      "127.0.0.1 - - [26/Dec/2020 04:25:39] \"GET /163_A1_4_1_tumor_files/10/0_0.jpg HTTP/1.1\" 200 -\n",
      "127.0.0.1 - - [26/Dec/2020 04:25:39] \"GET /163_A1_4_1_tumor_files/10/2_1.jpg HTTP/1.1\" 200 -\n",
      "127.0.0.1 - - [26/Dec/2020 04:25:39] \"GET /163_A1_4_1_tumor_files/10/0_2.jpg HTTP/1.1\" 200 -\n",
      "127.0.0.1 - - [26/Dec/2020 04:25:40] \"GET /163_A1_4_1_tumor_files/10/2_0.jpg HTTP/1.1\" 200 -\n",
      "127.0.0.1 - - [26/Dec/2020 04:25:40] \"GET /163_A1_4_1_tumor_files/10/2_2.jpg HTTP/1.1\" 200 -\n",
      "127.0.0.1 - - [26/Dec/2020 04:25:40] \"GET /163_A1_4_1_tumor_files/11/2_2.jpg HTTP/1.1\" 200 -\n",
      "127.0.0.1 - - [26/Dec/2020 04:25:40] \"GET /163_A1_4_1_tumor_files/11/1_2.jpg HTTP/1.1\" 200 -\n",
      "127.0.0.1 - - [26/Dec/2020 04:25:40] \"GET /163_A1_4_1_tumor_files/11/2_1.jpg HTTP/1.1\" 200 -\n",
      "127.0.0.1 - - [26/Dec/2020 04:25:40] \"GET /163_A1_4_1_tumor_files/11/2_3.jpg HTTP/1.1\" 200 -\n",
      "127.0.0.1 - - [26/Dec/2020 04:25:40] \"GET /163_A1_4_1_tumor_files/11/1_1.jpg HTTP/1.1\" 200 -\n",
      "127.0.0.1 - - [26/Dec/2020 04:25:41] \"GET /163_A1_4_1_tumor_files/11/3_2.jpg HTTP/1.1\" 200 -\n",
      "127.0.0.1 - - [26/Dec/2020 04:25:41] \"GET /163_A1_4_1_tumor_files/11/1_3.jpg HTTP/1.1\" 200 -\n",
      "127.0.0.1 - - [26/Dec/2020 04:25:41] \"GET /163_A1_4_1_tumor_files/11/3_1.jpg HTTP/1.1\" 200 -\n",
      "127.0.0.1 - - [26/Dec/2020 04:25:41] \"GET /163_A1_4_1_tumor_files/11/3_3.jpg HTTP/1.1\" 200 -\n",
      "127.0.0.1 - - [26/Dec/2020 04:25:41] \"GET /163_A1_4_1_tumor_files/11/2_4.jpg HTTP/1.1\" 200 -\n",
      "127.0.0.1 - - [26/Dec/2020 04:25:41] \"GET /163_A1_4_1_tumor_files/11/0_2.jpg HTTP/1.1\" 200 -\n",
      "127.0.0.1 - - [26/Dec/2020 04:25:42] \"GET /163_A1_4_1_tumor_files/11/1_4.jpg HTTP/1.1\" 200 -\n",
      "127.0.0.1 - - [26/Dec/2020 04:25:42] \"GET /163_A1_4_1_tumor_files/11/2_0.jpg HTTP/1.1\" 200 -\n",
      "127.0.0.1 - - [26/Dec/2020 04:25:42] \"GET /163_A1_4_1_tumor_files/11/4_2.jpg HTTP/1.1\" 200 -\n",
      "127.0.0.1 - - [26/Dec/2020 04:25:42] \"GET /163_A1_4_1_tumor_files/11/0_1.jpg HTTP/1.1\" 200 -\n",
      "127.0.0.1 - - [26/Dec/2020 04:25:42] \"GET /163_A1_4_1_tumor_files/11/1_0.jpg HTTP/1.1\" 200 -\n",
      "127.0.0.1 - - [26/Dec/2020 04:25:42] \"GET /163_A1_4_1_tumor_files/11/3_4.jpg HTTP/1.1\" 200 -\n",
      "127.0.0.1 - - [26/Dec/2020 04:25:43] \"GET /163_A1_4_1_tumor_files/11/0_3.jpg HTTP/1.1\" 200 -\n",
      "127.0.0.1 - - [26/Dec/2020 04:25:43] \"GET /163_A1_4_1_tumor_files/11/4_1.jpg HTTP/1.1\" 200 -\n",
      "127.0.0.1 - - [26/Dec/2020 04:25:43] \"GET /163_A1_4_1_tumor_files/11/3_0.jpg HTTP/1.1\" 200 -\n",
      "127.0.0.1 - - [26/Dec/2020 04:25:43] \"GET /163_A1_4_1_tumor_files/11/4_3.jpg HTTP/1.1\" 200 -\n",
      "127.0.0.1 - - [26/Dec/2020 04:25:43] \"GET /163_A1_4_1_tumor_files/11/0_4.jpg HTTP/1.1\" 200 -\n",
      "127.0.0.1 - - [26/Dec/2020 04:25:43] \"GET /163_A1_4_1_tumor_files/11/4_4.jpg HTTP/1.1\" 200 -\n",
      "127.0.0.1 - - [26/Dec/2020 04:25:43] \"GET /163_A1_4_1_tumor_files/11/0_0.jpg HTTP/1.1\" 200 -\n",
      "127.0.0.1 - - [26/Dec/2020 04:25:43] \"GET /163_A1_4_1_tumor_files/11/4_0.jpg HTTP/1.1\" 200 -\n",
      "127.0.0.1 - - [26/Dec/2020 04:25:43] \"GET /163_A1_5_1_tumor_files/8/0_0.jpg HTTP/1.1\" 200 -\n",
      "127.0.0.1 - - [26/Dec/2020 04:25:43] \"GET /163_A1_5_1_tumor_files/9/0_0.jpg HTTP/1.1\" 200 -\n",
      "127.0.0.1 - - [26/Dec/2020 04:25:43] \"GET /163_A1_5_1_tumor_files/9/0_1.jpg HTTP/1.1\" 200 -\n",
      "127.0.0.1 - - [26/Dec/2020 04:25:43] \"GET /163_A1_5_1_tumor_files/9/1_0.jpg HTTP/1.1\" 200 -\n",
      "127.0.0.1 - - [26/Dec/2020 04:25:43] \"GET /163_A1_5_1_tumor_files/9/1_1.jpg HTTP/1.1\" 200 -\n",
      "127.0.0.1 - - [26/Dec/2020 04:25:43] \"GET /163_A1_5_1_tumor_files/10/1_1.jpg HTTP/1.1\" 200 -\n",
      "127.0.0.1 - - [26/Dec/2020 04:25:44] \"GET /163_A1_5_1_tumor_files/10/0_1.jpg HTTP/1.1\" 200 -\n",
      "127.0.0.1 - - [26/Dec/2020 04:25:44] \"GET /163_A1_5_1_tumor_files/10/1_0.jpg HTTP/1.1\" 200 -\n",
      "127.0.0.1 - - [26/Dec/2020 04:25:44] \"GET /163_A1_5_1_tumor_files/10/0_0.jpg HTTP/1.1\" 200 -\n",
      "127.0.0.1 - - [26/Dec/2020 04:25:44] \"GET /163_A1_5_1_tumor_files/10/1_2.jpg HTTP/1.1\" 200 -\n",
      "127.0.0.1 - - [26/Dec/2020 04:25:44] \"GET /163_A1_5_1_tumor_files/10/2_1.jpg HTTP/1.1\" 200 -\n",
      "127.0.0.1 - - [26/Dec/2020 04:25:44] \"GET /163_A1_5_1_tumor_files/10/0_2.jpg HTTP/1.1\" 200 -\n",
      "127.0.0.1 - - [26/Dec/2020 04:25:44] \"GET /163_A1_5_1_tumor_files/10/2_0.jpg HTTP/1.1\" 200 -\n",
      "127.0.0.1 - - [26/Dec/2020 04:25:44] \"GET /163_A1_5_1_tumor_files/10/2_2.jpg HTTP/1.1\" 200 -\n",
      "127.0.0.1 - - [26/Dec/2020 04:25:44] \"GET /163_A1_5_1_tumor_files/11/2_2.jpg HTTP/1.1\" 200 -\n",
      "127.0.0.1 - - [26/Dec/2020 04:25:44] \"GET /163_A1_5_1_tumor_files/11/1_2.jpg HTTP/1.1\" 200 -\n",
      "127.0.0.1 - - [26/Dec/2020 04:25:44] \"GET /163_A1_5_1_tumor_files/11/2_1.jpg HTTP/1.1\" 200 -\n",
      "127.0.0.1 - - [26/Dec/2020 04:25:44] \"GET /163_A1_5_1_tumor_files/11/1_1.jpg HTTP/1.1\" 200 -\n",
      "127.0.0.1 - - [26/Dec/2020 04:25:44] \"GET /163_A1_5_1_tumor_files/11/2_3.jpg HTTP/1.1\" 200 -\n",
      "127.0.0.1 - - [26/Dec/2020 04:25:45] \"GET /163_A1_5_1_tumor_files/11/3_2.jpg HTTP/1.1\" 200 -\n",
      "127.0.0.1 - - [26/Dec/2020 04:25:45] \"GET /163_A1_5_1_tumor_files/11/1_3.jpg HTTP/1.1\" 200 -\n",
      "127.0.0.1 - - [26/Dec/2020 04:25:45] \"GET /163_A1_5_1_tumor_files/11/3_1.jpg HTTP/1.1\" 200 -\n",
      "127.0.0.1 - - [26/Dec/2020 04:25:45] \"GET /163_A1_5_1_tumor_files/11/3_3.jpg HTTP/1.1\" 200 -\n",
      "127.0.0.1 - - [26/Dec/2020 04:25:45] \"GET /163_A1_5_1_tumor_files/11/0_2.jpg HTTP/1.1\" 200 -\n",
      "127.0.0.1 - - [26/Dec/2020 04:25:45] \"GET /163_A1_5_1_tumor_files/11/2_4.jpg HTTP/1.1\" 200 -\n",
      "127.0.0.1 - - [26/Dec/2020 04:25:45] \"GET /163_A1_5_1_tumor_files/11/2_0.jpg HTTP/1.1\" 200 -\n",
      "127.0.0.1 - - [26/Dec/2020 04:25:45] \"GET /163_A1_5_1_tumor_files/11/0_1.jpg HTTP/1.1\" 200 -\n",
      "127.0.0.1 - - [26/Dec/2020 04:25:45] \"GET /163_A1_5_1_tumor_files/11/1_4.jpg HTTP/1.1\" 200 -\n",
      "127.0.0.1 - - [26/Dec/2020 04:25:45] \"GET /163_A1_5_1_tumor_files/11/4_2.jpg HTTP/1.1\" 200 -\n",
      "127.0.0.1 - - [26/Dec/2020 04:25:45] \"GET /163_A1_5_1_tumor_files/11/1_0.jpg HTTP/1.1\" 200 -\n",
      "127.0.0.1 - - [26/Dec/2020 04:25:45] \"GET /163_A1_5_1_tumor_files/11/0_3.jpg HTTP/1.1\" 200 -\n",
      "127.0.0.1 - - [26/Dec/2020 04:25:46] \"GET /163_A1_5_1_tumor_files/11/4_1.jpg HTTP/1.1\" 200 -\n",
      "127.0.0.1 - - [26/Dec/2020 04:25:46] \"GET /163_A1_5_1_tumor_files/11/3_4.jpg HTTP/1.1\" 200 -\n",
      "127.0.0.1 - - [26/Dec/2020 04:25:46] \"GET /163_A1_5_1_tumor_files/11/3_0.jpg HTTP/1.1\" 200 -\n",
      "127.0.0.1 - - [26/Dec/2020 04:25:46] \"GET /163_A1_5_1_tumor_files/11/4_3.jpg HTTP/1.1\" 200 -\n",
      "127.0.0.1 - - [26/Dec/2020 04:25:46] \"GET /163_A1_5_1_tumor_files/11/0_4.jpg HTTP/1.1\" 200 -\n",
      "127.0.0.1 - - [26/Dec/2020 04:25:46] \"GET /163_A1_5_1_tumor_files/11/0_0.jpg HTTP/1.1\" 200 -\n",
      "127.0.0.1 - - [26/Dec/2020 04:25:46] \"GET /163_A1_5_1_tumor_files/11/4_4.jpg HTTP/1.1\" 200 -\n",
      "127.0.0.1 - - [26/Dec/2020 04:25:46] \"GET /163_A1_5_1_tumor_files/11/4_0.jpg HTTP/1.1\" 200 -\n"
     ]
    },
    {
     "ename": "KeyboardInterrupt",
     "evalue": "",
     "output_type": "error",
     "traceback": [
      "\u001b[0;31m---------------------------------------------------------------------------\u001b[0m",
      "\u001b[0;31mKeyboardInterrupt\u001b[0m                         Traceback (most recent call last)",
      "\u001b[0;32m<ipython-input-34-d1341aef40e1>\u001b[0m in \u001b[0;36m<module>\u001b[0;34m\u001b[0m\n\u001b[1;32m      1\u001b[0m \u001b[0mcase\u001b[0m\u001b[0;34m.\u001b[0m\u001b[0mreset_dir\u001b[0m\u001b[0;34m(\u001b[0m\u001b[0;34m)\u001b[0m\u001b[0;34m\u001b[0m\u001b[0;34m\u001b[0m\u001b[0m\n\u001b[0;32m----> 2\u001b[0;31m \u001b[0mcase\u001b[0m\u001b[0;34m.\u001b[0m\u001b[0mlaunch_server\u001b[0m\u001b[0;34m(\u001b[0m\u001b[0mport\u001b[0m\u001b[0;34m=\u001b[0m\u001b[0;36m5554\u001b[0m\u001b[0;34m)\u001b[0m\u001b[0;34m\u001b[0m\u001b[0;34m\u001b[0m\u001b[0m\n\u001b[0m",
      "\u001b[0;32m<ipython-input-8-236185f979c8>\u001b[0m in \u001b[0;36mlaunch_server\u001b[0;34m(self, username, password, port)\u001b[0m\n\u001b[1;32m    225\u001b[0m         \u001b[0mSimpleHTTPAuthHandler\u001b[0m\u001b[0;34m.\u001b[0m\u001b[0mpassword\u001b[0m \u001b[0;34m=\u001b[0m \u001b[0mpassword\u001b[0m\u001b[0;34m\u001b[0m\u001b[0;34m\u001b[0m\u001b[0m\n\u001b[1;32m    226\u001b[0m         serve_http(ip='localhost', port=port, https=False,\n\u001b[0;32m--> 227\u001b[0;31m                start_dir='dzi_files', handler_class=SimpleHTTPAuthHandler)\n\u001b[0m\u001b[1;32m    228\u001b[0m \u001b[0;34m\u001b[0m\u001b[0m\n\u001b[1;32m    229\u001b[0m     \u001b[0;32mdef\u001b[0m \u001b[0mreset_dir\u001b[0m\u001b[0;34m(\u001b[0m\u001b[0mself\u001b[0m\u001b[0;34m)\u001b[0m\u001b[0;34m:\u001b[0m\u001b[0;34m\u001b[0m\u001b[0;34m\u001b[0m\u001b[0m\n",
      "\u001b[0;32m~/.local/lib/python3.7/site-packages/sauth.py\u001b[0m in \u001b[0;36mserve_http\u001b[0;34m(ip, port, https, start_dir, handler_class)\u001b[0m\n\u001b[1;32m     79\u001b[0m         os.getcwd(), 'https' if https else 'http', socket_addr[0], socket_addr[1])\n\u001b[1;32m     80\u001b[0m     )\n\u001b[0;32m---> 81\u001b[0;31m     \u001b[0mhttpd\u001b[0m\u001b[0;34m.\u001b[0m\u001b[0mserve_forever\u001b[0m\u001b[0;34m(\u001b[0m\u001b[0;34m)\u001b[0m\u001b[0;34m\u001b[0m\u001b[0;34m\u001b[0m\u001b[0m\n\u001b[0m\u001b[1;32m     82\u001b[0m \u001b[0;34m\u001b[0m\u001b[0m\n\u001b[1;32m     83\u001b[0m \u001b[0;34m\u001b[0m\u001b[0m\n",
      "\u001b[0;32m/home/anaconda3/lib/python3.7/socketserver.py\u001b[0m in \u001b[0;36mserve_forever\u001b[0;34m(self, poll_interval)\u001b[0m\n\u001b[1;32m    230\u001b[0m \u001b[0;34m\u001b[0m\u001b[0m\n\u001b[1;32m    231\u001b[0m                 \u001b[0;32mwhile\u001b[0m \u001b[0;32mnot\u001b[0m \u001b[0mself\u001b[0m\u001b[0;34m.\u001b[0m\u001b[0m__shutdown_request\u001b[0m\u001b[0;34m:\u001b[0m\u001b[0;34m\u001b[0m\u001b[0;34m\u001b[0m\u001b[0m\n\u001b[0;32m--> 232\u001b[0;31m                     \u001b[0mready\u001b[0m \u001b[0;34m=\u001b[0m \u001b[0mselector\u001b[0m\u001b[0;34m.\u001b[0m\u001b[0mselect\u001b[0m\u001b[0;34m(\u001b[0m\u001b[0mpoll_interval\u001b[0m\u001b[0;34m)\u001b[0m\u001b[0;34m\u001b[0m\u001b[0;34m\u001b[0m\u001b[0m\n\u001b[0m\u001b[1;32m    233\u001b[0m                     \u001b[0;31m# bpo-35017: shutdown() called during select(), exit immediately.\u001b[0m\u001b[0;34m\u001b[0m\u001b[0;34m\u001b[0m\u001b[0;34m\u001b[0m\u001b[0m\n\u001b[1;32m    234\u001b[0m                     \u001b[0;32mif\u001b[0m \u001b[0mself\u001b[0m\u001b[0;34m.\u001b[0m\u001b[0m__shutdown_request\u001b[0m\u001b[0;34m:\u001b[0m\u001b[0;34m\u001b[0m\u001b[0;34m\u001b[0m\u001b[0m\n",
      "\u001b[0;32m/home/anaconda3/lib/python3.7/selectors.py\u001b[0m in \u001b[0;36mselect\u001b[0;34m(self, timeout)\u001b[0m\n\u001b[1;32m    413\u001b[0m         \u001b[0mready\u001b[0m \u001b[0;34m=\u001b[0m \u001b[0;34m[\u001b[0m\u001b[0;34m]\u001b[0m\u001b[0;34m\u001b[0m\u001b[0;34m\u001b[0m\u001b[0m\n\u001b[1;32m    414\u001b[0m         \u001b[0;32mtry\u001b[0m\u001b[0;34m:\u001b[0m\u001b[0;34m\u001b[0m\u001b[0;34m\u001b[0m\u001b[0m\n\u001b[0;32m--> 415\u001b[0;31m             \u001b[0mfd_event_list\u001b[0m \u001b[0;34m=\u001b[0m \u001b[0mself\u001b[0m\u001b[0;34m.\u001b[0m\u001b[0m_selector\u001b[0m\u001b[0;34m.\u001b[0m\u001b[0mpoll\u001b[0m\u001b[0;34m(\u001b[0m\u001b[0mtimeout\u001b[0m\u001b[0;34m)\u001b[0m\u001b[0;34m\u001b[0m\u001b[0;34m\u001b[0m\u001b[0m\n\u001b[0m\u001b[1;32m    416\u001b[0m         \u001b[0;32mexcept\u001b[0m \u001b[0mInterruptedError\u001b[0m\u001b[0;34m:\u001b[0m\u001b[0;34m\u001b[0m\u001b[0;34m\u001b[0m\u001b[0m\n\u001b[1;32m    417\u001b[0m             \u001b[0;32mreturn\u001b[0m \u001b[0mready\u001b[0m\u001b[0;34m\u001b[0m\u001b[0;34m\u001b[0m\u001b[0m\n",
      "\u001b[0;31mKeyboardInterrupt\u001b[0m: "
     ]
    }
   ],
   "source": [
    "case.reset_dir()\n",
    "case.launch_server(port=5554)"
   ]
  },
  {
   "cell_type": "code",
   "execution_count": null,
   "metadata": {},
   "outputs": [],
   "source": [
    "# good enough for web app\n",
    "# build around dzi files, then add tissue quality scores"
   ]
  },
  {
   "cell_type": "code",
   "execution_count": null,
   "metadata": {},
   "outputs": [],
   "source": [
    "# report generation"
   ]
  },
  {
   "cell_type": "code",
   "execution_count": null,
   "metadata": {},
   "outputs": [],
   "source": [
    "# use dash to call prelim openseadragons; update with fine-tuned heatmaps"
   ]
  },
  {
   "cell_type": "code",
   "execution_count": null,
   "metadata": {},
   "outputs": [],
   "source": [
    "# add more here; turn each cell into python script after testing\n",
    "# arcticai package\n",
    "# airflow scripts"
   ]
  },
  {
   "cell_type": "code",
   "execution_count": null,
   "metadata": {},
   "outputs": [],
   "source": []
  },
  {
   "cell_type": "code",
   "execution_count": null,
   "metadata": {},
   "outputs": [],
   "source": [
    "# OLD\n",
    "# class Section:\n",
    "#     def __init__(self, image='', depth=1, block_type=1):\n",
    "        \n",
    "    \n",
    "\n",
    "# patient=\"163_A1\"\n",
    "\n",
    "# results=pd.read_pickle(f\"results/{patient}.pkl\")\n",
    "# quality_score={k:dict(enumerate([pd.concat([pd.read_pickle(f)[k].iloc[:,section::results['n_blocks_per_section']].fillna(0) for f in results['quality_scores']],axis=1) for section in range(results['n_blocks_per_section'])])) for k in ['tumor','macro']}\n",
    "# score per block per section ADD\n",
    "# average across blocks?\n",
    "def filter_mask(mask): # fill holes here (2 masks output) and ensure only have top X sections; find largest sections; do later\n",
    "    macro_mask=fill_holes(mask)\n",
    "    return mask, macro_mask\n",
    "\n",
    "# holes for certain analysis type; rip from pathflow and lower dependencies\n",
    "# preprocess\n",
    "# analysis_type=\"\"\n",
    "# turn into custom dataset for pathpretrain eval\n",
    "# predict(hidden_topology=[32]*3)\n",
    "# predict_nuclei()"
   ]
  },
  {
   "cell_type": "code",
   "execution_count": null,
   "metadata": {},
   "outputs": [],
   "source": []
  }
 ],
 "metadata": {
  "kernelspec": {
   "display_name": "Python 3",
   "language": "python",
   "name": "python3"
  },
  "language_info": {
   "codemirror_mode": {
    "name": "ipython",
    "version": 3
   },
   "file_extension": ".py",
   "mimetype": "text/x-python",
   "name": "python",
   "nbconvert_exporter": "python",
   "pygments_lexer": "ipython3",
   "version": "3.7.6"
  }
 },
 "nbformat": 4,
 "nbformat_minor": 4
}
