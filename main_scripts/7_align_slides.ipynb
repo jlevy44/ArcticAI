{
 "cells": [
  {
   "cell_type": "code",
   "execution_count": null,
   "metadata": {},
   "outputs": [],
   "source": [
    "# use mixmatch on hematoxylin channel and apply to probability slide\n",
    "# add masking to mixmatch and hematoxylin deconv"
   ]
  },
  {
   "cell_type": "code",
   "execution_count": null,
   "metadata": {},
   "outputs": [],
   "source": [
    "! pip install  git+https://github.com/airlab-unibas/airlab"
   ]
  },
  {
   "cell_type": "code",
   "execution_count": null,
   "metadata": {},
   "outputs": [],
   "source": [
    "! cd PathFlow-MixMatch/ && pip install . --no-deps"
   ]
  },
  {
   "cell_type": "code",
   "execution_count": null,
   "metadata": {},
   "outputs": [],
   "source": [
    "# ! cd PathFlowAI && pip install . --no-deps"
   ]
  },
  {
   "cell_type": "code",
   "execution_count": null,
   "metadata": {},
   "outputs": [],
   "source": []
  },
  {
   "cell_type": "code",
   "execution_count": null,
   "metadata": {},
   "outputs": [],
   "source": [
    "\n"
   ]
  },
  {
   "cell_type": "code",
   "execution_count": null,
   "metadata": {},
   "outputs": [],
   "source": [
    "# plt.imshow(img)"
   ]
  },
  {
   "cell_type": "code",
   "execution_count": null,
   "metadata": {},
   "outputs": [],
   "source": [
    "# from skimage.exposure import rescale_intensity\n",
    "# from skimage.color import rgb2hed\n",
    "\n",
    "# hed=rgb2hed(img)\n",
    "# hed[...,0]=rescale_intensity(hed[:, :, 0], out_range=(0, 1))\n"
   ]
  },
  {
   "cell_type": "code",
   "execution_count": null,
   "metadata": {},
   "outputs": [],
   "source": [
    "# plt.imshow(hed[...,0])"
   ]
  },
  {
   "cell_type": "code",
   "execution_count": null,
   "metadata": {},
   "outputs": [],
   "source": [
    "# plt.imshow(hed[...,0]==0)"
   ]
  },
  {
   "cell_type": "code",
   "execution_count": null,
   "metadata": {},
   "outputs": [],
   "source": [
    "# mask=generate_tissue_mask(img)"
   ]
  },
  {
   "cell_type": "code",
   "execution_count": null,
   "metadata": {},
   "outputs": [],
   "source": [
    "# plt.imshow(mask)"
   ]
  },
  {
   "cell_type": "code",
   "execution_count": null,
   "metadata": {},
   "outputs": [],
   "source": []
  },
  {
   "cell_type": "code",
   "execution_count": null,
   "metadata": {},
   "outputs": [],
   "source": []
  },
  {
   "cell_type": "code",
   "execution_count": null,
   "metadata": {},
   "outputs": [],
   "source": []
  },
  {
   "cell_type": "code",
   "execution_count": null,
   "metadata": {},
   "outputs": [],
   "source": [
    "\n",
    "\n"
   ]
  },
  {
   "cell_type": "code",
   "execution_count": null,
   "metadata": {},
   "outputs": [],
   "source": [
    "# res=affine_register(im2_tmp,im1_tmp,\n",
    "#                iterations=1000,\n",
    "#                     lr=1e-2,\n",
    "#                     transform_type='rigid',\n",
    "#                     gpu_device=0,\n",
    "#                     opt_cm=True,\n",
    "#                     sigma=[[11,11],[11,11],[3,3]],\n",
    "#                     order=2,\n",
    "#                     pyramid=[[4,4],[2,2]],\n",
    "#                     loss_fn=\"ncc\",#'ncc',\n",
    "#                     use_mask=True,\n",
    "#                     interpolation='bicubic',\n",
    "#                     half=False,\n",
    "#                     regularisation_weight=[1,5,50],\n",
    "#                     moving_image=None,\n",
    "#                     register_joint_domain=False,\n",
    "#                     use_hematoxylin=False,\n",
    "#                    mask1=mask2,\n",
    "#                    mask2=mask1)\n",
    "\n",
    "# upsample displacement field, or just utilize transformation parameters\n"
   ]
  },
  {
   "cell_type": "code",
   "execution_count": null,
   "metadata": {},
   "outputs": [],
   "source": [
    "# transform_params={k:v.detach().cpu().numpy() for k,v in dict(res['transformation_param']).items()}\n",
    "# transform_params['_phi_z'].resize(1)"
   ]
  },
  {
   "cell_type": "code",
   "execution_count": null,
   "metadata": {},
   "outputs": [],
   "source": [
    "# transform_params"
   ]
  },
  {
   "cell_type": "code",
   "execution_count": null,
   "metadata": {},
   "outputs": [],
   "source": [
    "# transform_params"
   ]
  },
  {
   "cell_type": "code",
   "execution_count": null,
   "metadata": {},
   "outputs": [],
   "source": [
    "# transform_params2=transform_params.copy()\n",
    "# transform_params_new={}\n",
    "# transform_params_new['t']=torch.tensor(np.array([transform_params2[f'_t_{k}'] for k in ['x','y']]))\n",
    "# # transform_params_new['scale']=torch.tensor(np.ones(2).astype(float))#np.array([transform_params2[f'_scale_{k}'] for k in ['x','y']])\n",
    "# transform_params_new['rotation_center']=torch.tensor(np.array([transform_params2[f'_center_mass_{k}'] for k in ['x','y']]))\n",
    "# transform_params_new['phi']=torch.tensor(transform_params['_phi_z'])"
   ]
  },
  {
   "cell_type": "code",
   "execution_count": null,
   "metadata": {},
   "outputs": [],
   "source": [
    "# transform_params_new"
   ]
  },
  {
   "cell_type": "code",
   "execution_count": null,
   "metadata": {},
   "outputs": [],
   "source": [
    "\n",
    "\n",
    "# dtype = th.float32\n",
    "# device = th.device(\"cpu\")#th.device(\"cuda:0\")\n",
    "# moving_image=al.image_from_numpy(im2[...,0], [1, 1], [0, 0], dtype=dtype, device=device)#al.utils.image.create_tensor_image_from_itk_image(sitk.GetImageFromArray(im2), dtype=th.float32, device='cpu')\n",
    "\n",
    "# transformation=RigidTransformation(moving_image)\n"
   ]
  },
  {
   "cell_type": "code",
   "execution_count": null,
   "metadata": {},
   "outputs": [],
   "source": []
  },
  {
   "cell_type": "code",
   "execution_count": null,
   "metadata": {},
   "outputs": [],
   "source": [
    "# transformation.set_parameters(**transform_params_new)"
   ]
  },
  {
   "cell_type": "code",
   "execution_count": null,
   "metadata": {},
   "outputs": [],
   "source": [
    "# transformation_matrix = transformation._compute_transformation_matrix()\n",
    "# displacement = transformation.get_displacement()#_concatenate_flows(transformation._compute_dense_flow(transformation_matrix))\n",
    "\n"
   ]
  },
  {
   "cell_type": "code",
   "execution_count": null,
   "metadata": {},
   "outputs": [],
   "source": [
    "# displacement.shape"
   ]
  },
  {
   "cell_type": "code",
   "execution_count": null,
   "metadata": {},
   "outputs": [],
   "source": [
    "# im2_transformed=displace_image(im2, displacement, -1, dtype=th.float32)"
   ]
  },
  {
   "cell_type": "code",
   "execution_count": null,
   "metadata": {},
   "outputs": [],
   "source": [
    "# plt.imshow(im2_transformed)"
   ]
  },
  {
   "cell_type": "code",
   "execution_count": null,
   "metadata": {},
   "outputs": [],
   "source": [
    "# plt.imshow(im1-im2_transformed)"
   ]
  },
  {
   "cell_type": "code",
   "execution_count": null,
   "metadata": {},
   "outputs": [],
   "source": [
    "# plt.imshow(im2)"
   ]
  },
  {
   "cell_type": "code",
   "execution_count": null,
   "metadata": {},
   "outputs": [],
   "source": [
    "# plt.imshow(im1)"
   ]
  },
  {
   "cell_type": "code",
   "execution_count": null,
   "metadata": {},
   "outputs": [],
   "source": [
    "# plt.imshow(generate_tissue_mask(im1_tmp,compression=compression,threshold=240))"
   ]
  },
  {
   "cell_type": "code",
   "execution_count": null,
   "metadata": {},
   "outputs": [],
   "source": [
    "# plt.imshow(generate_tissue_mask(im2_tmp,compression=compression,threshold=240))"
   ]
  },
  {
   "cell_type": "code",
   "execution_count": null,
   "metadata": {},
   "outputs": [],
   "source": [
    "# plt.imshow(generate_tissue_mask(im2_tmp,compression=compression,threshold=40))"
   ]
  },
  {
   "cell_type": "code",
   "execution_count": 1,
   "metadata": {},
   "outputs": [
    {
     "name": "stderr",
     "output_type": "stream",
     "text": [
      "nonechucks may not work properly with this version of PyTorch (1.6.0). It has only been tested on PyTorch versions 1.0, 1.1, and 1.2\n"
     ]
    }
   ],
   "source": [
    "import sys, os\n",
    "sys.path.insert(0,\"/dartfs-hpc/rc/home/w/f003k8w/.local/lib/python3.7/site-packages/\")\n",
    "import torch\n",
    "\n",
    "import numpy as np, cv2\n",
    "\n",
    "from pathflowai.utils import generate_tissue_mask\n",
    "\n",
    "import matplotlib; matplotlib.rcParams['figure.dpi']=300\n",
    "import matplotlib.pyplot as plt\n",
    "\n",
    "from pathflow_mixmatch.cli import match_image_size, affine_register, displace_image\n",
    "\n",
    "from pathflowai.utils import generate_tissue_mask\n",
    "import torch as th\n",
    "\n",
    "import airlab as al\n",
    "import SimpleITK as sitk\n",
    "from airlab.transformation.pairwise import SimilarityTransformation, RigidTransformation"
   ]
  },
  {
   "cell_type": "code",
   "execution_count": 2,
   "metadata": {},
   "outputs": [],
   "source": [
    "\n",
    "import glob\n",
    "def rotate_image(mat, angle, center=None):\n",
    "    \"\"\"\n",
    "    https://stackoverflow.com/questions/43892506/opencv-python-rotate-image-without-cropping-sides/47248339\n",
    "    Rotates an image (angle in degrees) and expands image to avoid cropping\n",
    "    \"\"\"\n",
    "\n",
    "    \n",
    "    \n",
    "    height, width = mat.shape[:2] # image shape has 3 dimensions\n",
    "    image_center = (width/2, height/2) # getRotationMatrix2D needs coordinates in reverse order (width, height) compared to shape\n",
    "\n",
    "    rotation_mat = cv2.getRotationMatrix2D(image_center if center is None else center, angle, 1.)\n",
    "\n",
    "    # rotation calculates the cos and sin, taking absolutes of those.\n",
    "    abs_cos = np.abs(rotation_mat[0,0])\n",
    "    abs_sin = np.abs(rotation_mat[0,1])\n",
    "\n",
    "    # find the new width and height bounds\n",
    "    bound_w = int(height * abs_sin + width * abs_cos)\n",
    "    bound_h = int(height * abs_cos + width * abs_sin)\n",
    "\n",
    "    # subtract old image center (bringing image back to origo) and adding the new image center coordinates\n",
    "    rotation_mat[0, 2] += bound_w/2 - image_center[0]\n",
    "    rotation_mat[1, 2] += bound_h/2 - image_center[1]\n",
    "\n",
    "    # rotate image with the new bounds and translated rotation matrix\n",
    "    rotated_mat = cv2.warpAffine(mat, rotation_mat, (bound_w, bound_h), borderValue=(255,255,255))\n",
    "    return rotated_mat\n",
    "\n",
    "basename=\"140_A1c\"\n",
    "files=sorted(glob.glob(f\"bcc/interactive_test/{basename}.img.*.png\"), key=lambda x: int(x.split('.')[-2]))\n",
    "center_img=int(len(files)/2)\n",
    "compression=4\n",
    "threshold=230"
   ]
  },
  {
   "cell_type": "code",
   "execution_count": 3,
   "metadata": {},
   "outputs": [
    {
     "ename": "ImportError",
     "evalue": "cannot import name 'AugmentationBase' from 'kornia.augmentation' (/dartfs-hpc/rc/home/w/f003k8w/.local/lib/python3.7/site-packages/kornia/augmentation/__init__.py)",
     "output_type": "error",
     "traceback": [
      "\u001b[0;31m---------------------------------------------------------------------------\u001b[0m",
      "\u001b[0;31mImportError\u001b[0m                               Traceback (most recent call last)",
      "\u001b[0;32m<ipython-input-3-e15ceb52ae04>\u001b[0m in \u001b[0;36m<module>\u001b[0;34m\u001b[0m\n\u001b[1;32m      1\u001b[0m \u001b[0;32mimport\u001b[0m \u001b[0mkornia\u001b[0m\u001b[0;34m.\u001b[0m\u001b[0maugmentation\u001b[0m \u001b[0;32mas\u001b[0m \u001b[0mK\u001b[0m\u001b[0;34m,\u001b[0m \u001b[0mkornia\u001b[0m\u001b[0;34m.\u001b[0m\u001b[0mgeometry\u001b[0m\u001b[0;34m.\u001b[0m\u001b[0mtransform\u001b[0m \u001b[0;32mas\u001b[0m \u001b[0mG\u001b[0m\u001b[0;34m\u001b[0m\u001b[0;34m\u001b[0m\u001b[0m\n\u001b[1;32m      2\u001b[0m \u001b[0;32mimport\u001b[0m \u001b[0mkornia\u001b[0m\u001b[0;34m\u001b[0m\u001b[0;34m\u001b[0m\u001b[0m\n\u001b[0;32m----> 3\u001b[0;31m \u001b[0;32mfrom\u001b[0m \u001b[0mkornia\u001b[0m\u001b[0;34m.\u001b[0m\u001b[0maugmentation\u001b[0m \u001b[0;32mimport\u001b[0m \u001b[0mAugmentationBase\u001b[0m\u001b[0;34m\u001b[0m\u001b[0;34m\u001b[0m\u001b[0m\n\u001b[0m\u001b[1;32m      4\u001b[0m \u001b[0;34m\u001b[0m\u001b[0m\n\u001b[1;32m      5\u001b[0m \u001b[0;32mclass\u001b[0m \u001b[0mRotate\u001b[0m\u001b[0;34m(\u001b[0m\u001b[0mAugmentationBase\u001b[0m\u001b[0;34m)\u001b[0m\u001b[0;34m:\u001b[0m\u001b[0;34m\u001b[0m\u001b[0;34m\u001b[0m\u001b[0m\n",
      "\u001b[0;31mImportError\u001b[0m: cannot import name 'AugmentationBase' from 'kornia.augmentation' (/dartfs-hpc/rc/home/w/f003k8w/.local/lib/python3.7/site-packages/kornia/augmentation/__init__.py)"
     ]
    }
   ],
   "source": [
    "import kornia.augmentation as K, kornia.geometry.transform as G\n",
    "import kornia\n",
    "from kornia.augmentation import AugmentationBase\n",
    "\n",
    "class Rotate(AugmentationBase):\n",
    "    def __init__(self, return_transform: bool = False, angle: float = 90) -> None:\n",
    "        super(RandRotate, self).__init__(return_transform)\n",
    "        self.angle=angle\n",
    "\n",
    "    def generate_parameters(self, input_shape: torch.Size):\n",
    "        angles_rad = (torch.rand(input_shape[0])-0.5) * self.angle * np.pi/180.\n",
    "        angles_deg = kornia.rad2deg(angles_rad)\n",
    "        return dict(angles=angles_deg)\n",
    "\n",
    "    def compute_transformation(self, input, params):\n",
    "        B, _, H, W = input.shape\n",
    "        angles= params['angles'].type_as(input)\n",
    "        center = torch.tensor([[W / 2, H / 2]] * B).type_as(input)\n",
    "        transform = G.get_rotation_matrix2d(\n",
    "            center, angles, torch.ones_like(angles))\n",
    "        self.cos=torch.abs(transform[0, 0, 0])\n",
    "        self.sin=torch.abs(transform[0, 0, 1])\n",
    "        self.center=center\n",
    "        return transform\n",
    "\n",
    "    def apply_transform(self, input, params):\n",
    "        _, _, H, W = input.shape\n",
    "        transform = self.compute_transformation(input, params)\n",
    "        nW = int((H * self.sin) + (W * self.cos))\n",
    "        nH = int((H * self.cos) + (W * self.sin))\n",
    "        transform[0, 0, 2] += (nW / 2) - self.center[0,0]\n",
    "        transform[0, 1, 2] += (nH / 2) - self.center[0,1]\n",
    "        output = 1.-G.warp_affine(1.-input, transform, (nH, nW))\n",
    "        return (output, transform)[0]"
   ]
  },
  {
   "cell_type": "code",
   "execution_count": null,
   "metadata": {},
   "outputs": [],
   "source": [
    "files"
   ]
  },
  {
   "cell_type": "code",
   "execution_count": null,
   "metadata": {},
   "outputs": [],
   "source": [
    "from pathflowai.utils import label_objects\n",
    "import pandas as pd\n",
    "from skimage import measure\n",
    "\n",
    "def load_vert(f):\n",
    "    img=cv2.cvtColor(cv2.imread(f),cv2.COLOR_BGR2RGB)\n",
    "    mask=generate_tissue_mask(img,compression=compression,threshold=threshold)\n",
    "    im=cv2.resize(img,None,fx=1/compression,fy=1/compression,interpolation=cv2.INTER_CUBIC)\n",
    "    _,labels=label_objects(im,\n",
    "                    otsu=False,\n",
    "                    min_object_size=100000,\n",
    "                    threshold=230,\n",
    "                    connectivity=8,\n",
    "                    kernel=61,\n",
    "                    keep_holes=False,\n",
    "                    max_hole_size=0)\n",
    "    props=pd.DataFrame(measure.regionprops_table(labels, cv2.cvtColor(im, cv2.COLOR_BGR2GRAY),properties=['area','orientation'])).sort_values(['area'],ascending=False).reset_index(drop=True)\n",
    "    angle=-props.loc[0,'orientation']*180./(np.pi)\n",
    "    vert_img=rotate_image(img, angle)\n",
    "    return vert_img,angle\n",
    "\n",
    "imgs=[]\n",
    "for f in files:\n",
    "    print(f)\n",
    "    imgs.append(load_vert(f))\n",
    "# img=im1[props.iloc[i,0]:props.iloc[i,2],props.iloc[i,1]:props.iloc[i,3]].copy()\n",
    "\n",
    "# props = pd.DataFrame(measure.regionprops_table(labels, cv2.cvtColor(im1, cv2.COLOR_BGR2GRAY),properties=properties))\n",
    "# props2 = pd.DataFrame(measure.regionprops_table(labels2, cv2.cvtColor(im2, cv2.COLOR_BGR2GRAY),properties=properties))\n",
    "\n",
    "\n",
    "\n",
    "# add some width"
   ]
  },
  {
   "cell_type": "code",
   "execution_count": null,
   "metadata": {},
   "outputs": [],
   "source": []
  },
  {
   "cell_type": "code",
   "execution_count": null,
   "metadata": {},
   "outputs": [],
   "source": [
    "props"
   ]
  },
  {
   "cell_type": "code",
   "execution_count": null,
   "metadata": {},
   "outputs": [],
   "source": [
    "\n",
    "\n",
    "\n",
    "#'bbox',\n"
   ]
  },
  {
   "cell_type": "code",
   "execution_count": null,
   "metadata": {},
   "outputs": [],
   "source": [
    "# plt.imshow(target_img_vert)"
   ]
  },
  {
   "cell_type": "code",
   "execution_count": null,
   "metadata": {},
   "outputs": [],
   "source": [
    "\n",
    "target_img_vert\n",
    "\n",
    "# I should really rotate to vertical orientation\n",
    "# how to get matching between layers??\n",
    "img=cv2.cvtColor(cv2.imread(),cv2.COLOR_BGR2RGB)\n",
    "im1=img\n",
    "im2=cv2.cvtColor(cv2.imread(\"bcc/interactive_test/140_A1c.img.1.png\"),cv2.COLOR_BGR2RGB)\n",
    "\n",
    "im1,im2,dw,dh=match_image_size(im1,im2,black_background=False)\n",
    "\n",
    "downsample=4.\n",
    "im1_tmp,im2_tmp=cv2.resize(im1,None,fx=1./downsample,fy=1./downsample),cv2.resize(im2,None,fx=1./downsample,fy=1./downsample) \n",
    "\n",
    "threshold=230\n",
    "compression=2\n",
    "# mask1,mask2=th.tensor(generate_tissue_mask(im1_tmp,compression=compression,threshold=threshold)),th.tensor(generate_tissue_mask(im2_tmp,compression=compression,threshold=threshold))\n"
   ]
  },
  {
   "cell_type": "code",
   "execution_count": null,
   "metadata": {},
   "outputs": [],
   "source": [
    "# ! ls bcc/interactive_test/\n",
    "# START HERE"
   ]
  },
  {
   "cell_type": "code",
   "execution_count": null,
   "metadata": {},
   "outputs": [],
   "source": [
    "from PIL import Image\n",
    "Image.MAX_IMAGE_PIXELS = None\n",
    "import skimage.io\n",
    "import numpy as np\n",
    "import cv2\n",
    "\n",
    "downsample=8\n",
    "compression=2\n",
    "im1,im2=cv2.resize(skimage.io.imread(\"bcc/interactive_test/163_A1a.img.0.png\"),None,fx=1./downsample,fy=1./downsample),cv2.resize(skimage.io.imread(\"bcc/interactive_test/163_A1a.img.1.png\"),None,fx=1./downsample,fy=1./downsample) \n",
    "\n"
   ]
  },
  {
   "cell_type": "code",
   "execution_count": null,
   "metadata": {},
   "outputs": [],
   "source": [
    "from pathflowai.utils import generate_tissue_mask\n",
    "threshold=230\n",
    "mask1,mask2=generate_tissue_mask(im1,compression=compression,threshold=threshold),generate_tissue_mask(im2,compression=compression,threshold=threshold)\n"
   ]
  },
  {
   "cell_type": "code",
   "execution_count": null,
   "metadata": {},
   "outputs": [],
   "source": []
  },
  {
   "cell_type": "code",
   "execution_count": null,
   "metadata": {},
   "outputs": [],
   "source": [
    "# p1.shape\n",
    "from probreg import filterreg\n",
    "from probreg import callbacks\n",
    "import matplotlib.pyplot as plt\n",
    "# import utils\n",
    "# shape matching within patiient then sequential\n",
    "import numpy as np\n",
    "# add features\n",
    "# X_new2=[X_new[i] for i in np.where(c==0)[0]]\n",
    "# for i in range(1,len(X_new2)):\n",
    "sub_sample=180,180\n",
    "p1=np.vstack(np.where(mask1)).T[::sub_sample[0]]#.numpy()\n",
    "p2=np.vstack(np.where(mask2)).T[::sub_sample[1]]# .numpy()\n",
    "source, target = p1,p2#X_new2[i],X_new2[0]#-X[0].max(0)-X[1].max(0)\n",
    "cbs = [callbacks.Plot2DCallback(source, target,save=True)]\n",
    "tf_param, _, _ = filterreg.registration_filterreg(source, target, # feature_fn\n",
    "                                              objective_type=\"pt2pt\",\n",
    "                                              callbacks=cbs,\n",
    "                                              maxiter=50,\n",
    "                                              tf_init_params={\"rot\": np.identity(2), \"t\": np.zeros(2)})\n",
    "\n",
    "# plt.scatter(*p1.T.tolist(),s=1)"
   ]
  },
  {
   "cell_type": "code",
   "execution_count": null,
   "metadata": {},
   "outputs": [],
   "source": [
    "! convert   -delay 10   -loop 0   *.png   animate_test.gif "
   ]
  },
  {
   "cell_type": "markdown",
   "metadata": {},
   "source": [
    "![](animate_test2.gif)"
   ]
  },
  {
   "cell_type": "code",
   "execution_count": null,
   "metadata": {},
   "outputs": [],
   "source": [
    "# ! rm image_*.png"
   ]
  },
  {
   "cell_type": "code",
   "execution_count": 6,
   "metadata": {},
   "outputs": [],
   "source": [
    "def rotate(image, angle, center = None, scale = 1.0):\n",
    "    (h, w) = image.shape[:2]\n",
    "\n",
    "    if center is None:\n",
    "        center = (w / 2, h / 2)\n",
    "\n",
    "    # Perform the rotation\n",
    "    M = cv2.getRotationMatrix2D(center, angle, scale)\n",
    "    rotated = cv2.warpAffine(image, M, (w, h))\n",
    "\n",
    "    return rotated"
   ]
  },
  {
   "cell_type": "code",
   "execution_count": 7,
   "metadata": {},
   "outputs": [],
   "source": [
    "def translate_rotate_image(mat, angle, center=None):\n",
    "    \"\"\"\n",
    "    https://stackoverflow.com/questions/43892506/opencv-python-rotate-image-without-cropping-sides/47248339\n",
    "    Rotates an image (angle in degrees) and expands image to avoid cropping\n",
    "    \"\"\"\n",
    "\n",
    "    #translate\n",
    "    height, width = mat.shape[:2] # image shape has 3 dimensions\n",
    "    image_center = (width/2, height/2)\n",
    "    translated_mat = cv2.warpAffine(mat, np.hstack((np.eye(2),(-np.array(center)[::-1]).reshape(-1,1))), (width, height), borderValue=(255,255,255))\n",
    "    \n",
    "    height, width = translated_mat.shape[:2] # image shape has 3 dimensions\n",
    "    image_center = (width/2, height/2) # getRotationMatrix2D needs coordinates in reverse order (width, height) compared to shape\n",
    "\n",
    "    rotation_mat = cv2.getRotationMatrix2D(image_center, angle, 1.)\n",
    "\n",
    "    # rotation calculates the cos and sin, taking absolutes of those.\n",
    "    abs_cos = np.abs(rotation_mat[0,0])\n",
    "    abs_sin = np.abs(rotation_mat[0,1])\n",
    "\n",
    "    # find the new width and height bounds\n",
    "    bound_w = int(height * abs_sin + width * abs_cos)\n",
    "    bound_h = int(height * abs_cos + width * abs_sin)\n",
    "\n",
    "    # subtract old image center (bringing image back to origo) and adding the new image center coordinates\n",
    "    rotation_mat[0, 2] += bound_w/2 - image_center[0]\n",
    "    rotation_mat[1, 2] += bound_h/2 - image_center[1]\n",
    "\n",
    "    # rotate image with the new bounds and translated rotation matrix\n",
    "    rotated_mat = cv2.warpAffine(translated_mat, rotation_mat, (bound_w, bound_h), borderValue=(255,255,255))\n",
    "    return rotated_mat"
   ]
  },
  {
   "cell_type": "code",
   "execution_count": null,
   "metadata": {},
   "outputs": [],
   "source": []
  },
  {
   "cell_type": "code",
   "execution_count": null,
   "metadata": {},
   "outputs": [],
   "source": [
    "from pathflow_mixmatch.cli import rotate_image,match_image_size"
   ]
  },
  {
   "cell_type": "code",
   "execution_count": null,
   "metadata": {},
   "outputs": [],
   "source": [
    "# im1.shape\n",
    "params"
   ]
  },
  {
   "cell_type": "code",
   "execution_count": null,
   "metadata": {},
   "outputs": [],
   "source": [
    "params=dict(angle=np.arccos(tf_param.rot[0,0])*180/np.pi,\n",
    "           center=tuple(((p1.mean(0)[::-1]-tf_param.t[::-1])).tolist()))#4*\n",
    "im_new=rotate_image(im1,**params)#rotate_image\n",
    "im_new[im_new.sum(2)==0,:]=255\n",
    "im_new[cv2.cvtColor(im_new,cv2.COLOR_RGB2GRAY)>220,:]=255"
   ]
  },
  {
   "cell_type": "code",
   "execution_count": null,
   "metadata": {},
   "outputs": [],
   "source": [
    "im_new,im2_new,_,_=match_image_size(im_new,im2)\n",
    "# im_new=translate_rotate_image(im1,**params)\n",
    "# im_new[im_new.sum(2)==0,:]=255\n",
    "# im_new[cv2.cvtColor(im_new,cv2.COLOR_RGB2GRAY)>220,:]=255"
   ]
  },
  {
   "cell_type": "code",
   "execution_count": null,
   "metadata": {},
   "outputs": [],
   "source": [
    "plt.imshow(im1)"
   ]
  },
  {
   "cell_type": "code",
   "execution_count": null,
   "metadata": {},
   "outputs": [],
   "source": [
    "plt.imshow(im2)"
   ]
  },
  {
   "cell_type": "code",
   "execution_count": null,
   "metadata": {},
   "outputs": [],
   "source": [
    "plt.imshow(im_new)"
   ]
  },
  {
   "cell_type": "code",
   "execution_count": null,
   "metadata": {},
   "outputs": [],
   "source": [
    "plt.imshow(im2_new)"
   ]
  },
  {
   "cell_type": "code",
   "execution_count": null,
   "metadata": {},
   "outputs": [],
   "source": [
    "params"
   ]
  },
  {
   "cell_type": "code",
   "execution_count": null,
   "metadata": {},
   "outputs": [],
   "source": [
    "# im_new=rotate(im1,**params)\n",
    "# im_new[im_new.sum(2)==0,:]=255\n",
    "# im_new[cv2.cvtColor(im_new,cv2.COLOR_RGB2GRAY)>220,:]=255\n",
    "# plt.imshow(im_new)"
   ]
  },
  {
   "cell_type": "code",
   "execution_count": null,
   "metadata": {},
   "outputs": [],
   "source": [
    "from skimage.util import compare_images\n",
    "\n",
    "\n",
    "comp = compare_images(*match_image_size(im1,im2)[:2], method='blend')#np.stack([compare_images(im2[...,i], im_new[...,i], method='blend') for i in range(3)],axis=-1)\n",
    "plt.imshow(comp)"
   ]
  },
  {
   "cell_type": "code",
   "execution_count": null,
   "metadata": {},
   "outputs": [],
   "source": [
    "from skimage.util import compare_images\n",
    "\n",
    "\n",
    "comp = compare_images(im2_new, im_new, method='blend')#np.stack([compare_images(im2[...,i], im_new[...,i], method='blend') for i in range(3)],axis=-1)\n",
    "plt.imshow(comp)"
   ]
  },
  {
   "cell_type": "code",
   "execution_count": null,
   "metadata": {},
   "outputs": [],
   "source": [
    "# approximate, need to improve this workflow"
   ]
  },
  {
   "cell_type": "code",
   "execution_count": null,
   "metadata": {},
   "outputs": [],
   "source": [
    "# im2.shape"
   ]
  },
  {
   "cell_type": "code",
   "execution_count": null,
   "metadata": {},
   "outputs": [],
   "source": [
    "# im_new.shape"
   ]
  },
  {
   "cell_type": "code",
   "execution_count": null,
   "metadata": {},
   "outputs": [],
   "source": [
    "# plt.imshow(im2)"
   ]
  },
  {
   "cell_type": "code",
   "execution_count": null,
   "metadata": {},
   "outputs": [],
   "source": [
    "# image\n"
   ]
  },
  {
   "cell_type": "code",
   "execution_count": null,
   "metadata": {},
   "outputs": [],
   "source": []
  },
  {
   "cell_type": "code",
   "execution_count": null,
   "metadata": {},
   "outputs": [],
   "source": []
  },
  {
   "cell_type": "code",
   "execution_count": null,
   "metadata": {},
   "outputs": [],
   "source": [
    "# tf_param.t*img2.shape#p2.max(0)/2"
   ]
  },
  {
   "cell_type": "code",
   "execution_count": null,
   "metadata": {},
   "outputs": [],
   "source": [
    "# plt.imshow(cv2.cvtColor(img,cv2.COLOR_RGB2GRAY)<255)"
   ]
  },
  {
   "cell_type": "code",
   "execution_count": null,
   "metadata": {},
   "outputs": [],
   "source": [
    "# import copy\n",
    "# def warp_RGB(img, displacement):\n",
    "    \n",
    "#     moving_image=al.image_from_numpy(im2, [1, 1], [0, 0], dtype=dtype, device=device)#al.utils.image.create_tensor_image_from_itk_image(sitk.GetImageFromArray(im2), dtype=th.float32, device='cpu')\n",
    "\n",
    "#     RGB=[al.transformation.utils.warp_image(al.image_from_numpy(img[:,:,i], [1, 1], [0, 0], dtype=dtype, device=device), displacement) for i in range(3)]\n",
    "    \n",
    "#     img2=copy.deepcopy(img)\n",
    "#     for i,ch in enumerate(RGB):\n",
    "#         img2[:,:,i] = np.asarray(ch.numpy())\n",
    "\n",
    "#     return img\n"
   ]
  },
  {
   "cell_type": "code",
   "execution_count": null,
   "metadata": {},
   "outputs": [],
   "source": [
    "# im2_new=warp_RGB(im2,displacement)"
   ]
  },
  {
   "cell_type": "code",
   "execution_count": null,
   "metadata": {},
   "outputs": [],
   "source": [
    "########### NEW"
   ]
  },
  {
   "cell_type": "code",
   "execution_count": null,
   "metadata": {},
   "outputs": [],
   "source": [
    "! ls -lah bcc/graph_datasets/"
   ]
  },
  {
   "cell_type": "code",
   "execution_count": 8,
   "metadata": {},
   "outputs": [],
   "source": [
    "import pickle\n",
    "deep_features_graphs=pickle.load(open('bcc/graph_datasets/imagenet_graph_data_256_new.pkl','rb'))"
   ]
  },
  {
   "cell_type": "code",
   "execution_count": 9,
   "metadata": {},
   "outputs": [
    {
     "data": {
      "text/plain": [
       "Data(edge_index=[2, 14120], id=\"88_A1a\", pos=[1630, 2], test_mask=[1630], train_mask=[1630], val_mask=[1630], x=[1630, 1000], y=[1630])"
      ]
     },
     "execution_count": 9,
     "metadata": {},
     "output_type": "execute_result"
    }
   ],
   "source": [
    "deep_features_graphs['graph_dataset'][0]"
   ]
  },
  {
   "cell_type": "code",
   "execution_count": 10,
   "metadata": {},
   "outputs": [],
   "source": [
    "# add point cloud loss and deep feature loss, maybe add multiple slides?"
   ]
  },
  {
   "cell_type": "code",
   "execution_count": 11,
   "metadata": {},
   "outputs": [],
   "source": [
    "from geomloss import SamplesLoss"
   ]
  },
  {
   "cell_type": "code",
   "execution_count": null,
   "metadata": {},
   "outputs": [],
   "source": []
  },
  {
   "cell_type": "code",
   "execution_count": null,
   "metadata": {},
   "outputs": [],
   "source": [
    "torch.cos(torch.tensor(0.))"
   ]
  },
  {
   "cell_type": "code",
   "execution_count": 12,
   "metadata": {},
   "outputs": [],
   "source": [
    "# loss(X.pos,X.pos)"
   ]
  },
  {
   "cell_type": "code",
   "execution_count": 13,
   "metadata": {},
   "outputs": [],
   "source": [
    "df=deep_features_graphs['df']"
   ]
  },
  {
   "cell_type": "code",
   "execution_count": 14,
   "metadata": {},
   "outputs": [],
   "source": [
    "from sklearn.neighbors import NearestNeighbors\n",
    "graphs=df.groupby(['ID'])[[\"x\",\"y\"]].apply(lambda x: NearestNeighbors(radius=256*np.sqrt(2),n_jobs=25).fit(x.values).radius_neighbors_graph(x.values))"
   ]
  },
  {
   "cell_type": "code",
   "execution_count": 15,
   "metadata": {},
   "outputs": [],
   "source": [
    "import scipy.sparse as sps\n",
    "components=graphs.apply(lambda x: sps.csgraph.connected_components(x)[1])"
   ]
  },
  {
   "cell_type": "code",
   "execution_count": 16,
   "metadata": {},
   "outputs": [],
   "source": [
    "import pandas as pd\n",
    "from collections import Counter\n",
    "df['y_true']=df['annotation'].apply(lambda x: \"Incomplete\" in x)#Incomplete_Area\n",
    "point_clouds=[]\n",
    "for name,dff in df.groupby(['ID']):\n",
    "    xy=dff[[\"x\",\"y\",'y_true']]\n",
    "    xy['components']=components.loc[name]\n",
    "    for name2, xy2 in xy.groupby('components'):\n",
    "        if xy2.shape[0]>300:\n",
    "            point_clouds.append((name,name2,(xy2['y_true']>0).mean()>0,xy2[['x','y']].values))\n",
    "            \n",
    "point_clouds=pd.DataFrame(point_clouds,columns=['slide','component','incomplete','points'])"
   ]
  },
  {
   "cell_type": "code",
   "execution_count": 17,
   "metadata": {},
   "outputs": [
    {
     "data": {
      "text/plain": [
       "<matplotlib.collections.PathCollection at 0x2b1afce40e10>"
      ]
     },
     "execution_count": 17,
     "metadata": {},
     "output_type": "execute_result"
    },
    {
     "data": {
      "image/png": "[encoded data removed]",
      "text/plain": [
       "<Figure size 432x288 with 1 Axes>"
      ]
     },
     "metadata": {
      "needs_background": "light"
     },
     "output_type": "display_data"
    }
   ],
   "source": [
    "plt.scatter(*point_clouds['points'][5].T.tolist(),s=1)"
   ]
  },
  {
   "cell_type": "code",
   "execution_count": 18,
   "metadata": {},
   "outputs": [
    {
     "data": {
      "text/plain": [
       "<matplotlib.collections.PathCollection at 0x2b1afcdb4d10>"
      ]
     },
     "execution_count": 18,
     "metadata": {},
     "output_type": "execute_result"
    },
    {
     "data": {
      "image/png": "[encoded data removed]",
      "text/plain": [
       "<Figure size 432x288 with 1 Axes>"
      ]
     },
     "metadata": {
      "needs_background": "light"
     },
     "output_type": "display_data"
    }
   ],
   "source": [
    "plt.scatter(*point_clouds['points'][4].T.tolist(),s=1)"
   ]
  },
  {
   "cell_type": "code",
   "execution_count": 19,
   "metadata": {},
   "outputs": [],
   "source": [
    "# [param for param in net.parameters()]"
   ]
  },
  {
   "cell_type": "code",
   "execution_count": 90,
   "metadata": {},
   "outputs": [],
   "source": [
    "from torch_cluster import nearest\n",
    "from torch import nn\n",
    "class RotNet(nn.Module):\n",
    "    def __init__(self,orig_cloud,target_cloud):\n",
    "        super(RotNet,self).__init__()\n",
    "        self.theta=nn.Parameter(torch.tensor(0.,requires_grad=True))\n",
    "        self.t=nn.Parameter(-(orig_cloud.mean(0)-target_cloud.mean(0)))\n",
    "        self._dim=2\n",
    "        \n",
    "#     def compute_loss(self,pos_source,pos_target,z_source,z_target):\n",
    "    def generate_rot_matrix(self):\n",
    "        R = th.zeros(self._dim + 1, self._dim + 1)\n",
    "        R[-1, -1] = 1\n",
    "\n",
    "        R[0, 2] = self.t[0]\n",
    "        R[1, 2] = self.t[1]\n",
    "        \n",
    "        R[0, 0] = th.cos(self.theta)\n",
    "        R[0, 1] = -th.sin(self.theta)\n",
    "        R[1, 0] = th.sin(self.theta)\n",
    "        R[1, 1] = th.cos(self.theta)\n",
    "        return R\n",
    "        \n",
    "#         return torch.tensor([[torch.cos(self.theta),-torch.sin(self.theta),self.tx],\n",
    "#                             [torch.sin(self.theta),torch.cos(self.theta),self.ty],\n",
    "#                             [0,0,1]])\n",
    "    \n",
    "    def forward(self,pos):#,pos_target,z_source=None,z_target=None):\n",
    "        R=self.generate_rot_matrix()\n",
    "        ones=torch.ones((len(pos),1))\n",
    "#         if torch.cuda.is_available(): ones=ones.cuda()\n",
    "        pos=torch.cat([pos,ones],1).transpose(1,0)\n",
    "        return torch.mm(R,pos).T[:,:2]"
   ]
  },
  {
   "cell_type": "code",
   "execution_count": 91,
   "metadata": {},
   "outputs": [],
   "source": []
  },
  {
   "cell_type": "code",
   "execution_count": 92,
   "metadata": {},
   "outputs": [],
   "source": [
    "# theta=nn.Parameter(torch.tensor(0.,requires_grad=True))\n",
    "# tx=nn.Parameter(torch.tensor(0.,requires_grad=True))\n",
    "# ty=nn.Parameter(torch.tensor(0.,requires_grad=True))\n",
    "# R=torch.tensor([[torch.cos(theta),-torch.sin(theta),tx],\n",
    "#                             [torch.sin(theta),torch.cos(theta),ty],\n",
    "#                             [0,0,1]],requires_grad=True)\n",
    "# R=torch.zeros((3,3),requires_grad=True)\n",
    "\n",
    "# pos=torch.cat([target_pos,torch.ones((len(target_pos),1))],1).transpose(1,0)"
   ]
  },
  {
   "cell_type": "code",
   "execution_count": 93,
   "metadata": {},
   "outputs": [],
   "source": [
    "# net=nn.Linear(2,5)"
   ]
  },
  {
   "cell_type": "code",
   "execution_count": 94,
   "metadata": {},
   "outputs": [],
   "source": [
    "# net(target_pos)\n",
    "# net=RotNet()\n",
    "# net(target_pos).mean().backward()"
   ]
  },
  {
   "cell_type": "code",
   "execution_count": 95,
   "metadata": {},
   "outputs": [],
   "source": [
    "# torch.mm(R,pos).T[:,:2].backward()"
   ]
  },
  {
   "cell_type": "code",
   "execution_count": 96,
   "metadata": {},
   "outputs": [],
   "source": [
    "# ! pip install git+"
   ]
  },
  {
   "cell_type": "code",
   "execution_count": 109,
   "metadata": {},
   "outputs": [
    {
     "data": {
      "text/plain": [
       "[Parameter containing:\n",
       " tensor(0.0028, requires_grad=True),\n",
       " Parameter containing:\n",
       " tensor([ -2929.7976, -31688.3633], requires_grad=True)]"
      ]
     },
     "execution_count": 109,
     "metadata": {},
     "output_type": "execute_result"
    }
   ],
   "source": [
    "[param for param in net.parameters()]"
   ]
  },
  {
   "cell_type": "code",
   "execution_count": 107,
   "metadata": {},
   "outputs": [
    {
     "data": {
      "text/plain": [
       "<matplotlib.collections.PathCollection at 0x2b1b1295f690>"
      ]
     },
     "execution_count": 107,
     "metadata": {},
     "output_type": "execute_result"
    },
    {
     "data": {
      "image/png": "[encoded data removed]",
      "text/plain": [
       "<Figure size 432x288 with 1 Axes>"
      ]
     },
     "metadata": {
      "needs_background": "light"
     },
     "output_type": "display_data"
    }
   ],
   "source": [
    "plt.scatter(*pts.numpy().T.tolist())"
   ]
  },
  {
   "cell_type": "code",
   "execution_count": 110,
   "metadata": {},
   "outputs": [
    {
     "data": {
      "text/plain": [
       "<matplotlib.collections.PathCollection at 0x2b1b17fa10d0>"
      ]
     },
     "execution_count": 110,
     "metadata": {},
     "output_type": "execute_result"
    },
    {
     "data": {
      "image/png": "[encoded data removed]",
      "text/plain": [
       "<Figure size 432x288 with 1 Axes>"
      ]
     },
     "metadata": {
      "needs_background": "light"
     },
     "output_type": "display_data"
    }
   ],
   "source": [
    "plt.scatter(*target_pos.numpy().T.tolist())"
   ]
  },
  {
   "cell_type": "code",
   "execution_count": 108,
   "metadata": {},
   "outputs": [
    {
     "data": {
      "text/plain": [
       "<matplotlib.collections.PathCollection at 0x2b1b17fcaf10>"
      ]
     },
     "execution_count": 108,
     "metadata": {},
     "output_type": "execute_result"
    },
    {
     "data": {
      "image/png": "[encoded data removed]",
      "text/plain": [
       "<Figure size 432x288 with 1 Axes>"
      ]
     },
     "metadata": {
      "needs_background": "light"
     },
     "output_type": "display_data"
    }
   ],
   "source": [
    "plt.scatter(*net(pts).detach().numpy().T.tolist())"
   ]
  },
  {
   "cell_type": "code",
   "execution_count": 100,
   "metadata": {},
   "outputs": [
    {
     "data": {
      "text/plain": [
       "(tensor([[10496., 39936.],\n",
       "         [10496., 40192.],\n",
       "         [10496., 40448.],\n",
       "         ...,\n",
       "         [23040., 35584.],\n",
       "         [23040., 35840.],\n",
       "         [23040., 36096.]]),\n",
       " tensor([[10409.7871, 70087.0156],\n",
       "         [10409.8711, 70343.0156],\n",
       "         [10409.9561, 70599.0156],\n",
       "         ...,\n",
       "         [22952.3535, 65730.8828],\n",
       "         [22952.4375, 65986.8828],\n",
       "         [22952.5215, 66242.8828]], grad_fn=<SliceBackward>),\n",
       " tensor([[10752., 70912.],\n",
       "         [10752., 71168.],\n",
       "         [10752., 71424.],\n",
       "         ...,\n",
       "         [22528., 65280.],\n",
       "         [22528., 65536.],\n",
       "         [22528., 65792.]]))"
      ]
     },
     "execution_count": 100,
     "metadata": {},
     "output_type": "execute_result"
    }
   ],
   "source": [
    "pts,net(pts),target_pos"
   ]
  },
  {
   "cell_type": "code",
   "execution_count": 113,
   "metadata": {},
   "outputs": [],
   "source": [
    "from torch_cluster import knn"
   ]
  },
  {
   "cell_type": "code",
   "execution_count": 114,
   "metadata": {},
   "outputs": [
    {
     "data": {
      "text/plain": [
       "tensor([[   0,    0,    0,  ..., 1345, 1345, 1345],\n",
       "        [1751, 1808, 1694,  ..., 2128, 2235, 2074]])"
      ]
     },
     "execution_count": 114,
     "metadata": {},
     "output_type": "execute_result"
    }
   ],
   "source": [
    "knn(target_pos,pts,5) # use torch scatter to compute loss over imagenet features"
   ]
  },
  {
   "cell_type": "code",
   "execution_count": 112,
   "metadata": {},
   "outputs": [
    {
     "name": "stdout",
     "output_type": "stream",
     "text": [
      "tensor(3927695., grad_fn=<SelectBackward>)\n",
      "tensor(3925232.5000, grad_fn=<SelectBackward>)\n",
      "tensor(3924564.5000, grad_fn=<SelectBackward>)\n",
      "tensor(3925385.7500, grad_fn=<SelectBackward>)\n",
      "tensor(3927006.5000, grad_fn=<SelectBackward>)\n",
      "tensor(3928754., grad_fn=<SelectBackward>)\n",
      "tensor(3930200., grad_fn=<SelectBackward>)\n",
      "tensor(3930625., grad_fn=<SelectBackward>)\n",
      "tensor(3930007.5000, grad_fn=<SelectBackward>)\n",
      "tensor(3928717., grad_fn=<SelectBackward>)\n",
      "tensor(3927266.5000, grad_fn=<SelectBackward>)\n",
      "tensor(3926084.7500, grad_fn=<SelectBackward>)\n",
      "tensor(3925233.7500, grad_fn=<SelectBackward>)\n",
      "tensor(3924769.2500, grad_fn=<SelectBackward>)\n",
      "tensor(3924591., grad_fn=<SelectBackward>)\n",
      "tensor(3924554.5000, grad_fn=<SelectBackward>)\n",
      "tensor(3924562.5000, grad_fn=<SelectBackward>)\n",
      "tensor(3924566.5000, grad_fn=<SelectBackward>)\n",
      "tensor(3924563., grad_fn=<SelectBackward>)\n",
      "tensor(3924555., grad_fn=<SelectBackward>)\n",
      "tensor(3924569.7500, grad_fn=<SelectBackward>)\n",
      "tensor(3924657., grad_fn=<SelectBackward>)\n",
      "tensor(3924850., grad_fn=<SelectBackward>)\n",
      "tensor(3925184.5000, grad_fn=<SelectBackward>)\n",
      "tensor(3925467.7500, grad_fn=<SelectBackward>)\n",
      "tensor(3925829.5000, grad_fn=<SelectBackward>)\n",
      "tensor(3926205., grad_fn=<SelectBackward>)\n",
      "tensor(3926373., grad_fn=<SelectBackward>)\n",
      "tensor(3926393.5000, grad_fn=<SelectBackward>)\n",
      "tensor(3926294.7500, grad_fn=<SelectBackward>)\n",
      "tensor(3926075.5000, grad_fn=<SelectBackward>)\n",
      "tensor(3925822.2500, grad_fn=<SelectBackward>)\n",
      "tensor(3925515.2500, grad_fn=<SelectBackward>)\n",
      "tensor(3925365.7500, grad_fn=<SelectBackward>)\n",
      "tensor(3925225.7500, grad_fn=<SelectBackward>)\n",
      "tensor(3925147.2500, grad_fn=<SelectBackward>)\n",
      "tensor(3925005.5000, grad_fn=<SelectBackward>)\n",
      "tensor(3924924.7500, grad_fn=<SelectBackward>)\n",
      "tensor(3924820., grad_fn=<SelectBackward>)\n",
      "tensor(3924775.2500, grad_fn=<SelectBackward>)\n",
      "tensor(3924793., grad_fn=<SelectBackward>)\n",
      "tensor(3924849., grad_fn=<SelectBackward>)\n",
      "tensor(3924895.7500, grad_fn=<SelectBackward>)\n",
      "tensor(3924967., grad_fn=<SelectBackward>)\n",
      "tensor(3925177., grad_fn=<SelectBackward>)\n",
      "tensor(3925495., grad_fn=<SelectBackward>)\n",
      "tensor(3925992., grad_fn=<SelectBackward>)\n",
      "tensor(3926469.5000, grad_fn=<SelectBackward>)\n",
      "tensor(3926752., grad_fn=<SelectBackward>)\n",
      "tensor(3926666.7500, grad_fn=<SelectBackward>)\n",
      "tensor(3926505., grad_fn=<SelectBackward>)\n",
      "tensor(3926274., grad_fn=<SelectBackward>)\n",
      "tensor(3926034.7500, grad_fn=<SelectBackward>)\n",
      "tensor(3925794.5000, grad_fn=<SelectBackward>)\n",
      "tensor(3925717., grad_fn=<SelectBackward>)\n",
      "tensor(3925508.5000, grad_fn=<SelectBackward>)\n",
      "tensor(3925366.5000, grad_fn=<SelectBackward>)\n",
      "tensor(3925308.7500, grad_fn=<SelectBackward>)\n",
      "tensor(3925286.5000, grad_fn=<SelectBackward>)\n",
      "tensor(3925323.2500, grad_fn=<SelectBackward>)\n",
      "tensor(3925281.5000, grad_fn=<SelectBackward>)\n",
      "tensor(3925161.5000, grad_fn=<SelectBackward>)\n",
      "tensor(3925002.5000, grad_fn=<SelectBackward>)\n",
      "tensor(3924838., grad_fn=<SelectBackward>)\n",
      "tensor(3924769.5000, grad_fn=<SelectBackward>)\n",
      "tensor(3924723., grad_fn=<SelectBackward>)\n",
      "tensor(3924740., grad_fn=<SelectBackward>)\n",
      "tensor(3924856., grad_fn=<SelectBackward>)\n",
      "tensor(3925030.7500, grad_fn=<SelectBackward>)\n",
      "tensor(3925244., grad_fn=<SelectBackward>)\n",
      "tensor(3925371.7500, grad_fn=<SelectBackward>)\n",
      "tensor(3925353., grad_fn=<SelectBackward>)\n",
      "tensor(3925350.5000, grad_fn=<SelectBackward>)\n",
      "tensor(3925381.5000, grad_fn=<SelectBackward>)\n",
      "tensor(3925248.7500, grad_fn=<SelectBackward>)\n",
      "tensor(3925201.5000, grad_fn=<SelectBackward>)\n",
      "tensor(3925083.5000, grad_fn=<SelectBackward>)\n",
      "tensor(3925079.5000, grad_fn=<SelectBackward>)\n",
      "tensor(3925143.5000, grad_fn=<SelectBackward>)\n",
      "tensor(3925191.5000, grad_fn=<SelectBackward>)\n",
      "tensor(3925237.2500, grad_fn=<SelectBackward>)\n",
      "tensor(3925314.5000, grad_fn=<SelectBackward>)\n",
      "tensor(3925440., grad_fn=<SelectBackward>)\n",
      "tensor(3925640.5000, grad_fn=<SelectBackward>)\n",
      "tensor(3925665.5000, grad_fn=<SelectBackward>)\n",
      "tensor(3925729.5000, grad_fn=<SelectBackward>)\n",
      "tensor(3925583.5000, grad_fn=<SelectBackward>)\n",
      "tensor(3925441.2500, grad_fn=<SelectBackward>)\n",
      "tensor(3925209.5000, grad_fn=<SelectBackward>)\n",
      "tensor(3925044., grad_fn=<SelectBackward>)\n",
      "tensor(3925000., grad_fn=<SelectBackward>)\n",
      "tensor(3924945.2500, grad_fn=<SelectBackward>)\n",
      "tensor(3925033., grad_fn=<SelectBackward>)\n",
      "tensor(3924986.5000, grad_fn=<SelectBackward>)\n",
      "tensor(3924945., grad_fn=<SelectBackward>)\n",
      "tensor(3924950., grad_fn=<SelectBackward>)\n",
      "tensor(3924928.5000, grad_fn=<SelectBackward>)\n",
      "tensor(3925098.2500, grad_fn=<SelectBackward>)\n",
      "tensor(3925220.2500, grad_fn=<SelectBackward>)\n",
      "tensor(3925360.5000, grad_fn=<SelectBackward>)\n"
     ]
    }
   ],
   "source": [
    "# combine with distributional matching loss, maybe there's better point cloud loss function\n",
    "\n",
    "criterion=SamplesLoss(loss=\"sinkhorn\", p=2, blur=.05, backend=\"tensorized\")\n",
    "pts=torch.tensor(point_clouds['points'][4]).float()\n",
    "target_pos=torch.tensor(point_clouds['points'][6]).float()\n",
    "net=RotNet(pts,target_pos)\n",
    "net.train()\n",
    "optimizer=torch.optim.Adam(net.parameters(),lr=1e-3)\n",
    "for i in range(100):\n",
    "    t_pos=net(pts)\n",
    "#     print(t_pos,target_pos)\n",
    "    train_loss=criterion(t_pos,target_pos)\n",
    "    print(train_loss)\n",
    "    optimizer.zero_grad()\n",
    "    train_loss.backward()\n",
    "    optimizer.step()\n",
    "    \n",
    "    "
   ]
  },
  {
   "cell_type": "code",
   "execution_count": null,
   "metadata": {},
   "outputs": [],
   "source": [
    "# import torch\n",
    "# import torch.nn.functional as F\n",
    "# from torch.nn import Sequential as Seq, Linear as Lin, ReLU, BatchNorm1d as BN\n",
    "# from torch_geometric.datasets import ModelNet\n",
    "# import torch_geometric.transforms as T\n",
    "# from torch_geometric.data import DataLoader\n",
    "# from torch_geometric.nn import PointConv, fps, radius, global_max_pool\n",
    "\n",
    "\n",
    "# class SAModule(torch.nn.Module):\n",
    "#     def __init__(self, ratio, r, nn):\n",
    "#         super(SAModule, self).__init__()\n",
    "#         self.ratio = ratio\n",
    "#         self.r = r\n",
    "#         self.conv = PointConv(nn)\n",
    "\n",
    "#     def forward(self, x, pos, batch):\n",
    "#         idx = fps(pos, batch, ratio=self.ratio)\n",
    "#         row, col = radius(pos, pos[idx], self.r, batch, batch[idx],\n",
    "#                           max_num_neighbors=64)\n",
    "#         edge_index = torch.stack([col, row], dim=0)\n",
    "#         x = self.conv(x, (pos, pos[idx]), edge_index)\n",
    "#         pos, batch = pos[idx], batch[idx]\n",
    "#         return x, pos, batch\n",
    "\n",
    "\n",
    "# class GlobalSAModule(torch.nn.Module):\n",
    "#     def __init__(self, nn):\n",
    "#         super(GlobalSAModule, self).__init__()\n",
    "#         self.nn = nn\n",
    "\n",
    "#     def forward(self, x, pos, batch):\n",
    "#         x = self.nn(torch.cat([x, pos], dim=1))\n",
    "#         x = global_max_pool(x, batch)\n",
    "#         pos = pos.new_zeros((x.size(0), 2))\n",
    "#         batch = torch.arange(x.size(0), device=batch.device)\n",
    "#         return x, pos, batch\n",
    "\n",
    "\n",
    "# def MLP(channels, batch_norm=True):\n",
    "#     return Seq(*[\n",
    "#         Seq(Lin(channels[i - 1], channels[i]), ReLU(), BN(channels[i]))\n",
    "#         for i in range(1, len(channels))\n",
    "#     ])\n",
    "\n",
    "\n",
    "# class Net(torch.nn.Module):\n",
    "#     def __init__(self):\n",
    "#         super(Net, self).__init__()\n",
    "\n",
    "#         self.sa1_module = SAModule(0.5, 256*np.sqrt(2), MLP([2, 64, 64, 128]))\n",
    "#         self.sa2_module = SAModule(0.25, 2*256*np.sqrt(2), MLP([128 + 2, 128, 128, 256]))\n",
    "#         self.sa3_module = GlobalSAModule(MLP([256 + 2, 256, 512, 1024]))\n",
    "\n",
    "#         self.lin1 = Lin(1024, 512)\n",
    "#         self.lin2 = Lin(512, 256)\n",
    "#         self.lin3 = Lin(256, 10)\n",
    "\n",
    "#     def forward(self, data):\n",
    "#         sa0_out = (data.x, data.pos, data.batch)\n",
    "#         sa1_out = self.sa1_module(*sa0_out)\n",
    "#         sa2_out = self.sa2_module(*sa1_out)\n",
    "#         sa3_out = self.sa3_module(*sa2_out)\n",
    "#         x, pos, batch = sa3_out\n",
    "\n",
    "#         x = F.relu(self.lin1(x))\n",
    "#         x = F.dropout(x, p=0.5, training=self.training)\n",
    "#         x = F.relu(self.lin2(x))\n",
    "#         x = F.dropout(x, p=0.5, training=self.training)\n",
    "#         x = self.lin3(x)\n",
    "#         return F.log_softmax(x, dim=-1)"
   ]
  },
  {
   "cell_type": "code",
   "execution_count": null,
   "metadata": {},
   "outputs": [],
   "source": [
    "from torch_geometric.data import InMemoryDataset,DataLoader\n",
    "dloader=DataLoader(deep_features_graphs['graph_dataset'],shuffle=False,batch_size=1)\n",
    "\n",
    "for X in dloader:\n",
    "    print(X.x.shape)\n",
    "    Net()(X)\n",
    "    break"
   ]
  },
  {
   "cell_type": "code",
   "execution_count": null,
   "metadata": {},
   "outputs": [],
   "source": []
  }
 ],
 "metadata": {
  "kernelspec": {
   "display_name": "Python 3",
   "language": "python",
   "name": "python3"
  },
  "language_info": {
   "codemirror_mode": {
    "name": "ipython",
    "version": 3
   },
   "file_extension": ".py",
   "mimetype": "text/x-python",
   "name": "python",
   "nbconvert_exporter": "python",
   "pygments_lexer": "ipython3",
   "version": "3.7.6"
  }
 },
 "nbformat": 4,
 "nbformat_minor": 4
}
