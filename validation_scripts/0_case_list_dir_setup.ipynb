{
 "cells": [
  {
   "cell_type": "code",
   "execution_count": 1,
   "metadata": {},
   "outputs": [
    {
     "name": "stdout",
     "output_type": "stream",
     "text": [
      "[master 806c938] valdiation update\n",
      " Committer: Joshua J. Levy <f003k8w@p03.hpcc.dartmouth.edu>\n",
      "Your name and email address were configured automatically based\n",
      "on your username and hostname. Please check that they are accurate.\n",
      "You can suppress this message by setting them explicitly:\n",
      "\n",
      "    git config --global user.name \"Your Name\"\n",
      "    git config --global user.email you@example.com\n",
      "\n",
      "After doing this, you may fix the identity used for this commit with:\n",
      "\n",
      "    git commit --amend --reset-author\n",
      "\n",
      " 27 files changed, 9661 insertions(+), 18 deletions(-)\n",
      " rename 0_5_pretrain_bcc.ipynb => main_scripts/0_5_pretrain_bcc.ipynb (100%)\n",
      " rename 0_generate_thumbnails_edit_graph_dataset.ipynb => main_scripts/0_generate_thumbnails_edit_graph_dataset.ipynb (100%)\n",
      " rename 1_generate_graph_data.ipynb => main_scripts/1_generate_graph_data.ipynb (100%)\n",
      " rename 2_cv_splits.ipynb => main_scripts/2_cv_splits.ipynb (100%)\n",
      " rename 3_5_extract_features.ipynb => main_scripts/3_5_extract_features.ipynb (100%)\n",
      " rename 3_7_interpolate_label_expansion_apply_image.ipynb => main_scripts/3_7_interpolate_label_expansion_apply_image.ipynb (100%)\n",
      " rename 3_9_prepare_dzi.ipynb => main_scripts/3_9_prepare_dzi.ipynb (100%)\n",
      " rename 3_train_gnn_model.ipynb => main_scripts/3_train_gnn_model.ipynb (100%)\n",
      " rename 4_5_shape2.ipynb => main_scripts/4_5_shape2.ipynb (100%)\n",
      " rename 4_shape_analysis.ipynb => main_scripts/4_shape_analysis.ipynb (100%)\n",
      " rename 5_3d_align.ipynb => main_scripts/5_3d_align.ipynb (100%)\n",
      " rename 6_ink_filter_practice.ipynb => main_scripts/6_ink_filter_practice.ipynb (100%)\n",
      " rename 7_align_slides.ipynb => main_scripts/7_align_slides.ipynb (100%)\n",
      " rename 8_thumbnail_inspect.ipynb => main_scripts/8_thumbnail_inspect.ipynb (100%)\n",
      " rename extract_features.py => main_scripts/extract_features.py (100%)\n",
      " rename filters.py => main_scripts/filters.py (100%)\n",
      " rename launch_feature_extraction.py => main_scripts/launch_feature_extraction.py (100%)\n",
      " rename modify_patch_db.ipynb => main_scripts/modify_patch_db.ipynb (100%)\n",
      " create mode 100644 validation_scripts/0_case_list_dir_setup.ipynb\n",
      " create mode 100644 validation_scripts/0_extract_patch_info.py\n",
      " create mode 100644 validation_scripts/1_5_apply_annotations_update.ipynb\n",
      " create mode 100644 validation_scripts/1_apply_annotations.ipynb\n",
      " create mode 100644 validation_scripts/2_5_write_CNN_data_updated.ipynb\n",
      " create mode 100644 validation_scripts/2_write_CNN_data.ipynb\n",
      " create mode 100644 validation_scripts/3_generate_graph_dataset.ipynb\n",
      " create mode 100644 validation_scripts/Untitled.ipynb\n",
      "Counting objects: 14, done.\n",
      "Delta compression using up to 80 threads.\n",
      "Compressing objects: 100% (14/14), done.\n",
      "Writing objects: 100% (14/14), 3.72 MiB | 5.16 MiB/s, done.\n",
      "Total 14 (delta 4), reused 0 (delta 0)\n",
      "remote: Resolving deltas: 100% (4/4), completed with 3 local objects.\u001b[K\n",
      "To https://github.com/jlevy44/ArcticAI_Prototype\n",
      "   817cecd..806c938  master -> master\n"
     ]
    }
   ],
   "source": [
    "! cd ../prototype/ArcticAI_Prototype/ && git add * */* && git commit -a -m \"valdiation update\" && git push\n"
   ]
  },
  {
   "cell_type": "code",
   "execution_count": 39,
   "metadata": {},
   "outputs": [],
   "source": [
    "import numpy as np\n",
    "case_list=np.unique(np.array(list(filter(None,\"\"\"9_A7b\n",
    "11_A1c\n",
    "15_A1a\n",
    "19_A1a\n",
    "26_A1b\n",
    "26_A2a\n",
    "26_A2b\n",
    "28_A2a\n",
    "33_A1a\n",
    "41_A2b\n",
    "48_A1b\n",
    "48_A2c\n",
    "48_A2d\n",
    "49_A1b\n",
    "51_A1a\n",
    "51_B1a\n",
    "51_C1a\n",
    "52_A1c\n",
    "65_A1b\n",
    "67_A1a\n",
    "67_A1b\n",
    "71_A1\n",
    "75_A1a\n",
    "75_A1b\n",
    "86_A1a\n",
    "88_A1a\n",
    "88_A2a\n",
    "89_A1c\n",
    "89_A1d\n",
    "95_A1b\n",
    "95_A2a\n",
    "97_A1a\n",
    "97_A1b\n",
    "100_A1b\n",
    "100_B1b\n",
    "100_B1a\n",
    "100_C1b\n",
    "102_A1b\n",
    "102_A1d\n",
    "104_A1a\n",
    "105_A1b\n",
    "105_A1c\n",
    "105_A2c\n",
    "107_A1b\n",
    "107_A1c\n",
    "108_A1c\n",
    "108_A1d\n",
    "117_A1a\n",
    "117_A1b\n",
    "117_A1c\n",
    "118_A1b\n",
    "119_A1a\n",
    "120_A1a\n",
    "120_B1b\n",
    "124_A1a\n",
    "125_A2b\n",
    "125_A2c\n",
    "125_A2d\n",
    "135_A1b\n",
    "135_A1d\n",
    "140_A1b\n",
    "140_A1c\n",
    "146_A1c\n",
    "146_A1d\n",
    "151_A1c\n",
    "151_A1eX\n",
    "153_A1c\n",
    "153_A1d\n",
    "158_A1a\n",
    "163_A1a\n",
    "163_A1b\n",
    "163_A1c\n",
    "163_B2b\n",
    "171_A1a\n",
    "173_A1a\n",
    "178_A1a\n",
    "182_A1a\n",
    "189_A1a\n",
    "190_A1b\n",
    "212_A1b\n",
    "219_A1a\n",
    "234_A1a\n",
    "264_A1\n",
    "282_A1a\n",
    "286_B1b\n",
    "287_A1a\n",
    "291_A1c\n",
    "293_A1\n",
    "297_A1b\n",
    "297_A1c\n",
    "302_A1a\n",
    "307_A1\n",
    "316_A1c\n",
    "317_A1a\n",
    "321_A1a\n",
    "322_A2a\n",
    "322_B1a\n",
    "322_B2a\n",
    "326_A1a\n",
    "326_A1b\n",
    "329_A1b\n",
    "\n",
    "\n",
    "\n",
    "\n",
    "\n",
    "3_A2b\n",
    "3_A2c\n",
    "5_A1d\n",
    "5_A1eX\n",
    "9_A7b\n",
    "15_A1a\n",
    "20_B1c\n",
    "20_B1d\n",
    "36_B2e\n",
    "37_A1c\n",
    "37_A2d\n",
    "37_A2eX\n",
    "41_A2b\n",
    "43_A2b\n",
    "44_A1c\n",
    "46_A2b\n",
    "46_A2d\n",
    "47_A1c\n",
    "53_A1b\n",
    "60_A1c\n",
    "60_A1d\n",
    "66_A1b\n",
    "78_A2d\n",
    "85_A1b\n",
    "90_A2b\n",
    "91_A2b\n",
    "108_A1c\n",
    "108_A1d\n",
    "121_B1b\n",
    "125_A2b\n",
    "125_A2d\n",
    "127_A1d\n",
    "135_A1b\n",
    "142_A1d\n",
    "147_A1c\n",
    "147_A1d\n",
    "153_A1d\n",
    "153_A1c\n",
    "\n",
    "\n",
    "\n",
    "\n",
    "\n",
    "\n",
    "\n",
    "\n",
    "\n",
    "\n",
    "\n",
    "\n",
    "\n",
    "\n",
    "\n",
    "\n",
    "\n",
    "\n",
    "3_A2b\n",
    "3_A2c\n",
    "3_A2d\n",
    "41_A1b\n",
    "41_A2b\n",
    "41_A1c\n",
    "41_A1d\n",
    "41_A2a\n",
    "41_A2c\n",
    "131_B1e\n",
    "160_A1d\n",
    "160_A2c\n",
    "166_A1b\n",
    "179_A1c\n",
    "220_A1d\n",
    "220_A2e\n",
    "230_A1b\n",
    "230_A2c\n",
    "236_A2c\n",
    "236_A3d\n",
    "236_A4d\n",
    "242_A1b\n",
    "245_A1d\n",
    "248_A1c\n",
    "252_A1b\n",
    "252_A1d\n",
    "252_A2d\n",
    "274_A1e\n",
    "276_A1a\n",
    "301_A1d\n",
    "306_A1c\n",
    "325_A1e\n",
    "62_A1b\n",
    "76_A1c\n",
    "76_A1d\"\"\".splitlines()))))"
   ]
  },
  {
   "cell_type": "code",
   "execution_count": 40,
   "metadata": {},
   "outputs": [],
   "source": [
    "import glob, os"
   ]
  },
  {
   "cell_type": "code",
   "execution_count": 46,
   "metadata": {},
   "outputs": [],
   "source": [
    "all_imgs=np.unique(np.vectorize(lambda x: os.path.basename(x).replace(\".npy\",\"\"))(glob.glob(\"/dartfs/rc/lab/V/VaickusL_slow/data/MOHS/images/*.npy\")))"
   ]
  },
  {
   "cell_type": "code",
   "execution_count": 48,
   "metadata": {},
   "outputs": [
    {
     "data": {
      "text/plain": [
       "161"
      ]
     },
     "execution_count": 48,
     "metadata": {},
     "output_type": "execute_result"
    }
   ],
   "source": [
    "len(np.intersect1d(case_list,all_imgs))"
   ]
  },
  {
   "cell_type": "code",
   "execution_count": 49,
   "metadata": {},
   "outputs": [
    {
     "name": "stdout",
     "output_type": "stream",
     "text": [
      "\n"
     ]
    }
   ],
   "source": [
    "print(', '.join(np.setdiff1d(case_list,all_imgs)))"
   ]
  },
  {
   "cell_type": "code",
   "execution_count": 51,
   "metadata": {},
   "outputs": [],
   "source": [
    "for f in np.intersect1d(case_list,all_imgs):\n",
    "    os.system(f\"ln /dartfs/rc/lab/V/VaickusL_slow/data/MOHS/images/{f}.npy inputs/\")"
   ]
  },
  {
   "cell_type": "code",
   "execution_count": 45,
   "metadata": {},
   "outputs": [
    {
     "name": "stdout",
     "output_type": "stream",
     "text": [
      "    731     736   45337\r\n"
     ]
    }
   ],
   "source": [
    "! ls /dartfs/rc/lab/V/VaickusL_slow/data/MOHS/images/*.npy | wc\n"
   ]
  },
  {
   "cell_type": "code",
   "execution_count": 10,
   "metadata": {},
   "outputs": [
    {
     "name": "stdout",
     "output_type": "stream",
     "text": [
      "Found existing installation: pathpretrain 0.1\n",
      "Uninstalling pathpretrain-0.1:\n",
      "  Successfully uninstalled pathpretrain-0.1\n",
      "Defaulting to user installation because normal site-packages is not writeable\n",
      "Collecting git+https://github.com/jlevy44/PathPretrain\n",
      "  Cloning https://github.com/jlevy44/PathPretrain to /scratch/pip-req-build-a3ob4r4w\n",
      "  Running command git clone -q https://github.com/jlevy44/PathPretrain /scratch/pip-req-build-a3ob4r4w\n",
      "Building wheels for collected packages: pathpretrain\n",
      "  Building wheel for pathpretrain (setup.py) ... \u001b[?25ldone\n",
      "\u001b[?25h  Created wheel for pathpretrain: filename=pathpretrain-0.1-py3-none-any.whl size=15204 sha256=02cf077bd370f1195a9927aa552825ad3c552a40ad8d5ceb59c655fc6755c8e8\n",
      "  Stored in directory: /scratch/pip-ephem-wheel-cache-zue_k0o5/wheels/58/88/86/abfe1d4c090a2a8cf7666f834d8de300c37e3ef60e9f2c8383\n",
      "Successfully built pathpretrain\n",
      "Installing collected packages: pathpretrain\n",
      "\u001b[33m  WARNING: The script pathpretrain is installed in '/dartfs-hpc/rc/home/w/f003k8w/.local/bin' which is not on PATH.\n",
      "  Consider adding this directory to PATH or, if you prefer to suppress this warning, use --no-warn-script-location.\u001b[0m\n",
      "Successfully installed pathpretrain-0.1\n"
     ]
    }
   ],
   "source": [
    "! pip uninstall -y pathpretrain && pip install git+https://github.com/jlevy44/PathPretrain"
   ]
  },
  {
   "cell_type": "code",
   "execution_count": 6,
   "metadata": {},
   "outputs": [
    {
     "data": {
      "text/plain": [
       "'/dartfs-hpc/rc/home/w/f003k8w/.local/lib/python3.7/site-packages/pathpretrain/train_model.py'"
      ]
     },
     "execution_count": 6,
     "metadata": {},
     "output_type": "execute_result"
    }
   ],
   "source": [
    "from pathpretrain import train_model\n",
    "train_model.__file__"
   ]
  },
  {
   "cell_type": "code",
   "execution_count": 27,
   "metadata": {},
   "outputs": [],
   "source": [
    "! mkdir inputs"
   ]
  },
  {
   "cell_type": "code",
   "execution_count": 53,
   "metadata": {},
   "outputs": [],
   "source": [
    "! mkdir -p annotations/macro annotations/tumor # xml -> pickle here"
   ]
  },
  {
   "cell_type": "code",
   "execution_count": 54,
   "metadata": {},
   "outputs": [],
   "source": [
    "! mkdir -p patch_info/macro patch_info/tumor # patch extraction pipeline"
   ]
  },
  {
   "cell_type": "code",
   "execution_count": 56,
   "metadata": {},
   "outputs": [],
   "source": [
    "! mkdir -p model_patch_annotations/macro model_patch_annotations/tumor # combine patch information with xml/pkl annotations"
   ]
  },
  {
   "cell_type": "code",
   "execution_count": 57,
   "metadata": {},
   "outputs": [],
   "source": [
    "! mkdir -p patches/macro patches/tumor # dump CNN training patches here"
   ]
  },
  {
   "cell_type": "code",
   "execution_count": null,
   "metadata": {},
   "outputs": [],
   "source": [
    "# add other necessary directories"
   ]
  },
  {
   "cell_type": "code",
   "execution_count": 55,
   "metadata": {},
   "outputs": [],
   "source": [
    "! mkdir -p thumbnails/macro thumbnails/tumor"
   ]
  },
  {
   "cell_type": "code",
   "execution_count": 58,
   "metadata": {},
   "outputs": [
    {
     "name": "stdout",
     "output_type": "stream",
     "text": [
      "    161     161    1860\r\n"
     ]
    }
   ],
   "source": [
    "! ls inputs/ | wc"
   ]
  },
  {
   "cell_type": "code",
   "execution_count": null,
   "metadata": {},
   "outputs": [],
   "source": []
  }
 ],
 "metadata": {
  "kernelspec": {
   "display_name": "Python 3",
   "language": "python",
   "name": "python3"
  },
  "language_info": {
   "codemirror_mode": {
    "name": "ipython",
    "version": 3
   },
   "file_extension": ".py",
   "mimetype": "text/x-python",
   "name": "python",
   "nbconvert_exporter": "python",
   "pygments_lexer": "ipython3",
   "version": "3.7.6"
  }
 },
 "nbformat": 4,
 "nbformat_minor": 4
}
