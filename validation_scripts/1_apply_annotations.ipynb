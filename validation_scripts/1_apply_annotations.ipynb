{
 "cells": [
  {
   "cell_type": "code",
   "execution_count": null,
   "metadata": {},
   "outputs": [],
   "source": [
    "from PIL import Image\n",
    "Image.MAX_IMAGE_PIXELS = None\n",
    "import skimage.io\n",
    "import skimage\n",
    "import cv2\n",
    "import tifffile as tiff \n",
    "import numpy as np\n",
    "import tifffile as tiff\n",
    "import xmltodict as xd, numpy as np, pickle\n",
    "from collections import defaultdict\n",
    "import pandas as pd\n",
    "import matplotlib, matplotlib.pyplot as plt\n",
    "matplotlib.rcParams['figure.dpi']=300\n",
    "import seaborn as sns\n",
    "from scipy.interpolate import splprep, splev\n",
    "import matplotlib.pyplot as plt\n",
    "\n",
    "def fit_spline(pts):\n",
    "    try:\n",
    "        okay = np.where(np.abs(np.diff(pts,axis=0)).sum(1) > 0)[0]\n",
    "        pts = np.vstack([pts[okay], pts[-1]])#, pts[0]\n",
    "\n",
    "        tck, u = splprep(pts.T, u=None, s=0.0, per=1) \n",
    "        u_new = np.linspace(u.min(), u.max(), 1000)\n",
    "        x_new, y_new = splev(u_new, tck, der=0)\n",
    "        pts=np.vstack((x_new, y_new)).T\n",
    "    except:\n",
    "        pass\n",
    "    return pts\n",
    "\n",
    "\n",
    "def gen_contour_df(xml,compression=1,include_labels=[]):\n",
    "    with open(xml,\"rb\") as f:\n",
    "            d=xd.parse(f)\n",
    "\n",
    "    cells=[]\n",
    "    cell_dot=[]\n",
    "    lbls=[]\n",
    "    for i,annotation in enumerate(d['ASAP_Annotations'][\"Annotations\"][\"Annotation\"]):\n",
    "        try:\n",
    "            lbl=annotation[\"@PartOfGroup\"]\n",
    "            contour=np.array([(float(coord[\"@X\"]),float(coord[\"@Y\"])) for coord in annotation[\"Coordinates\"][\"Coordinate\"]])\n",
    "            cells.append(contour)\n",
    "            lbls.append(lbl)\n",
    "        except:\n",
    "            print(i)\n",
    "\n",
    "    contour_df=pd.DataFrame(cells,columns=['contours'])\n",
    "    contour_df['contours']=contour_df['contours'].map(lambda x:x/compression)\n",
    "    contour_df['xmin']=contour_df['contours'].map(lambda x: x[:,0].min())\n",
    "    contour_df['xmax']=contour_df['contours'].map(lambda x: x[:,0].max())\n",
    "    contour_df['ymin']=contour_df['contours'].map(lambda x: x[:,1].min())\n",
    "    contour_df['ymax']=contour_df['contours'].map(lambda x: x[:,1].max())\n",
    "    contour_df['xmean']=contour_df['contours'].map(lambda x: x[:,0].mean())\n",
    "    contour_df['ymean']=contour_df['contours'].map(lambda x: x[:,1].mean())\n",
    "    contour_df['lbl']=[lbl.lower() for lbl in lbls] # .split()[0]\n",
    "    contour_df.loc[:,'contours']=contour_df['contours'].map(fit_spline)\n",
    "    if include_labels:\n",
    "        contour_df=contour_df[contour_df['lbl'].isin(include_labels)]\n",
    "\n",
    "    return contour_df"
   ]
  },
  {
   "cell_type": "code",
   "execution_count": null,
   "metadata": {},
   "outputs": [],
   "source": [
    "! ls new_skin_layers/Skin_Layer_XML/*.xml"
   ]
  },
  {
   "cell_type": "code",
   "execution_count": null,
   "metadata": {},
   "outputs": [],
   "source": [
    "import glob,os\n",
    "annots=dict()\n",
    "annots['tumor']={os.path.basename(f).replace(\"_ASAP\",\"\").replace(\".xml\",\"\"):gen_contour_df(f) for f in glob.glob(\"annotations/BCC/BCC XML/*.xml\")}\n",
    "annots['macro']={os.path.basename(f).replace(\"_ASAP\",\"\").replace(\".xml\",\"\"):gen_contour_df(f) for f in glob.glob(\"new_skin_layers/Skin_Layer_XML/*.xml\")}\n",
    "\n"
   ]
  },
  {
   "cell_type": "code",
   "execution_count": null,
   "metadata": {},
   "outputs": [],
   "source": [
    "annots['tumor']['3_A2d']=annots['tumor']['242125_3 A2d']\n",
    "annots['tumor']['264_A1a']=annots['tumor']['264 edited_A1']\n",
    "\n",
    "del annots['tumor']['242125_3 A2d'], annots['tumor']['264 edited_A1']"
   ]
  },
  {
   "cell_type": "code",
   "execution_count": null,
   "metadata": {},
   "outputs": [],
   "source": [
    "for k in annots:\n",
    "    for k2 in annots[k]:\n",
    "        annots[k][k2]['ID']=k2"
   ]
  },
  {
   "cell_type": "code",
   "execution_count": null,
   "metadata": {},
   "outputs": [],
   "source": [
    "df_annot=dict(tumor=[],macro=[])\n",
    "for k in df_annot:\n",
    "    df_annot[k]=pd.concat(list(annots[k].values()))"
   ]
  },
  {
   "cell_type": "code",
   "execution_count": null,
   "metadata": {},
   "outputs": [],
   "source": [
    "df_annot['macro']=df_annot['macro'][df_annot['macro']['lbl'].isin(['dermis', 'epidermis',\n",
    "                                        'subcutaneous tissue',\n",
    "                                       ])]#.unique()"
   ]
  },
  {
   "cell_type": "code",
   "execution_count": null,
   "metadata": {},
   "outputs": [],
   "source": [
    "df={}\n",
    "for k in df_annot:\n",
    "    df[k]={os.path.basename(f).replace('.pkl','') : pd.read_pickle(f) for f in glob.glob(f\"patch_info/{k}/*.pkl\")}\n",
    "    for k2 in df[k]:\n",
    "        df[k][k2]['ID']==k2\n",
    "    df[k]=pd.concat(list(df[k].values()))"
   ]
  },
  {
   "cell_type": "code",
   "execution_count": null,
   "metadata": {},
   "outputs": [],
   "source": [
    "import numpy as np\n",
    "from pathflowai.utils import generate_tissue_mask\n",
    "from skimage import draw\n",
    "import numpy as np\n",
    "import cv2\n",
    "compression=8\n",
    "patch_size=256\n",
    "\n",
    "def get_dff(k, k2='macro'):\n",
    "    try:\n",
    "        arr=cv2.resize(np.load(f\"./inputs/{k}.npy\"),None,fx=1/compression,fy=1/compression)\n",
    "        if k2=='macro':\n",
    "            mask=generate_tissue_mask(arr,compression=compression/2,threshold=230, keep_holes=False, max_hole_size=200, kernel=5)\n",
    "            mask2=generate_tissue_mask(arr,compression=compression/2,threshold=230, keep_holes=False, max_hole_size=200000, kernel=5)\n",
    "            mask3=mask2^mask\n",
    "        dff=df[k2][df[k2]['ID']==k]\n",
    "        if k2=='macro': dff['hole']=[mask3[x:x+int(patch_size/compression),y:y+int(patch_size/compression)].astype(float).mean() for x,y in (dff[['x','y']].values/compression).astype(int).tolist()]\n",
    "        for name, annots_ in annots[k2][k].groupby('lbl'):\n",
    "            annots_=cv2.fillPoly(np.zeros(arr.shape[:2]), pts=annots_['contours'].map(lambda x:(x/compression).astype(int)).tolist(), color=1)\n",
    "            dff[name]=[annots_[x:x+int(patch_size/compression),y:y+int(patch_size/compression)].astype(float).mean() for x,y in (dff[['x','y']].values/compression).astype(int).tolist()]\n",
    "    #     tissue_types=['epidermis','dermis','subcutaneous tissue','hole']\n",
    "    #     for k in tissue_types:\n",
    "    #         if k not in dff.columns: dff[k]=0.\n",
    "    #     dff.loc[dff[tissue_types].sum(1)==0,'annotation']='unassigned'\n",
    "    #     for k in tissue_types:\n",
    "    #         dff.loc[dff[k]>0.0,'annotation']=k\n",
    "        if k2=='macro': del mask, mask2, mask3\n",
    "        del arr\n",
    "    except:\n",
    "        dff=[]\n",
    "    return dff"
   ]
  },
  {
   "cell_type": "code",
   "execution_count": null,
   "metadata": {},
   "outputs": [],
   "source": [
    "import pickle\n",
    "df_update={}\n",
    "for k in ['tumor','macro']:\n",
    "    IDs=set(annots[k].keys()).intersection(set(df[k]['ID'].unique()))\n",
    "    df_update[k]=pd.concat([x for x in [get_dff(ID,k) for ID in IDs] if x is not []])\n",
    "pickle.dump(df_update,open('model_patch_annotations/prelim_update.pkl','wb'))"
   ]
  },
  {
   "cell_type": "code",
   "execution_count": null,
   "metadata": {},
   "outputs": [],
   "source": [
    "import pickle\n",
    "df_update=pickle.load(open('model_patch_annotations/prelim_update.pkl','rb'))"
   ]
  },
  {
   "cell_type": "code",
   "execution_count": null,
   "metadata": {},
   "outputs": [],
   "source": [
    "df_tumor=df_update['tumor'][['ID', 'x', 'y', 'patch_size', 'annotation', 'bcc','inflammation','inflamation']].fillna(0)\n",
    "df_tumor['inflammation']+=df_tumor['inflamation']\n",
    "df_tumor=df_tumor.drop(columns=['inflamation'])"
   ]
  },
  {
   "cell_type": "code",
   "execution_count": null,
   "metadata": {},
   "outputs": [],
   "source": [
    "df_tumor['annotation']='benign'\n",
    "for k in ['inflammation','bcc']:\n",
    "    df_tumor.loc[df_tumor[k]>0.,'annotation']=k"
   ]
  },
  {
   "cell_type": "code",
   "execution_count": null,
   "metadata": {},
   "outputs": [],
   "source": [
    "df_macro=df_update['macro'].copy()\n",
    "tissue_types=['dermis','hole','subcutaneous tissue','epidermis']\n",
    "for k in tissue_types:\n",
    "    if k not in df_macro.columns: df_macro[k]=0.\n",
    "df_macro.loc[df_macro[tissue_types].sum(1)==0,'annotation']='unassigned'\n",
    "for k in tissue_types:\n",
    "    df_macro.loc[df_macro[k]>(0.0 if k!= \"hole\" else 0.5),'annotation']=k\n",
    "df_macro.loc[df_macro['annotation']==\"0\",\"annotation\"]=\"unassigned\"\n",
    "df_macro=df_macro[['ID', 'x', 'y', 'patch_size', 'annotation']+tissue_types]\n",
    "# change this scheme in the future!! whispy derm (eg. hole in derm unannoted -> unassigned for CNN; then to derm annotation in gnn)"
   ]
  },
  {
   "cell_type": "code",
   "execution_count": null,
   "metadata": {},
   "outputs": [],
   "source": [
    "import cv2, numpy as np, seaborn as sns, matplotlib, matplotlib.pyplot as plt\n",
    "matplotlib.rcParams['figure.dpi']=300\n",
    "k=\"78_A2d\"\n",
    "arr=cv2.resize(np.load(f\"inputs/{k}.npy\"),None,fx=1/8,fy=1/8)\n",
    "df_anno=df_macro.copy()\n",
    "plt.subplot(121)\n",
    "plt.imshow(np.transpose(arr,(1,0,2)))\n",
    "plt.subplot(122)\n",
    "plt.imshow(np.transpose(arr,(1,0,2)))\n",
    "import seaborn as sns\n",
    "# for name,dff in val_data['patch_info'].groupby('ID'):#\n",
    "dff=df_anno[df_anno['ID']==k]\n",
    "# plt.figure()\n",
    "dff[['x','y']]=dff[['y','x']].iloc[:,::-1]/8\n",
    "sns.scatterplot(x='x',y='y',hue='annotation',data=dff,s=2.,alpha=1)#\"hole\"\n",
    "plt.legend(bbox_to_anchor=(1.05, 1), loc=2, borderaxespad=0.)\n",
    "plt.title(k)\n",
    "# tissue mask blurring removing some obvious holes"
   ]
  },
  {
   "cell_type": "code",
   "execution_count": 3,
   "metadata": {},
   "outputs": [],
   "source": [
    "# ! mkdir old_slides && mv new_test_slides/'ASAP Tiff'/'264 edited_A1_ASAP.tif' old_slides"
   ]
  },
  {
   "cell_type": "code",
   "execution_count": 4,
   "metadata": {},
   "outputs": [],
   "source": [
    "# ! mv \"new_test_slides/ASAP Tiff\" \"new_test_slides/ASAP_Tiff\""
   ]
  },
  {
   "cell_type": "code",
   "execution_count": null,
   "metadata": {},
   "outputs": [],
   "source": [
    "import tifffile\n",
    "im=tifffile.imread(\"new_test_slides/ASAP_Tiff/100_A1b_ASAP.tif\")\n",
    "# ! ls new_test_slides/* -lah "
   ]
  },
  {
   "cell_type": "code",
   "execution_count": null,
   "metadata": {},
   "outputs": [],
   "source": [
    "! realpath ../../cgat/inputs/\n"
   ]
  },
  {
   "cell_type": "code",
   "execution_count": null,
   "metadata": {},
   "outputs": [],
   "source": [
    "im.shape"
   ]
  },
  {
   "cell_type": "code",
   "execution_count": null,
   "metadata": {},
   "outputs": [],
   "source": [
    "import numpy as np\n",
    "np.load(\"inputs/100_A1b.npy\").shape"
   ]
  },
  {
   "cell_type": "code",
   "execution_count": null,
   "metadata": {},
   "outputs": [],
   "source": [
    "! ls inputs"
   ]
  },
  {
   "cell_type": "code",
   "execution_count": null,
   "metadata": {},
   "outputs": [],
   "source": [
    "df_macro.to_pickle(\"model_patch_annotations/macro_annot.pkl\")"
   ]
  },
  {
   "cell_type": "code",
   "execution_count": null,
   "metadata": {},
   "outputs": [],
   "source": [
    "df_tumor.to_pickle(\"model_patch_annotations/tumor_annot.pkl\")"
   ]
  },
  {
   "cell_type": "code",
   "execution_count": null,
   "metadata": {},
   "outputs": [],
   "source": [
    "df_macro['annotation'].value_counts()"
   ]
  },
  {
   "cell_type": "code",
   "execution_count": null,
   "metadata": {},
   "outputs": [],
   "source": [
    "df_macro['ID'].nunique()"
   ]
  },
  {
   "cell_type": "code",
   "execution_count": null,
   "metadata": {},
   "outputs": [],
   "source": [
    "df_tumor['ID'].nunique()"
   ]
  },
  {
   "cell_type": "code",
   "execution_count": null,
   "metadata": {},
   "outputs": [],
   "source": [
    "import seaborn as sns\n",
    "sns.scatterplot(x='x',y='y',hue='annotation',data=df_macro[df_macro['ID']==df_macro['ID'].unique()[7]],s=1)"
   ]
  },
  {
   "cell_type": "code",
   "execution_count": null,
   "metadata": {},
   "outputs": [],
   "source": [
    "sns.scatterplot(x='x',y='y',hue='annotation',data=df_tumor[df_tumor['ID']==df_tumor['ID'].unique()[15]],s=1)"
   ]
  },
  {
   "cell_type": "code",
   "execution_count": null,
   "metadata": {},
   "outputs": [],
   "source": [
    "# remove cases with significant amount unassigned; indicates faulty xml ^^"
   ]
  },
  {
   "cell_type": "code",
   "execution_count": null,
   "metadata": {},
   "outputs": [],
   "source": []
  }
 ],
 "metadata": {
  "kernelspec": {
   "display_name": "Python 3",
   "language": "python",
   "name": "python3"
  },
  "language_info": {
   "codemirror_mode": {
    "name": "ipython",
    "version": 3
   },
   "file_extension": ".py",
   "mimetype": "text/x-python",
   "name": "python",
   "nbconvert_exporter": "python",
   "pygments_lexer": "ipython3",
   "version": "3.7.6"
  }
 },
 "nbformat": 4,
 "nbformat_minor": 4
}
